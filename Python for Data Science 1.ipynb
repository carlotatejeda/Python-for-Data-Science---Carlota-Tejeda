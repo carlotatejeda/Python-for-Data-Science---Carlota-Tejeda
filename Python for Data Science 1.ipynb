{
 "cells": [
  {
   "cell_type": "code",
   "execution_count": null,
   "id": "ffd732d2-9f34-48a9-93d4-69517baff31b",
   "metadata": {},
   "outputs": [],
   "source": [
    "# Carlota Tejeda "
   ]
  },
  {
   "cell_type": "code",
   "execution_count": null,
   "id": "a846a01a-bf33-4fac-98be-aeb324149c1f",
   "metadata": {},
   "outputs": [],
   "source": [
    "#Exercise 1: Print a Greeting"
   ]
  },
  {
   "cell_type": "code",
   "execution_count": 2,
   "id": "c63ba23e-8f9e-4272-82f4-f1d3bf4a88ea",
   "metadata": {},
   "outputs": [
    {
     "name": "stdout",
     "output_type": "stream",
     "text": [
      "Hello, Python!\n"
     ]
    }
   ],
   "source": [
    "print('Hello, Python!')"
   ]
  },
  {
   "cell_type": "code",
   "execution_count": null,
   "id": "20ff7cab-6dff-4797-b023-ad8af72496e7",
   "metadata": {},
   "outputs": [],
   "source": [
    "#Exercise 2: Basic Arithmetic"
   ]
  },
  {
   "cell_type": "code",
   "execution_count": 172,
   "id": "c50d7dc5-827b-4ac6-a977-2a02ae4f4fc2",
   "metadata": {},
   "outputs": [],
   "source": [
    "a = 4\n",
    "b = 2\n",
    "sum = a + b\n",
    "dif = a - b\n",
    "prod = a * b\n",
    "quot = a / b"
   ]
  },
  {
   "cell_type": "code",
   "execution_count": 174,
   "id": "669404f6-226a-4d64-922c-d87fd42cda64",
   "metadata": {},
   "outputs": [
    {
     "data": {
      "text/plain": [
       "6"
      ]
     },
     "execution_count": 174,
     "metadata": {},
     "output_type": "execute_result"
    }
   ],
   "source": [
    "sum"
   ]
  },
  {
   "cell_type": "code",
   "execution_count": 18,
   "id": "227bd09a-973e-42bd-a469-7097c9e127a2",
   "metadata": {},
   "outputs": [
    {
     "data": {
      "text/plain": [
       "2"
      ]
     },
     "execution_count": 18,
     "metadata": {},
     "output_type": "execute_result"
    }
   ],
   "source": [
    "dif"
   ]
  },
  {
   "cell_type": "code",
   "execution_count": 20,
   "id": "ff68b507-53b0-4264-a563-723a11389421",
   "metadata": {},
   "outputs": [
    {
     "data": {
      "text/plain": [
       "8"
      ]
     },
     "execution_count": 20,
     "metadata": {},
     "output_type": "execute_result"
    }
   ],
   "source": [
    "prod"
   ]
  },
  {
   "cell_type": "code",
   "execution_count": 22,
   "id": "a40faf9e-25fd-4a22-a123-6de83ef9aef4",
   "metadata": {},
   "outputs": [
    {
     "data": {
      "text/plain": [
       "2.0"
      ]
     },
     "execution_count": 22,
     "metadata": {},
     "output_type": "execute_result"
    }
   ],
   "source": [
    "quot"
   ]
  },
  {
   "cell_type": "code",
   "execution_count": null,
   "id": "5b96095b-edd1-42a6-81fa-67500088143c",
   "metadata": {},
   "outputs": [],
   "source": [
    "#Exercise 3: String Manipulation"
   ]
  },
  {
   "cell_type": "code",
   "execution_count": 38,
   "id": "a3b75f0d-a606-4d31-8592-670415b51f37",
   "metadata": {},
   "outputs": [
    {
     "name": "stdout",
     "output_type": "stream",
     "text": [
      "¡Hello, Carlota!\n"
     ]
    }
   ],
   "source": [
    "name = 'Carlota'\n",
    "print(f'¡Hello, {name}!')"
   ]
  },
  {
   "cell_type": "code",
   "execution_count": null,
   "id": "53132db7-e66b-4d69-b1cb-c125031b01f3",
   "metadata": {},
   "outputs": [],
   "source": [
    "#Exercise 4: Lists"
   ]
  },
  {
   "cell_type": "code",
   "execution_count": 28,
   "id": "9a95c600-8340-4aa9-a954-cf21b883551c",
   "metadata": {},
   "outputs": [
    {
     "data": {
      "text/plain": [
       "['ESADE', 'UIC', 'IESE', 'UDG', 'UPC']"
      ]
     },
     "execution_count": 28,
     "metadata": {},
     "output_type": "execute_result"
    }
   ],
   "source": [
    "universities = ['ESADE','UIC','IESE','UDG','UPC']\n",
    "universities"
   ]
  },
  {
   "cell_type": "code",
   "execution_count": 30,
   "id": "2f81e4fe-fec1-457a-a997-75dd4947acc1",
   "metadata": {},
   "outputs": [
    {
     "data": {
      "text/plain": [
       "'ESADE'"
      ]
     },
     "execution_count": 30,
     "metadata": {},
     "output_type": "execute_result"
    }
   ],
   "source": [
    "universities[0]"
   ]
  },
  {
   "cell_type": "code",
   "execution_count": 32,
   "id": "2e0c713c-36aa-4972-b779-02cb14bd91f7",
   "metadata": {},
   "outputs": [
    {
     "data": {
      "text/plain": [
       "'UPC'"
      ]
     },
     "execution_count": 32,
     "metadata": {},
     "output_type": "execute_result"
    }
   ],
   "source": [
    "universities[-1]"
   ]
  },
  {
   "cell_type": "code",
   "execution_count": null,
   "id": "52cfe906-9c53-4f0d-88bc-d0759a395752",
   "metadata": {},
   "outputs": [],
   "source": [
    "#Exercise 5: Dictionaries"
   ]
  },
  {
   "cell_type": "code",
   "execution_count": 40,
   "id": "8e76ebea-b270-41d7-a993-4c17459cdb15",
   "metadata": {},
   "outputs": [
    {
     "name": "stdout",
     "output_type": "stream",
     "text": [
      "Name: Carlota\n",
      "Age: 21\n",
      "Grade: 8.5\n"
     ]
    }
   ],
   "source": [
    "student = {'Name':'Carlota', 'Age': 21, 'Grade': 8.5}\n",
    "for key, value in student.items():\n",
    "    print(f'{key}: {value}')"
   ]
  },
  {
   "cell_type": "code",
   "execution_count": null,
   "id": "e4e19990-5660-4441-b3aa-2aa552dbbcec",
   "metadata": {},
   "outputs": [],
   "source": [
    "#Exercise 6: Tuples"
   ]
  },
  {
   "cell_type": "code",
   "execution_count": 58,
   "id": "5e7848d1-795f-443c-a2e7-2c24b9a820d2",
   "metadata": {},
   "outputs": [
    {
     "data": {
      "text/plain": [
       "(2, 3)"
      ]
     },
     "execution_count": 58,
     "metadata": {},
     "output_type": "execute_result"
    }
   ],
   "source": [
    "coordinates = (2,3)\n",
    "coordinates"
   ]
  },
  {
   "cell_type": "code",
   "execution_count": 60,
   "id": "720c55f5-0ea7-4175-8270-cdaf95f8cf27",
   "metadata": {},
   "outputs": [
    {
     "data": {
      "text/plain": [
       "2"
      ]
     },
     "execution_count": 60,
     "metadata": {},
     "output_type": "execute_result"
    }
   ],
   "source": [
    "coordinates[0]"
   ]
  },
  {
   "cell_type": "code",
   "execution_count": 56,
   "id": "afabd0ce-116b-4b33-bb23-cbced62c2a0f",
   "metadata": {},
   "outputs": [
    {
     "data": {
      "text/plain": [
       "3"
      ]
     },
     "execution_count": 56,
     "metadata": {},
     "output_type": "execute_result"
    }
   ],
   "source": [
    "coordinates[1]"
   ]
  },
  {
   "cell_type": "code",
   "execution_count": null,
   "id": "22fdb141-196c-41e2-b7c9-b83a0c78a36b",
   "metadata": {},
   "outputs": [],
   "source": [
    "#Exercise 7: Sets"
   ]
  },
  {
   "cell_type": "code",
   "execution_count": 64,
   "id": "69df4146-b854-4c9d-8a06-f3726affe572",
   "metadata": {},
   "outputs": [
    {
     "data": {
      "text/plain": [
       "{'blue', 'green', 'orange', 'red'}"
      ]
     },
     "execution_count": 64,
     "metadata": {},
     "output_type": "execute_result"
    }
   ],
   "source": [
    "colors = {'red','green','blue'}\n",
    "colors.add('orange')\n",
    "colors"
   ]
  },
  {
   "cell_type": "code",
   "execution_count": 66,
   "id": "9e6a0466-677a-4a44-be02-c4e8ef8cb7d7",
   "metadata": {},
   "outputs": [
    {
     "data": {
      "text/plain": [
       "{'blue', 'green', 'red'}"
      ]
     },
     "execution_count": 66,
     "metadata": {},
     "output_type": "execute_result"
    }
   ],
   "source": [
    "colors = {'red','green','blue'}\n",
    "colors.add('red')\n",
    "colors"
   ]
  },
  {
   "cell_type": "code",
   "execution_count": 72,
   "id": "12672f48-9ead-4d3a-a800-4b3ad250ada2",
   "metadata": {},
   "outputs": [
    {
     "data": {
      "text/plain": [
       "{'blue', 'green'}"
      ]
     },
     "execution_count": 72,
     "metadata": {},
     "output_type": "execute_result"
    }
   ],
   "source": [
    "colors = {'red','green','blue'}\n",
    "colors.remove('red')\n",
    "colors"
   ]
  },
  {
   "cell_type": "code",
   "execution_count": 76,
   "id": "4a9f8d34-72f4-428a-8048-186e7afff394",
   "metadata": {},
   "outputs": [
    {
     "data": {
      "text/plain": [
       "{'blue', 'green', 'pink', 'red', 'yellow'}"
      ]
     },
     "execution_count": 76,
     "metadata": {},
     "output_type": "execute_result"
    }
   ],
   "source": [
    "colors = {'red','green','blue'}\n",
    "light_colors = {'yellow','pink'}\n",
    "colors = colors.union(light_colors)\n",
    "colors"
   ]
  },
  {
   "cell_type": "code",
   "execution_count": null,
   "id": "fc857e60-e23f-43b9-96a1-25fcddeb2729",
   "metadata": {},
   "outputs": [],
   "source": [
    "#Exercise 8: Conditional Statements"
   ]
  },
  {
   "cell_type": "code",
   "execution_count": 102,
   "id": "02e1d1a7-62a7-494c-90f5-114cd06ac927",
   "metadata": {},
   "outputs": [
    {
     "name": "stdin",
     "output_type": "stream",
     "text": [
      "Write an integer number: -2\n"
     ]
    },
    {
     "name": "stdout",
     "output_type": "stream",
     "text": [
      "The number is negative\n"
     ]
    }
   ],
   "source": [
    "num = int(input('Write an integer number:'))\n",
    "if num > 0:\n",
    "    print('The number is positive')\n",
    "elif num < 0:\n",
    "    print('The number is negative')\n",
    "else:\n",
    "    print('Number is 0')"
   ]
  },
  {
   "cell_type": "code",
   "execution_count": null,
   "id": "4a161522-a6bb-4de6-9f4f-98a42239cd58",
   "metadata": {},
   "outputs": [],
   "source": [
    "#Exercise 9: For Loop"
   ]
  },
  {
   "cell_type": "code",
   "execution_count": 104,
   "id": "e7d79083-b823-4040-a848-72cd9652555e",
   "metadata": {},
   "outputs": [
    {
     "name": "stdout",
     "output_type": "stream",
     "text": [
      "1\n",
      "2\n",
      "3\n",
      "4\n",
      "5\n"
     ]
    }
   ],
   "source": [
    "numbers = [1,2,3,4,5]\n",
    "for a in numbers:\n",
    "    print(a)"
   ]
  },
  {
   "cell_type": "code",
   "execution_count": null,
   "id": "7872e573-a1e7-46a2-970f-d7ad2feaf6d4",
   "metadata": {},
   "outputs": [],
   "source": [
    "#Exercise 10: While Loop"
   ]
  },
  {
   "cell_type": "code",
   "execution_count": 114,
   "id": "f80f8d12-8948-45bb-ad01-a9cf2abdd895",
   "metadata": {},
   "outputs": [
    {
     "name": "stdout",
     "output_type": "stream",
     "text": [
      "1\n",
      "2\n",
      "3\n",
      "4\n",
      "5\n",
      "Numbers from one to five have been given\n"
     ]
    }
   ],
   "source": [
    "numeros = 1\n",
    "while numeros <= 5:\n",
    "    print(numeros)\n",
    "    numeros += 1\n",
    "else:\n",
    "    print('Numbers from one to five have been given')\n"
   ]
  },
  {
   "cell_type": "code",
   "execution_count": null,
   "id": "985d7db4-7e14-4922-a964-bfa53d43fcd9",
   "metadata": {},
   "outputs": [],
   "source": [
    "#Exercise 11: Match Statement (Python 3.10+)"
   ]
  },
  {
   "cell_type": "code",
   "execution_count": 118,
   "id": "e39026e5-c9b0-4583-ae1f-53a140cb03cc",
   "metadata": {},
   "outputs": [
    {
     "name": "stdin",
     "output_type": "stream",
     "text": [
      "Put a grade using the american grading scale: C\n"
     ]
    },
    {
     "name": "stdout",
     "output_type": "stream",
     "text": [
      "Fair.\n"
     ]
    }
   ],
   "source": [
    "grade = str(input('Put a grade using the american grading scale:'))\n",
    "\n",
    "match grade:\n",
    "    case 'A':\n",
    "        print('Excellent!')\n",
    "    case 'B':\n",
    "        print('Good job!')\n",
    "    case 'C':\n",
    "        print('Fair.')\n",
    "    case 'D':\n",
    "        print('Needs improvement.')\n",
    "    case 'F':\n",
    "        print('Failing.')\n"
   ]
  },
  {
   "cell_type": "code",
   "execution_count": null,
   "id": "f913b642-b113-4590-84cd-aea7efcc426d",
   "metadata": {},
   "outputs": [],
   "source": [
    "#Exercise 12: Define a Function"
   ]
  },
  {
   "cell_type": "code",
   "execution_count": 122,
   "id": "48a36407-0970-4d55-8088-f5ed27f903b9",
   "metadata": {},
   "outputs": [
    {
     "name": "stdout",
     "output_type": "stream",
     "text": [
      "Hello, Carlota!\n"
     ]
    }
   ],
   "source": [
    "def greet(name):\n",
    "    print(f'Hello, {name}!')\n",
    "\n",
    "greet('Carlota')"
   ]
  },
  {
   "cell_type": "code",
   "execution_count": null,
   "id": "2a262760-8b85-4690-a2ed-57a3bd7f624b",
   "metadata": {},
   "outputs": [],
   "source": [
    "#Exercise 13: Function with Return Value"
   ]
  },
  {
   "cell_type": "code",
   "execution_count": 130,
   "id": "9c5db306-0e18-4bba-b606-4225eabbfe78",
   "metadata": {},
   "outputs": [
    {
     "name": "stdout",
     "output_type": "stream",
     "text": [
      "4\n"
     ]
    }
   ],
   "source": [
    "def square(num):\n",
    "    num = num**2\n",
    "    print(num)\n",
    "\n",
    "square(2)"
   ]
  },
  {
   "cell_type": "code",
   "execution_count": 132,
   "id": "31c75203-56c7-40c9-b10a-05023e095669",
   "metadata": {},
   "outputs": [
    {
     "name": "stdout",
     "output_type": "stream",
     "text": [
      "25\n"
     ]
    }
   ],
   "source": [
    "square(5)"
   ]
  },
  {
   "cell_type": "code",
   "execution_count": null,
   "id": "a4352cb9-b70e-4c59-9b43-224346a4c4ba",
   "metadata": {},
   "outputs": [],
   "source": [
    "#Exercise 14: Function with Default Parameters"
   ]
  },
  {
   "cell_type": "code",
   "execution_count": 134,
   "id": "9156843b-2e0e-4dfb-9394-20ab9ca53343",
   "metadata": {},
   "outputs": [
    {
     "name": "stdout",
     "output_type": "stream",
     "text": [
      "6\n"
     ]
    }
   ],
   "source": [
    "def multiply(a,b):\n",
    "    mult = a*b\n",
    "    print(mult)\n",
    "\n",
    "multiply(2,3)"
   ]
  },
  {
   "cell_type": "code",
   "execution_count": null,
   "id": "795b1ae4-0315-464e-b396-f4d2c72d023f",
   "metadata": {},
   "outputs": [],
   "source": [
    "multiply(2)\n",
    "#error"
   ]
  },
  {
   "cell_type": "code",
   "execution_count": null,
   "id": "7a4f4881-c8a7-40d0-b791-80ea3e41c570",
   "metadata": {},
   "outputs": [],
   "source": [
    "#Exercise 15: List Comprehension"
   ]
  },
  {
   "cell_type": "code",
   "execution_count": 146,
   "id": "f625b18e-c965-4682-a546-ccf4b05e4f38",
   "metadata": {},
   "outputs": [
    {
     "name": "stdout",
     "output_type": "stream",
     "text": [
      "[1, 4, 9, 16, 25, 36, 49, 64, 81, 100]\n"
     ]
    }
   ],
   "source": [
    "list = [1,2,3,4,5,6,7,8,9,10]\n",
    "new_list = [a**2 for a in list]\n",
    "print(new_list)"
   ]
  },
  {
   "cell_type": "code",
   "execution_count": null,
   "id": "52094722-12e8-4c1f-a771-ee8b6bbb1f48",
   "metadata": {},
   "outputs": [],
   "source": [
    "#Exercise 16: Nested Data Structures"
   ]
  },
  {
   "cell_type": "code",
   "execution_count": 192,
   "id": "db0e62d5-a66f-4b6d-abee-e4d0ab8a6d1f",
   "metadata": {},
   "outputs": [
    {
     "name": "stdout",
     "output_type": "stream",
     "text": [
      "Carlota average grade is 10.00\n",
      "Paula average grade is 5.00\n",
      "Pau average grade is 4.67\n"
     ]
    }
   ],
   "source": [
    "evaluation = {'Carlota': [10,10,10], 'Paula': [6,4,5], 'Pau': [4,5,5]}\n",
    "\n",
    "def sum_grades(grades):\n",
    "    total = 0\n",
    "    for grade in grades:\n",
    "        total += grade\n",
    "    return total\n",
    "\n",
    "def avg_grades(students):\n",
    "    for student, grades in students.items():\n",
    "        average_grade = sum_grades(grades) / len(grades)\n",
    "        print(f\"{student} average grade is {average_grade:.2f}\")\n",
    "\n",
    "avg_grades(evaluation)"
   ]
  },
  {
   "cell_type": "code",
   "execution_count": null,
   "id": "6558025f-ecb0-4491-9426-c04b0e108211",
   "metadata": {},
   "outputs": [],
   "source": [
    "#Exercise 17: Simple Calculator"
   ]
  },
  {
   "cell_type": "code",
   "execution_count": 196,
   "id": "05f01fa0-ee61-4997-8fcd-298e32582e11",
   "metadata": {},
   "outputs": [
    {
     "name": "stdin",
     "output_type": "stream",
     "text": [
      "Enter the first number:  2\n",
      "Enter the second number:  3\n",
      "Enter an operator (+, -, *, /):  +\n"
     ]
    },
    {
     "data": {
      "text/plain": [
       "5.0"
      ]
     },
     "execution_count": 196,
     "metadata": {},
     "output_type": "execute_result"
    }
   ],
   "source": [
    "def calculate(num1, num2, operator):\n",
    "    if operator == '+':\n",
    "        return num1 + num2\n",
    "    elif operator == '-':\n",
    "        return num1 - num2\n",
    "    elif operator == '*':\n",
    "        return num1 * num2\n",
    "    elif operator == '/':\n",
    "        if num2 != 0: \n",
    "            return num1 / num2\n",
    "        else:\n",
    "            return \"Error: Division by zero is not allowed.\"\n",
    "    else:\n",
    "        return \"Invalid operator.\"\n",
    "\n",
    "num1 = float(input(\"Enter the first number: \"))\n",
    "num2 = float(input(\"Enter the second number: \"))\n",
    "operator = input(\"Enter an operator (+, -, *, /): \")\n",
    "\n",
    "\n",
    "calculate(num1, num2, operator)"
   ]
  }
 ],
 "metadata": {
  "kernelspec": {
   "display_name": "Python 3 (ipykernel)",
   "language": "python",
   "name": "python3"
  },
  "language_info": {
   "codemirror_mode": {
    "name": "ipython",
    "version": 3
   },
   "file_extension": ".py",
   "mimetype": "text/x-python",
   "name": "python",
   "nbconvert_exporter": "python",
   "pygments_lexer": "ipython3",
   "version": "3.12.4"
  }
 },
 "nbformat": 4,
 "nbformat_minor": 5
}
