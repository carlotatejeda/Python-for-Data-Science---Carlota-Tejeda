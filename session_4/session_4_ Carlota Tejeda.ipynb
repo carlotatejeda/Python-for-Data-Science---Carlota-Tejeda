{
 "cells": [
  {
   "cell_type": "markdown",
   "id": "24b98369-c7ba-450b-a8b5-e34319000695",
   "metadata": {
    "slideshow": {
     "slide_type": "slide"
    },
    "tags": []
   },
   "source": [
    "# Python for Data Science\n",
    "## Session 4 \n",
    "### Basic Libraries I"
   ]
  },
  {
   "cell_type": "markdown",
   "id": "3ace1343-d73d-466d-aa07-56febbb7cbf1",
   "metadata": {
    "slideshow": {
     "slide_type": "skip"
    },
    "tags": []
   },
   "source": [
    "---"
   ]
  },
  {
   "cell_type": "markdown",
   "id": "c5ffee69-5d4d-4f1c-9ed7-083afbc931ec",
   "metadata": {
    "slideshow": {
     "slide_type": "slide"
    },
    "tags": []
   },
   "source": [
    "## Outline\n",
    "\n",
    "1. Numpy for numerical operations\n",
    "\n",
    "2. Scipy for scientific computing\n",
    "\n",
    "3. Math, os, glob, shutil "
   ]
  },
  {
   "cell_type": "markdown",
   "id": "aba315f4-e9bf-4a66-b3d3-593037c3ca70",
   "metadata": {
    "slideshow": {
     "slide_type": "skip"
    },
    "tags": []
   },
   "source": [
    "---"
   ]
  },
  {
   "cell_type": "markdown",
   "id": "8ed45dcb-2cf5-4bfa-ba6e-5da25c59757c",
   "metadata": {
    "slideshow": {
     "slide_type": "slide"
    },
    "tags": []
   },
   "source": [
    "## Basic Libraries I\n",
    " \n",
    "Numpy provides a multidimensional array **object** and various methods for fast operations on arrays (arrays and matrices). These operations include mathematical, logical, shape manipulation, sorting, selecting, I/O, discrete Fourier transforms, basic linear algebra, basic statistical operations, random simulation and much more.\n",
    "\n",
    "In this session, we will learn some of the most common ones.\n",
    "\n"
   ]
  },
  {
   "cell_type": "code",
   "execution_count": 34,
   "id": "0a4f5fd5",
   "metadata": {
    "slideshow": {
     "slide_type": "subslide"
    },
    "tags": []
   },
   "outputs": [],
   "source": [
    "# To import a library we just need to use\n",
    "import numpy as np\n",
    "\n",
    "# TIP: Take a look at the references from the libraries you are using. Sometimes there are already-built methods that can save you lines and lines of code... Here the numpy as an example: https://numpy.org/doc/stable/reference/index.html"
   ]
  },
  {
   "cell_type": "code",
   "execution_count": 35,
   "id": "db57c401",
   "metadata": {
    "slideshow": {
     "slide_type": "fragment"
    }
   },
   "outputs": [
    {
     "data": {
      "text/plain": [
       "array([-1,  2,  0,  6,  4])"
      ]
     },
     "execution_count": 35,
     "metadata": {},
     "output_type": "execute_result"
    }
   ],
   "source": [
    "# To create a simple array, we can use a list to instantiate an object\n",
    "ar = np.array([-1, 2, 0, 6, 4])\n",
    "ar "
   ]
  },
  {
   "cell_type": "code",
   "execution_count": 36,
   "id": "f8c546aa",
   "metadata": {
    "slideshow": {
     "slide_type": "fragment"
    }
   },
   "outputs": [
    {
     "name": "stdout",
     "output_type": "stream",
     "text": [
      "This is the last number of the array: 4\n"
     ]
    }
   ],
   "source": [
    "# Similar to list, we can access any of elements in the array\n",
    "print(f\"This is the last number of the array: {ar[-1]}\") "
   ]
  },
  {
   "cell_type": "code",
   "execution_count": 37,
   "id": "a0d5db58",
   "metadata": {
    "slideshow": {
     "slide_type": "fragment"
    }
   },
   "outputs": [
    {
     "name": "stdout",
     "output_type": "stream",
     "text": [
      "These are the first three elements of the array: [-1  2  0]\n"
     ]
    }
   ],
   "source": [
    "# We can also slice them\n",
    "print(f\"These are the first three elements of the array: {ar[:3]}\")"
   ]
  },
  {
   "cell_type": "code",
   "execution_count": 38,
   "id": "c89a8e48",
   "metadata": {
    "slideshow": {
     "slide_type": "fragment"
    }
   },
   "outputs": [
    {
     "name": "stdout",
     "output_type": "stream",
     "text": [
      "This is a subarray formed by indices 2, 4 and 0: [ 0  4 -1]\n"
     ]
    }
   ],
   "source": [
    "# One thing, array can do, but list cannot is provide a subset of indices\n",
    "print(f\"This is a subarray formed by indices 2, 4 and 0: {ar[[2,4,0]]}\")"
   ]
  },
  {
   "cell_type": "code",
   "execution_count": 39,
   "id": "e01eca8b",
   "metadata": {
    "slideshow": {
     "slide_type": "fragment"
    }
   },
   "outputs": [
    {
     "ename": "TypeError",
     "evalue": "list indices must be integers or slices, not list",
     "output_type": "error",
     "traceback": [
      "\u001b[0;31m---------------------------------------------------------------------------\u001b[0m",
      "\u001b[0;31mTypeError\u001b[0m                                 Traceback (most recent call last)",
      "Cell \u001b[0;32mIn[39], line 3\u001b[0m\n\u001b[1;32m      1\u001b[0m \u001b[38;5;66;03m# If we try it with a list...\u001b[39;00m\n\u001b[1;32m      2\u001b[0m l \u001b[38;5;241m=\u001b[39m [\u001b[38;5;241m-\u001b[39m\u001b[38;5;241m1\u001b[39m, \u001b[38;5;241m2\u001b[39m, \u001b[38;5;241m0\u001b[39m, \u001b[38;5;241m6\u001b[39m, \u001b[38;5;241m4\u001b[39m]\n\u001b[0;32m----> 3\u001b[0m \u001b[38;5;28mprint\u001b[39m(\u001b[38;5;124mf\u001b[39m\u001b[38;5;124m\"\u001b[39m\u001b[38;5;124mThis is a sublist formed by indices 2, 4 and 0: \u001b[39m\u001b[38;5;132;01m{\u001b[39;00ml[[\u001b[38;5;241m2\u001b[39m,\u001b[38;5;241m4\u001b[39m,\u001b[38;5;241m0\u001b[39m]]\u001b[38;5;132;01m}\u001b[39;00m\u001b[38;5;124m\"\u001b[39m)\n",
      "\u001b[0;31mTypeError\u001b[0m: list indices must be integers or slices, not list"
     ]
    }
   ],
   "source": [
    "# If we try it with a list...\n",
    "l = [-1, 2, 0, 6, 4]\n",
    "print(f\"This is a sublist formed by indices 2, 4 and 0: {l[[2,4,0]]}\")"
   ]
  },
  {
   "cell_type": "markdown",
   "id": "00b01ced-eda7-423f-8522-96bd3f1a4125",
   "metadata": {
    "slideshow": {
     "slide_type": "skip"
    },
    "tags": []
   },
   "source": [
    "---"
   ]
  },
  {
   "cell_type": "markdown",
   "id": "9434c993-aac1-4655-bf69-477b9dc5d2ee",
   "metadata": {
    "slideshow": {
     "slide_type": "slide"
    },
    "tags": []
   },
   "source": [
    "## Basic Libraries I\n",
    "\n",
    "We can perform multiple mathematical operations over arrays. Some of them are similar to the built-in ones we have for lists.\n"
   ]
  },
  {
   "cell_type": "code",
   "execution_count": 14,
   "id": "8e4a9f37",
   "metadata": {
    "slideshow": {
     "slide_type": "subslide"
    }
   },
   "outputs": [],
   "source": [
    "# let's create two vectors\n",
    "u = np.array([1,2,3,4])\n",
    "v = np.array([4,3,1,2])"
   ]
  },
  {
   "cell_type": "code",
   "execution_count": 15,
   "id": "2bcdc200",
   "metadata": {
    "slideshow": {
     "slide_type": "fragment"
    }
   },
   "outputs": [
    {
     "data": {
      "text/plain": [
       "array([5, 5, 4, 6])"
      ]
     },
     "execution_count": 15,
     "metadata": {},
     "output_type": "execute_result"
    }
   ],
   "source": [
    "# Sum or substract two vectors element by element\n",
    "# they need to be the same lenght\n",
    "u + v # equivalent to np.sum([u,v])"
   ]
  },
  {
   "cell_type": "code",
   "execution_count": 16,
   "id": "2b983bad",
   "metadata": {
    "slideshow": {
     "slide_type": "fragment"
    }
   },
   "outputs": [
    {
     "data": {
      "text/plain": [
       "array([-3, -1,  2,  2])"
      ]
     },
     "execution_count": 16,
     "metadata": {},
     "output_type": "execute_result"
    }
   ],
   "source": [
    "u - v"
   ]
  },
  {
   "cell_type": "code",
   "execution_count": 17,
   "id": "404b7cc9",
   "metadata": {
    "slideshow": {
     "slide_type": "fragment"
    }
   },
   "outputs": [
    {
     "data": {
      "text/plain": [
       "array([0.25      , 0.66666667, 3.        , 2.        ])"
      ]
     },
     "execution_count": 17,
     "metadata": {},
     "output_type": "execute_result"
    }
   ],
   "source": [
    "# multiplying or dividing them\n",
    "u / v"
   ]
  },
  {
   "cell_type": "code",
   "execution_count": 18,
   "id": "10d71d95",
   "metadata": {
    "slideshow": {
     "slide_type": "fragment"
    }
   },
   "outputs": [
    {
     "data": {
      "text/plain": [
       "array([4, 6, 3, 8])"
      ]
     },
     "execution_count": 18,
     "metadata": {},
     "output_type": "execute_result"
    }
   ],
   "source": [
    "u * v"
   ]
  },
  {
   "cell_type": "code",
   "execution_count": 19,
   "id": "3b895e82",
   "metadata": {
    "slideshow": {
     "slide_type": "fragment"
    }
   },
   "outputs": [
    {
     "data": {
      "text/plain": [
       "array([ 1,  4,  9, 16])"
      ]
     },
     "execution_count": 19,
     "metadata": {},
     "output_type": "execute_result"
    }
   ],
   "source": [
    "# Power or sqrt\n",
    "np.power(u, 2) # equivalent to u ** 2"
   ]
  },
  {
   "cell_type": "code",
   "execution_count": 20,
   "id": "bc7eb136",
   "metadata": {
    "slideshow": {
     "slide_type": "fragment"
    }
   },
   "outputs": [
    {
     "data": {
      "text/plain": [
       "array([1.        , 1.41421356, 1.73205081, 2.        ])"
      ]
     },
     "execution_count": 20,
     "metadata": {},
     "output_type": "execute_result"
    }
   ],
   "source": [
    "np.sqrt(u)"
   ]
  },
  {
   "cell_type": "code",
   "execution_count": 21,
   "id": "1bad2672",
   "metadata": {
    "slideshow": {
     "slide_type": "fragment"
    }
   },
   "outputs": [
    {
     "data": {
      "text/plain": [
       "21"
      ]
     },
     "execution_count": 21,
     "metadata": {},
     "output_type": "execute_result"
    }
   ],
   "source": [
    "# dot product\n",
    "np.dot(u, v) # equivalent to np.sum(u*v)"
   ]
  },
  {
   "cell_type": "code",
   "execution_count": 22,
   "id": "4cb733e2",
   "metadata": {
    "slideshow": {
     "slide_type": "fragment"
    }
   },
   "outputs": [
    {
     "data": {
      "text/plain": [
       "2.5"
      ]
     },
     "execution_count": 22,
     "metadata": {},
     "output_type": "execute_result"
    }
   ],
   "source": [
    "# mean, median, std\n",
    "np.mean(u)"
   ]
  },
  {
   "cell_type": "code",
   "execution_count": 23,
   "id": "ca0147f5",
   "metadata": {
    "slideshow": {
     "slide_type": "fragment"
    }
   },
   "outputs": [
    {
     "data": {
      "text/plain": [
       "2.5"
      ]
     },
     "execution_count": 23,
     "metadata": {},
     "output_type": "execute_result"
    }
   ],
   "source": [
    "np.median(u)"
   ]
  },
  {
   "cell_type": "markdown",
   "id": "78aaa8dc",
   "metadata": {
    "slideshow": {
     "slide_type": "slide"
    }
   },
   "source": [
    "## Basic Libraries I\n",
    "\n",
    "Regarding changing ordering or sorting we have multiple options. "
   ]
  },
  {
   "cell_type": "code",
   "execution_count": 24,
   "id": "cab8bb34",
   "metadata": {
    "slideshow": {
     "slide_type": "subslide"
    }
   },
   "outputs": [],
   "source": [
    "a = np.array([3, 0, 1, 4, 8])"
   ]
  },
  {
   "cell_type": "code",
   "execution_count": 25,
   "id": "a71e27f9",
   "metadata": {
    "slideshow": {
     "slide_type": "fragment"
    }
   },
   "outputs": [
    {
     "data": {
      "text/plain": [
       "array([0, 1, 3, 4, 8])"
      ]
     },
     "execution_count": 25,
     "metadata": {},
     "output_type": "execute_result"
    }
   ],
   "source": [
    "# We simply need to run\n",
    "np.sort(a)"
   ]
  },
  {
   "cell_type": "code",
   "execution_count": 26,
   "id": "a61321fd",
   "metadata": {
    "slideshow": {
     "slide_type": "fragment"
    }
   },
   "outputs": [
    {
     "data": {
      "text/plain": [
       "array([8, 4, 1, 0, 3])"
      ]
     },
     "execution_count": 26,
     "metadata": {},
     "output_type": "execute_result"
    }
   ],
   "source": [
    "# Same as the list, we can invert the original order by simply\n",
    "a[::-1]"
   ]
  },
  {
   "cell_type": "code",
   "execution_count": 27,
   "id": "50c99518",
   "metadata": {
    "slideshow": {
     "slide_type": "fragment"
    }
   },
   "outputs": [
    {
     "data": {
      "text/plain": [
       "array([0, 1, 3, 4, 8])"
      ]
     },
     "execution_count": 27,
     "metadata": {},
     "output_type": "execute_result"
    }
   ],
   "source": [
    "# You can also select the type of algorithm to sort an array\n",
    "np.sort(a, kind='quicksort') # mergesort, heapsort"
   ]
  },
  {
   "cell_type": "code",
   "execution_count": 28,
   "id": "48b1cb1c",
   "metadata": {
    "slideshow": {
     "slide_type": "fragment"
    }
   },
   "outputs": [
    {
     "data": {
      "text/plain": [
       "array([(b'Jaume', 2020, 9.4), (b'James', 2021, 9.1),\n",
       "       (b'Marta', 2021, 8.3)],\n",
       "      dtype=[('name', 'S10'), ('year', '<i8'), ('grade', '<f8')])"
      ]
     },
     "execution_count": 28,
     "metadata": {},
     "output_type": "execute_result"
    }
   ],
   "source": [
    "# Another interesting thing we can have with sort is to order based on different fields\n",
    "values = [('Jaume', 2020, 9.4), ('James', 2021, 9.1), ('Marta', 2021, 8.3)]\n",
    "dtype = [('name', 'S10'), ('year', int), ('grade', float)]\n",
    "\n",
    "a = np.array(values, dtype=dtype)\n",
    "a"
   ]
  },
  {
   "cell_type": "code",
   "execution_count": 29,
   "id": "024357af",
   "metadata": {
    "slideshow": {
     "slide_type": "fragment"
    }
   },
   "outputs": [
    {
     "data": {
      "text/plain": [
       "array([(b'Marta', 2021, 8.3), (b'James', 2021, 9.1),\n",
       "       (b'Jaume', 2020, 9.4)],\n",
       "      dtype=[('name', 'S10'), ('year', '<i8'), ('grade', '<f8')])"
      ]
     },
     "execution_count": 29,
     "metadata": {},
     "output_type": "execute_result"
    }
   ],
   "source": [
    "# Sorting by grade\n",
    "np.sort(a, order='grade')"
   ]
  },
  {
   "cell_type": "code",
   "execution_count": 30,
   "id": "d5d4130e",
   "metadata": {
    "slideshow": {
     "slide_type": "fragment"
    }
   },
   "outputs": [
    {
     "data": {
      "text/plain": [
       "array([(b'Jaume', 2020, 9.4), (b'Marta', 2021, 8.3),\n",
       "       (b'James', 2021, 9.1)],\n",
       "      dtype=[('name', 'S10'), ('year', '<i8'), ('grade', '<f8')])"
      ]
     },
     "execution_count": 30,
     "metadata": {},
     "output_type": "execute_result"
    }
   ],
   "source": [
    "# Sorting first by year, and when they have the same year, doing it by grade\n",
    "np.sort(a, order=['year', 'grade'])"
   ]
  },
  {
   "cell_type": "code",
   "execution_count": 31,
   "id": "d7a7f9cf",
   "metadata": {
    "slideshow": {
     "slide_type": "fragment"
    }
   },
   "outputs": [
    {
     "data": {
      "text/plain": [
       "array([(b'Jaume', 2020, 9.4), (b'James', 2021, 9.1),\n",
       "       (b'Marta', 2021, 8.3)],\n",
       "      dtype=[('name', 'S10'), ('year', '<i8'), ('grade', '<f8')])"
      ]
     },
     "execution_count": 31,
     "metadata": {},
     "output_type": "execute_result"
    }
   ],
   "source": [
    "np.sort(a, order=['year'])"
   ]
  },
  {
   "cell_type": "code",
   "execution_count": 32,
   "id": "5edafb6f",
   "metadata": {
    "slideshow": {
     "slide_type": "fragment"
    }
   },
   "outputs": [
    {
     "data": {
      "text/plain": [
       "array([1, 0, 3, 2])"
      ]
     },
     "execution_count": 32,
     "metadata": {},
     "output_type": "execute_result"
    }
   ],
   "source": [
    "# the same way you sort, you can get the original indices sorted instead of the sorted array\n",
    "a = np.array([3, 1, 6, 5])\n",
    "np.argsort(a)"
   ]
  },
  {
   "cell_type": "code",
   "execution_count": 33,
   "id": "6ae9fd50",
   "metadata": {
    "slideshow": {
     "slide_type": "fragment"
    }
   },
   "outputs": [
    {
     "data": {
      "text/plain": [
       "array([1, 2, 5, 6, 9])"
      ]
     },
     "execution_count": 33,
     "metadata": {},
     "output_type": "execute_result"
    }
   ],
   "source": [
    "# there is also a cool method called, unique, it gives you all the unique elements in a list/array\n",
    "a = np.array([1, 1, 1, 2, 5, 6, 5, 9])\n",
    "np.unique(a)"
   ]
  },
  {
   "cell_type": "markdown",
   "id": "306a3b2e",
   "metadata": {
    "slideshow": {
     "slide_type": "slide"
    }
   },
   "source": [
    "## Basic Libraries I\n",
    "\n",
    "Selecting random elements from a list can be also performed from numpy."
   ]
  },
  {
   "cell_type": "code",
   "execution_count": 34,
   "id": "0008482c",
   "metadata": {
    "slideshow": {
     "slide_type": "subslide"
    }
   },
   "outputs": [
    {
     "data": {
      "text/plain": [
       "1"
      ]
     },
     "execution_count": 34,
     "metadata": {},
     "output_type": "execute_result"
    }
   ],
   "source": [
    "# Randomly create integer numbers ranging from 0 to 9\n",
    "a = np.random.randint(0, 10)\n",
    "a"
   ]
  },
  {
   "cell_type": "code",
   "execution_count": 35,
   "id": "0cf8be99",
   "metadata": {
    "slideshow": {
     "slide_type": "fragment"
    }
   },
   "outputs": [
    {
     "data": {
      "text/plain": [
       "array([-0.37858944,  1.30903142,  0.99087843,  0.35112764, -0.12491619,\n",
       "       -1.97600042, -0.3167513 ,  1.17814671, -0.29283749, -0.78563951])"
      ]
     },
     "execution_count": 35,
     "metadata": {},
     "output_type": "execute_result"
    }
   ],
   "source": [
    "# Randomly creating an array of 10 floats from a normal distribution, mean 0 and std 1\n",
    "a = np.random.randn(10)\n",
    "a"
   ]
  },
  {
   "cell_type": "code",
   "execution_count": 36,
   "id": "d2047bf8",
   "metadata": {
    "slideshow": {
     "slide_type": "fragment"
    }
   },
   "outputs": [
    {
     "data": {
      "text/plain": [
       "'1'"
      ]
     },
     "execution_count": 36,
     "metadata": {},
     "output_type": "execute_result"
    }
   ],
   "source": [
    "# Randomly selecting a value in a list/array (using uniform distribution)\n",
    "np.random.choice(['a', 1, 'b', 0.4])"
   ]
  },
  {
   "cell_type": "code",
   "execution_count": 37,
   "id": "70c2be2a",
   "metadata": {
    "slideshow": {
     "slide_type": "fragment"
    }
   },
   "outputs": [
    {
     "data": {
      "text/plain": [
       "array([0.48302678, 0.79774018, 0.86213485, 0.70404847, 0.89641882,\n",
       "       0.63753552, 0.40004498, 0.42014388, 0.46009343, 0.51017616])"
      ]
     },
     "execution_count": 37,
     "metadata": {},
     "output_type": "execute_result"
    }
   ],
   "source": [
    "# Randomly generating numbers using a uniform distribution over the interval [0, 1]\n",
    "np.random.rand(10)"
   ]
  },
  {
   "cell_type": "code",
   "execution_count": 38,
   "id": "58c83575",
   "metadata": {
    "slideshow": {
     "slide_type": "fragment"
    }
   },
   "outputs": [
    {
     "data": {
      "text/plain": [
       "array([-1, 23,  2,  3])"
      ]
     },
     "execution_count": 38,
     "metadata": {},
     "output_type": "execute_result"
    }
   ],
   "source": [
    "# Create a random permutation from a list/array\n",
    "np.random.permutation([23, 3, 2, -1])"
   ]
  },
  {
   "cell_type": "code",
   "execution_count": 39,
   "id": "917101b6",
   "metadata": {
    "slideshow": {
     "slide_type": "fragment"
    }
   },
   "outputs": [
    {
     "data": {
      "text/plain": [
       "0"
      ]
     },
     "execution_count": 39,
     "metadata": {},
     "output_type": "execute_result"
    }
   ],
   "source": [
    "# Important, how to reproduce your results over and over\n",
    "np.random.seed(120) # we can also pass a str, float that gets transformed into a fixed-size integer\n",
    "np.random.choice([23, 3, 2, -1, 31, 6, -34, 0])"
   ]
  },
  {
   "cell_type": "markdown",
   "id": "0729e167",
   "metadata": {
    "slideshow": {
     "slide_type": "slide"
    }
   },
   "source": [
    "## Basic Libraries I\n",
    "\n",
    "Other useful operations consist in modifying the shape and stack or concatenate elements.You can also created new arrays with buit-in methods such as **ones**, **zeros**, **ones_like**, **zeros_like**, and even define their type, **astype**."
   ]
  },
  {
   "cell_type": "code",
   "execution_count": 40,
   "id": "7ed2a26e",
   "metadata": {
    "slideshow": {
     "slide_type": "subslide"
    }
   },
   "outputs": [],
   "source": [
    "a = np.array([1,2,3,4])\n",
    "b = np.array([5,6,7,8])"
   ]
  },
  {
   "cell_type": "code",
   "execution_count": 41,
   "id": "e6e98db8",
   "metadata": {
    "slideshow": {
     "slide_type": "fragment"
    }
   },
   "outputs": [
    {
     "data": {
      "text/plain": [
       "array([1, 2, 3, 4, 5, 6, 7, 8])"
      ]
     },
     "execution_count": 41,
     "metadata": {},
     "output_type": "execute_result"
    }
   ],
   "source": [
    "np.concatenate([a,b])"
   ]
  },
  {
   "cell_type": "code",
   "execution_count": 42,
   "id": "43a2aa55",
   "metadata": {
    "slideshow": {
     "slide_type": "fragment"
    }
   },
   "outputs": [
    {
     "data": {
      "text/plain": [
       "array([[1, 2, 3, 4],\n",
       "       [5, 6, 7, 8]])"
      ]
     },
     "execution_count": 42,
     "metadata": {},
     "output_type": "execute_result"
    }
   ],
   "source": [
    "c = np.stack([a,b])\n",
    "c.shape # to know the shape of what we are working on (number of rows and columns for instance)\n",
    "c"
   ]
  },
  {
   "cell_type": "code",
   "execution_count": 43,
   "id": "a38930a4",
   "metadata": {
    "slideshow": {
     "slide_type": "fragment"
    }
   },
   "outputs": [],
   "source": [
    "d = np.reshape(c, (2,2,2)) # three dimensions (como son 8 es lo mismo que poner 2*2*2"
   ]
  },
  {
   "cell_type": "code",
   "execution_count": 44,
   "id": "9a0296cd-5a1f-409a-92e5-c68dadc59400",
   "metadata": {},
   "outputs": [
    {
     "data": {
      "text/plain": [
       "array([[1, 2, 3, 4, 5, 6, 7, 8]])"
      ]
     },
     "execution_count": 44,
     "metadata": {},
     "output_type": "execute_result"
    }
   ],
   "source": [
    "np.reshape(c, (1,8))"
   ]
  },
  {
   "cell_type": "code",
   "execution_count": 45,
   "id": "634dfbda",
   "metadata": {
    "slideshow": {
     "slide_type": "fragment"
    }
   },
   "outputs": [
    {
     "data": {
      "text/plain": [
       "array([1, 2, 3, 4, 5, 6, 7, 8])"
      ]
     },
     "execution_count": 45,
     "metadata": {},
     "output_type": "execute_result"
    }
   ],
   "source": [
    "c.flatten() # to put everything in one line"
   ]
  },
  {
   "cell_type": "code",
   "execution_count": 46,
   "id": "5b67a9ab-755a-42aa-b605-58e7744e1922",
   "metadata": {},
   "outputs": [
    {
     "data": {
      "text/plain": [
       "array([1, 2, 3, 4, 5, 6, 7, 8])"
      ]
     },
     "execution_count": 46,
     "metadata": {},
     "output_type": "execute_result"
    }
   ],
   "source": [
    "d.flatten()"
   ]
  },
  {
   "cell_type": "code",
   "execution_count": 47,
   "id": "ca8570f6",
   "metadata": {
    "slideshow": {
     "slide_type": "fragment"
    }
   },
   "outputs": [
    {
     "data": {
      "text/plain": [
       "array([[1, 5],\n",
       "       [2, 6],\n",
       "       [3, 7],\n",
       "       [4, 8]])"
      ]
     },
     "execution_count": 47,
     "metadata": {},
     "output_type": "execute_result"
    }
   ],
   "source": [
    "c.swapaxes(0,1) # swapping the axes ( like what were rows now are columns) --> Normally one dimension with another dimension"
   ]
  },
  {
   "cell_type": "code",
   "execution_count": 48,
   "id": "f95a426a",
   "metadata": {
    "slideshow": {
     "slide_type": "fragment"
    }
   },
   "outputs": [
    {
     "data": {
      "text/plain": [
       "array([[1, 5],\n",
       "       [2, 6],\n",
       "       [3, 7],\n",
       "       [4, 8]])"
      ]
     },
     "execution_count": 48,
     "metadata": {},
     "output_type": "execute_result"
    }
   ],
   "source": [
    "c.transpose(1,0) # tranposing multiple axes at the same time --> this allows you to do it in different dimensions"
   ]
  },
  {
   "cell_type": "code",
   "execution_count": 49,
   "id": "89932ad8-bf35-40c1-a4e5-32eb87f70184",
   "metadata": {
    "slideshow": {
     "slide_type": "fragment"
    }
   },
   "outputs": [
    {
     "data": {
      "text/plain": [
       "array([1., 1., 1., 1.])"
      ]
     },
     "execution_count": 49,
     "metadata": {},
     "output_type": "execute_result"
    }
   ],
   "source": [
    "ones = np.ones(4) # you can also create given a size new arrays with\n",
    "ones"
   ]
  },
  {
   "cell_type": "code",
   "execution_count": 50,
   "id": "2bf65e57",
   "metadata": {
    "slideshow": {
     "slide_type": "fragment"
    }
   },
   "outputs": [
    {
     "data": {
      "text/plain": [
       "array([0, 0, 0, 0], dtype=uint8)"
      ]
     },
     "execution_count": 50,
     "metadata": {},
     "output_type": "execute_result"
    }
   ],
   "source": [
    "zeros = np.zeros_like(ones).astype('uint8') # you can do it with other types, e.g. float, uint16...\n",
    "zeros"
   ]
  },
  {
   "cell_type": "markdown",
   "id": "10dd5f6d",
   "metadata": {
    "slideshow": {
     "slide_type": "slide"
    }
   },
   "source": [
    "## Basic Libraries I\n",
    "\n",
    "Logic operations are often used when handling arrays or matrices. These are some practical examples."
   ]
  },
  {
   "cell_type": "code",
   "execution_count": 51,
   "id": "5916dcc0",
   "metadata": {
    "slideshow": {
     "slide_type": "subslide"
    }
   },
   "outputs": [],
   "source": [
    "# We can work with integers to create logical arrays\n",
    "u = np.array([0, 1, 0, 1, 1]) # equivalent to u = [False, True, False, True , True]\n",
    "v = np.array([1, 0, 0, 1, 0]) # you can also transform them to booleans np.bool(u)"
   ]
  },
  {
   "cell_type": "code",
   "execution_count": 52,
   "id": "f8d90874",
   "metadata": {
    "slideshow": {
     "slide_type": "fragment"
    }
   },
   "outputs": [
    {
     "data": {
      "text/plain": [
       "array([False, False, False,  True, False])"
      ]
     },
     "execution_count": 52,
     "metadata": {},
     "output_type": "execute_result"
    }
   ],
   "source": [
    "np.logical_and(u, v)"
   ]
  },
  {
   "cell_type": "code",
   "execution_count": 53,
   "id": "63e4cca3",
   "metadata": {
    "slideshow": {
     "slide_type": "fragment"
    }
   },
   "outputs": [
    {
     "data": {
      "text/plain": [
       "array([ True,  True, False,  True,  True])"
      ]
     },
     "execution_count": 53,
     "metadata": {},
     "output_type": "execute_result"
    }
   ],
   "source": [
    "np.logical_or(u, v)"
   ]
  },
  {
   "cell_type": "code",
   "execution_count": 54,
   "id": "63b67698",
   "metadata": {
    "slideshow": {
     "slide_type": "fragment"
    }
   },
   "outputs": [
    {
     "data": {
      "text/plain": [
       "array([ True, False,  True, False, False])"
      ]
     },
     "execution_count": 54,
     "metadata": {},
     "output_type": "execute_result"
    }
   ],
   "source": [
    "np.logical_not(u)"
   ]
  },
  {
   "cell_type": "markdown",
   "id": "8f534c84",
   "metadata": {
    "slideshow": {
     "slide_type": "slide"
    }
   },
   "source": [
    "## Basic Libraries I\n",
    "\n",
    "Numpy also provides methods to save and load numpy objects efficiently."
   ]
  },
  {
   "cell_type": "code",
   "execution_count": 55,
   "id": "c54ec08e",
   "metadata": {
    "slideshow": {
     "slide_type": "subslide"
    }
   },
   "outputs": [],
   "source": [
    "a = np.array([0, 10, 14, 17, 19])"
   ]
  },
  {
   "cell_type": "code",
   "execution_count": 56,
   "id": "8f63af17",
   "metadata": {
    "slideshow": {
     "slide_type": "fragment"
    }
   },
   "outputs": [],
   "source": [
    "np.save(\"session_4_array.npy\", a)"
   ]
  },
  {
   "cell_type": "code",
   "execution_count": 57,
   "id": "e1f03310",
   "metadata": {
    "slideshow": {
     "slide_type": "fragment"
    }
   },
   "outputs": [
    {
     "data": {
      "text/plain": [
       "array([ 0, 10, 14, 17, 19])"
      ]
     },
     "execution_count": 57,
     "metadata": {},
     "output_type": "execute_result"
    }
   ],
   "source": [
    "b = np.load(\"session_4_array.npy\")\n",
    "b"
   ]
  },
  {
   "cell_type": "markdown",
   "id": "fc11ba01",
   "metadata": {
    "slideshow": {
     "slide_type": "slide"
    }
   },
   "source": [
    "## Basic Libraries I\n",
    "\n",
    "Scipy provides algorithms for statistics, optimization, integration, interpolation, algebraic equations, differential equations, and many other classes of problems. In this session, we will look at a few cases where they are normaly used. "
   ]
  },
  {
   "cell_type": "code",
   "execution_count": 58,
   "id": "ee11c39d",
   "metadata": {
    "slideshow": {
     "slide_type": "subslide"
    }
   },
   "outputs": [
    {
     "name": "stdout",
     "output_type": "stream",
     "text": [
      "[ 1.03571429 -0.35714286]\n",
      "10.0\n",
      "1.0000000000000002\n"
     ]
    }
   ],
   "source": [
    "# 1. Solving typical system of equations\n",
    "\n",
    "import numpy as np\n",
    "from scipy import linalg\n",
    "\n",
    "# Coefficient matrix A and constants b\n",
    "# 10x + y = 10\n",
    "# 2x + 3y = 1\n",
    "\n",
    "A = np.array([[10, 1], [2, 3]])\n",
    "b = np.array([10, 1])\n",
    "\n",
    "\n",
    "# Solve for x\n",
    "x = linalg.solve(A, b)\n",
    "print(x)\n",
    "\n",
    "print(10*x[0] + 1*x[1])\n",
    "print(2*x[0] + 3*x[1])"
   ]
  },
  {
   "cell_type": "code",
   "execution_count": 59,
   "id": "e3b4f867",
   "metadata": {
    "slideshow": {
     "slide_type": "subslide"
    }
   },
   "outputs": [
    {
     "name": "stdout",
     "output_type": "stream",
     "text": [
      "2.666666666666667\n"
     ]
    }
   ],
   "source": [
    "# 2. Integrating a function over an interval \n",
    "from scipy import integrate\n",
    "\n",
    "# Define a simple function to integrate\n",
    "def f(x):\n",
    "    return x**2 # x^2\n",
    "\n",
    "# Integrate f(x) from 0 to 1\n",
    "result, error = integrate.quad(f, 0, 2)\n",
    "print(result)"
   ]
  },
  {
   "cell_type": "code",
   "execution_count": 60,
   "id": "c3717ca2",
   "metadata": {
    "slideshow": {
     "slide_type": "subslide"
    }
   },
   "outputs": [
    {
     "name": "stdout",
     "output_type": "stream",
     "text": [
      "[-0.5]\n"
     ]
    }
   ],
   "source": [
    "# 3. Integrating a function over an interval \n",
    "from scipy import optimize\n",
    "\n",
    "# Define a quadratic function\n",
    "def f(x):\n",
    "    return x**2 + x + 1\n",
    "\n",
    "# Find the minimum\n",
    "result = optimize.minimize(f, x0=0)  # x0 is the initial guess\n",
    "print(result.x)"
   ]
  },
  {
   "cell_type": "code",
   "execution_count": 61,
   "id": "6677def1",
   "metadata": {
    "slideshow": {
     "slide_type": "subslide"
    }
   },
   "outputs": [
    {
     "data": {
      "image/png": "[encoded data removed]",
      "text/plain": [
       "<Figure size 800x600 with 1 Axes>"
      ]
     },
     "metadata": {},
     "output_type": "display_data"
    }
   ],
   "source": [
    "# 4. Interpolating between 2D points\n",
    "\n",
    "import numpy as np\n",
    "import matplotlib.pyplot as plt\n",
    "from scipy.interpolate import interp1d\n",
    "\n",
    "# 4.1. Define some scattered 2D points (x, y) and corresponding z values\n",
    "points = np.random.rand(10, 2) * 10  # 10 random points in 2D (x, y)\n",
    "x = points[:, 0]  # Take the x-coordinates\n",
    "z = np.sin(points[:, 0]) + np.cos(points[:, 1])  # z = sin(x) + cos(y) based on x and y\n",
    "\n",
    "# 4.2 Sort x and z for proper interpolation (since x needs to be sorted)\n",
    "sorted_indices = np.argsort(x)\n",
    "x_sorted = x[sorted_indices]\n",
    "z_sorted = z[sorted_indices]\n",
    "\n",
    "# 4.3 Perform 1D interpolation along the x-axis\n",
    "interp_func = interp1d(x_sorted, z_sorted, kind='cubic')  # Cubic interpolation\n",
    "\n",
    "# 4.4. Create new x points for interpolation\n",
    "x_new = np.linspace(min(x_sorted), max(x_sorted), 100)  # 100 new points along x-axis\n",
    "z_new = interp_func(x_new)\n",
    "\n",
    "# Step 5: Plot the original points and the 1D interpolation result\n",
    "plt.figure(figsize=(8, 6))\n",
    "\n",
    "# Plot original 2D points (x, z) as scatter plot\n",
    "plt.scatter(x, z, color='red', label='Original Points')\n",
    "\n",
    "# Plot the interpolated curve\n",
    "plt.plot(x_new, z_new, label='Interpolated Curve', color='blue')\n",
    "\n",
    "plt.title('1D Interpolation of 2D Points along X-Axis')\n",
    "plt.xlabel('X')\n",
    "plt.ylabel('Z (Interpolated)')\n",
    "plt.legend()\n",
    "plt.grid(True)\n",
    "plt.show()"
   ]
  },
  {
   "cell_type": "code",
   "execution_count": 62,
   "id": "236ea3f4",
   "metadata": {
    "slideshow": {
     "slide_type": "subslide"
    }
   },
   "outputs": [
    {
     "name": "stdout",
     "output_type": "stream",
     "text": [
      "0.023849078204729826\n"
     ]
    }
   ],
   "source": [
    "# 5. Run a simple t-test over two distributions\n",
    "\n",
    "from scipy import stats\n",
    "\n",
    "# Two samples\n",
    "sample1 = np.random.normal(loc=5, scale=1, size=100) # samples 100 points using a N(5, 1)\n",
    "sample2 = np.random.normal(loc=5.5, scale=1, size=100) # samples 100 points using a N(5.5, 1)\n",
    "\n",
    "# Perform t-test\n",
    "_, p_value = stats.ttest_ind(sample1, sample2)\n",
    "print(p_value)\n",
    "\n",
    "# If the two populations come from the same distrubution the p-value should be high, typically above 0.05. \n",
    "# It the value is close to 1, the two samples are most probably coming from the same distribution."
   ]
  },
  {
   "cell_type": "markdown",
   "id": "ab12d188",
   "metadata": {
    "slideshow": {
     "slide_type": "slide"
    }
   },
   "source": [
    "## Basic Libraries I\n",
    "\n",
    "Another library used when developing algorithms is Math. This is a **built-in** library in Python. It is worth mentioning that most of the mathematical functions and constants are covered by Scipy and Numpy. However, it is worth knowing it, since is a built-in library."
   ]
  },
  {
   "cell_type": "code",
   "execution_count": 63,
   "id": "59be7327",
   "metadata": {
    "slideshow": {
     "slide_type": "subslide"
    }
   },
   "outputs": [],
   "source": [
    "import math"
   ]
  },
  {
   "cell_type": "code",
   "execution_count": 64,
   "id": "524e48cf",
   "metadata": {
    "slideshow": {
     "slide_type": "fragment"
    }
   },
   "outputs": [
    {
     "data": {
      "text/plain": [
       "4.0"
      ]
     },
     "execution_count": 64,
     "metadata": {},
     "output_type": "execute_result"
    }
   ],
   "source": [
    "# Square root, power, absolute value\n",
    "math.sqrt(16)"
   ]
  },
  {
   "cell_type": "code",
   "execution_count": 65,
   "id": "e5ea73d1",
   "metadata": {
    "slideshow": {
     "slide_type": "fragment"
    }
   },
   "outputs": [
    {
     "data": {
      "text/plain": [
       "8.0"
      ]
     },
     "execution_count": 65,
     "metadata": {},
     "output_type": "execute_result"
    }
   ],
   "source": [
    "math.pow(2, 3)"
   ]
  },
  {
   "cell_type": "code",
   "execution_count": 66,
   "id": "ced6d26f",
   "metadata": {
    "slideshow": {
     "slide_type": "fragment"
    }
   },
   "outputs": [
    {
     "data": {
      "text/plain": [
       "10.5"
      ]
     },
     "execution_count": 66,
     "metadata": {},
     "output_type": "execute_result"
    }
   ],
   "source": [
    "math.fabs(-10.5)"
   ]
  },
  {
   "cell_type": "code",
   "execution_count": 67,
   "id": "b9b80906",
   "metadata": {
    "slideshow": {
     "slide_type": "fragment"
    }
   },
   "outputs": [
    {
     "data": {
      "text/plain": [
       "True"
      ]
     },
     "execution_count": 67,
     "metadata": {},
     "output_type": "execute_result"
    }
   ],
   "source": [
    "# Calculate sinus, cosinus, tangent\n",
    "angle = math.pi / 4  # in gradients\n",
    "math.sin(angle) / math.cos(angle) == math.tan(angle)"
   ]
  },
  {
   "cell_type": "code",
   "execution_count": 68,
   "id": "f6a30575",
   "metadata": {
    "slideshow": {
     "slide_type": "fragment"
    }
   },
   "outputs": [
    {
     "data": {
      "text/plain": [
       "2.718281828459045"
      ]
     },
     "execution_count": 68,
     "metadata": {},
     "output_type": "execute_result"
    }
   ],
   "source": [
    "# Exponential, logarithm (ln), # Logarithm base 10\n",
    "math.exp(1)"
   ]
  },
  {
   "cell_type": "code",
   "execution_count": 69,
   "id": "ec6f979b",
   "metadata": {
    "slideshow": {
     "slide_type": "fragment"
    }
   },
   "outputs": [
    {
     "data": {
      "text/plain": [
       "2.302585092994046"
      ]
     },
     "execution_count": 69,
     "metadata": {},
     "output_type": "execute_result"
    }
   ],
   "source": [
    "math.log(10)"
   ]
  },
  {
   "cell_type": "code",
   "execution_count": 70,
   "id": "07d617e0",
   "metadata": {
    "slideshow": {
     "slide_type": "fragment"
    }
   },
   "outputs": [
    {
     "data": {
      "text/plain": [
       "2.0"
      ]
     },
     "execution_count": 70,
     "metadata": {},
     "output_type": "execute_result"
    }
   ],
   "source": [
    "math.log10(100)"
   ]
  },
  {
   "cell_type": "code",
   "execution_count": 71,
   "id": "5d2585b8",
   "metadata": {
    "slideshow": {
     "slide_type": "fragment"
    }
   },
   "outputs": [
    {
     "name": "stdout",
     "output_type": "stream",
     "text": [
      "floor value for 2.8: 2 and ceil value for 2.1: 3\n"
     ]
    }
   ],
   "source": [
    "# Rounding down (floor) and up (ceil), and factorial\n",
    "print(f\"floor value for 2.8: {math.floor(2.8)} and ceil value for 2.1: {math.ceil(2.1)}\")"
   ]
  },
  {
   "cell_type": "code",
   "execution_count": 72,
   "id": "873b1d28",
   "metadata": {
    "slideshow": {
     "slide_type": "fragment"
    }
   },
   "outputs": [
    {
     "name": "stdout",
     "output_type": "stream",
     "text": [
      "Factorial value of 4: 24\n"
     ]
    }
   ],
   "source": [
    "print(f\"Factorial value of 4: {math.factorial(4)}\")"
   ]
  },
  {
   "cell_type": "markdown",
   "id": "227e2907",
   "metadata": {
    "slideshow": {
     "slide_type": "slide"
    }
   },
   "source": [
    "## Basic Libraries I\n",
    "\n",
    "When manipulating files and folder, you may want to use the following **built-in** libraries: os, glob and shutil. Let's staart with **os**."
   ]
  },
  {
   "cell_type": "code",
   "execution_count": 73,
   "id": "b00491ab",
   "metadata": {
    "slideshow": {
     "slide_type": "subslide"
    }
   },
   "outputs": [],
   "source": [
    "import os"
   ]
  },
  {
   "cell_type": "code",
   "execution_count": 74,
   "id": "9f8f13c9",
   "metadata": {
    "slideshow": {
     "slide_type": "fragment"
    }
   },
   "outputs": [
    {
     "data": {
      "text/plain": [
       "['.DS_Store', 'annotations']"
      ]
     },
     "execution_count": 74,
     "metadata": {},
     "output_type": "execute_result"
    }
   ],
   "source": [
    "# Let's check what files we have in a specific folder\n",
    "os.listdir('session_4/')"
   ]
  },
  {
   "cell_type": "code",
   "execution_count": 75,
   "id": "386cfa6a",
   "metadata": {
    "slideshow": {
     "slide_type": "fragment"
    }
   },
   "outputs": [
    {
     "data": {
      "text/plain": [
       "'/Users/carlotatejeda/Desktop/MSc/Python for DataScience'"
      ]
     },
     "execution_count": 75,
     "metadata": {},
     "output_type": "execute_result"
    }
   ],
   "source": [
    "# Let's get the absolute path\n",
    "os.getcwd()"
   ]
  },
  {
   "cell_type": "code",
   "execution_count": 76,
   "id": "01967714",
   "metadata": {
    "slideshow": {
     "slide_type": "fragment"
    }
   },
   "outputs": [],
   "source": [
    "# Create a new folder\n",
    "os.mkdir('new_folder')"
   ]
  },
  {
   "cell_type": "code",
   "execution_count": 77,
   "id": "ef4c3030",
   "metadata": {
    "slideshow": {
     "slide_type": "fragment"
    }
   },
   "outputs": [
    {
     "data": {
      "text/plain": [
       "['new_folder']"
      ]
     },
     "execution_count": 77,
     "metadata": {},
     "output_type": "execute_result"
    }
   ],
   "source": [
    "[file for file in os.listdir('.') if 'new_folder' in file]"
   ]
  },
  {
   "cell_type": "code",
   "execution_count": 78,
   "id": "deae7955",
   "metadata": {
    "slideshow": {
     "slide_type": "fragment"
    }
   },
   "outputs": [],
   "source": [
    "# Remove it now\n",
    "os.rmdir('new_folder')"
   ]
  },
  {
   "cell_type": "code",
   "execution_count": 79,
   "id": "15771206",
   "metadata": {
    "slideshow": {
     "slide_type": "fragment"
    }
   },
   "outputs": [
    {
     "data": {
      "text/plain": [
       "[]"
      ]
     },
     "execution_count": 79,
     "metadata": {},
     "output_type": "execute_result"
    }
   ],
   "source": [
    "[file for file in os.listdir('.') if 'new_folder' in file]"
   ]
  },
  {
   "cell_type": "code",
   "execution_count": 80,
   "id": "889b4ad8",
   "metadata": {
    "slideshow": {
     "slide_type": "fragment"
    }
   },
   "outputs": [
    {
     "name": "stdout",
     "output_type": "stream",
     "text": [
      "False\n"
     ]
    }
   ],
   "source": [
    "# Check if a file exists\n",
    "print(os.path.exists('session_4.ipynb'))"
   ]
  },
  {
   "cell_type": "code",
   "execution_count": 81,
   "id": "ae06580e",
   "metadata": {
    "slideshow": {
     "slide_type": "fragment"
    }
   },
   "outputs": [
    {
     "data": {
      "text/plain": [
       "'session_4/annotations'"
      ]
     },
     "execution_count": 81,
     "metadata": {},
     "output_type": "execute_result"
    }
   ],
   "source": [
    "# You can also join paths or get the file out of the full path\n",
    "os.path.join('session_4/', 'annotations')"
   ]
  },
  {
   "cell_type": "code",
   "execution_count": 82,
   "id": "c4990139",
   "metadata": {
    "slideshow": {
     "slide_type": "fragment"
    }
   },
   "outputs": [
    {
     "data": {
      "text/plain": [
       "'20240101_174301_SN33_QUICKVIEW_VISUAL_1_1_10_SATL-2KM-11N_404_3770.txt'"
      ]
     },
     "execution_count": 82,
     "metadata": {},
     "output_type": "execute_result"
    }
   ],
   "source": [
    "os.path.basename('session_4/annotations/20240101_174301_SN33_QUICKVIEW_VISUAL_1_1_10_SATL-2KM-11N_404_3770.txt')"
   ]
  },
  {
   "cell_type": "markdown",
   "id": "54bf94e2",
   "metadata": {
    "slideshow": {
     "slide_type": "slide"
    }
   },
   "source": [
    "## Basic Libraries I\n",
    "\n",
    "Let's keep working now with **glob**."
   ]
  },
  {
   "cell_type": "code",
   "execution_count": 83,
   "id": "3a70ffff",
   "metadata": {
    "slideshow": {
     "slide_type": "subslide"
    }
   },
   "outputs": [],
   "source": [
    "import glob"
   ]
  },
  {
   "cell_type": "code",
   "execution_count": 84,
   "id": "79bf5c73",
   "metadata": {
    "slideshow": {
     "slide_type": "fragment"
    }
   },
   "outputs": [
    {
     "data": {
      "text/plain": [
       "['session_4/annotations/20240102_185527_SN27_QUICKVIEW_VISUAL_1_1_10_SATL-2KM-11N_740_3850.txt',\n",
       " 'session_4/annotations/20240623_193704_SN27_QUICKVIEW_VISUAL_1_7_0_SATL-2KM-11N_566_3734.txt',\n",
       " 'session_4/annotations/20240402_184757_SN24_QUICKVIEW_VISUAL_1_2_0_SATL-2KM-11N_488_3638.txt',\n",
       " 'session_4/annotations/20240423_190101_SN26_QUICKVIEW_VISUAL_1_5_0_SATL-2KM-11N_418_3872.txt',\n",
       " 'session_4/annotations/20240201_075140_SN26_QUICKVIEW_VISUAL_1_1_10_SATL-2KM-39N_558_2794.txt',\n",
       " 'session_4/annotations/20240222_074151_SN26_QUICKVIEW_VISUAL_1_1_10_SATL-2KM-39N_560_2794.txt',\n",
       " 'session_4/annotations/20240101_174301_SN33_QUICKVIEW_VISUAL_1_1_10_SATL-2KM-11N_404_3770.txt',\n",
       " 'session_4/annotations/20240218_180121_SN33_QUICKVIEW_VISUAL_1_1_10_SATL-2KM-10N_568_4176.txt',\n",
       " 'session_4/annotations/20240101_192856_SN24_QUICKVIEW_VISUAL_1_1_10_SATL-2KM-10N_552_4164.txt',\n",
       " 'session_4/annotations/20240402_184757_SN24_QUICKVIEW_VISUAL_1_2_0_SATL-2KM-11N_486_3630.txt',\n",
       " 'session_4/annotations/20240102_185954_SN24_QUICKVIEW_VISUAL_1_1_10_SATL-2KM-11N_414_3786.txt',\n",
       " 'session_4/annotations/20240213_212524_SN29_QUICKVIEW_VISUAL_1_1_10_SATL-2KM-11N_542_3750.txt',\n",
       " 'session_4/annotations/20240222_074155_SN26_QUICKVIEW_VISUAL_1_1_10_SATL-2KM-39N_556_2794.txt',\n",
       " 'session_4/annotations/20240603_215226_SN28_QUICKVIEW_VISUAL_1_6_0_SATL-2KM-11N_248_4068.txt',\n",
       " 'session_4/annotations/20240104_220339_SN31_QUICKVIEW_VISUAL_1_1_10_SATL-2KM-10N_556_4178.txt',\n",
       " 'session_4/annotations/20240603_215348_SN28_QUICKVIEW_VISUAL_1_6_0_SATL-2KM-11N_346_3786.txt',\n",
       " 'session_4/annotations/20240616_213053_SN30_QUICKVIEW_VISUAL_1_7_0_SATL-2KM-11N_460_3792.txt',\n",
       " 'session_4/annotations/20240115_213834_SN28_QUICKVIEW_VISUAL_1_1_10_SATL-2KM-11N_376_3722.txt',\n",
       " 'session_4/annotations/20240222_074155_SN26_QUICKVIEW_VISUAL_1_1_10_SATL-2KM-39N_562_2794.txt',\n",
       " 'session_4/annotations/20240322_212516_SN28_QUICKVIEW_VISUAL_1_2_0_SATL-2KM-11N_502_3600.txt',\n",
       " 'session_4/annotations/20240126_173752_SN33_QUICKVIEW_VISUAL_1_1_10_SATL-2KM-11N_386_3722.txt',\n",
       " 'session_4/annotations/20240317_221229_SN31_QUICKVIEW_VISUAL_1_2_0_SATL-2KM-10N_556_4176.txt',\n",
       " 'session_4/annotations/20240405_183824_409694_MS_NS24_QUICKVIEW_VISUAL_1_3_0_SATL-2KM-11N_736_3716.txt',\n",
       " 'session_4/annotations/20240418_213446_163074_MS_NS28_QUICKVIEW_VISUAL_1_3_0_SATL-2KM-11N_388_3748.txt',\n",
       " 'session_4/annotations/20240506_192008_SN26_QUICKVIEW_VISUAL_1_5_0_SATL-2KM-10N_562_4178.txt',\n",
       " 'session_4/annotations/20240417_215406_715231_MS_NS43_QUICKVIEW_VISUAL_1_3_0_SATL-2KM-10N_740_4446.txt',\n",
       " 'session_4/annotations/20240222_074151_SN26_QUICKVIEW_VISUAL_1_1_10_SATL-2KM-39N_560_2796.txt',\n",
       " 'session_4/annotations/20240220_190455_SN27_QUICKVIEW_VISUAL_1_1_10_SATL-2KM-11N_718_3608.txt',\n",
       " 'session_4/annotations/20240101_174301_SN33_QUICKVIEW_VISUAL_1_1_10_SATL-2KM-11N_404_3772.txt',\n",
       " 'session_4/annotations/20240423_190101_SN26_QUICKVIEW_VISUAL_1_5_0_SATL-2KM-11N_418_3864.txt',\n",
       " 'session_4/annotations/20240521_052621_SN43_QUICKVIEW_VISUAL_1_6_0_SATL-2KM-51N_730_4342.txt',\n",
       " 'session_4/annotations/20240508_194502_SN27_QUICKVIEW_VISUAL_1_5_0_SATL-2KM-11N_264_4022.txt',\n",
       " 'session_4/annotations/20240519_191838_SN27_QUICKVIEW_VISUAL_1_5_0_SATL-2KM-11N_718_3608.txt',\n",
       " 'session_4/annotations/20240130_173903_SN33_QUICKVIEW_VISUAL_1_1_10_SATL-2KM-11N_366_3756.txt',\n",
       " 'session_4/annotations/20240611_025943_SN26_QUICKVIEW_VISUAL_1_7_0_SATL-2KM-51N_748_4366.txt',\n",
       " 'session_4/annotations/20240401_221819_SN31_QUICKVIEW_VISUAL_1_2_0_SATL-2KM-10N_602_4148.txt',\n",
       " 'session_4/annotations/20240316_191451_SN26_QUICKVIEW_VISUAL_1_2_0_SATL-2KM-11N_380_3764.txt',\n",
       " 'session_4/annotations/20240528_191448_SN24_QUICKVIEW_VISUAL_1_6_0_SATL-2KM-11N_248_4068.txt',\n",
       " 'session_4/annotations/20240612_185400_SN24_QUICKVIEW_VISUAL_1_7_0_SATL-2KM-11N_574_3714.txt',\n",
       " 'session_4/annotations/20240509_193206_SN26_QUICKVIEW_VISUAL_1_5_0_SATL-2KM-10N_562_4196.txt',\n",
       " 'session_4/annotations/20240324_180232_SN33_QUICKVIEW_VISUAL_1_2_0_SATL-2KM-10N_554_4172.txt',\n",
       " 'session_4/annotations/20240423_190101_SN26_QUICKVIEW_VISUAL_1_5_0_SATL-2KM-11N_418_3860.txt',\n",
       " 'session_4/annotations/20240127_190620_SN27_QUICKVIEW_VISUAL_1_1_10_SATL-2KM-11N_500_3600.txt',\n",
       " 'session_4/annotations/20240619_185757_SN24_QUICKVIEW_VISUAL_1_7_0_SATL-2KM-11N_528_3700.txt',\n",
       " 'session_4/annotations/20240203_173953_SN33_QUICKVIEW_VISUAL_1_1_10_SATL-2KM-11N_368_3756.txt',\n",
       " 'session_4/annotations/20240222_074256_SN26_QUICKVIEW_VISUAL_1_1_10_SATL-2KM-39N_564_2790.txt',\n",
       " 'session_4/annotations/20240619_052401_SN30_QUICKVIEW_VISUAL_1_7_0_SATL-2KM-52N_368_4336.txt',\n",
       " 'session_4/annotations/20240101_192856_SN24_QUICKVIEW_VISUAL_1_1_10_SATL-2KM-10N_552_4162.txt',\n",
       " 'session_4/annotations/20240616_213047_SN30_QUICKVIEW_VISUAL_1_7_0_SATL-2KM-11N_464_3830.txt',\n",
       " 'session_4/annotations/20240412_191539_631044_MS_NS24_QUICKVIEW_VISUAL_1_3_0_SATL-2KM-11N_258_4036.txt',\n",
       " 'session_4/annotations/20240402_184757_SN24_QUICKVIEW_VISUAL_1_2_0_SATL-2KM-11N_486_3636.txt',\n",
       " 'session_4/annotations/20240222_074155_SN26_QUICKVIEW_VISUAL_1_1_10_SATL-2KM-39N_556_2792.txt',\n",
       " 'session_4/annotations/20240616_102144_SN28_QUICKVIEW_VISUAL_1_7_0_SATL-2KM-39N_560_2792.txt',\n",
       " 'session_4/annotations/20240201_075143_SN26_QUICKVIEW_VISUAL_1_1_10_SATL-2KM-39N_556_2792.txt',\n",
       " 'session_4/annotations/20240223_025420_SN24_QUICKVIEW_VISUAL_1_1_10_SATL-2KM-51N_686_4422.txt',\n",
       " 'session_4/annotations/20240516_211630_SN28_QUICKVIEW_VISUAL_1_5_0_SATL-2KM-11N_716_3848.txt',\n",
       " 'session_4/annotations/20240317_215115_SN28_QUICKVIEW_VISUAL_1_2_0_SATL-2KM-10N_554_4162.txt',\n",
       " 'session_4/annotations/20240325_173936_SN33_QUICKVIEW_VISUAL_1_2_0_SATL-2KM-11N_378_3722.txt',\n",
       " 'session_4/annotations/20240228_213951_SN29_QUICKVIEW_VISUAL_1_1_10_SATL-2KM-11N_248_4068.txt',\n",
       " 'session_4/annotations/20240222_074155_SN26_QUICKVIEW_VISUAL_1_1_10_SATL-2KM-39N_562_2792.txt',\n",
       " 'session_4/annotations/20240617_052859_SN29_QUICKVIEW_VISUAL_1_7_0_SATL-2KM-51N_730_4348.txt',\n",
       " 'session_4/annotations/20240608_214614_SN29_QUICKVIEW_VISUAL_1_7_0_SATL-2KM-11N_248_4068.txt',\n",
       " 'session_4/annotations/20240304_212824_SN30_QUICKVIEW_VISUAL_1_2_0_SATL-2KM-11N_378_3722.txt',\n",
       " 'session_4/annotations/20240617_211350_SN29_QUICKVIEW_VISUAL_1_7_0_SATL-2KM-11N_724_3614.txt',\n",
       " 'session_4/annotations/20240127_190620_SN27_QUICKVIEW_VISUAL_1_1_10_SATL-2KM-11N_500_3602.txt',\n",
       " 'session_4/annotations/20240423_190101_SN26_QUICKVIEW_VISUAL_1_5_0_SATL-2KM-11N_418_3862.txt',\n",
       " 'session_4/annotations/20240606_180251_SN33_QUICKVIEW_VISUAL_1_7_0_SATL-2KM-10N_556_4180.txt',\n",
       " 'session_4/annotations/20240613_214203_SN43_QUICKVIEW_VISUAL_1_7_0_SATL-2KM-11N_384_3750.txt',\n",
       " 'session_4/annotations/20240314_220020_SN30_QUICKVIEW_VISUAL_1_2_0_SATL-2KM-10N_544_4186.txt',\n",
       " 'session_4/annotations/20240611_025943_SN26_QUICKVIEW_VISUAL_1_7_0_SATL-2KM-51N_748_4364.txt',\n",
       " 'session_4/annotations/20240322_184801_SN24_QUICKVIEW_VISUAL_1_2_0_SATL-2KM-11N_500_3632.txt',\n",
       " 'session_4/annotations/20240410_214321_024179_MS_NS30_QUICKVIEW_VISUAL_1_3_0_SATL-2KM-11N_296_3786.txt',\n",
       " 'session_4/annotations/20240616_081345_SN27_QUICKVIEW_VISUAL_1_7_0_SATL-2KM-39N_562_2794.txt',\n",
       " 'session_4/annotations/20240308_211248_SN29_QUICKVIEW_VISUAL_1_2_0_SATL-2KM-11N_718_3640.txt',\n",
       " 'session_4/annotations/20240101_192856_SN24_QUICKVIEW_VISUAL_1_1_10_SATL-2KM-10N_554_4162.txt',\n",
       " 'session_4/annotations/20240428_215426_SN43_QUICKVIEW_VISUAL_1_5_0_SATL-2KM-10N_630_4264.txt',\n",
       " 'session_4/annotations/20240427_221308_SN31_QUICKVIEW_VISUAL_1_5_0_SATL-2KM-10N_722_3848.txt',\n",
       " 'session_4/annotations/20240201_075140_SN26_QUICKVIEW_VISUAL_1_1_10_SATL-2KM-39N_560_2792.txt',\n",
       " 'session_4/annotations/20240514_052716_SN43_QUICKVIEW_VISUAL_1_5_0_SATL-2KM-51N_730_4342.txt',\n",
       " 'session_4/annotations/20240213_212524_SN29_QUICKVIEW_VISUAL_1_1_10_SATL-2KM-11N_544_3742.txt',\n",
       " 'session_4/annotations/20240609_214259_SN30_QUICKVIEW_VISUAL_1_7_0_SATL-2KM-11N_262_4052.txt',\n",
       " 'session_4/annotations/20240410_214305_399233_MS_NS43_QUICKVIEW_VISUAL_1_3_0_SATL-2KM-11N_380_3764.txt',\n",
       " 'session_4/annotations/20240604_214955_SN29_QUICKVIEW_VISUAL_1_7_0_SATL-2KM-10N_594_4136.txt',\n",
       " 'session_4/annotations/20240423_190101_SN26_QUICKVIEW_VISUAL_1_5_0_SATL-2KM-11N_414_3862.txt',\n",
       " 'session_4/annotations/20240213_212524_SN29_QUICKVIEW_VISUAL_1_1_10_SATL-2KM-11N_540_3748.txt',\n",
       " 'session_4/annotations/20240613_192217_SN26_QUICKVIEW_VISUAL_1_7_0_SATL-2KM-10N_560_4178.txt',\n",
       " 'session_4/annotations/20240101_213601_SN31_QUICKVIEW_VISUAL_1_1_10_SATL-2KM-11N_392_3740.txt',\n",
       " 'session_4/annotations/20240317_215115_SN28_QUICKVIEW_VISUAL_1_2_0_SATL-2KM-10N_552_4162.txt',\n",
       " 'session_4/annotations/20240401_032415_SN27_QUICKVIEW_VISUAL_1_2_0_SATL-2KM-51N_688_4420.txt',\n",
       " 'session_4/annotations/20240503_214759_SN28_QUICKVIEW_VISUAL_1_5_0_SATL-2KM-11N_376_3724.txt',\n",
       " 'session_4/annotations/20240519_184534_SN24_QUICKVIEW_VISUAL_1_5_0_SATL-2KM-11N_658_3700.txt',\n",
       " 'session_4/annotations/20240615_173631_SN33_QUICKVIEW_VISUAL_1_7_0_SATL-2KM-11N_546_3742.txt',\n",
       " 'session_4/annotations/20240314_220020_SN30_QUICKVIEW_VISUAL_1_2_0_SATL-2KM-10N_550_4202.txt',\n",
       " 'session_4/annotations/20240219_214312_SN28_QUICKVIEW_VISUAL_1_1_10_SATL-2KM-11N_252_3954.txt',\n",
       " 'session_4/annotations/20240101_213601_SN31_QUICKVIEW_VISUAL_1_1_10_SATL-2KM-11N_392_3742.txt',\n",
       " 'session_4/annotations/20240408_211552_958249_MS_NS29_QUICKVIEW_VISUAL_1_3_0_SATL-2KM-11N_734_3742.txt',\n",
       " 'session_4/annotations/20240623_215120_SN29_QUICKVIEW_VISUAL_1_7_0_SATL-2KM-10N_596_4134.txt',\n",
       " 'session_4/annotations/20240128_213258_SN29_QUICKVIEW_VISUAL_1_1_10_SATL-2KM-11N_418_3864.txt',\n",
       " 'session_4/annotations/20240612_185400_SN24_QUICKVIEW_VISUAL_1_7_0_SATL-2KM-11N_576_3720.txt',\n",
       " 'session_4/annotations/20240612_053829_SN28_QUICKVIEW_VISUAL_1_7_0_SATL-2KM-51N_686_4422.txt',\n",
       " 'session_4/annotations/20240521_101252_SN43_QUICKVIEW_VISUAL_1_6_0_SATL-2KM-39N_556_2792.txt',\n",
       " 'session_4/annotations/20240616_102144_SN28_QUICKVIEW_VISUAL_1_7_0_SATL-2KM-39N_558_2794.txt',\n",
       " 'session_4/annotations/20240616_081345_SN27_QUICKVIEW_VISUAL_1_7_0_SATL-2KM-39N_562_2792.txt',\n",
       " 'session_4/annotations/20240428_215426_SN43_QUICKVIEW_VISUAL_1_5_0_SATL-2KM-10N_630_4262.txt',\n",
       " 'session_4/annotations/20240201_075140_SN26_QUICKVIEW_VISUAL_1_1_10_SATL-2KM-39N_560_2794.txt',\n",
       " 'session_4/annotations/20240428_215426_SN43_QUICKVIEW_VISUAL_1_5_0_SATL-2KM-10N_634_4282.txt',\n",
       " 'session_4/annotations/20240216_213630_SN31_QUICKVIEW_VISUAL_1_1_10_SATL-2KM-11N_418_3724.txt',\n",
       " 'session_4/annotations/20240616_213047_SN30_QUICKVIEW_VISUAL_1_7_0_SATL-2KM-11N_466_3828.txt',\n",
       " 'session_4/annotations/20240619_215556_SN29_QUICKVIEW_VISUAL_1_7_0_SATL-2KM-10N_742_4460.txt',\n",
       " 'session_4/annotations/20240317_215115_SN28_QUICKVIEW_VISUAL_1_2_0_SATL-2KM-10N_552_4164.txt',\n",
       " 'session_4/annotations/20240222_074151_SN26_QUICKVIEW_VISUAL_1_1_10_SATL-2KM-39N_558_2796.txt',\n",
       " 'session_4/annotations/20240510_191914_SN27_QUICKVIEW_VISUAL_1_5_0_SATL-2KM-11N_712_3566.txt',\n",
       " 'session_4/annotations/20240528_191604_SN24_QUICKVIEW_VISUAL_1_6_0_SATL-2KM-11N_344_3836.txt',\n",
       " 'session_4/annotations/20240611_215323_SN30_QUICKVIEW_VISUAL_1_7_0_SATL-2KM-10N_702_3948.txt',\n",
       " 'session_4/annotations/20240613_053340_SN29_QUICKVIEW_VISUAL_1_7_0_SATL-2KM-51N_728_4342.txt',\n",
       " 'session_4/annotations/20240612_185419_SN24_QUICKVIEW_VISUAL_1_7_0_SATL-2KM-11N_554_3610.txt',\n",
       " 'session_4/annotations/20240201_075140_SN26_QUICKVIEW_VISUAL_1_1_10_SATL-2KM-39N_560_2796.txt',\n",
       " 'session_4/annotations/20240208_184650_SN24_QUICKVIEW_VISUAL_1_1_10_SATL-2KM-11N_624_3632.txt',\n",
       " 'session_4/annotations/20240128_213258_SN29_QUICKVIEW_VISUAL_1_1_10_SATL-2KM-11N_418_3862.txt',\n",
       " 'session_4/annotations/20240214_184340_SN24_QUICKVIEW_VISUAL_1_1_10_SATL-2KM-11N_688_3630.txt',\n",
       " 'session_4/annotations/20240412_191539_377035_MS_NS24_QUICKVIEW_VISUAL_1_3_0_SATL-2KM-11N_258_4038.txt',\n",
       " 'session_4/annotations/20240509_212336_SN29_QUICKVIEW_VISUAL_1_5_0_SATL-2KM-11N_706_3778.txt',\n",
       " 'session_4/annotations/20240508_194502_SN27_QUICKVIEW_VISUAL_1_5_0_SATL-2KM-11N_262_4022.txt',\n",
       " 'session_4/annotations/20240130_215036_SN31_QUICKVIEW_VISUAL_1_1_10_SATL-2KM-11N_366_3756.txt',\n",
       " 'session_4/annotations/20240212_213506_SN31_QUICKVIEW_VISUAL_1_1_10_SATL-2KM-11N_408_3712.txt',\n",
       " 'session_4/annotations/20240519_214917_SN31_QUICKVIEW_VISUAL_1_5_0_SATL-2KM-11N_500_3600.txt',\n",
       " 'session_4/annotations/20240612_053829_SN28_QUICKVIEW_VISUAL_1_7_0_SATL-2KM-51N_688_4420.txt',\n",
       " 'session_4/annotations/20240222_074155_SN26_QUICKVIEW_VISUAL_1_1_10_SATL-2KM-39N_560_2792.txt',\n",
       " 'session_4/annotations/20240616_213047_SN30_QUICKVIEW_VISUAL_1_7_0_SATL-2KM-11N_466_3826.txt',\n",
       " 'session_4/annotations/20240612_185400_SN24_QUICKVIEW_VISUAL_1_7_0_SATL-2KM-11N_578_3722.txt',\n",
       " 'session_4/annotations/20240610_191018_SN26_QUICKVIEW_VISUAL_1_7_0_SATL-2KM-11N_384_3750.txt',\n",
       " 'session_4/annotations/20240401_175918_SN33_QUICKVIEW_VISUAL_1_2_0_SATL-2KM-10N_542_4168.txt',\n",
       " 'session_4/annotations/20240127_190620_SN27_QUICKVIEW_VISUAL_1_1_10_SATL-2KM-11N_502_3602.txt',\n",
       " 'session_4/annotations/20240513_212022_SN29_QUICKVIEW_VISUAL_1_5_0_SATL-2KM-11N_630_3742.txt',\n",
       " 'session_4/annotations/20240222_212250_SN30_QUICKVIEW_VISUAL_1_1_10_SATL-2KM-11N_382_3722.txt',\n",
       " 'session_4/annotations/20240127_190620_SN27_QUICKVIEW_VISUAL_1_1_10_SATL-2KM-11N_502_3600.txt',\n",
       " 'session_4/annotations/20240308_191212_SN27_QUICKVIEW_VISUAL_1_2_0_SATL-2KM-11N_506_3614.txt',\n",
       " 'session_4/annotations/20240613_053340_SN29_QUICKVIEW_VISUAL_1_7_0_SATL-2KM-51N_730_4342.txt',\n",
       " 'session_4/annotations/20240516_190328_SN24_QUICKVIEW_VISUAL_1_5_0_SATL-2KM-11N_262_4052.txt',\n",
       " 'session_4/annotations/20240221_190608_SN26_QUICKVIEW_VISUAL_1_1_10_SATL-2KM-11N_380_3764.txt',\n",
       " 'session_4/annotations/20240209_212744_SN29_QUICKVIEW_VISUAL_1_1_10_SATL-2KM-11N_380_3722.txt',\n",
       " 'session_4/annotations/20240412_191549_672087_MS_NS24_QUICKVIEW_VISUAL_1_3_0_SATL-2KM-11N_240_3966.txt',\n",
       " 'session_4/annotations/20240519_214917_SN31_QUICKVIEW_VISUAL_1_5_0_SATL-2KM-11N_500_3602.txt',\n",
       " 'session_4/annotations/20240616_102144_SN28_QUICKVIEW_VISUAL_1_7_0_SATL-2KM-39N_556_2794.txt',\n",
       " 'session_4/annotations/20240618_215539_SN31_QUICKVIEW_VISUAL_1_7_0_SATL-2KM-11N_452_3740.txt',\n",
       " 'session_4/annotations/20240623_215102_SN43_QUICKVIEW_VISUAL_1_7_0_SATL-2KM-11N_384_3750.txt',\n",
       " 'session_4/annotations/20240521_101252_SN43_QUICKVIEW_VISUAL_1_6_0_SATL-2KM-39N_558_2796.txt',\n",
       " 'session_4/annotations/20240607_200250_SN27_QUICKVIEW_VISUAL_1_7_0_SATL-2KM-10N_554_4172.txt',\n",
       " 'session_4/annotations/20240426_215224_SN29_QUICKVIEW_VISUAL_1_5_0_SATL-2KM-11N_244_3818.txt',\n",
       " 'session_4/annotations/20240510_191908_SN27_QUICKVIEW_VISUAL_1_5_0_SATL-2KM-11N_718_3608.txt',\n",
       " 'session_4/annotations/20240222_074151_SN26_QUICKVIEW_VISUAL_1_1_10_SATL-2KM-39N_556_2794.txt',\n",
       " 'session_4/annotations/20240618_215539_SN31_QUICKVIEW_VISUAL_1_7_0_SATL-2KM-11N_458_3756.txt',\n",
       " 'session_4/annotations/20240602_215203_SN30_QUICKVIEW_VISUAL_1_6_0_SATL-2KM-10N_714_3948.txt',\n",
       " 'session_4/annotations/20240130_173903_SN33_QUICKVIEW_VISUAL_1_1_10_SATL-2KM-11N_360_3748.txt',\n",
       " 'session_4/annotations/20240202_191114_SN27_QUICKVIEW_VISUAL_1_1_10_SATL-2KM-11N_718_3608.txt',\n",
       " 'session_4/annotations/20240401_175918_SN33_QUICKVIEW_VISUAL_1_2_0_SATL-2KM-10N_546_4206.txt',\n",
       " 'session_4/annotations/20240202_184725_SN24_QUICKVIEW_VISUAL_1_1_10_SATL-2KM-11N_624_3630.txt',\n",
       " 'session_4/annotations/20240130_173903_SN33_QUICKVIEW_VISUAL_1_1_10_SATL-2KM-11N_364_3754.txt',\n",
       " 'session_4/annotations/20240222_074151_SN26_QUICKVIEW_VISUAL_1_1_10_SATL-2KM-39N_562_2794.txt',\n",
       " 'session_4/annotations/20240519_214917_SN31_QUICKVIEW_VISUAL_1_5_0_SATL-2KM-11N_500_3598.txt',\n",
       " 'session_4/annotations/20240101_213601_SN31_QUICKVIEW_VISUAL_1_1_10_SATL-2KM-11N_396_3752.txt',\n",
       " 'session_4/annotations/20240224_214855_SN30_QUICKVIEW_VISUAL_1_1_10_SATL-2KM-10N_552_4162.txt',\n",
       " 'session_4/annotations/20240227_214218_SN30_QUICKVIEW_VISUAL_1_1_10_SATL-2KM-10N_562_4170.txt',\n",
       " 'session_4/annotations/20240321_220846_SN31_QUICKVIEW_VISUAL_1_2_0_SATL-2KM-10N_560_4178.txt',\n",
       " 'session_4/annotations/20240112_192510_SN27_QUICKVIEW_VISUAL_1_1_10_SATL-2KM-11N_386_3750.txt',\n",
       " 'session_4/annotations/20240617_184443_SN24_QUICKVIEW_VISUAL_1_7_0_SATL-2KM-11N_702_3566.txt',\n",
       " 'session_4/annotations/20240201_075140_SN26_QUICKVIEW_VISUAL_1_1_10_SATL-2KM-39N_556_2794.txt',\n",
       " 'session_4/annotations/20240115_213834_SN28_QUICKVIEW_VISUAL_1_1_10_SATL-2KM-11N_380_3724.txt',\n",
       " 'session_4/annotations/20240407_190149_742846_MS_NS24_QUICKVIEW_VISUAL_1_3_0_SATL-2KM-11N_258_4028.txt',\n",
       " 'session_4/annotations/20240524_213504_SN29_QUICKVIEW_VISUAL_1_6_0_SATL-2KM-11N_380_3724.txt',\n",
       " 'session_4/annotations/20240402_215427_SN31_QUICKVIEW_VISUAL_1_2_0_SATL-2KM-11N_502_3600.txt',\n",
       " 'session_4/annotations/20240506_213507_SN43_QUICKVIEW_VISUAL_1_5_0_SATL-2KM-11N_384_3750.txt',\n",
       " 'session_4/annotations/20240222_074155_SN26_QUICKVIEW_VISUAL_1_1_10_SATL-2KM-39N_558_2794.txt',\n",
       " 'session_4/annotations/20240602_215203_SN30_QUICKVIEW_VISUAL_1_6_0_SATL-2KM-10N_712_3948.txt',\n",
       " 'session_4/annotations/20240110_192002_SN27_QUICKVIEW_VISUAL_1_1_10_SATL-2KM-11N_380_3728.txt',\n",
       " 'session_4/annotations/20240211_211057_SN30_QUICKVIEW_VISUAL_1_1_10_SATL-2KM-11N_700_3690.txt',\n",
       " 'session_4/annotations/20240428_215557_SN43_QUICKVIEW_VISUAL_1_5_0_SATL-2KM-10N_726_3862.txt',\n",
       " 'session_4/annotations/20240616_081345_SN27_QUICKVIEW_VISUAL_1_7_0_SATL-2KM-39N_560_2792.txt',\n",
       " 'session_4/annotations/20240616_213047_SN30_QUICKVIEW_VISUAL_1_7_0_SATL-2KM-11N_464_3828.txt',\n",
       " 'session_4/annotations/20240423_190101_SN26_QUICKVIEW_VISUAL_1_5_0_SATL-2KM-11N_416_3864.txt',\n",
       " 'session_4/annotations/20240201_075140_SN26_QUICKVIEW_VISUAL_1_1_10_SATL-2KM-39N_562_2794.txt',\n",
       " 'session_4/annotations/20240420_181053_341939_MS_NS33_QUICKVIEW_VISUAL_1_3_0_SATL-2KM-10N_556_4180.txt',\n",
       " 'session_4/annotations/20240618_193146_SN27_QUICKVIEW_VISUAL_1_7_0_SATL-2KM-11N_530_3682.txt',\n",
       " 'session_4/annotations/20240201_075143_SN26_QUICKVIEW_VISUAL_1_1_10_SATL-2KM-39N_562_2788.txt',\n",
       " 'session_4/annotations/20240224_214855_SN30_QUICKVIEW_VISUAL_1_1_10_SATL-2KM-10N_554_4162.txt',\n",
       " 'session_4/annotations/20240402_184757_SN24_QUICKVIEW_VISUAL_1_2_0_SATL-2KM-11N_490_3638.txt',\n",
       " 'session_4/annotations/20240203_173953_SN33_QUICKVIEW_VISUAL_1_1_10_SATL-2KM-11N_366_3756.txt',\n",
       " 'session_4/annotations/20240614_221436_SN31_QUICKVIEW_VISUAL_1_7_0_SATL-2KM-10N_558_4184.txt',\n",
       " 'session_4/annotations/20240412_052750_556466_MS_NS29_QUICKVIEW_VISUAL_1_3_0_SATL-2KM-51N_688_4420.txt',\n",
       " 'session_4/annotations/20240428_191026_SN24_QUICKVIEW_VISUAL_1_5_0_SATL-2KM-11N_380_3722.txt',\n",
       " 'session_4/annotations/20240605_212717_SN29_QUICKVIEW_VISUAL_1_7_0_SATL-2KM-11N_718_3608.txt',\n",
       " 'session_4/annotations/20240201_075140_SN26_QUICKVIEW_VISUAL_1_1_10_SATL-2KM-39N_556_2792.txt',\n",
       " 'session_4/annotations/20240520_194539_SN27_QUICKVIEW_VISUAL_1_5_0_SATL-2KM-10N_638_4280.txt',\n",
       " 'session_4/annotations/20240401_175925_SN33_QUICKVIEW_VISUAL_1_2_0_SATL-2KM-10N_542_4168.txt',\n",
       " 'session_4/annotations/20240322_184801_SN24_QUICKVIEW_VISUAL_1_2_0_SATL-2KM-11N_502_3632.txt',\n",
       " 'session_4/annotations/20240402_215421_SN31_QUICKVIEW_VISUAL_1_2_0_SATL-2KM-11N_500_3632.txt',\n",
       " 'session_4/annotations/20240609_191744_SN24_QUICKVIEW_VISUAL_1_7_0_SATL-2KM-10N_564_4194.txt',\n",
       " 'session_4/annotations/20240102_185605_SN27_QUICKVIEW_VISUAL_1_1_10_SATL-2KM-11N_690_3572.txt',\n",
       " 'session_4/annotations/20240520_194539_SN27_QUICKVIEW_VISUAL_1_5_0_SATL-2KM-10N_638_4282.txt',\n",
       " 'session_4/annotations/20240616_081345_SN27_QUICKVIEW_VISUAL_1_7_0_SATL-2KM-39N_560_2794.txt',\n",
       " 'session_4/annotations/20240524_213504_SN29_QUICKVIEW_VISUAL_1_6_0_SATL-2KM-11N_378_3724.txt',\n",
       " 'session_4/annotations/20240423_190101_SN26_QUICKVIEW_VISUAL_1_5_0_SATL-2KM-11N_416_3862.txt',\n",
       " 'session_4/annotations/20240201_075140_SN26_QUICKVIEW_VISUAL_1_1_10_SATL-2KM-39N_562_2792.txt',\n",
       " 'session_4/annotations/20240609_191959_SN27_QUICKVIEW_VISUAL_1_7_0_SATL-2KM-11N_702_3540.txt',\n",
       " 'session_4/annotations/20240507_191326_SN27_QUICKVIEW_VISUAL_1_5_0_SATL-2KM-11N_718_3608.txt',\n",
       " 'session_4/annotations/20240321_190819_SN27_QUICKVIEW_VISUAL_1_2_0_SATL-2KM-11N_714_3632.txt']"
      ]
     },
     "execution_count": 84,
     "metadata": {},
     "output_type": "execute_result"
    }
   ],
   "source": [
    "# Similar to os, you can also list files, but you can provide wildcards \n",
    "glob.glob('session_4/annotations/*.txt')"
   ]
  },
  {
   "cell_type": "code",
   "execution_count": 85,
   "id": "7c30dd71",
   "metadata": {
    "slideshow": {
     "slide_type": "fragment"
    }
   },
   "outputs": [
    {
     "data": {
      "text/plain": [
       "['session_4/annotations/20240102_185527_SN27_QUICKVIEW_VISUAL_1_1_10_SATL-2KM-11N_740_3850.txt',\n",
       " 'session_4/annotations/20240623_193704_SN27_QUICKVIEW_VISUAL_1_7_0_SATL-2KM-11N_566_3734.txt',\n",
       " 'session_4/annotations/20240402_184757_SN24_QUICKVIEW_VISUAL_1_2_0_SATL-2KM-11N_488_3638.txt',\n",
       " 'session_4/annotations/20240423_190101_SN26_QUICKVIEW_VISUAL_1_5_0_SATL-2KM-11N_418_3872.txt',\n",
       " 'session_4/annotations/20240201_075140_SN26_QUICKVIEW_VISUAL_1_1_10_SATL-2KM-39N_558_2794.txt',\n",
       " 'session_4/annotations/20240222_074151_SN26_QUICKVIEW_VISUAL_1_1_10_SATL-2KM-39N_560_2794.txt',\n",
       " 'session_4/annotations/20240101_174301_SN33_QUICKVIEW_VISUAL_1_1_10_SATL-2KM-11N_404_3770.txt',\n",
       " 'session_4/annotations/20240218_180121_SN33_QUICKVIEW_VISUAL_1_1_10_SATL-2KM-10N_568_4176.txt',\n",
       " 'session_4/annotations/20240101_192856_SN24_QUICKVIEW_VISUAL_1_1_10_SATL-2KM-10N_552_4164.txt',\n",
       " 'session_4/annotations/20240402_184757_SN24_QUICKVIEW_VISUAL_1_2_0_SATL-2KM-11N_486_3630.txt',\n",
       " 'session_4/annotations/20240102_185954_SN24_QUICKVIEW_VISUAL_1_1_10_SATL-2KM-11N_414_3786.txt',\n",
       " 'session_4/annotations/20240213_212524_SN29_QUICKVIEW_VISUAL_1_1_10_SATL-2KM-11N_542_3750.txt',\n",
       " 'session_4/annotations/20240222_074155_SN26_QUICKVIEW_VISUAL_1_1_10_SATL-2KM-39N_556_2794.txt',\n",
       " 'session_4/annotations/20240603_215226_SN28_QUICKVIEW_VISUAL_1_6_0_SATL-2KM-11N_248_4068.txt',\n",
       " 'session_4/annotations/20240104_220339_SN31_QUICKVIEW_VISUAL_1_1_10_SATL-2KM-10N_556_4178.txt',\n",
       " 'session_4/annotations/20240603_215348_SN28_QUICKVIEW_VISUAL_1_6_0_SATL-2KM-11N_346_3786.txt',\n",
       " 'session_4/annotations/20240616_213053_SN30_QUICKVIEW_VISUAL_1_7_0_SATL-2KM-11N_460_3792.txt',\n",
       " 'session_4/annotations/20240115_213834_SN28_QUICKVIEW_VISUAL_1_1_10_SATL-2KM-11N_376_3722.txt',\n",
       " 'session_4/annotations/20240222_074155_SN26_QUICKVIEW_VISUAL_1_1_10_SATL-2KM-39N_562_2794.txt',\n",
       " 'session_4/annotations/20240322_212516_SN28_QUICKVIEW_VISUAL_1_2_0_SATL-2KM-11N_502_3600.txt',\n",
       " 'session_4/annotations/20240126_173752_SN33_QUICKVIEW_VISUAL_1_1_10_SATL-2KM-11N_386_3722.txt',\n",
       " 'session_4/annotations/20240317_221229_SN31_QUICKVIEW_VISUAL_1_2_0_SATL-2KM-10N_556_4176.txt',\n",
       " 'session_4/annotations/20240405_183824_409694_MS_NS24_QUICKVIEW_VISUAL_1_3_0_SATL-2KM-11N_736_3716.txt',\n",
       " 'session_4/annotations/20240418_213446_163074_MS_NS28_QUICKVIEW_VISUAL_1_3_0_SATL-2KM-11N_388_3748.txt',\n",
       " 'session_4/annotations/20240506_192008_SN26_QUICKVIEW_VISUAL_1_5_0_SATL-2KM-10N_562_4178.txt',\n",
       " 'session_4/annotations/20240417_215406_715231_MS_NS43_QUICKVIEW_VISUAL_1_3_0_SATL-2KM-10N_740_4446.txt',\n",
       " 'session_4/annotations/20240222_074151_SN26_QUICKVIEW_VISUAL_1_1_10_SATL-2KM-39N_560_2796.txt',\n",
       " 'session_4/annotations/20240220_190455_SN27_QUICKVIEW_VISUAL_1_1_10_SATL-2KM-11N_718_3608.txt',\n",
       " 'session_4/annotations/20240101_174301_SN33_QUICKVIEW_VISUAL_1_1_10_SATL-2KM-11N_404_3772.txt',\n",
       " 'session_4/annotations/20240423_190101_SN26_QUICKVIEW_VISUAL_1_5_0_SATL-2KM-11N_418_3864.txt',\n",
       " 'session_4/annotations/20240521_052621_SN43_QUICKVIEW_VISUAL_1_6_0_SATL-2KM-51N_730_4342.txt',\n",
       " 'session_4/annotations/20240508_194502_SN27_QUICKVIEW_VISUAL_1_5_0_SATL-2KM-11N_264_4022.txt',\n",
       " 'session_4/annotations/20240519_191838_SN27_QUICKVIEW_VISUAL_1_5_0_SATL-2KM-11N_718_3608.txt',\n",
       " 'session_4/annotations/20240130_173903_SN33_QUICKVIEW_VISUAL_1_1_10_SATL-2KM-11N_366_3756.txt',\n",
       " 'session_4/annotations/20240611_025943_SN26_QUICKVIEW_VISUAL_1_7_0_SATL-2KM-51N_748_4366.txt',\n",
       " 'session_4/annotations/20240401_221819_SN31_QUICKVIEW_VISUAL_1_2_0_SATL-2KM-10N_602_4148.txt',\n",
       " 'session_4/annotations/20240316_191451_SN26_QUICKVIEW_VISUAL_1_2_0_SATL-2KM-11N_380_3764.txt',\n",
       " 'session_4/annotations/20240528_191448_SN24_QUICKVIEW_VISUAL_1_6_0_SATL-2KM-11N_248_4068.txt',\n",
       " 'session_4/annotations/20240612_185400_SN24_QUICKVIEW_VISUAL_1_7_0_SATL-2KM-11N_574_3714.txt',\n",
       " 'session_4/annotations/20240509_193206_SN26_QUICKVIEW_VISUAL_1_5_0_SATL-2KM-10N_562_4196.txt',\n",
       " 'session_4/annotations/20240324_180232_SN33_QUICKVIEW_VISUAL_1_2_0_SATL-2KM-10N_554_4172.txt',\n",
       " 'session_4/annotations/20240423_190101_SN26_QUICKVIEW_VISUAL_1_5_0_SATL-2KM-11N_418_3860.txt',\n",
       " 'session_4/annotations/20240127_190620_SN27_QUICKVIEW_VISUAL_1_1_10_SATL-2KM-11N_500_3600.txt',\n",
       " 'session_4/annotations/20240619_185757_SN24_QUICKVIEW_VISUAL_1_7_0_SATL-2KM-11N_528_3700.txt',\n",
       " 'session_4/annotations/20240203_173953_SN33_QUICKVIEW_VISUAL_1_1_10_SATL-2KM-11N_368_3756.txt',\n",
       " 'session_4/annotations/20240222_074256_SN26_QUICKVIEW_VISUAL_1_1_10_SATL-2KM-39N_564_2790.txt',\n",
       " 'session_4/annotations/20240619_052401_SN30_QUICKVIEW_VISUAL_1_7_0_SATL-2KM-52N_368_4336.txt',\n",
       " 'session_4/annotations/20240101_192856_SN24_QUICKVIEW_VISUAL_1_1_10_SATL-2KM-10N_552_4162.txt',\n",
       " 'session_4/annotations/20240616_213047_SN30_QUICKVIEW_VISUAL_1_7_0_SATL-2KM-11N_464_3830.txt',\n",
       " 'session_4/annotations/20240412_191539_631044_MS_NS24_QUICKVIEW_VISUAL_1_3_0_SATL-2KM-11N_258_4036.txt',\n",
       " 'session_4/annotations/20240402_184757_SN24_QUICKVIEW_VISUAL_1_2_0_SATL-2KM-11N_486_3636.txt',\n",
       " 'session_4/annotations/20240222_074155_SN26_QUICKVIEW_VISUAL_1_1_10_SATL-2KM-39N_556_2792.txt',\n",
       " 'session_4/annotations/20240616_102144_SN28_QUICKVIEW_VISUAL_1_7_0_SATL-2KM-39N_560_2792.txt',\n",
       " 'session_4/annotations/20240201_075143_SN26_QUICKVIEW_VISUAL_1_1_10_SATL-2KM-39N_556_2792.txt',\n",
       " 'session_4/annotations/20240223_025420_SN24_QUICKVIEW_VISUAL_1_1_10_SATL-2KM-51N_686_4422.txt',\n",
       " 'session_4/annotations/20240516_211630_SN28_QUICKVIEW_VISUAL_1_5_0_SATL-2KM-11N_716_3848.txt',\n",
       " 'session_4/annotations/20240317_215115_SN28_QUICKVIEW_VISUAL_1_2_0_SATL-2KM-10N_554_4162.txt',\n",
       " 'session_4/annotations/20240325_173936_SN33_QUICKVIEW_VISUAL_1_2_0_SATL-2KM-11N_378_3722.txt',\n",
       " 'session_4/annotations/20240228_213951_SN29_QUICKVIEW_VISUAL_1_1_10_SATL-2KM-11N_248_4068.txt',\n",
       " 'session_4/annotations/20240222_074155_SN26_QUICKVIEW_VISUAL_1_1_10_SATL-2KM-39N_562_2792.txt',\n",
       " 'session_4/annotations/20240617_052859_SN29_QUICKVIEW_VISUAL_1_7_0_SATL-2KM-51N_730_4348.txt',\n",
       " 'session_4/annotations/20240608_214614_SN29_QUICKVIEW_VISUAL_1_7_0_SATL-2KM-11N_248_4068.txt',\n",
       " 'session_4/annotations/20240304_212824_SN30_QUICKVIEW_VISUAL_1_2_0_SATL-2KM-11N_378_3722.txt',\n",
       " 'session_4/annotations/20240617_211350_SN29_QUICKVIEW_VISUAL_1_7_0_SATL-2KM-11N_724_3614.txt',\n",
       " 'session_4/annotations/20240127_190620_SN27_QUICKVIEW_VISUAL_1_1_10_SATL-2KM-11N_500_3602.txt',\n",
       " 'session_4/annotations/20240423_190101_SN26_QUICKVIEW_VISUAL_1_5_0_SATL-2KM-11N_418_3862.txt',\n",
       " 'session_4/annotations/20240606_180251_SN33_QUICKVIEW_VISUAL_1_7_0_SATL-2KM-10N_556_4180.txt',\n",
       " 'session_4/annotations/20240613_214203_SN43_QUICKVIEW_VISUAL_1_7_0_SATL-2KM-11N_384_3750.txt',\n",
       " 'session_4/annotations/20240314_220020_SN30_QUICKVIEW_VISUAL_1_2_0_SATL-2KM-10N_544_4186.txt',\n",
       " 'session_4/annotations/20240611_025943_SN26_QUICKVIEW_VISUAL_1_7_0_SATL-2KM-51N_748_4364.txt',\n",
       " 'session_4/annotations/20240322_184801_SN24_QUICKVIEW_VISUAL_1_2_0_SATL-2KM-11N_500_3632.txt',\n",
       " 'session_4/annotations/20240410_214321_024179_MS_NS30_QUICKVIEW_VISUAL_1_3_0_SATL-2KM-11N_296_3786.txt',\n",
       " 'session_4/annotations/20240616_081345_SN27_QUICKVIEW_VISUAL_1_7_0_SATL-2KM-39N_562_2794.txt',\n",
       " 'session_4/annotations/20240308_211248_SN29_QUICKVIEW_VISUAL_1_2_0_SATL-2KM-11N_718_3640.txt',\n",
       " 'session_4/annotations/20240101_192856_SN24_QUICKVIEW_VISUAL_1_1_10_SATL-2KM-10N_554_4162.txt',\n",
       " 'session_4/annotations/20240428_215426_SN43_QUICKVIEW_VISUAL_1_5_0_SATL-2KM-10N_630_4264.txt',\n",
       " 'session_4/annotations/20240427_221308_SN31_QUICKVIEW_VISUAL_1_5_0_SATL-2KM-10N_722_3848.txt',\n",
       " 'session_4/annotations/20240201_075140_SN26_QUICKVIEW_VISUAL_1_1_10_SATL-2KM-39N_560_2792.txt',\n",
       " 'session_4/annotations/20240514_052716_SN43_QUICKVIEW_VISUAL_1_5_0_SATL-2KM-51N_730_4342.txt',\n",
       " 'session_4/annotations/20240213_212524_SN29_QUICKVIEW_VISUAL_1_1_10_SATL-2KM-11N_544_3742.txt',\n",
       " 'session_4/annotations/20240609_214259_SN30_QUICKVIEW_VISUAL_1_7_0_SATL-2KM-11N_262_4052.txt',\n",
       " 'session_4/annotations/20240410_214305_399233_MS_NS43_QUICKVIEW_VISUAL_1_3_0_SATL-2KM-11N_380_3764.txt',\n",
       " 'session_4/annotations/20240604_214955_SN29_QUICKVIEW_VISUAL_1_7_0_SATL-2KM-10N_594_4136.txt',\n",
       " 'session_4/annotations/20240423_190101_SN26_QUICKVIEW_VISUAL_1_5_0_SATL-2KM-11N_414_3862.txt',\n",
       " 'session_4/annotations/20240213_212524_SN29_QUICKVIEW_VISUAL_1_1_10_SATL-2KM-11N_540_3748.txt',\n",
       " 'session_4/annotations/20240613_192217_SN26_QUICKVIEW_VISUAL_1_7_0_SATL-2KM-10N_560_4178.txt',\n",
       " 'session_4/annotations/20240101_213601_SN31_QUICKVIEW_VISUAL_1_1_10_SATL-2KM-11N_392_3740.txt',\n",
       " 'session_4/annotations/20240317_215115_SN28_QUICKVIEW_VISUAL_1_2_0_SATL-2KM-10N_552_4162.txt',\n",
       " 'session_4/annotations/20240401_032415_SN27_QUICKVIEW_VISUAL_1_2_0_SATL-2KM-51N_688_4420.txt',\n",
       " 'session_4/annotations/20240503_214759_SN28_QUICKVIEW_VISUAL_1_5_0_SATL-2KM-11N_376_3724.txt',\n",
       " 'session_4/annotations/20240519_184534_SN24_QUICKVIEW_VISUAL_1_5_0_SATL-2KM-11N_658_3700.txt',\n",
       " 'session_4/annotations/20240615_173631_SN33_QUICKVIEW_VISUAL_1_7_0_SATL-2KM-11N_546_3742.txt',\n",
       " 'session_4/annotations/20240314_220020_SN30_QUICKVIEW_VISUAL_1_2_0_SATL-2KM-10N_550_4202.txt',\n",
       " 'session_4/annotations/20240219_214312_SN28_QUICKVIEW_VISUAL_1_1_10_SATL-2KM-11N_252_3954.txt',\n",
       " 'session_4/annotations/20240101_213601_SN31_QUICKVIEW_VISUAL_1_1_10_SATL-2KM-11N_392_3742.txt',\n",
       " 'session_4/annotations/20240408_211552_958249_MS_NS29_QUICKVIEW_VISUAL_1_3_0_SATL-2KM-11N_734_3742.txt',\n",
       " 'session_4/annotations/20240623_215120_SN29_QUICKVIEW_VISUAL_1_7_0_SATL-2KM-10N_596_4134.txt',\n",
       " 'session_4/annotations/20240128_213258_SN29_QUICKVIEW_VISUAL_1_1_10_SATL-2KM-11N_418_3864.txt',\n",
       " 'session_4/annotations/20240612_185400_SN24_QUICKVIEW_VISUAL_1_7_0_SATL-2KM-11N_576_3720.txt',\n",
       " 'session_4/annotations/20240612_053829_SN28_QUICKVIEW_VISUAL_1_7_0_SATL-2KM-51N_686_4422.txt',\n",
       " 'session_4/annotations/20240521_101252_SN43_QUICKVIEW_VISUAL_1_6_0_SATL-2KM-39N_556_2792.txt',\n",
       " 'session_4/annotations/20240616_102144_SN28_QUICKVIEW_VISUAL_1_7_0_SATL-2KM-39N_558_2794.txt',\n",
       " 'session_4/annotations/20240616_081345_SN27_QUICKVIEW_VISUAL_1_7_0_SATL-2KM-39N_562_2792.txt',\n",
       " 'session_4/annotations/20240428_215426_SN43_QUICKVIEW_VISUAL_1_5_0_SATL-2KM-10N_630_4262.txt',\n",
       " 'session_4/annotations/20240201_075140_SN26_QUICKVIEW_VISUAL_1_1_10_SATL-2KM-39N_560_2794.txt',\n",
       " 'session_4/annotations/20240428_215426_SN43_QUICKVIEW_VISUAL_1_5_0_SATL-2KM-10N_634_4282.txt',\n",
       " 'session_4/annotations/20240216_213630_SN31_QUICKVIEW_VISUAL_1_1_10_SATL-2KM-11N_418_3724.txt',\n",
       " 'session_4/annotations/20240616_213047_SN30_QUICKVIEW_VISUAL_1_7_0_SATL-2KM-11N_466_3828.txt',\n",
       " 'session_4/annotations/20240619_215556_SN29_QUICKVIEW_VISUAL_1_7_0_SATL-2KM-10N_742_4460.txt',\n",
       " 'session_4/annotations/20240317_215115_SN28_QUICKVIEW_VISUAL_1_2_0_SATL-2KM-10N_552_4164.txt',\n",
       " 'session_4/annotations/20240222_074151_SN26_QUICKVIEW_VISUAL_1_1_10_SATL-2KM-39N_558_2796.txt',\n",
       " 'session_4/annotations/20240510_191914_SN27_QUICKVIEW_VISUAL_1_5_0_SATL-2KM-11N_712_3566.txt',\n",
       " 'session_4/annotations/20240528_191604_SN24_QUICKVIEW_VISUAL_1_6_0_SATL-2KM-11N_344_3836.txt',\n",
       " 'session_4/annotations/20240611_215323_SN30_QUICKVIEW_VISUAL_1_7_0_SATL-2KM-10N_702_3948.txt',\n",
       " 'session_4/annotations/20240613_053340_SN29_QUICKVIEW_VISUAL_1_7_0_SATL-2KM-51N_728_4342.txt',\n",
       " 'session_4/annotations/20240612_185419_SN24_QUICKVIEW_VISUAL_1_7_0_SATL-2KM-11N_554_3610.txt',\n",
       " 'session_4/annotations/20240201_075140_SN26_QUICKVIEW_VISUAL_1_1_10_SATL-2KM-39N_560_2796.txt',\n",
       " 'session_4/annotations/20240208_184650_SN24_QUICKVIEW_VISUAL_1_1_10_SATL-2KM-11N_624_3632.txt',\n",
       " 'session_4/annotations/20240128_213258_SN29_QUICKVIEW_VISUAL_1_1_10_SATL-2KM-11N_418_3862.txt',\n",
       " 'session_4/annotations/20240214_184340_SN24_QUICKVIEW_VISUAL_1_1_10_SATL-2KM-11N_688_3630.txt',\n",
       " 'session_4/annotations/20240412_191539_377035_MS_NS24_QUICKVIEW_VISUAL_1_3_0_SATL-2KM-11N_258_4038.txt',\n",
       " 'session_4/annotations/20240509_212336_SN29_QUICKVIEW_VISUAL_1_5_0_SATL-2KM-11N_706_3778.txt',\n",
       " 'session_4/annotations/20240508_194502_SN27_QUICKVIEW_VISUAL_1_5_0_SATL-2KM-11N_262_4022.txt',\n",
       " 'session_4/annotations/20240130_215036_SN31_QUICKVIEW_VISUAL_1_1_10_SATL-2KM-11N_366_3756.txt',\n",
       " 'session_4/annotations/20240212_213506_SN31_QUICKVIEW_VISUAL_1_1_10_SATL-2KM-11N_408_3712.txt',\n",
       " 'session_4/annotations/20240519_214917_SN31_QUICKVIEW_VISUAL_1_5_0_SATL-2KM-11N_500_3600.txt',\n",
       " 'session_4/annotations/20240612_053829_SN28_QUICKVIEW_VISUAL_1_7_0_SATL-2KM-51N_688_4420.txt',\n",
       " 'session_4/annotations/20240222_074155_SN26_QUICKVIEW_VISUAL_1_1_10_SATL-2KM-39N_560_2792.txt',\n",
       " 'session_4/annotations/20240616_213047_SN30_QUICKVIEW_VISUAL_1_7_0_SATL-2KM-11N_466_3826.txt',\n",
       " 'session_4/annotations/20240612_185400_SN24_QUICKVIEW_VISUAL_1_7_0_SATL-2KM-11N_578_3722.txt',\n",
       " 'session_4/annotations/20240610_191018_SN26_QUICKVIEW_VISUAL_1_7_0_SATL-2KM-11N_384_3750.txt',\n",
       " 'session_4/annotations/20240401_175918_SN33_QUICKVIEW_VISUAL_1_2_0_SATL-2KM-10N_542_4168.txt',\n",
       " 'session_4/annotations/20240127_190620_SN27_QUICKVIEW_VISUAL_1_1_10_SATL-2KM-11N_502_3602.txt',\n",
       " 'session_4/annotations/20240513_212022_SN29_QUICKVIEW_VISUAL_1_5_0_SATL-2KM-11N_630_3742.txt',\n",
       " 'session_4/annotations/20240222_212250_SN30_QUICKVIEW_VISUAL_1_1_10_SATL-2KM-11N_382_3722.txt',\n",
       " 'session_4/annotations/20240127_190620_SN27_QUICKVIEW_VISUAL_1_1_10_SATL-2KM-11N_502_3600.txt',\n",
       " 'session_4/annotations/20240308_191212_SN27_QUICKVIEW_VISUAL_1_2_0_SATL-2KM-11N_506_3614.txt',\n",
       " 'session_4/annotations/20240613_053340_SN29_QUICKVIEW_VISUAL_1_7_0_SATL-2KM-51N_730_4342.txt',\n",
       " 'session_4/annotations/20240516_190328_SN24_QUICKVIEW_VISUAL_1_5_0_SATL-2KM-11N_262_4052.txt',\n",
       " 'session_4/annotations/20240221_190608_SN26_QUICKVIEW_VISUAL_1_1_10_SATL-2KM-11N_380_3764.txt',\n",
       " 'session_4/annotations/20240209_212744_SN29_QUICKVIEW_VISUAL_1_1_10_SATL-2KM-11N_380_3722.txt',\n",
       " 'session_4/annotations/20240412_191549_672087_MS_NS24_QUICKVIEW_VISUAL_1_3_0_SATL-2KM-11N_240_3966.txt',\n",
       " 'session_4/annotations/20240519_214917_SN31_QUICKVIEW_VISUAL_1_5_0_SATL-2KM-11N_500_3602.txt',\n",
       " 'session_4/annotations/20240616_102144_SN28_QUICKVIEW_VISUAL_1_7_0_SATL-2KM-39N_556_2794.txt',\n",
       " 'session_4/annotations/20240618_215539_SN31_QUICKVIEW_VISUAL_1_7_0_SATL-2KM-11N_452_3740.txt',\n",
       " 'session_4/annotations/20240623_215102_SN43_QUICKVIEW_VISUAL_1_7_0_SATL-2KM-11N_384_3750.txt',\n",
       " 'session_4/annotations/20240521_101252_SN43_QUICKVIEW_VISUAL_1_6_0_SATL-2KM-39N_558_2796.txt',\n",
       " 'session_4/annotations/20240607_200250_SN27_QUICKVIEW_VISUAL_1_7_0_SATL-2KM-10N_554_4172.txt',\n",
       " 'session_4/annotations/20240426_215224_SN29_QUICKVIEW_VISUAL_1_5_0_SATL-2KM-11N_244_3818.txt',\n",
       " 'session_4/annotations/20240510_191908_SN27_QUICKVIEW_VISUAL_1_5_0_SATL-2KM-11N_718_3608.txt',\n",
       " 'session_4/annotations/20240222_074151_SN26_QUICKVIEW_VISUAL_1_1_10_SATL-2KM-39N_556_2794.txt',\n",
       " 'session_4/annotations/20240618_215539_SN31_QUICKVIEW_VISUAL_1_7_0_SATL-2KM-11N_458_3756.txt',\n",
       " 'session_4/annotations/20240602_215203_SN30_QUICKVIEW_VISUAL_1_6_0_SATL-2KM-10N_714_3948.txt',\n",
       " 'session_4/annotations/20240130_173903_SN33_QUICKVIEW_VISUAL_1_1_10_SATL-2KM-11N_360_3748.txt',\n",
       " 'session_4/annotations/20240202_191114_SN27_QUICKVIEW_VISUAL_1_1_10_SATL-2KM-11N_718_3608.txt',\n",
       " 'session_4/annotations/20240401_175918_SN33_QUICKVIEW_VISUAL_1_2_0_SATL-2KM-10N_546_4206.txt',\n",
       " 'session_4/annotations/20240202_184725_SN24_QUICKVIEW_VISUAL_1_1_10_SATL-2KM-11N_624_3630.txt',\n",
       " 'session_4/annotations/20240130_173903_SN33_QUICKVIEW_VISUAL_1_1_10_SATL-2KM-11N_364_3754.txt',\n",
       " 'session_4/annotations/20240222_074151_SN26_QUICKVIEW_VISUAL_1_1_10_SATL-2KM-39N_562_2794.txt',\n",
       " 'session_4/annotations/20240519_214917_SN31_QUICKVIEW_VISUAL_1_5_0_SATL-2KM-11N_500_3598.txt',\n",
       " 'session_4/annotations/20240101_213601_SN31_QUICKVIEW_VISUAL_1_1_10_SATL-2KM-11N_396_3752.txt',\n",
       " 'session_4/annotations/20240224_214855_SN30_QUICKVIEW_VISUAL_1_1_10_SATL-2KM-10N_552_4162.txt',\n",
       " 'session_4/annotations/20240227_214218_SN30_QUICKVIEW_VISUAL_1_1_10_SATL-2KM-10N_562_4170.txt',\n",
       " 'session_4/annotations/20240321_220846_SN31_QUICKVIEW_VISUAL_1_2_0_SATL-2KM-10N_560_4178.txt',\n",
       " 'session_4/annotations/20240112_192510_SN27_QUICKVIEW_VISUAL_1_1_10_SATL-2KM-11N_386_3750.txt',\n",
       " 'session_4/annotations/20240617_184443_SN24_QUICKVIEW_VISUAL_1_7_0_SATL-2KM-11N_702_3566.txt',\n",
       " 'session_4/annotations/20240201_075140_SN26_QUICKVIEW_VISUAL_1_1_10_SATL-2KM-39N_556_2794.txt',\n",
       " 'session_4/annotations/20240115_213834_SN28_QUICKVIEW_VISUAL_1_1_10_SATL-2KM-11N_380_3724.txt',\n",
       " 'session_4/annotations/20240407_190149_742846_MS_NS24_QUICKVIEW_VISUAL_1_3_0_SATL-2KM-11N_258_4028.txt',\n",
       " 'session_4/annotations/20240524_213504_SN29_QUICKVIEW_VISUAL_1_6_0_SATL-2KM-11N_380_3724.txt',\n",
       " 'session_4/annotations/20240402_215427_SN31_QUICKVIEW_VISUAL_1_2_0_SATL-2KM-11N_502_3600.txt',\n",
       " 'session_4/annotations/20240506_213507_SN43_QUICKVIEW_VISUAL_1_5_0_SATL-2KM-11N_384_3750.txt',\n",
       " 'session_4/annotations/20240222_074155_SN26_QUICKVIEW_VISUAL_1_1_10_SATL-2KM-39N_558_2794.txt',\n",
       " 'session_4/annotations/20240602_215203_SN30_QUICKVIEW_VISUAL_1_6_0_SATL-2KM-10N_712_3948.txt',\n",
       " 'session_4/annotations/20240110_192002_SN27_QUICKVIEW_VISUAL_1_1_10_SATL-2KM-11N_380_3728.txt',\n",
       " 'session_4/annotations/20240211_211057_SN30_QUICKVIEW_VISUAL_1_1_10_SATL-2KM-11N_700_3690.txt',\n",
       " 'session_4/annotations/20240428_215557_SN43_QUICKVIEW_VISUAL_1_5_0_SATL-2KM-10N_726_3862.txt',\n",
       " 'session_4/annotations/20240616_081345_SN27_QUICKVIEW_VISUAL_1_7_0_SATL-2KM-39N_560_2792.txt',\n",
       " 'session_4/annotations/20240616_213047_SN30_QUICKVIEW_VISUAL_1_7_0_SATL-2KM-11N_464_3828.txt',\n",
       " 'session_4/annotations/20240423_190101_SN26_QUICKVIEW_VISUAL_1_5_0_SATL-2KM-11N_416_3864.txt',\n",
       " 'session_4/annotations/20240201_075140_SN26_QUICKVIEW_VISUAL_1_1_10_SATL-2KM-39N_562_2794.txt',\n",
       " 'session_4/annotations/20240420_181053_341939_MS_NS33_QUICKVIEW_VISUAL_1_3_0_SATL-2KM-10N_556_4180.txt',\n",
       " 'session_4/annotations/20240618_193146_SN27_QUICKVIEW_VISUAL_1_7_0_SATL-2KM-11N_530_3682.txt',\n",
       " 'session_4/annotations/20240201_075143_SN26_QUICKVIEW_VISUAL_1_1_10_SATL-2KM-39N_562_2788.txt',\n",
       " 'session_4/annotations/20240224_214855_SN30_QUICKVIEW_VISUAL_1_1_10_SATL-2KM-10N_554_4162.txt',\n",
       " 'session_4/annotations/20240402_184757_SN24_QUICKVIEW_VISUAL_1_2_0_SATL-2KM-11N_490_3638.txt',\n",
       " 'session_4/annotations/20240203_173953_SN33_QUICKVIEW_VISUAL_1_1_10_SATL-2KM-11N_366_3756.txt',\n",
       " 'session_4/annotations/20240614_221436_SN31_QUICKVIEW_VISUAL_1_7_0_SATL-2KM-10N_558_4184.txt',\n",
       " 'session_4/annotations/20240412_052750_556466_MS_NS29_QUICKVIEW_VISUAL_1_3_0_SATL-2KM-51N_688_4420.txt',\n",
       " 'session_4/annotations/20240428_191026_SN24_QUICKVIEW_VISUAL_1_5_0_SATL-2KM-11N_380_3722.txt',\n",
       " 'session_4/annotations/20240605_212717_SN29_QUICKVIEW_VISUAL_1_7_0_SATL-2KM-11N_718_3608.txt',\n",
       " 'session_4/annotations/20240201_075140_SN26_QUICKVIEW_VISUAL_1_1_10_SATL-2KM-39N_556_2792.txt',\n",
       " 'session_4/annotations/20240520_194539_SN27_QUICKVIEW_VISUAL_1_5_0_SATL-2KM-10N_638_4280.txt',\n",
       " 'session_4/annotations/20240401_175925_SN33_QUICKVIEW_VISUAL_1_2_0_SATL-2KM-10N_542_4168.txt',\n",
       " 'session_4/annotations/20240322_184801_SN24_QUICKVIEW_VISUAL_1_2_0_SATL-2KM-11N_502_3632.txt',\n",
       " 'session_4/annotations/20240402_215421_SN31_QUICKVIEW_VISUAL_1_2_0_SATL-2KM-11N_500_3632.txt',\n",
       " 'session_4/annotations/20240609_191744_SN24_QUICKVIEW_VISUAL_1_7_0_SATL-2KM-10N_564_4194.txt',\n",
       " 'session_4/annotations/20240102_185605_SN27_QUICKVIEW_VISUAL_1_1_10_SATL-2KM-11N_690_3572.txt',\n",
       " 'session_4/annotations/20240520_194539_SN27_QUICKVIEW_VISUAL_1_5_0_SATL-2KM-10N_638_4282.txt',\n",
       " 'session_4/annotations/20240616_081345_SN27_QUICKVIEW_VISUAL_1_7_0_SATL-2KM-39N_560_2794.txt',\n",
       " 'session_4/annotations/20240524_213504_SN29_QUICKVIEW_VISUAL_1_6_0_SATL-2KM-11N_378_3724.txt',\n",
       " 'session_4/annotations/20240423_190101_SN26_QUICKVIEW_VISUAL_1_5_0_SATL-2KM-11N_416_3862.txt',\n",
       " 'session_4/annotations/20240201_075140_SN26_QUICKVIEW_VISUAL_1_1_10_SATL-2KM-39N_562_2792.txt',\n",
       " 'session_4/annotations/20240609_191959_SN27_QUICKVIEW_VISUAL_1_7_0_SATL-2KM-11N_702_3540.txt',\n",
       " 'session_4/annotations/20240507_191326_SN27_QUICKVIEW_VISUAL_1_5_0_SATL-2KM-11N_718_3608.txt',\n",
       " 'session_4/annotations/20240321_190819_SN27_QUICKVIEW_VISUAL_1_2_0_SATL-2KM-11N_714_3632.txt']"
      ]
     },
     "execution_count": 85,
     "metadata": {},
     "output_type": "execute_result"
    }
   ],
   "source": [
    "# It does provide a great tool to list all the files within a folder, and also do it recursively\n",
    "glob.glob('session_4/**/*.txt', recursive=True)"
   ]
  },
  {
   "cell_type": "markdown",
   "id": "1a9d64c6",
   "metadata": {
    "slideshow": {
     "slide_type": "slide"
    }
   },
   "source": [
    "## Basic Libraries I\n",
    "\n",
    "Let's finally work with shutil. This library provides the usual bash commands you have in your terminal."
   ]
  },
  {
   "cell_type": "code",
   "execution_count": 86,
   "id": "6047c936",
   "metadata": {
    "slideshow": {
     "slide_type": "subslide"
    }
   },
   "outputs": [],
   "source": [
    "import shutil as sh"
   ]
  },
  {
   "cell_type": "code",
   "execution_count": 87,
   "id": "8a055162",
   "metadata": {
    "slideshow": {
     "slide_type": "fragment"
    }
   },
   "outputs": [
    {
     "ename": "FileNotFoundError",
     "evalue": "[Errno 2] No such file or directory: 'slides_install_guide.txt'",
     "output_type": "error",
     "traceback": [
      "\u001b[0;31m---------------------------------------------------------------------------\u001b[0m",
      "\u001b[0;31mFileNotFoundError\u001b[0m                         Traceback (most recent call last)",
      "Cell \u001b[0;32mIn[87], line 2\u001b[0m\n\u001b[1;32m      1\u001b[0m \u001b[38;5;66;03m# Copy a file into a new place\u001b[39;00m\n\u001b[0;32m----> 2\u001b[0m sh\u001b[38;5;241m.\u001b[39mcopy(\u001b[38;5;124m'\u001b[39m\u001b[38;5;124mslides_install_guide.txt\u001b[39m\u001b[38;5;124m'\u001b[39m, \u001b[38;5;124m'\u001b[39m\u001b[38;5;124msession_4/\u001b[39m\u001b[38;5;124m'\u001b[39m)\n",
      "File \u001b[0;32m/opt/anaconda3/lib/python3.12/shutil.py:435\u001b[0m, in \u001b[0;36mcopy\u001b[0;34m(src, dst, follow_symlinks)\u001b[0m\n\u001b[1;32m    433\u001b[0m \u001b[38;5;28;01mif\u001b[39;00m os\u001b[38;5;241m.\u001b[39mpath\u001b[38;5;241m.\u001b[39misdir(dst):\n\u001b[1;32m    434\u001b[0m     dst \u001b[38;5;241m=\u001b[39m os\u001b[38;5;241m.\u001b[39mpath\u001b[38;5;241m.\u001b[39mjoin(dst, os\u001b[38;5;241m.\u001b[39mpath\u001b[38;5;241m.\u001b[39mbasename(src))\n\u001b[0;32m--> 435\u001b[0m copyfile(src, dst, follow_symlinks\u001b[38;5;241m=\u001b[39mfollow_symlinks)\n\u001b[1;32m    436\u001b[0m copymode(src, dst, follow_symlinks\u001b[38;5;241m=\u001b[39mfollow_symlinks)\n\u001b[1;32m    437\u001b[0m \u001b[38;5;28;01mreturn\u001b[39;00m dst\n",
      "File \u001b[0;32m/opt/anaconda3/lib/python3.12/shutil.py:260\u001b[0m, in \u001b[0;36mcopyfile\u001b[0;34m(src, dst, follow_symlinks)\u001b[0m\n\u001b[1;32m    258\u001b[0m     os\u001b[38;5;241m.\u001b[39msymlink(os\u001b[38;5;241m.\u001b[39mreadlink(src), dst)\n\u001b[1;32m    259\u001b[0m \u001b[38;5;28;01melse\u001b[39;00m:\n\u001b[0;32m--> 260\u001b[0m     \u001b[38;5;28;01mwith\u001b[39;00m \u001b[38;5;28mopen\u001b[39m(src, \u001b[38;5;124m'\u001b[39m\u001b[38;5;124mrb\u001b[39m\u001b[38;5;124m'\u001b[39m) \u001b[38;5;28;01mas\u001b[39;00m fsrc:\n\u001b[1;32m    261\u001b[0m         \u001b[38;5;28;01mtry\u001b[39;00m:\n\u001b[1;32m    262\u001b[0m             \u001b[38;5;28;01mwith\u001b[39;00m \u001b[38;5;28mopen\u001b[39m(dst, \u001b[38;5;124m'\u001b[39m\u001b[38;5;124mwb\u001b[39m\u001b[38;5;124m'\u001b[39m) \u001b[38;5;28;01mas\u001b[39;00m fdst:\n\u001b[1;32m    263\u001b[0m                 \u001b[38;5;66;03m# macOS\u001b[39;00m\n",
      "\u001b[0;31mFileNotFoundError\u001b[0m: [Errno 2] No such file or directory: 'slides_install_guide.txt'"
     ]
    }
   ],
   "source": [
    "# Copy a file into a new place\n",
    "sh.copy('slides_install_guide.txt', 'session_4/')"
   ]
  },
  {
   "cell_type": "code",
   "execution_count": null,
   "id": "d4fb4d5b",
   "metadata": {
    "slideshow": {
     "slide_type": "fragment"
    }
   },
   "outputs": [],
   "source": [
    "# instead of listing the current directory, os.listdir('.'), we can\n",
    "ls session_4/"
   ]
  },
  {
   "cell_type": "code",
   "execution_count": null,
   "id": "41826fed",
   "metadata": {
    "slideshow": {
     "slide_type": "fragment"
    }
   },
   "outputs": [],
   "source": [
    "# Move it now outside this folder\n",
    "sh.move('session_4/slides_install_guide.txt', 'slides_install_guide_copy.txt')"
   ]
  },
  {
   "cell_type": "code",
   "execution_count": null,
   "id": "642343aa",
   "metadata": {
    "slideshow": {
     "slide_type": "fragment"
    }
   },
   "outputs": [],
   "source": [
    "ls"
   ]
  },
  {
   "cell_type": "code",
   "execution_count": null,
   "id": "2f19cb2d",
   "metadata": {
    "slideshow": {
     "slide_type": "fragment"
    }
   },
   "outputs": [],
   "source": [
    "# let's create a folder to remove later\n",
    "os.mkdir('folder_to_be_removed')"
   ]
  },
  {
   "cell_type": "code",
   "execution_count": null,
   "id": "c8ab73eb",
   "metadata": {
    "slideshow": {
     "slide_type": "fragment"
    }
   },
   "outputs": [],
   "source": [
    "# Remove a folder and its content\n",
    "sh.rmtree('folder_to_be_removed/')"
   ]
  },
  {
   "cell_type": "markdown",
   "id": "06ef9072",
   "metadata": {
    "slideshow": {
     "slide_type": "slide"
    }
   },
   "source": [
    "## Basic Libraries I\n",
    "\n",
    "Let's jump into today's exercice."
   ]
  },
  {
   "cell_type": "markdown",
   "id": "7f74cd25",
   "metadata": {
    "slideshow": {
     "slide_type": "subslide"
    }
   },
   "source": [
    "### Exercise\n",
    "\n",
    "\n",
    "Given a zip file with a subfolder with multiple annotations, where the name convention for each one of them is: \n",
    "\n",
    "{DATE}_{TIME}_SN{SATELLITE_NUMBER}_QUICKVIEW_VISUAL_{VERSION}_{UNIQUE_REGION}.txt\n",
    "\n",
    "where:\n",
    "\n",
    "- DATE expressed as YYYYMMDD (year, month and day), e.g. 20241201, 20230321 ...\n",
    "- TIME expressed as HHMMSS (hour, minutes and seconds), e.g. 2134307\n",
    "- SATELLITE_NUMBER an integer that represents the satellite number.\n",
    "- VERSION provides the version of the pipeline, e.g. \"0_1_2\", \"1_3_1\" ...\n",
    "- UNIQUE_REGION provides a unique location in the form of a string, e.g SATL-2KM-10N_552_4164\n",
    "\n",
    "Find out the following thing about your data:\n",
    "\n",
    "1. How many files the annotations folder has.\n",
    "2. How many of them follow the name convention expressed above.\n",
    "3. How many of annotations you have per month and year. Which month has more annotation files.\n",
    "4. Create a new annotations folder with multiple folders corresponding to a month.\n",
    "5. Print all the annotations from the most recent to the oldest one. \n",
    "6. How many different satellites there are, how many annotations we have per satellite number, and which one was used in the most recent annotation file. \n",
    "7. How many unique regions there are.\n",
    "\n",
    "some tips:\n",
    "- str class has a method called split, you can use it to get each field per annotation.\n",
    "- you can use sort from numpy on strings."
   ]
  },
  {
   "cell_type": "markdown",
   "id": "cdad8568",
   "metadata": {},
   "source": [
    "1. How many files the annotations folder has"
   ]
  },
  {
   "cell_type": "code",
   "execution_count": 32,
   "id": "9215b075",
   "metadata": {},
   "outputs": [
    {
     "name": "stdout",
     "output_type": "stream",
     "text": [
      "There are 206 of files inside annotations\n"
     ]
    }
   ],
   "source": [
    "# We only need to see the lenght of the files in the folder\n",
    "import glob\n",
    "number_files= len(glob.glob('session_4/annotations/*.txt', recursive=True))  # using glob instead of os as I want to directly check for the txt files only\n",
    "print(f'There are {number_files} of files inside annotations')"
   ]
  },
  {
   "cell_type": "markdown",
   "id": "f2b67a1d",
   "metadata": {},
   "source": [
    "2. How many of them follow the name convention expressed above.\n",
    "The format: \n",
    "{DATE}_{TIME}_SN{SATELLITE_NUMBER}_QUICKVIEW_VISUAL_{VERSION}_{UNIQUE_REGION}.txt"
   ]
  },
  {
   "cell_type": "code",
   "execution_count": 41,
   "id": "c5e93c25",
   "metadata": {},
   "outputs": [
    {
     "data": {
      "text/plain": [
       "['session_4/annotations/20240102_185527_SN27_QUICKVIEW_VISUAL_1_1_10_SATL-2KM-11N_740_3850.txt',\n",
       " 'session_4/annotations/20240623_193704_SN27_QUICKVIEW_VISUAL_1_7_0_SATL-2KM-11N_566_3734.txt',\n",
       " 'session_4/annotations/20240402_184757_SN24_QUICKVIEW_VISUAL_1_2_0_SATL-2KM-11N_488_3638.txt',\n",
       " 'session_4/annotations/20240423_190101_SN26_QUICKVIEW_VISUAL_1_5_0_SATL-2KM-11N_418_3872.txt',\n",
       " 'session_4/annotations/20240201_075140_SN26_QUICKVIEW_VISUAL_1_1_10_SATL-2KM-39N_558_2794.txt',\n",
       " 'session_4/annotations/20240222_074151_SN26_QUICKVIEW_VISUAL_1_1_10_SATL-2KM-39N_560_2794.txt',\n",
       " 'session_4/annotations/20240101_174301_SN33_QUICKVIEW_VISUAL_1_1_10_SATL-2KM-11N_404_3770.txt',\n",
       " 'session_4/annotations/20240218_180121_SN33_QUICKVIEW_VISUAL_1_1_10_SATL-2KM-10N_568_4176.txt',\n",
       " 'session_4/annotations/20240101_192856_SN24_QUICKVIEW_VISUAL_1_1_10_SATL-2KM-10N_552_4164.txt',\n",
       " 'session_4/annotations/20240402_184757_SN24_QUICKVIEW_VISUAL_1_2_0_SATL-2KM-11N_486_3630.txt',\n",
       " 'session_4/annotations/20240102_185954_SN24_QUICKVIEW_VISUAL_1_1_10_SATL-2KM-11N_414_3786.txt',\n",
       " 'session_4/annotations/20240213_212524_SN29_QUICKVIEW_VISUAL_1_1_10_SATL-2KM-11N_542_3750.txt',\n",
       " 'session_4/annotations/20240222_074155_SN26_QUICKVIEW_VISUAL_1_1_10_SATL-2KM-39N_556_2794.txt',\n",
       " 'session_4/annotations/20240603_215226_SN28_QUICKVIEW_VISUAL_1_6_0_SATL-2KM-11N_248_4068.txt',\n",
       " 'session_4/annotations/20240104_220339_SN31_QUICKVIEW_VISUAL_1_1_10_SATL-2KM-10N_556_4178.txt',\n",
       " 'session_4/annotations/20240603_215348_SN28_QUICKVIEW_VISUAL_1_6_0_SATL-2KM-11N_346_3786.txt',\n",
       " 'session_4/annotations/20240616_213053_SN30_QUICKVIEW_VISUAL_1_7_0_SATL-2KM-11N_460_3792.txt',\n",
       " 'session_4/annotations/20240115_213834_SN28_QUICKVIEW_VISUAL_1_1_10_SATL-2KM-11N_376_3722.txt',\n",
       " 'session_4/annotations/20240222_074155_SN26_QUICKVIEW_VISUAL_1_1_10_SATL-2KM-39N_562_2794.txt',\n",
       " 'session_4/annotations/20240322_212516_SN28_QUICKVIEW_VISUAL_1_2_0_SATL-2KM-11N_502_3600.txt',\n",
       " 'session_4/annotations/20240126_173752_SN33_QUICKVIEW_VISUAL_1_1_10_SATL-2KM-11N_386_3722.txt',\n",
       " 'session_4/annotations/20240317_221229_SN31_QUICKVIEW_VISUAL_1_2_0_SATL-2KM-10N_556_4176.txt',\n",
       " 'session_4/annotations/20240405_183824_409694_MS_NS24_QUICKVIEW_VISUAL_1_3_0_SATL-2KM-11N_736_3716.txt',\n",
       " 'session_4/annotations/20240418_213446_163074_MS_NS28_QUICKVIEW_VISUAL_1_3_0_SATL-2KM-11N_388_3748.txt',\n",
       " 'session_4/annotations/20240506_192008_SN26_QUICKVIEW_VISUAL_1_5_0_SATL-2KM-10N_562_4178.txt',\n",
       " 'session_4/annotations/20240417_215406_715231_MS_NS43_QUICKVIEW_VISUAL_1_3_0_SATL-2KM-10N_740_4446.txt',\n",
       " 'session_4/annotations/20240222_074151_SN26_QUICKVIEW_VISUAL_1_1_10_SATL-2KM-39N_560_2796.txt',\n",
       " 'session_4/annotations/20240220_190455_SN27_QUICKVIEW_VISUAL_1_1_10_SATL-2KM-11N_718_3608.txt',\n",
       " 'session_4/annotations/20240101_174301_SN33_QUICKVIEW_VISUAL_1_1_10_SATL-2KM-11N_404_3772.txt',\n",
       " 'session_4/annotations/20240423_190101_SN26_QUICKVIEW_VISUAL_1_5_0_SATL-2KM-11N_418_3864.txt',\n",
       " 'session_4/annotations/20240521_052621_SN43_QUICKVIEW_VISUAL_1_6_0_SATL-2KM-51N_730_4342.txt',\n",
       " 'session_4/annotations/20240508_194502_SN27_QUICKVIEW_VISUAL_1_5_0_SATL-2KM-11N_264_4022.txt',\n",
       " 'session_4/annotations/20240519_191838_SN27_QUICKVIEW_VISUAL_1_5_0_SATL-2KM-11N_718_3608.txt',\n",
       " 'session_4/annotations/20240130_173903_SN33_QUICKVIEW_VISUAL_1_1_10_SATL-2KM-11N_366_3756.txt',\n",
       " 'session_4/annotations/20240611_025943_SN26_QUICKVIEW_VISUAL_1_7_0_SATL-2KM-51N_748_4366.txt',\n",
       " 'session_4/annotations/20240401_221819_SN31_QUICKVIEW_VISUAL_1_2_0_SATL-2KM-10N_602_4148.txt',\n",
       " 'session_4/annotations/20240316_191451_SN26_QUICKVIEW_VISUAL_1_2_0_SATL-2KM-11N_380_3764.txt',\n",
       " 'session_4/annotations/20240528_191448_SN24_QUICKVIEW_VISUAL_1_6_0_SATL-2KM-11N_248_4068.txt',\n",
       " 'session_4/annotations/20240612_185400_SN24_QUICKVIEW_VISUAL_1_7_0_SATL-2KM-11N_574_3714.txt',\n",
       " 'session_4/annotations/20240509_193206_SN26_QUICKVIEW_VISUAL_1_5_0_SATL-2KM-10N_562_4196.txt',\n",
       " 'session_4/annotations/20240324_180232_SN33_QUICKVIEW_VISUAL_1_2_0_SATL-2KM-10N_554_4172.txt',\n",
       " 'session_4/annotations/20240423_190101_SN26_QUICKVIEW_VISUAL_1_5_0_SATL-2KM-11N_418_3860.txt',\n",
       " 'session_4/annotations/20240127_190620_SN27_QUICKVIEW_VISUAL_1_1_10_SATL-2KM-11N_500_3600.txt',\n",
       " 'session_4/annotations/20240619_185757_SN24_QUICKVIEW_VISUAL_1_7_0_SATL-2KM-11N_528_3700.txt',\n",
       " 'session_4/annotations/20240203_173953_SN33_QUICKVIEW_VISUAL_1_1_10_SATL-2KM-11N_368_3756.txt',\n",
       " 'session_4/annotations/20240222_074256_SN26_QUICKVIEW_VISUAL_1_1_10_SATL-2KM-39N_564_2790.txt',\n",
       " 'session_4/annotations/20240619_052401_SN30_QUICKVIEW_VISUAL_1_7_0_SATL-2KM-52N_368_4336.txt',\n",
       " 'session_4/annotations/20240101_192856_SN24_QUICKVIEW_VISUAL_1_1_10_SATL-2KM-10N_552_4162.txt',\n",
       " 'session_4/annotations/20240616_213047_SN30_QUICKVIEW_VISUAL_1_7_0_SATL-2KM-11N_464_3830.txt',\n",
       " 'session_4/annotations/20240412_191539_631044_MS_NS24_QUICKVIEW_VISUAL_1_3_0_SATL-2KM-11N_258_4036.txt',\n",
       " 'session_4/annotations/20240402_184757_SN24_QUICKVIEW_VISUAL_1_2_0_SATL-2KM-11N_486_3636.txt',\n",
       " 'session_4/annotations/20240222_074155_SN26_QUICKVIEW_VISUAL_1_1_10_SATL-2KM-39N_556_2792.txt',\n",
       " 'session_4/annotations/20240616_102144_SN28_QUICKVIEW_VISUAL_1_7_0_SATL-2KM-39N_560_2792.txt',\n",
       " 'session_4/annotations/20240201_075143_SN26_QUICKVIEW_VISUAL_1_1_10_SATL-2KM-39N_556_2792.txt',\n",
       " 'session_4/annotations/20240223_025420_SN24_QUICKVIEW_VISUAL_1_1_10_SATL-2KM-51N_686_4422.txt',\n",
       " 'session_4/annotations/20240516_211630_SN28_QUICKVIEW_VISUAL_1_5_0_SATL-2KM-11N_716_3848.txt',\n",
       " 'session_4/annotations/20240317_215115_SN28_QUICKVIEW_VISUAL_1_2_0_SATL-2KM-10N_554_4162.txt',\n",
       " 'session_4/annotations/20240325_173936_SN33_QUICKVIEW_VISUAL_1_2_0_SATL-2KM-11N_378_3722.txt',\n",
       " 'session_4/annotations/20240228_213951_SN29_QUICKVIEW_VISUAL_1_1_10_SATL-2KM-11N_248_4068.txt',\n",
       " 'session_4/annotations/20240222_074155_SN26_QUICKVIEW_VISUAL_1_1_10_SATL-2KM-39N_562_2792.txt',\n",
       " 'session_4/annotations/20240617_052859_SN29_QUICKVIEW_VISUAL_1_7_0_SATL-2KM-51N_730_4348.txt',\n",
       " 'session_4/annotations/20240608_214614_SN29_QUICKVIEW_VISUAL_1_7_0_SATL-2KM-11N_248_4068.txt',\n",
       " 'session_4/annotations/20240304_212824_SN30_QUICKVIEW_VISUAL_1_2_0_SATL-2KM-11N_378_3722.txt',\n",
       " 'session_4/annotations/20240617_211350_SN29_QUICKVIEW_VISUAL_1_7_0_SATL-2KM-11N_724_3614.txt',\n",
       " 'session_4/annotations/20240127_190620_SN27_QUICKVIEW_VISUAL_1_1_10_SATL-2KM-11N_500_3602.txt',\n",
       " 'session_4/annotations/20240423_190101_SN26_QUICKVIEW_VISUAL_1_5_0_SATL-2KM-11N_418_3862.txt',\n",
       " 'session_4/annotations/20240606_180251_SN33_QUICKVIEW_VISUAL_1_7_0_SATL-2KM-10N_556_4180.txt',\n",
       " 'session_4/annotations/20240613_214203_SN43_QUICKVIEW_VISUAL_1_7_0_SATL-2KM-11N_384_3750.txt',\n",
       " 'session_4/annotations/20240314_220020_SN30_QUICKVIEW_VISUAL_1_2_0_SATL-2KM-10N_544_4186.txt',\n",
       " 'session_4/annotations/20240611_025943_SN26_QUICKVIEW_VISUAL_1_7_0_SATL-2KM-51N_748_4364.txt',\n",
       " 'session_4/annotations/20240322_184801_SN24_QUICKVIEW_VISUAL_1_2_0_SATL-2KM-11N_500_3632.txt',\n",
       " 'session_4/annotations/20240410_214321_024179_MS_NS30_QUICKVIEW_VISUAL_1_3_0_SATL-2KM-11N_296_3786.txt',\n",
       " 'session_4/annotations/20240616_081345_SN27_QUICKVIEW_VISUAL_1_7_0_SATL-2KM-39N_562_2794.txt',\n",
       " 'session_4/annotations/20240308_211248_SN29_QUICKVIEW_VISUAL_1_2_0_SATL-2KM-11N_718_3640.txt',\n",
       " 'session_4/annotations/20240101_192856_SN24_QUICKVIEW_VISUAL_1_1_10_SATL-2KM-10N_554_4162.txt',\n",
       " 'session_4/annotations/20240428_215426_SN43_QUICKVIEW_VISUAL_1_5_0_SATL-2KM-10N_630_4264.txt',\n",
       " 'session_4/annotations/20240427_221308_SN31_QUICKVIEW_VISUAL_1_5_0_SATL-2KM-10N_722_3848.txt',\n",
       " 'session_4/annotations/20240201_075140_SN26_QUICKVIEW_VISUAL_1_1_10_SATL-2KM-39N_560_2792.txt',\n",
       " 'session_4/annotations/20240514_052716_SN43_QUICKVIEW_VISUAL_1_5_0_SATL-2KM-51N_730_4342.txt',\n",
       " 'session_4/annotations/20240213_212524_SN29_QUICKVIEW_VISUAL_1_1_10_SATL-2KM-11N_544_3742.txt',\n",
       " 'session_4/annotations/20240609_214259_SN30_QUICKVIEW_VISUAL_1_7_0_SATL-2KM-11N_262_4052.txt',\n",
       " 'session_4/annotations/20240410_214305_399233_MS_NS43_QUICKVIEW_VISUAL_1_3_0_SATL-2KM-11N_380_3764.txt',\n",
       " 'session_4/annotations/20240604_214955_SN29_QUICKVIEW_VISUAL_1_7_0_SATL-2KM-10N_594_4136.txt',\n",
       " 'session_4/annotations/20240423_190101_SN26_QUICKVIEW_VISUAL_1_5_0_SATL-2KM-11N_414_3862.txt',\n",
       " 'session_4/annotations/20240213_212524_SN29_QUICKVIEW_VISUAL_1_1_10_SATL-2KM-11N_540_3748.txt',\n",
       " 'session_4/annotations/20240613_192217_SN26_QUICKVIEW_VISUAL_1_7_0_SATL-2KM-10N_560_4178.txt',\n",
       " 'session_4/annotations/20240101_213601_SN31_QUICKVIEW_VISUAL_1_1_10_SATL-2KM-11N_392_3740.txt',\n",
       " 'session_4/annotations/20240317_215115_SN28_QUICKVIEW_VISUAL_1_2_0_SATL-2KM-10N_552_4162.txt',\n",
       " 'session_4/annotations/20240401_032415_SN27_QUICKVIEW_VISUAL_1_2_0_SATL-2KM-51N_688_4420.txt',\n",
       " 'session_4/annotations/20240503_214759_SN28_QUICKVIEW_VISUAL_1_5_0_SATL-2KM-11N_376_3724.txt',\n",
       " 'session_4/annotations/20240519_184534_SN24_QUICKVIEW_VISUAL_1_5_0_SATL-2KM-11N_658_3700.txt',\n",
       " 'session_4/annotations/20240615_173631_SN33_QUICKVIEW_VISUAL_1_7_0_SATL-2KM-11N_546_3742.txt',\n",
       " 'session_4/annotations/20240314_220020_SN30_QUICKVIEW_VISUAL_1_2_0_SATL-2KM-10N_550_4202.txt',\n",
       " 'session_4/annotations/20240219_214312_SN28_QUICKVIEW_VISUAL_1_1_10_SATL-2KM-11N_252_3954.txt',\n",
       " 'session_4/annotations/20240101_213601_SN31_QUICKVIEW_VISUAL_1_1_10_SATL-2KM-11N_392_3742.txt',\n",
       " 'session_4/annotations/20240408_211552_958249_MS_NS29_QUICKVIEW_VISUAL_1_3_0_SATL-2KM-11N_734_3742.txt',\n",
       " 'session_4/annotations/20240623_215120_SN29_QUICKVIEW_VISUAL_1_7_0_SATL-2KM-10N_596_4134.txt',\n",
       " 'session_4/annotations/20240128_213258_SN29_QUICKVIEW_VISUAL_1_1_10_SATL-2KM-11N_418_3864.txt',\n",
       " 'session_4/annotations/20240612_185400_SN24_QUICKVIEW_VISUAL_1_7_0_SATL-2KM-11N_576_3720.txt',\n",
       " 'session_4/annotations/20240612_053829_SN28_QUICKVIEW_VISUAL_1_7_0_SATL-2KM-51N_686_4422.txt',\n",
       " 'session_4/annotations/20240521_101252_SN43_QUICKVIEW_VISUAL_1_6_0_SATL-2KM-39N_556_2792.txt',\n",
       " 'session_4/annotations/20240616_102144_SN28_QUICKVIEW_VISUAL_1_7_0_SATL-2KM-39N_558_2794.txt',\n",
       " 'session_4/annotations/20240616_081345_SN27_QUICKVIEW_VISUAL_1_7_0_SATL-2KM-39N_562_2792.txt',\n",
       " 'session_4/annotations/20240428_215426_SN43_QUICKVIEW_VISUAL_1_5_0_SATL-2KM-10N_630_4262.txt',\n",
       " 'session_4/annotations/20240201_075140_SN26_QUICKVIEW_VISUAL_1_1_10_SATL-2KM-39N_560_2794.txt',\n",
       " 'session_4/annotations/20240428_215426_SN43_QUICKVIEW_VISUAL_1_5_0_SATL-2KM-10N_634_4282.txt',\n",
       " 'session_4/annotations/20240216_213630_SN31_QUICKVIEW_VISUAL_1_1_10_SATL-2KM-11N_418_3724.txt',\n",
       " 'session_4/annotations/20240616_213047_SN30_QUICKVIEW_VISUAL_1_7_0_SATL-2KM-11N_466_3828.txt',\n",
       " 'session_4/annotations/20240619_215556_SN29_QUICKVIEW_VISUAL_1_7_0_SATL-2KM-10N_742_4460.txt',\n",
       " 'session_4/annotations/20240317_215115_SN28_QUICKVIEW_VISUAL_1_2_0_SATL-2KM-10N_552_4164.txt',\n",
       " 'session_4/annotations/20240222_074151_SN26_QUICKVIEW_VISUAL_1_1_10_SATL-2KM-39N_558_2796.txt',\n",
       " 'session_4/annotations/20240510_191914_SN27_QUICKVIEW_VISUAL_1_5_0_SATL-2KM-11N_712_3566.txt',\n",
       " 'session_4/annotations/20240528_191604_SN24_QUICKVIEW_VISUAL_1_6_0_SATL-2KM-11N_344_3836.txt',\n",
       " 'session_4/annotations/20240611_215323_SN30_QUICKVIEW_VISUAL_1_7_0_SATL-2KM-10N_702_3948.txt',\n",
       " 'session_4/annotations/20240613_053340_SN29_QUICKVIEW_VISUAL_1_7_0_SATL-2KM-51N_728_4342.txt',\n",
       " 'session_4/annotations/20240612_185419_SN24_QUICKVIEW_VISUAL_1_7_0_SATL-2KM-11N_554_3610.txt',\n",
       " 'session_4/annotations/20240201_075140_SN26_QUICKVIEW_VISUAL_1_1_10_SATL-2KM-39N_560_2796.txt',\n",
       " 'session_4/annotations/20240208_184650_SN24_QUICKVIEW_VISUAL_1_1_10_SATL-2KM-11N_624_3632.txt',\n",
       " 'session_4/annotations/20240128_213258_SN29_QUICKVIEW_VISUAL_1_1_10_SATL-2KM-11N_418_3862.txt',\n",
       " 'session_4/annotations/20240214_184340_SN24_QUICKVIEW_VISUAL_1_1_10_SATL-2KM-11N_688_3630.txt',\n",
       " 'session_4/annotations/20240412_191539_377035_MS_NS24_QUICKVIEW_VISUAL_1_3_0_SATL-2KM-11N_258_4038.txt',\n",
       " 'session_4/annotations/20240509_212336_SN29_QUICKVIEW_VISUAL_1_5_0_SATL-2KM-11N_706_3778.txt',\n",
       " 'session_4/annotations/20240508_194502_SN27_QUICKVIEW_VISUAL_1_5_0_SATL-2KM-11N_262_4022.txt',\n",
       " 'session_4/annotations/20240130_215036_SN31_QUICKVIEW_VISUAL_1_1_10_SATL-2KM-11N_366_3756.txt',\n",
       " 'session_4/annotations/20240212_213506_SN31_QUICKVIEW_VISUAL_1_1_10_SATL-2KM-11N_408_3712.txt',\n",
       " 'session_4/annotations/20240519_214917_SN31_QUICKVIEW_VISUAL_1_5_0_SATL-2KM-11N_500_3600.txt',\n",
       " 'session_4/annotations/20240612_053829_SN28_QUICKVIEW_VISUAL_1_7_0_SATL-2KM-51N_688_4420.txt',\n",
       " 'session_4/annotations/20240222_074155_SN26_QUICKVIEW_VISUAL_1_1_10_SATL-2KM-39N_560_2792.txt',\n",
       " 'session_4/annotations/20240616_213047_SN30_QUICKVIEW_VISUAL_1_7_0_SATL-2KM-11N_466_3826.txt',\n",
       " 'session_4/annotations/20240612_185400_SN24_QUICKVIEW_VISUAL_1_7_0_SATL-2KM-11N_578_3722.txt',\n",
       " 'session_4/annotations/20240610_191018_SN26_QUICKVIEW_VISUAL_1_7_0_SATL-2KM-11N_384_3750.txt',\n",
       " 'session_4/annotations/20240401_175918_SN33_QUICKVIEW_VISUAL_1_2_0_SATL-2KM-10N_542_4168.txt',\n",
       " 'session_4/annotations/20240127_190620_SN27_QUICKVIEW_VISUAL_1_1_10_SATL-2KM-11N_502_3602.txt',\n",
       " 'session_4/annotations/20240513_212022_SN29_QUICKVIEW_VISUAL_1_5_0_SATL-2KM-11N_630_3742.txt',\n",
       " 'session_4/annotations/20240222_212250_SN30_QUICKVIEW_VISUAL_1_1_10_SATL-2KM-11N_382_3722.txt',\n",
       " 'session_4/annotations/20240127_190620_SN27_QUICKVIEW_VISUAL_1_1_10_SATL-2KM-11N_502_3600.txt',\n",
       " 'session_4/annotations/20240308_191212_SN27_QUICKVIEW_VISUAL_1_2_0_SATL-2KM-11N_506_3614.txt',\n",
       " 'session_4/annotations/20240613_053340_SN29_QUICKVIEW_VISUAL_1_7_0_SATL-2KM-51N_730_4342.txt',\n",
       " 'session_4/annotations/20240516_190328_SN24_QUICKVIEW_VISUAL_1_5_0_SATL-2KM-11N_262_4052.txt',\n",
       " 'session_4/annotations/20240221_190608_SN26_QUICKVIEW_VISUAL_1_1_10_SATL-2KM-11N_380_3764.txt',\n",
       " 'session_4/annotations/20240209_212744_SN29_QUICKVIEW_VISUAL_1_1_10_SATL-2KM-11N_380_3722.txt',\n",
       " 'session_4/annotations/20240412_191549_672087_MS_NS24_QUICKVIEW_VISUAL_1_3_0_SATL-2KM-11N_240_3966.txt',\n",
       " 'session_4/annotations/20240519_214917_SN31_QUICKVIEW_VISUAL_1_5_0_SATL-2KM-11N_500_3602.txt',\n",
       " 'session_4/annotations/20240616_102144_SN28_QUICKVIEW_VISUAL_1_7_0_SATL-2KM-39N_556_2794.txt',\n",
       " 'session_4/annotations/20240618_215539_SN31_QUICKVIEW_VISUAL_1_7_0_SATL-2KM-11N_452_3740.txt',\n",
       " 'session_4/annotations/20240623_215102_SN43_QUICKVIEW_VISUAL_1_7_0_SATL-2KM-11N_384_3750.txt',\n",
       " 'session_4/annotations/20240521_101252_SN43_QUICKVIEW_VISUAL_1_6_0_SATL-2KM-39N_558_2796.txt',\n",
       " 'session_4/annotations/20240607_200250_SN27_QUICKVIEW_VISUAL_1_7_0_SATL-2KM-10N_554_4172.txt',\n",
       " 'session_4/annotations/20240426_215224_SN29_QUICKVIEW_VISUAL_1_5_0_SATL-2KM-11N_244_3818.txt',\n",
       " 'session_4/annotations/20240510_191908_SN27_QUICKVIEW_VISUAL_1_5_0_SATL-2KM-11N_718_3608.txt',\n",
       " 'session_4/annotations/20240222_074151_SN26_QUICKVIEW_VISUAL_1_1_10_SATL-2KM-39N_556_2794.txt',\n",
       " 'session_4/annotations/20240618_215539_SN31_QUICKVIEW_VISUAL_1_7_0_SATL-2KM-11N_458_3756.txt',\n",
       " 'session_4/annotations/20240602_215203_SN30_QUICKVIEW_VISUAL_1_6_0_SATL-2KM-10N_714_3948.txt',\n",
       " 'session_4/annotations/20240130_173903_SN33_QUICKVIEW_VISUAL_1_1_10_SATL-2KM-11N_360_3748.txt',\n",
       " 'session_4/annotations/20240202_191114_SN27_QUICKVIEW_VISUAL_1_1_10_SATL-2KM-11N_718_3608.txt',\n",
       " 'session_4/annotations/20240401_175918_SN33_QUICKVIEW_VISUAL_1_2_0_SATL-2KM-10N_546_4206.txt',\n",
       " 'session_4/annotations/20240202_184725_SN24_QUICKVIEW_VISUAL_1_1_10_SATL-2KM-11N_624_3630.txt',\n",
       " 'session_4/annotations/20240130_173903_SN33_QUICKVIEW_VISUAL_1_1_10_SATL-2KM-11N_364_3754.txt',\n",
       " 'session_4/annotations/20240222_074151_SN26_QUICKVIEW_VISUAL_1_1_10_SATL-2KM-39N_562_2794.txt',\n",
       " 'session_4/annotations/20240519_214917_SN31_QUICKVIEW_VISUAL_1_5_0_SATL-2KM-11N_500_3598.txt',\n",
       " 'session_4/annotations/20240101_213601_SN31_QUICKVIEW_VISUAL_1_1_10_SATL-2KM-11N_396_3752.txt',\n",
       " 'session_4/annotations/20240224_214855_SN30_QUICKVIEW_VISUAL_1_1_10_SATL-2KM-10N_552_4162.txt',\n",
       " 'session_4/annotations/20240227_214218_SN30_QUICKVIEW_VISUAL_1_1_10_SATL-2KM-10N_562_4170.txt',\n",
       " 'session_4/annotations/20240321_220846_SN31_QUICKVIEW_VISUAL_1_2_0_SATL-2KM-10N_560_4178.txt',\n",
       " 'session_4/annotations/20240112_192510_SN27_QUICKVIEW_VISUAL_1_1_10_SATL-2KM-11N_386_3750.txt',\n",
       " 'session_4/annotations/20240617_184443_SN24_QUICKVIEW_VISUAL_1_7_0_SATL-2KM-11N_702_3566.txt',\n",
       " 'session_4/annotations/20240201_075140_SN26_QUICKVIEW_VISUAL_1_1_10_SATL-2KM-39N_556_2794.txt',\n",
       " 'session_4/annotations/20240115_213834_SN28_QUICKVIEW_VISUAL_1_1_10_SATL-2KM-11N_380_3724.txt',\n",
       " 'session_4/annotations/20240407_190149_742846_MS_NS24_QUICKVIEW_VISUAL_1_3_0_SATL-2KM-11N_258_4028.txt',\n",
       " 'session_4/annotations/20240524_213504_SN29_QUICKVIEW_VISUAL_1_6_0_SATL-2KM-11N_380_3724.txt',\n",
       " 'session_4/annotations/20240402_215427_SN31_QUICKVIEW_VISUAL_1_2_0_SATL-2KM-11N_502_3600.txt',\n",
       " 'session_4/annotations/20240506_213507_SN43_QUICKVIEW_VISUAL_1_5_0_SATL-2KM-11N_384_3750.txt',\n",
       " 'session_4/annotations/20240222_074155_SN26_QUICKVIEW_VISUAL_1_1_10_SATL-2KM-39N_558_2794.txt',\n",
       " 'session_4/annotations/20240602_215203_SN30_QUICKVIEW_VISUAL_1_6_0_SATL-2KM-10N_712_3948.txt',\n",
       " 'session_4/annotations/20240110_192002_SN27_QUICKVIEW_VISUAL_1_1_10_SATL-2KM-11N_380_3728.txt',\n",
       " 'session_4/annotations/20240211_211057_SN30_QUICKVIEW_VISUAL_1_1_10_SATL-2KM-11N_700_3690.txt',\n",
       " 'session_4/annotations/20240428_215557_SN43_QUICKVIEW_VISUAL_1_5_0_SATL-2KM-10N_726_3862.txt',\n",
       " 'session_4/annotations/20240616_081345_SN27_QUICKVIEW_VISUAL_1_7_0_SATL-2KM-39N_560_2792.txt',\n",
       " 'session_4/annotations/20240616_213047_SN30_QUICKVIEW_VISUAL_1_7_0_SATL-2KM-11N_464_3828.txt',\n",
       " 'session_4/annotations/20240423_190101_SN26_QUICKVIEW_VISUAL_1_5_0_SATL-2KM-11N_416_3864.txt',\n",
       " 'session_4/annotations/20240201_075140_SN26_QUICKVIEW_VISUAL_1_1_10_SATL-2KM-39N_562_2794.txt',\n",
       " 'session_4/annotations/20240420_181053_341939_MS_NS33_QUICKVIEW_VISUAL_1_3_0_SATL-2KM-10N_556_4180.txt',\n",
       " 'session_4/annotations/20240618_193146_SN27_QUICKVIEW_VISUAL_1_7_0_SATL-2KM-11N_530_3682.txt',\n",
       " 'session_4/annotations/20240201_075143_SN26_QUICKVIEW_VISUAL_1_1_10_SATL-2KM-39N_562_2788.txt',\n",
       " 'session_4/annotations/20240224_214855_SN30_QUICKVIEW_VISUAL_1_1_10_SATL-2KM-10N_554_4162.txt',\n",
       " 'session_4/annotations/20240402_184757_SN24_QUICKVIEW_VISUAL_1_2_0_SATL-2KM-11N_490_3638.txt',\n",
       " 'session_4/annotations/20240203_173953_SN33_QUICKVIEW_VISUAL_1_1_10_SATL-2KM-11N_366_3756.txt',\n",
       " 'session_4/annotations/20240614_221436_SN31_QUICKVIEW_VISUAL_1_7_0_SATL-2KM-10N_558_4184.txt',\n",
       " 'session_4/annotations/20240412_052750_556466_MS_NS29_QUICKVIEW_VISUAL_1_3_0_SATL-2KM-51N_688_4420.txt',\n",
       " 'session_4/annotations/20240428_191026_SN24_QUICKVIEW_VISUAL_1_5_0_SATL-2KM-11N_380_3722.txt',\n",
       " 'session_4/annotations/20240605_212717_SN29_QUICKVIEW_VISUAL_1_7_0_SATL-2KM-11N_718_3608.txt',\n",
       " 'session_4/annotations/20240201_075140_SN26_QUICKVIEW_VISUAL_1_1_10_SATL-2KM-39N_556_2792.txt',\n",
       " 'session_4/annotations/20240520_194539_SN27_QUICKVIEW_VISUAL_1_5_0_SATL-2KM-10N_638_4280.txt',\n",
       " 'session_4/annotations/20240401_175925_SN33_QUICKVIEW_VISUAL_1_2_0_SATL-2KM-10N_542_4168.txt',\n",
       " 'session_4/annotations/20240322_184801_SN24_QUICKVIEW_VISUAL_1_2_0_SATL-2KM-11N_502_3632.txt',\n",
       " 'session_4/annotations/20240402_215421_SN31_QUICKVIEW_VISUAL_1_2_0_SATL-2KM-11N_500_3632.txt',\n",
       " 'session_4/annotations/20240609_191744_SN24_QUICKVIEW_VISUAL_1_7_0_SATL-2KM-10N_564_4194.txt',\n",
       " 'session_4/annotations/20240102_185605_SN27_QUICKVIEW_VISUAL_1_1_10_SATL-2KM-11N_690_3572.txt',\n",
       " 'session_4/annotations/20240520_194539_SN27_QUICKVIEW_VISUAL_1_5_0_SATL-2KM-10N_638_4282.txt',\n",
       " 'session_4/annotations/20240616_081345_SN27_QUICKVIEW_VISUAL_1_7_0_SATL-2KM-39N_560_2794.txt',\n",
       " 'session_4/annotations/20240524_213504_SN29_QUICKVIEW_VISUAL_1_6_0_SATL-2KM-11N_378_3724.txt',\n",
       " 'session_4/annotations/20240423_190101_SN26_QUICKVIEW_VISUAL_1_5_0_SATL-2KM-11N_416_3862.txt',\n",
       " 'session_4/annotations/20240201_075140_SN26_QUICKVIEW_VISUAL_1_1_10_SATL-2KM-39N_562_2792.txt',\n",
       " 'session_4/annotations/20240609_191959_SN27_QUICKVIEW_VISUAL_1_7_0_SATL-2KM-11N_702_3540.txt',\n",
       " 'session_4/annotations/20240507_191326_SN27_QUICKVIEW_VISUAL_1_5_0_SATL-2KM-11N_718_3608.txt',\n",
       " 'session_4/annotations/20240321_190819_SN27_QUICKVIEW_VISUAL_1_2_0_SATL-2KM-11N_714_3632.txt']"
      ]
     },
     "execution_count": 41,
     "metadata": {},
     "output_type": "execute_result"
    }
   ],
   "source": [
    "# Check the format\n",
    "files = glob.glob('session_4/annotations/*.txt', recursive=True)\n",
    "files"
   ]
  },
  {
   "cell_type": "code",
   "execution_count": 44,
   "id": "58ae3135",
   "metadata": {},
   "outputs": [
    {
     "data": {
      "text/plain": [
       "['20240321',\n",
       " '190819',\n",
       " 'SN27',\n",
       " 'QUICKVIEW',\n",
       " 'VISUAL',\n",
       " '1',\n",
       " '2',\n",
       " '0',\n",
       " 'SATL-2KM-11N',\n",
       " '714',\n",
       " '3632.txt']"
      ]
     },
     "execution_count": 44,
     "metadata": {},
     "output_type": "execute_result"
    }
   ],
   "source": [
    "# I'm going to do it step by step, so first I need to see the different parts of a file\n",
    "import os\n",
    "\n",
    "for file in files:\n",
    "    file_format = os.path.basename(file) # here, we need to have only the format of the file, without all the path of each one\n",
    "    file_parts = file_format.split('_')\n",
    "\n",
    "file_parts\n"
   ]
  },
  {
   "cell_type": "code",
   "execution_count": 51,
   "id": "47507f4f",
   "metadata": {},
   "outputs": [
    {
     "data": {
      "text/plain": [
       "11"
      ]
     },
     "execution_count": 51,
     "metadata": {},
     "output_type": "execute_result"
    }
   ],
   "source": [
    "# Number of parts needed to have the same format\n",
    "len(file_parts)"
   ]
  },
  {
   "cell_type": "code",
   "execution_count": 55,
   "id": "117878a2",
   "metadata": {},
   "outputs": [
    {
     "name": "stdout",
     "output_type": "stream",
     "text": [
      "194 files follow the name convention and 12 do not.\n"
     ]
    }
   ],
   "source": [
    "# Now I am going to create each a check for each part, to finally achieve the number of files that do match the format\n",
    "\n",
    "same_format = 0\n",
    "different_format = 0\n",
    "\n",
    "for file in files:\n",
    "    file_format = os.path.basename(file) # here, we need to have only the format of the file, without all the path of each one\n",
    "    file_parts = file_format.split('_')\n",
    "\n",
    "    if len(file_parts) != 11:        # we check if the file has exactly 11 parts \n",
    "        different_format += 1\n",
    "        continue\n",
    "\n",
    "    # let's name each part of the file\n",
    "    date, time, sn, quickview, visual, version_part1, version_part2, version_part3, region_part1, region_part2, region_part3_txt = file_parts\n",
    "    \n",
    "    # check that each part matches the desired format\n",
    "    # used the following recommendation of chat: The isdigit() method in Python checks if all characters in a string are digits (0–9)\n",
    "    # if the string consists entirely of digits, it returns True; otherwise, it returns False. so:\n",
    "    if (len(date) == 8 and date.isdigit() and                \n",
    "        len(time) == 6 and time.isdigit() and               \n",
    "        sn.startswith(\"SN\") and sn[2:].isdigit() and         \n",
    "        quickview == \"QUICKVIEW\" and                        \n",
    "        visual == \"VISUAL\" and                              \n",
    "        version_part1.isdigit() and                         \n",
    "        version_part2.isdigit() and                        \n",
    "        version_part3.isdigit() and                         \n",
    "        region_part3_txt.endswith('.txt')):            \n",
    "        \n",
    "        same_format += 1\n",
    "    else:\n",
    "        different_format += 1\n",
    "\n",
    "print(f\"{same_format} files follow the name convention and {different_format} do not.\")"
   ]
  },
  {
   "cell_type": "markdown",
   "id": "16d33e34",
   "metadata": {},
   "source": [
    "3. How many of annotations you have per month and year. Which month has more annotation files."
   ]
  },
  {
   "cell_type": "code",
   "execution_count": 61,
   "id": "72fda11d",
   "metadata": {},
   "outputs": [
    {
     "name": "stdout",
     "output_type": "stream",
     "text": [
      "Annotations per month and year:\n",
      " In 01 of 2024 there are 27 files\n",
      " In 06 of 2024 there are 52 files\n",
      " In 04 of 2024 there are 37 files\n",
      " In 02 of 2024 there are 45 files\n",
      " In 03 of 2024 there are 17 files\n",
      " In 05 of 2024 there are 28 files\n",
      "The month with the most appearances is 06 of 2024 with 52 appearances.\n"
     ]
    }
   ],
   "source": [
    "list_year = []\n",
    "list_month = []\n",
    "annotations_per_month = {}\n",
    "\n",
    "for file in files:\n",
    "    file_format = os.path.basename(file) \n",
    "    file_parts = file_format.split('_')\n",
    "\n",
    "    # first, we separate each part of the date\n",
    "    year = file_parts[0][:4]\n",
    "    month = file_parts[0][4:6]\n",
    "    day = file_parts[0][:6]\n",
    "\n",
    "    # then, we create the necessary combination to check how many files have the same year and month\n",
    "    key = (year, month)\n",
    "\n",
    "    # now let's avoid repetitoins of key pairs\n",
    "    if key in annotations_per_month:\n",
    "        annotations_per_month[key] += 1\n",
    "    else:\n",
    "        annotations_per_month[key] = 1\n",
    "\n",
    "# let's count how many times each unique key pair exists\n",
    "print(\"Annotations per month and year:\")\n",
    "for (year, month), count in annotations_per_month.items():   \n",
    "    print(f\" In {month} of {year} there are {count} files\")\n",
    "\n",
    "# finally, let's check for the most repeated month\n",
    "most_repeated = 0\n",
    "most_repeated_month = None\n",
    "\n",
    "for key, count in annotations_per_month.items():\n",
    "    if count > most_repeated:\n",
    "        most_repeated = count\n",
    "        most_repeated_month = key\n",
    "\n",
    "print(f\"The month with the most appearances is {most_repeated_month[1]} of {most_repeated_month[0]} with {most_repeated} appearances.\")\n"
   ]
  },
  {
   "cell_type": "markdown",
   "id": "39b22453",
   "metadata": {},
   "source": [
    "4. Create a new annotations folder with multiple folders corresponding to a month."
   ]
  },
  {
   "cell_type": "code",
   "execution_count": 65,
   "id": "c5d8bb92",
   "metadata": {},
   "outputs": [],
   "source": [
    "import shutil as sh\n",
    "\n",
    "# create the output folder\n",
    "annotations_folder = 'session_4/annotations/'\n",
    "output_folder = 'session_4/organized_per_month/'\n",
    "if not os.path.exists(output_folder):\n",
    "    os.mkdir(output_folder)\n",
    "\n",
    "files = glob.glob('session_4/annotations/**/*.txt', recursive=True)\n",
    "\n",
    "# start the loop to check each file of the folder, to look again for it's month and year\n",
    "for file in files:\n",
    "    file_format = os.path.basename(file) # reminding to only keep the format needed not the whole path\n",
    "    year = file_format[:4]\n",
    "    month = file_format[4:6]\n",
    "    # and creating a folder for each unique year and month in the YYYY-MM format\n",
    "    month_folder = os.path.join(output_folder, f\"{year}-{month}\")\n",
    "    \n",
    "    # checking always if we already have create that folder\n",
    "    if not os.path.exists(month_folder):\n",
    "        os.mkdir(month_folder)\n",
    "    \n",
    "    # and moving the corresponding files to each sub-folder\n",
    "    sh.copy(file, month_folder)\n"
   ]
  },
  {
   "cell_type": "markdown",
   "id": "28ab2ddd",
   "metadata": {},
   "source": [
    "5. Print all the annotations from the most recent to the oldest one. "
   ]
  },
  {
   "cell_type": "code",
   "execution_count": 67,
   "id": "de151575",
   "metadata": {},
   "outputs": [
    {
     "name": "stdout",
     "output_type": "stream",
     "text": [
      "Files from the most recent to the oldest one:\n",
      "Date: 2024-06-23, File: session_4/annotations/20240623_193704_SN27_QUICKVIEW_VISUAL_1_7_0_SATL-2KM-11N_566_3734.txt\n",
      "Date: 2024-06-23, File: session_4/annotations/20240623_215120_SN29_QUICKVIEW_VISUAL_1_7_0_SATL-2KM-10N_596_4134.txt\n",
      "Date: 2024-06-23, File: session_4/annotations/20240623_215102_SN43_QUICKVIEW_VISUAL_1_7_0_SATL-2KM-11N_384_3750.txt\n",
      "Date: 2024-06-19, File: session_4/annotations/20240619_185757_SN24_QUICKVIEW_VISUAL_1_7_0_SATL-2KM-11N_528_3700.txt\n",
      "Date: 2024-06-19, File: session_4/annotations/20240619_052401_SN30_QUICKVIEW_VISUAL_1_7_0_SATL-2KM-52N_368_4336.txt\n",
      "Date: 2024-06-19, File: session_4/annotations/20240619_215556_SN29_QUICKVIEW_VISUAL_1_7_0_SATL-2KM-10N_742_4460.txt\n",
      "Date: 2024-06-18, File: session_4/annotations/20240618_215539_SN31_QUICKVIEW_VISUAL_1_7_0_SATL-2KM-11N_452_3740.txt\n",
      "Date: 2024-06-18, File: session_4/annotations/20240618_215539_SN31_QUICKVIEW_VISUAL_1_7_0_SATL-2KM-11N_458_3756.txt\n",
      "Date: 2024-06-18, File: session_4/annotations/20240618_193146_SN27_QUICKVIEW_VISUAL_1_7_0_SATL-2KM-11N_530_3682.txt\n",
      "Date: 2024-06-17, File: session_4/annotations/20240617_052859_SN29_QUICKVIEW_VISUAL_1_7_0_SATL-2KM-51N_730_4348.txt\n",
      "Date: 2024-06-17, File: session_4/annotations/20240617_211350_SN29_QUICKVIEW_VISUAL_1_7_0_SATL-2KM-11N_724_3614.txt\n",
      "Date: 2024-06-17, File: session_4/annotations/20240617_184443_SN24_QUICKVIEW_VISUAL_1_7_0_SATL-2KM-11N_702_3566.txt\n",
      "Date: 2024-06-16, File: session_4/annotations/20240616_213053_SN30_QUICKVIEW_VISUAL_1_7_0_SATL-2KM-11N_460_3792.txt\n",
      "Date: 2024-06-16, File: session_4/annotations/20240616_213047_SN30_QUICKVIEW_VISUAL_1_7_0_SATL-2KM-11N_464_3830.txt\n",
      "Date: 2024-06-16, File: session_4/annotations/20240616_102144_SN28_QUICKVIEW_VISUAL_1_7_0_SATL-2KM-39N_560_2792.txt\n",
      "Date: 2024-06-16, File: session_4/annotations/20240616_081345_SN27_QUICKVIEW_VISUAL_1_7_0_SATL-2KM-39N_562_2794.txt\n",
      "Date: 2024-06-16, File: session_4/annotations/20240616_102144_SN28_QUICKVIEW_VISUAL_1_7_0_SATL-2KM-39N_558_2794.txt\n",
      "Date: 2024-06-16, File: session_4/annotations/20240616_081345_SN27_QUICKVIEW_VISUAL_1_7_0_SATL-2KM-39N_562_2792.txt\n",
      "Date: 2024-06-16, File: session_4/annotations/20240616_213047_SN30_QUICKVIEW_VISUAL_1_7_0_SATL-2KM-11N_466_3828.txt\n",
      "Date: 2024-06-16, File: session_4/annotations/20240616_213047_SN30_QUICKVIEW_VISUAL_1_7_0_SATL-2KM-11N_466_3826.txt\n",
      "Date: 2024-06-16, File: session_4/annotations/20240616_102144_SN28_QUICKVIEW_VISUAL_1_7_0_SATL-2KM-39N_556_2794.txt\n",
      "Date: 2024-06-16, File: session_4/annotations/20240616_081345_SN27_QUICKVIEW_VISUAL_1_7_0_SATL-2KM-39N_560_2792.txt\n",
      "Date: 2024-06-16, File: session_4/annotations/20240616_213047_SN30_QUICKVIEW_VISUAL_1_7_0_SATL-2KM-11N_464_3828.txt\n",
      "Date: 2024-06-16, File: session_4/annotations/20240616_081345_SN27_QUICKVIEW_VISUAL_1_7_0_SATL-2KM-39N_560_2794.txt\n",
      "Date: 2024-06-15, File: session_4/annotations/20240615_173631_SN33_QUICKVIEW_VISUAL_1_7_0_SATL-2KM-11N_546_3742.txt\n",
      "Date: 2024-06-14, File: session_4/annotations/20240614_221436_SN31_QUICKVIEW_VISUAL_1_7_0_SATL-2KM-10N_558_4184.txt\n",
      "Date: 2024-06-13, File: session_4/annotations/20240613_214203_SN43_QUICKVIEW_VISUAL_1_7_0_SATL-2KM-11N_384_3750.txt\n",
      "Date: 2024-06-13, File: session_4/annotations/20240613_192217_SN26_QUICKVIEW_VISUAL_1_7_0_SATL-2KM-10N_560_4178.txt\n",
      "Date: 2024-06-13, File: session_4/annotations/20240613_053340_SN29_QUICKVIEW_VISUAL_1_7_0_SATL-2KM-51N_728_4342.txt\n",
      "Date: 2024-06-13, File: session_4/annotations/20240613_053340_SN29_QUICKVIEW_VISUAL_1_7_0_SATL-2KM-51N_730_4342.txt\n",
      "Date: 2024-06-12, File: session_4/annotations/20240612_185400_SN24_QUICKVIEW_VISUAL_1_7_0_SATL-2KM-11N_574_3714.txt\n",
      "Date: 2024-06-12, File: session_4/annotations/20240612_185400_SN24_QUICKVIEW_VISUAL_1_7_0_SATL-2KM-11N_576_3720.txt\n",
      "Date: 2024-06-12, File: session_4/annotations/20240612_053829_SN28_QUICKVIEW_VISUAL_1_7_0_SATL-2KM-51N_686_4422.txt\n",
      "Date: 2024-06-12, File: session_4/annotations/20240612_185419_SN24_QUICKVIEW_VISUAL_1_7_0_SATL-2KM-11N_554_3610.txt\n",
      "Date: 2024-06-12, File: session_4/annotations/20240612_053829_SN28_QUICKVIEW_VISUAL_1_7_0_SATL-2KM-51N_688_4420.txt\n",
      "Date: 2024-06-12, File: session_4/annotations/20240612_185400_SN24_QUICKVIEW_VISUAL_1_7_0_SATL-2KM-11N_578_3722.txt\n",
      "Date: 2024-06-11, File: session_4/annotations/20240611_025943_SN26_QUICKVIEW_VISUAL_1_7_0_SATL-2KM-51N_748_4366.txt\n",
      "Date: 2024-06-11, File: session_4/annotations/20240611_025943_SN26_QUICKVIEW_VISUAL_1_7_0_SATL-2KM-51N_748_4364.txt\n",
      "Date: 2024-06-11, File: session_4/annotations/20240611_215323_SN30_QUICKVIEW_VISUAL_1_7_0_SATL-2KM-10N_702_3948.txt\n",
      "Date: 2024-06-10, File: session_4/annotations/20240610_191018_SN26_QUICKVIEW_VISUAL_1_7_0_SATL-2KM-11N_384_3750.txt\n",
      "Date: 2024-06-09, File: session_4/annotations/20240609_214259_SN30_QUICKVIEW_VISUAL_1_7_0_SATL-2KM-11N_262_4052.txt\n",
      "Date: 2024-06-09, File: session_4/annotations/20240609_191744_SN24_QUICKVIEW_VISUAL_1_7_0_SATL-2KM-10N_564_4194.txt\n",
      "Date: 2024-06-09, File: session_4/annotations/20240609_191959_SN27_QUICKVIEW_VISUAL_1_7_0_SATL-2KM-11N_702_3540.txt\n",
      "Date: 2024-06-08, File: session_4/annotations/20240608_214614_SN29_QUICKVIEW_VISUAL_1_7_0_SATL-2KM-11N_248_4068.txt\n",
      "Date: 2024-06-07, File: session_4/annotations/20240607_200250_SN27_QUICKVIEW_VISUAL_1_7_0_SATL-2KM-10N_554_4172.txt\n",
      "Date: 2024-06-06, File: session_4/annotations/20240606_180251_SN33_QUICKVIEW_VISUAL_1_7_0_SATL-2KM-10N_556_4180.txt\n",
      "Date: 2024-06-05, File: session_4/annotations/20240605_212717_SN29_QUICKVIEW_VISUAL_1_7_0_SATL-2KM-11N_718_3608.txt\n",
      "Date: 2024-06-04, File: session_4/annotations/20240604_214955_SN29_QUICKVIEW_VISUAL_1_7_0_SATL-2KM-10N_594_4136.txt\n",
      "Date: 2024-06-03, File: session_4/annotations/20240603_215226_SN28_QUICKVIEW_VISUAL_1_6_0_SATL-2KM-11N_248_4068.txt\n",
      "Date: 2024-06-03, File: session_4/annotations/20240603_215348_SN28_QUICKVIEW_VISUAL_1_6_0_SATL-2KM-11N_346_3786.txt\n",
      "Date: 2024-06-02, File: session_4/annotations/20240602_215203_SN30_QUICKVIEW_VISUAL_1_6_0_SATL-2KM-10N_714_3948.txt\n",
      "Date: 2024-06-02, File: session_4/annotations/20240602_215203_SN30_QUICKVIEW_VISUAL_1_6_0_SATL-2KM-10N_712_3948.txt\n",
      "Date: 2024-05-28, File: session_4/annotations/20240528_191448_SN24_QUICKVIEW_VISUAL_1_6_0_SATL-2KM-11N_248_4068.txt\n",
      "Date: 2024-05-28, File: session_4/annotations/20240528_191604_SN24_QUICKVIEW_VISUAL_1_6_0_SATL-2KM-11N_344_3836.txt\n",
      "Date: 2024-05-24, File: session_4/annotations/20240524_213504_SN29_QUICKVIEW_VISUAL_1_6_0_SATL-2KM-11N_380_3724.txt\n",
      "Date: 2024-05-24, File: session_4/annotations/20240524_213504_SN29_QUICKVIEW_VISUAL_1_6_0_SATL-2KM-11N_378_3724.txt\n",
      "Date: 2024-05-21, File: session_4/annotations/20240521_052621_SN43_QUICKVIEW_VISUAL_1_6_0_SATL-2KM-51N_730_4342.txt\n",
      "Date: 2024-05-21, File: session_4/annotations/20240521_101252_SN43_QUICKVIEW_VISUAL_1_6_0_SATL-2KM-39N_556_2792.txt\n",
      "Date: 2024-05-21, File: session_4/annotations/20240521_101252_SN43_QUICKVIEW_VISUAL_1_6_0_SATL-2KM-39N_558_2796.txt\n",
      "Date: 2024-05-20, File: session_4/annotations/20240520_194539_SN27_QUICKVIEW_VISUAL_1_5_0_SATL-2KM-10N_638_4280.txt\n",
      "Date: 2024-05-20, File: session_4/annotations/20240520_194539_SN27_QUICKVIEW_VISUAL_1_5_0_SATL-2KM-10N_638_4282.txt\n",
      "Date: 2024-05-19, File: session_4/annotations/20240519_191838_SN27_QUICKVIEW_VISUAL_1_5_0_SATL-2KM-11N_718_3608.txt\n",
      "Date: 2024-05-19, File: session_4/annotations/20240519_184534_SN24_QUICKVIEW_VISUAL_1_5_0_SATL-2KM-11N_658_3700.txt\n",
      "Date: 2024-05-19, File: session_4/annotations/20240519_214917_SN31_QUICKVIEW_VISUAL_1_5_0_SATL-2KM-11N_500_3600.txt\n",
      "Date: 2024-05-19, File: session_4/annotations/20240519_214917_SN31_QUICKVIEW_VISUAL_1_5_0_SATL-2KM-11N_500_3602.txt\n",
      "Date: 2024-05-19, File: session_4/annotations/20240519_214917_SN31_QUICKVIEW_VISUAL_1_5_0_SATL-2KM-11N_500_3598.txt\n",
      "Date: 2024-05-16, File: session_4/annotations/20240516_211630_SN28_QUICKVIEW_VISUAL_1_5_0_SATL-2KM-11N_716_3848.txt\n",
      "Date: 2024-05-16, File: session_4/annotations/20240516_190328_SN24_QUICKVIEW_VISUAL_1_5_0_SATL-2KM-11N_262_4052.txt\n",
      "Date: 2024-05-14, File: session_4/annotations/20240514_052716_SN43_QUICKVIEW_VISUAL_1_5_0_SATL-2KM-51N_730_4342.txt\n",
      "Date: 2024-05-13, File: session_4/annotations/20240513_212022_SN29_QUICKVIEW_VISUAL_1_5_0_SATL-2KM-11N_630_3742.txt\n",
      "Date: 2024-05-10, File: session_4/annotations/20240510_191914_SN27_QUICKVIEW_VISUAL_1_5_0_SATL-2KM-11N_712_3566.txt\n",
      "Date: 2024-05-10, File: session_4/annotations/20240510_191908_SN27_QUICKVIEW_VISUAL_1_5_0_SATL-2KM-11N_718_3608.txt\n",
      "Date: 2024-05-09, File: session_4/annotations/20240509_193206_SN26_QUICKVIEW_VISUAL_1_5_0_SATL-2KM-10N_562_4196.txt\n",
      "Date: 2024-05-09, File: session_4/annotations/20240509_212336_SN29_QUICKVIEW_VISUAL_1_5_0_SATL-2KM-11N_706_3778.txt\n",
      "Date: 2024-05-08, File: session_4/annotations/20240508_194502_SN27_QUICKVIEW_VISUAL_1_5_0_SATL-2KM-11N_264_4022.txt\n",
      "Date: 2024-05-08, File: session_4/annotations/20240508_194502_SN27_QUICKVIEW_VISUAL_1_5_0_SATL-2KM-11N_262_4022.txt\n",
      "Date: 2024-05-07, File: session_4/annotations/20240507_191326_SN27_QUICKVIEW_VISUAL_1_5_0_SATL-2KM-11N_718_3608.txt\n",
      "Date: 2024-05-06, File: session_4/annotations/20240506_192008_SN26_QUICKVIEW_VISUAL_1_5_0_SATL-2KM-10N_562_4178.txt\n",
      "Date: 2024-05-06, File: session_4/annotations/20240506_213507_SN43_QUICKVIEW_VISUAL_1_5_0_SATL-2KM-11N_384_3750.txt\n",
      "Date: 2024-05-03, File: session_4/annotations/20240503_214759_SN28_QUICKVIEW_VISUAL_1_5_0_SATL-2KM-11N_376_3724.txt\n",
      "Date: 2024-04-28, File: session_4/annotations/20240428_215426_SN43_QUICKVIEW_VISUAL_1_5_0_SATL-2KM-10N_630_4264.txt\n",
      "Date: 2024-04-28, File: session_4/annotations/20240428_215426_SN43_QUICKVIEW_VISUAL_1_5_0_SATL-2KM-10N_630_4262.txt\n",
      "Date: 2024-04-28, File: session_4/annotations/20240428_215426_SN43_QUICKVIEW_VISUAL_1_5_0_SATL-2KM-10N_634_4282.txt\n",
      "Date: 2024-04-28, File: session_4/annotations/20240428_215557_SN43_QUICKVIEW_VISUAL_1_5_0_SATL-2KM-10N_726_3862.txt\n",
      "Date: 2024-04-28, File: session_4/annotations/20240428_191026_SN24_QUICKVIEW_VISUAL_1_5_0_SATL-2KM-11N_380_3722.txt\n",
      "Date: 2024-04-27, File: session_4/annotations/20240427_221308_SN31_QUICKVIEW_VISUAL_1_5_0_SATL-2KM-10N_722_3848.txt\n",
      "Date: 2024-04-26, File: session_4/annotations/20240426_215224_SN29_QUICKVIEW_VISUAL_1_5_0_SATL-2KM-11N_244_3818.txt\n",
      "Date: 2024-04-23, File: session_4/annotations/20240423_190101_SN26_QUICKVIEW_VISUAL_1_5_0_SATL-2KM-11N_418_3872.txt\n",
      "Date: 2024-04-23, File: session_4/annotations/20240423_190101_SN26_QUICKVIEW_VISUAL_1_5_0_SATL-2KM-11N_418_3864.txt\n",
      "Date: 2024-04-23, File: session_4/annotations/20240423_190101_SN26_QUICKVIEW_VISUAL_1_5_0_SATL-2KM-11N_418_3860.txt\n",
      "Date: 2024-04-23, File: session_4/annotations/20240423_190101_SN26_QUICKVIEW_VISUAL_1_5_0_SATL-2KM-11N_418_3862.txt\n",
      "Date: 2024-04-23, File: session_4/annotations/20240423_190101_SN26_QUICKVIEW_VISUAL_1_5_0_SATL-2KM-11N_414_3862.txt\n",
      "Date: 2024-04-23, File: session_4/annotations/20240423_190101_SN26_QUICKVIEW_VISUAL_1_5_0_SATL-2KM-11N_416_3864.txt\n",
      "Date: 2024-04-23, File: session_4/annotations/20240423_190101_SN26_QUICKVIEW_VISUAL_1_5_0_SATL-2KM-11N_416_3862.txt\n",
      "Date: 2024-04-20, File: session_4/annotations/20240420_181053_341939_MS_NS33_QUICKVIEW_VISUAL_1_3_0_SATL-2KM-10N_556_4180.txt\n",
      "Date: 2024-04-18, File: session_4/annotations/20240418_213446_163074_MS_NS28_QUICKVIEW_VISUAL_1_3_0_SATL-2KM-11N_388_3748.txt\n",
      "Date: 2024-04-17, File: session_4/annotations/20240417_215406_715231_MS_NS43_QUICKVIEW_VISUAL_1_3_0_SATL-2KM-10N_740_4446.txt\n",
      "Date: 2024-04-12, File: session_4/annotations/20240412_191539_631044_MS_NS24_QUICKVIEW_VISUAL_1_3_0_SATL-2KM-11N_258_4036.txt\n",
      "Date: 2024-04-12, File: session_4/annotations/20240412_191539_377035_MS_NS24_QUICKVIEW_VISUAL_1_3_0_SATL-2KM-11N_258_4038.txt\n",
      "Date: 2024-04-12, File: session_4/annotations/20240412_191549_672087_MS_NS24_QUICKVIEW_VISUAL_1_3_0_SATL-2KM-11N_240_3966.txt\n",
      "Date: 2024-04-12, File: session_4/annotations/20240412_052750_556466_MS_NS29_QUICKVIEW_VISUAL_1_3_0_SATL-2KM-51N_688_4420.txt\n",
      "Date: 2024-04-10, File: session_4/annotations/20240410_214321_024179_MS_NS30_QUICKVIEW_VISUAL_1_3_0_SATL-2KM-11N_296_3786.txt\n",
      "Date: 2024-04-10, File: session_4/annotations/20240410_214305_399233_MS_NS43_QUICKVIEW_VISUAL_1_3_0_SATL-2KM-11N_380_3764.txt\n",
      "Date: 2024-04-08, File: session_4/annotations/20240408_211552_958249_MS_NS29_QUICKVIEW_VISUAL_1_3_0_SATL-2KM-11N_734_3742.txt\n",
      "Date: 2024-04-07, File: session_4/annotations/20240407_190149_742846_MS_NS24_QUICKVIEW_VISUAL_1_3_0_SATL-2KM-11N_258_4028.txt\n",
      "Date: 2024-04-05, File: session_4/annotations/20240405_183824_409694_MS_NS24_QUICKVIEW_VISUAL_1_3_0_SATL-2KM-11N_736_3716.txt\n",
      "Date: 2024-04-02, File: session_4/annotations/20240402_184757_SN24_QUICKVIEW_VISUAL_1_2_0_SATL-2KM-11N_488_3638.txt\n",
      "Date: 2024-04-02, File: session_4/annotations/20240402_184757_SN24_QUICKVIEW_VISUAL_1_2_0_SATL-2KM-11N_486_3630.txt\n",
      "Date: 2024-04-02, File: session_4/annotations/20240402_184757_SN24_QUICKVIEW_VISUAL_1_2_0_SATL-2KM-11N_486_3636.txt\n",
      "Date: 2024-04-02, File: session_4/annotations/20240402_215427_SN31_QUICKVIEW_VISUAL_1_2_0_SATL-2KM-11N_502_3600.txt\n",
      "Date: 2024-04-02, File: session_4/annotations/20240402_184757_SN24_QUICKVIEW_VISUAL_1_2_0_SATL-2KM-11N_490_3638.txt\n",
      "Date: 2024-04-02, File: session_4/annotations/20240402_215421_SN31_QUICKVIEW_VISUAL_1_2_0_SATL-2KM-11N_500_3632.txt\n",
      "Date: 2024-04-01, File: session_4/annotations/20240401_221819_SN31_QUICKVIEW_VISUAL_1_2_0_SATL-2KM-10N_602_4148.txt\n",
      "Date: 2024-04-01, File: session_4/annotations/20240401_032415_SN27_QUICKVIEW_VISUAL_1_2_0_SATL-2KM-51N_688_4420.txt\n",
      "Date: 2024-04-01, File: session_4/annotations/20240401_175918_SN33_QUICKVIEW_VISUAL_1_2_0_SATL-2KM-10N_542_4168.txt\n",
      "Date: 2024-04-01, File: session_4/annotations/20240401_175918_SN33_QUICKVIEW_VISUAL_1_2_0_SATL-2KM-10N_546_4206.txt\n",
      "Date: 2024-04-01, File: session_4/annotations/20240401_175925_SN33_QUICKVIEW_VISUAL_1_2_0_SATL-2KM-10N_542_4168.txt\n",
      "Date: 2024-03-25, File: session_4/annotations/20240325_173936_SN33_QUICKVIEW_VISUAL_1_2_0_SATL-2KM-11N_378_3722.txt\n",
      "Date: 2024-03-24, File: session_4/annotations/20240324_180232_SN33_QUICKVIEW_VISUAL_1_2_0_SATL-2KM-10N_554_4172.txt\n",
      "Date: 2024-03-22, File: session_4/annotations/20240322_212516_SN28_QUICKVIEW_VISUAL_1_2_0_SATL-2KM-11N_502_3600.txt\n",
      "Date: 2024-03-22, File: session_4/annotations/20240322_184801_SN24_QUICKVIEW_VISUAL_1_2_0_SATL-2KM-11N_500_3632.txt\n",
      "Date: 2024-03-22, File: session_4/annotations/20240322_184801_SN24_QUICKVIEW_VISUAL_1_2_0_SATL-2KM-11N_502_3632.txt\n",
      "Date: 2024-03-21, File: session_4/annotations/20240321_220846_SN31_QUICKVIEW_VISUAL_1_2_0_SATL-2KM-10N_560_4178.txt\n",
      "Date: 2024-03-21, File: session_4/annotations/20240321_190819_SN27_QUICKVIEW_VISUAL_1_2_0_SATL-2KM-11N_714_3632.txt\n",
      "Date: 2024-03-17, File: session_4/annotations/20240317_221229_SN31_QUICKVIEW_VISUAL_1_2_0_SATL-2KM-10N_556_4176.txt\n",
      "Date: 2024-03-17, File: session_4/annotations/20240317_215115_SN28_QUICKVIEW_VISUAL_1_2_0_SATL-2KM-10N_554_4162.txt\n",
      "Date: 2024-03-17, File: session_4/annotations/20240317_215115_SN28_QUICKVIEW_VISUAL_1_2_0_SATL-2KM-10N_552_4162.txt\n",
      "Date: 2024-03-17, File: session_4/annotations/20240317_215115_SN28_QUICKVIEW_VISUAL_1_2_0_SATL-2KM-10N_552_4164.txt\n",
      "Date: 2024-03-16, File: session_4/annotations/20240316_191451_SN26_QUICKVIEW_VISUAL_1_2_0_SATL-2KM-11N_380_3764.txt\n",
      "Date: 2024-03-14, File: session_4/annotations/20240314_220020_SN30_QUICKVIEW_VISUAL_1_2_0_SATL-2KM-10N_544_4186.txt\n",
      "Date: 2024-03-14, File: session_4/annotations/20240314_220020_SN30_QUICKVIEW_VISUAL_1_2_0_SATL-2KM-10N_550_4202.txt\n",
      "Date: 2024-03-08, File: session_4/annotations/20240308_211248_SN29_QUICKVIEW_VISUAL_1_2_0_SATL-2KM-11N_718_3640.txt\n",
      "Date: 2024-03-08, File: session_4/annotations/20240308_191212_SN27_QUICKVIEW_VISUAL_1_2_0_SATL-2KM-11N_506_3614.txt\n",
      "Date: 2024-03-04, File: session_4/annotations/20240304_212824_SN30_QUICKVIEW_VISUAL_1_2_0_SATL-2KM-11N_378_3722.txt\n",
      "Date: 2024-02-28, File: session_4/annotations/20240228_213951_SN29_QUICKVIEW_VISUAL_1_1_10_SATL-2KM-11N_248_4068.txt\n",
      "Date: 2024-02-27, File: session_4/annotations/20240227_214218_SN30_QUICKVIEW_VISUAL_1_1_10_SATL-2KM-10N_562_4170.txt\n",
      "Date: 2024-02-24, File: session_4/annotations/20240224_214855_SN30_QUICKVIEW_VISUAL_1_1_10_SATL-2KM-10N_552_4162.txt\n",
      "Date: 2024-02-24, File: session_4/annotations/20240224_214855_SN30_QUICKVIEW_VISUAL_1_1_10_SATL-2KM-10N_554_4162.txt\n",
      "Date: 2024-02-23, File: session_4/annotations/20240223_025420_SN24_QUICKVIEW_VISUAL_1_1_10_SATL-2KM-51N_686_4422.txt\n",
      "Date: 2024-02-22, File: session_4/annotations/20240222_074151_SN26_QUICKVIEW_VISUAL_1_1_10_SATL-2KM-39N_560_2794.txt\n",
      "Date: 2024-02-22, File: session_4/annotations/20240222_074155_SN26_QUICKVIEW_VISUAL_1_1_10_SATL-2KM-39N_556_2794.txt\n",
      "Date: 2024-02-22, File: session_4/annotations/20240222_074155_SN26_QUICKVIEW_VISUAL_1_1_10_SATL-2KM-39N_562_2794.txt\n",
      "Date: 2024-02-22, File: session_4/annotations/20240222_074151_SN26_QUICKVIEW_VISUAL_1_1_10_SATL-2KM-39N_560_2796.txt\n",
      "Date: 2024-02-22, File: session_4/annotations/20240222_074256_SN26_QUICKVIEW_VISUAL_1_1_10_SATL-2KM-39N_564_2790.txt\n",
      "Date: 2024-02-22, File: session_4/annotations/20240222_074155_SN26_QUICKVIEW_VISUAL_1_1_10_SATL-2KM-39N_556_2792.txt\n",
      "Date: 2024-02-22, File: session_4/annotations/20240222_074155_SN26_QUICKVIEW_VISUAL_1_1_10_SATL-2KM-39N_562_2792.txt\n",
      "Date: 2024-02-22, File: session_4/annotations/20240222_074151_SN26_QUICKVIEW_VISUAL_1_1_10_SATL-2KM-39N_558_2796.txt\n",
      "Date: 2024-02-22, File: session_4/annotations/20240222_074155_SN26_QUICKVIEW_VISUAL_1_1_10_SATL-2KM-39N_560_2792.txt\n",
      "Date: 2024-02-22, File: session_4/annotations/20240222_212250_SN30_QUICKVIEW_VISUAL_1_1_10_SATL-2KM-11N_382_3722.txt\n",
      "Date: 2024-02-22, File: session_4/annotations/20240222_074151_SN26_QUICKVIEW_VISUAL_1_1_10_SATL-2KM-39N_556_2794.txt\n",
      "Date: 2024-02-22, File: session_4/annotations/20240222_074151_SN26_QUICKVIEW_VISUAL_1_1_10_SATL-2KM-39N_562_2794.txt\n",
      "Date: 2024-02-22, File: session_4/annotations/20240222_074155_SN26_QUICKVIEW_VISUAL_1_1_10_SATL-2KM-39N_558_2794.txt\n",
      "Date: 2024-02-21, File: session_4/annotations/20240221_190608_SN26_QUICKVIEW_VISUAL_1_1_10_SATL-2KM-11N_380_3764.txt\n",
      "Date: 2024-02-20, File: session_4/annotations/20240220_190455_SN27_QUICKVIEW_VISUAL_1_1_10_SATL-2KM-11N_718_3608.txt\n",
      "Date: 2024-02-19, File: session_4/annotations/20240219_214312_SN28_QUICKVIEW_VISUAL_1_1_10_SATL-2KM-11N_252_3954.txt\n",
      "Date: 2024-02-18, File: session_4/annotations/20240218_180121_SN33_QUICKVIEW_VISUAL_1_1_10_SATL-2KM-10N_568_4176.txt\n",
      "Date: 2024-02-16, File: session_4/annotations/20240216_213630_SN31_QUICKVIEW_VISUAL_1_1_10_SATL-2KM-11N_418_3724.txt\n",
      "Date: 2024-02-14, File: session_4/annotations/20240214_184340_SN24_QUICKVIEW_VISUAL_1_1_10_SATL-2KM-11N_688_3630.txt\n",
      "Date: 2024-02-13, File: session_4/annotations/20240213_212524_SN29_QUICKVIEW_VISUAL_1_1_10_SATL-2KM-11N_542_3750.txt\n",
      "Date: 2024-02-13, File: session_4/annotations/20240213_212524_SN29_QUICKVIEW_VISUAL_1_1_10_SATL-2KM-11N_544_3742.txt\n",
      "Date: 2024-02-13, File: session_4/annotations/20240213_212524_SN29_QUICKVIEW_VISUAL_1_1_10_SATL-2KM-11N_540_3748.txt\n",
      "Date: 2024-02-12, File: session_4/annotations/20240212_213506_SN31_QUICKVIEW_VISUAL_1_1_10_SATL-2KM-11N_408_3712.txt\n",
      "Date: 2024-02-11, File: session_4/annotations/20240211_211057_SN30_QUICKVIEW_VISUAL_1_1_10_SATL-2KM-11N_700_3690.txt\n",
      "Date: 2024-02-09, File: session_4/annotations/20240209_212744_SN29_QUICKVIEW_VISUAL_1_1_10_SATL-2KM-11N_380_3722.txt\n",
      "Date: 2024-02-08, File: session_4/annotations/20240208_184650_SN24_QUICKVIEW_VISUAL_1_1_10_SATL-2KM-11N_624_3632.txt\n",
      "Date: 2024-02-03, File: session_4/annotations/20240203_173953_SN33_QUICKVIEW_VISUAL_1_1_10_SATL-2KM-11N_368_3756.txt\n",
      "Date: 2024-02-03, File: session_4/annotations/20240203_173953_SN33_QUICKVIEW_VISUAL_1_1_10_SATL-2KM-11N_366_3756.txt\n",
      "Date: 2024-02-02, File: session_4/annotations/20240202_191114_SN27_QUICKVIEW_VISUAL_1_1_10_SATL-2KM-11N_718_3608.txt\n",
      "Date: 2024-02-02, File: session_4/annotations/20240202_184725_SN24_QUICKVIEW_VISUAL_1_1_10_SATL-2KM-11N_624_3630.txt\n",
      "Date: 2024-02-01, File: session_4/annotations/20240201_075140_SN26_QUICKVIEW_VISUAL_1_1_10_SATL-2KM-39N_558_2794.txt\n",
      "Date: 2024-02-01, File: session_4/annotations/20240201_075143_SN26_QUICKVIEW_VISUAL_1_1_10_SATL-2KM-39N_556_2792.txt\n",
      "Date: 2024-02-01, File: session_4/annotations/20240201_075140_SN26_QUICKVIEW_VISUAL_1_1_10_SATL-2KM-39N_560_2792.txt\n",
      "Date: 2024-02-01, File: session_4/annotations/20240201_075140_SN26_QUICKVIEW_VISUAL_1_1_10_SATL-2KM-39N_560_2794.txt\n",
      "Date: 2024-02-01, File: session_4/annotations/20240201_075140_SN26_QUICKVIEW_VISUAL_1_1_10_SATL-2KM-39N_560_2796.txt\n",
      "Date: 2024-02-01, File: session_4/annotations/20240201_075140_SN26_QUICKVIEW_VISUAL_1_1_10_SATL-2KM-39N_556_2794.txt\n",
      "Date: 2024-02-01, File: session_4/annotations/20240201_075140_SN26_QUICKVIEW_VISUAL_1_1_10_SATL-2KM-39N_562_2794.txt\n",
      "Date: 2024-02-01, File: session_4/annotations/20240201_075143_SN26_QUICKVIEW_VISUAL_1_1_10_SATL-2KM-39N_562_2788.txt\n",
      "Date: 2024-02-01, File: session_4/annotations/20240201_075140_SN26_QUICKVIEW_VISUAL_1_1_10_SATL-2KM-39N_556_2792.txt\n",
      "Date: 2024-02-01, File: session_4/annotations/20240201_075140_SN26_QUICKVIEW_VISUAL_1_1_10_SATL-2KM-39N_562_2792.txt\n",
      "Date: 2024-01-30, File: session_4/annotations/20240130_173903_SN33_QUICKVIEW_VISUAL_1_1_10_SATL-2KM-11N_366_3756.txt\n",
      "Date: 2024-01-30, File: session_4/annotations/20240130_215036_SN31_QUICKVIEW_VISUAL_1_1_10_SATL-2KM-11N_366_3756.txt\n",
      "Date: 2024-01-30, File: session_4/annotations/20240130_173903_SN33_QUICKVIEW_VISUAL_1_1_10_SATL-2KM-11N_360_3748.txt\n",
      "Date: 2024-01-30, File: session_4/annotations/20240130_173903_SN33_QUICKVIEW_VISUAL_1_1_10_SATL-2KM-11N_364_3754.txt\n",
      "Date: 2024-01-28, File: session_4/annotations/20240128_213258_SN29_QUICKVIEW_VISUAL_1_1_10_SATL-2KM-11N_418_3864.txt\n",
      "Date: 2024-01-28, File: session_4/annotations/20240128_213258_SN29_QUICKVIEW_VISUAL_1_1_10_SATL-2KM-11N_418_3862.txt\n",
      "Date: 2024-01-27, File: session_4/annotations/20240127_190620_SN27_QUICKVIEW_VISUAL_1_1_10_SATL-2KM-11N_500_3600.txt\n",
      "Date: 2024-01-27, File: session_4/annotations/20240127_190620_SN27_QUICKVIEW_VISUAL_1_1_10_SATL-2KM-11N_500_3602.txt\n",
      "Date: 2024-01-27, File: session_4/annotations/20240127_190620_SN27_QUICKVIEW_VISUAL_1_1_10_SATL-2KM-11N_502_3602.txt\n",
      "Date: 2024-01-27, File: session_4/annotations/20240127_190620_SN27_QUICKVIEW_VISUAL_1_1_10_SATL-2KM-11N_502_3600.txt\n",
      "Date: 2024-01-26, File: session_4/annotations/20240126_173752_SN33_QUICKVIEW_VISUAL_1_1_10_SATL-2KM-11N_386_3722.txt\n",
      "Date: 2024-01-15, File: session_4/annotations/20240115_213834_SN28_QUICKVIEW_VISUAL_1_1_10_SATL-2KM-11N_376_3722.txt\n",
      "Date: 2024-01-15, File: session_4/annotations/20240115_213834_SN28_QUICKVIEW_VISUAL_1_1_10_SATL-2KM-11N_380_3724.txt\n",
      "Date: 2024-01-12, File: session_4/annotations/20240112_192510_SN27_QUICKVIEW_VISUAL_1_1_10_SATL-2KM-11N_386_3750.txt\n",
      "Date: 2024-01-10, File: session_4/annotations/20240110_192002_SN27_QUICKVIEW_VISUAL_1_1_10_SATL-2KM-11N_380_3728.txt\n",
      "Date: 2024-01-04, File: session_4/annotations/20240104_220339_SN31_QUICKVIEW_VISUAL_1_1_10_SATL-2KM-10N_556_4178.txt\n",
      "Date: 2024-01-02, File: session_4/annotations/20240102_185527_SN27_QUICKVIEW_VISUAL_1_1_10_SATL-2KM-11N_740_3850.txt\n",
      "Date: 2024-01-02, File: session_4/annotations/20240102_185954_SN24_QUICKVIEW_VISUAL_1_1_10_SATL-2KM-11N_414_3786.txt\n",
      "Date: 2024-01-02, File: session_4/annotations/20240102_185605_SN27_QUICKVIEW_VISUAL_1_1_10_SATL-2KM-11N_690_3572.txt\n",
      "Date: 2024-01-01, File: session_4/annotations/20240101_174301_SN33_QUICKVIEW_VISUAL_1_1_10_SATL-2KM-11N_404_3770.txt\n",
      "Date: 2024-01-01, File: session_4/annotations/20240101_192856_SN24_QUICKVIEW_VISUAL_1_1_10_SATL-2KM-10N_552_4164.txt\n",
      "Date: 2024-01-01, File: session_4/annotations/20240101_174301_SN33_QUICKVIEW_VISUAL_1_1_10_SATL-2KM-11N_404_3772.txt\n",
      "Date: 2024-01-01, File: session_4/annotations/20240101_192856_SN24_QUICKVIEW_VISUAL_1_1_10_SATL-2KM-10N_552_4162.txt\n",
      "Date: 2024-01-01, File: session_4/annotations/20240101_192856_SN24_QUICKVIEW_VISUAL_1_1_10_SATL-2KM-10N_554_4162.txt\n",
      "Date: 2024-01-01, File: session_4/annotations/20240101_213601_SN31_QUICKVIEW_VISUAL_1_1_10_SATL-2KM-11N_392_3740.txt\n",
      "Date: 2024-01-01, File: session_4/annotations/20240101_213601_SN31_QUICKVIEW_VISUAL_1_1_10_SATL-2KM-11N_392_3742.txt\n",
      "Date: 2024-01-01, File: session_4/annotations/20240101_213601_SN31_QUICKVIEW_VISUAL_1_1_10_SATL-2KM-11N_396_3752.txt\n"
     ]
    }
   ],
   "source": [
    "# let's do a similar first steps as in the 3rd exercice\n",
    "dates = []\n",
    "\n",
    "for file in files:\n",
    "    file_format = os.path.basename(file)\n",
    "    year = file_format[:4]\n",
    "    month = file_format[4:6]\n",
    "    day = file_format[6:8]\n",
    "    date = (year, month, day)   # establish the order\n",
    "    dates.append((date, file))\n",
    "\n",
    "# let's sort by date\n",
    "dates.sort(reverse=True, key=lambda x: x[0])\n",
    "\n",
    "# and print the results\n",
    "print(\"Files from the most recent to the oldest one:\")\n",
    "for date, file in dates:\n",
    "    year, month, day = date\n",
    "    print(f\"Date: {year}-{month}-{day}, File: {file}\")"
   ]
  },
  {
   "cell_type": "markdown",
   "id": "8eba20a1",
   "metadata": {},
   "source": [
    "6. How many different satellites there are, how many annotations we have per satellite number, and which one was used in the most recent annotation file. "
   ]
  },
  {
   "cell_type": "code",
   "execution_count": 70,
   "id": "c77a64fb",
   "metadata": {},
   "outputs": [
    {
     "name": "stdout",
     "output_type": "stream",
     "text": [
      "There are 21 different satellites.\n",
      "Annotations per satellite:\n",
      "For satellite 27 there are 29 appearances\n",
      "For satellite 24 there are 26 appearances\n",
      "For satellite 26 there are 37 appearances\n",
      "For satellite 33 there are 16 appearances\n",
      "For satellite 29 there are 22 appearances\n",
      "For satellite 28 there are 16 appearances\n",
      "For satellite 31 there are 19 appearances\n",
      "For satellite 30 there are 18 appearances\n",
      "For satellite 9694 there are 1 appearances\n",
      "For satellite 3074 there are 1 appearances\n",
      "For satellite 5231 there are 1 appearances\n",
      "For satellite 43 there are 11 appearances\n",
      "For satellite 1044 there are 1 appearances\n",
      "For satellite 4179 there are 1 appearances\n",
      "For satellite 9233 there are 1 appearances\n",
      "For satellite 8249 there are 1 appearances\n",
      "For satellite 7035 there are 1 appearances\n",
      "For satellite 2087 there are 1 appearances\n",
      "For satellite 2846 there are 1 appearances\n",
      "For satellite 1939 there are 1 appearances\n",
      "For satellite 6466 there are 1 appearances\n",
      "The most recent annotation file used satellite 27.\n"
     ]
    }
   ],
   "source": [
    "# similar to 3, we will now create a dictionary to count the numbers of different satellite there are\n",
    "annotations_per_satellite = {}\n",
    "\n",
    "# list for later to be able to sort the most recent anotation file\n",
    "satellite_dates_files = []\n",
    "\n",
    "# same process as before, but now we will include the extraction of the satellite number\n",
    "for file in files:\n",
    "    file_format = os.path.basename(file)\n",
    "    year = file_format[:4]\n",
    "    month = file_format[4:6]\n",
    "    day = file_format[6:8]\n",
    "    \n",
    "    # remember, format \"SN{SATELLITE_NUMBER}\"\n",
    "    # so now, we extract the number (first, separate the sn from the numbers, and then eliminate the non numerical part)\n",
    "    satellite_letter = file_format.split('_')[2]  \n",
    "    satellite_number = satellite_letter[2:]   \n",
    "    \n",
    "    # add it to the list created before\n",
    "    date = (year, month, day)\n",
    "    satellite_dates_files.append((date, satellite_number, file))\n",
    "    \n",
    "    # now let's move to counting the number of times that it appears (as done in 3)\n",
    "    if satellite_number in annotations_per_satellite:\n",
    "        annotations_per_satellite[satellite_number] += 1\n",
    "    else:\n",
    "        annotations_per_satellite[satellite_number] = 1\n",
    "\n",
    "# now let's organize the different responses\n",
    "\n",
    "# 1. How many different satellites there are\n",
    "different_satellites = len(annotations_per_satellite)\n",
    "print(f\"There are {different_satellites} different satellites.\")\n",
    "\n",
    "# 2. How many annotations we have per satellite number\n",
    "print(\"Annotations per satellite:\")\n",
    "for satellite, count in annotations_per_satellite.items():\n",
    "    print(f\"For satellite {satellite} there are {count} appearances\")\n",
    "\n",
    "# 3. Find the satellite in the most recent annotation file\n",
    "# do now what we have done in the prior exercice but with satellites\n",
    "satellite_dates_files.sort(reverse=True, key=lambda x: x[0]) # sorting through date (x[0])\n",
    "most_recent_satellite = satellite_dates_files[0][1]\n",
    "print(f\"The most recent annotation file used satellite {most_recent_satellite}.\")\n"
   ]
  },
  {
   "cell_type": "markdown",
   "id": "fe1ac492",
   "metadata": {},
   "source": [
    "7. How many unique regions there are."
   ]
  },
  {
   "cell_type": "code",
   "execution_count": 74,
   "id": "42bb6e72",
   "metadata": {},
   "outputs": [
    {
     "name": "stdout",
     "output_type": "stream",
     "text": [
      "There are 146 unique regions.\n"
     ]
    }
   ],
   "source": [
    "# we create a set to store the unique regions, as it avoids repetition\n",
    "unique_regions = set()\n",
    "\n",
    "# we do the same first steps\n",
    "for file in files:\n",
    "    file_format = os.path.basename(file) \n",
    "    file_parts = file_format.split('_')\n",
    "    \n",
    "    # now we assume that all the region starts with \"SATL\" and goes until the last part before \".txt\"\n",
    "    unique_region = '_'.join(file_parts[-3:]).replace('.txt', '') # joins the values that we consider that make it unique\n",
    "    \n",
    "    # and we add it to our set\n",
    "    unique_regions.add(unique_region)\n",
    "\n",
    "# to be able to finally print it (calling the lenght function to know the final number)\n",
    "print(f\"There are {len(unique_regions)} unique regions.\")\n"
   ]
  }
 ],
 "metadata": {
  "celltoolbar": "Slideshow",
  "kernelspec": {
   "display_name": "base",
   "language": "python",
   "name": "python3"
  },
  "language_info": {
   "codemirror_mode": {
    "name": "ipython",
    "version": 3
   },
   "file_extension": ".py",
   "mimetype": "text/x-python",
   "name": "python",
   "nbconvert_exporter": "python",
   "pygments_lexer": "ipython3",
   "version": "3.12.4"
  }
 },
 "nbformat": 4,
 "nbformat_minor": 5
}
