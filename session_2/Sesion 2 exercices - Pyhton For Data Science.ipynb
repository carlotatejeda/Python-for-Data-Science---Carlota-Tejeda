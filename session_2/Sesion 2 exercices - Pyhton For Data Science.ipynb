{
 "cells": [
  {
   "cell_type": "code",
   "execution_count": null,
   "id": "b315ee1f-320c-4d96-b88f-ff1eceb4ef8a",
   "metadata": {},
   "outputs": [],
   "source": [
    "#Exercise 1: FizzBuzz"
   ]
  },
  {
   "cell_type": "code",
   "execution_count": 1,
   "id": "fcf072f6-8be5-497d-a34a-b2973d50c158",
   "metadata": {},
   "outputs": [
    {
     "name": "stdout",
     "output_type": "stream",
     "text": [
      "1\n",
      "2\n",
      "Fizz\n",
      "4\n",
      "Buzz\n",
      "Fizz\n",
      "7\n",
      "8\n",
      "Fizz\n",
      "Buzz\n",
      "11\n",
      "Fizz\n",
      "13\n",
      "14\n",
      "FizzBuzz\n",
      "16\n",
      "17\n",
      "Fizz\n",
      "19\n",
      "Buzz\n"
     ]
    }
   ],
   "source": [
    "def fizzbuzz(n):\n",
    "    for i in range(1, n+1):\n",
    "        if i % 3 == 0 and i % 5 == 0:\n",
    "            print(\"FizzBuzz\")\n",
    "        elif i % 3 == 0:\n",
    "            print(\"Fizz\")\n",
    "        elif i % 5 == 0:\n",
    "            print(\"Buzz\")\n",
    "        else:\n",
    "            print(i)\n",
    "\n",
    "\n",
    "fizzbuzz(20)\n"
   ]
  },
  {
   "cell_type": "code",
   "execution_count": null,
   "id": "46f6693d-0d9f-4e53-a195-79327ec22731",
   "metadata": {},
   "outputs": [],
   "source": [
    "#Exercise 2: Basic Data Filtering"
   ]
  },
  {
   "cell_type": "code",
   "execution_count": 2,
   "id": "7c4af61b-c9da-4999-a1e8-cc954c19f18b",
   "metadata": {},
   "outputs": [
    {
     "name": "stdout",
     "output_type": "stream",
     "text": [
      "[1, 7, 5]\n"
     ]
    }
   ],
   "source": [
    "mixed = [1, \"Carlota\", 3.14, 7, \"Paula\", 5, 2.71]\n",
    "\n",
    "filtered = [x for x in mixed if isinstance(x, int)]\n",
    "\n",
    "print(filtered)"
   ]
  },
  {
   "cell_type": "code",
   "execution_count": null,
   "id": "d33cfe32-872e-4b2c-a90d-b6642d7be15d",
   "metadata": {},
   "outputs": [],
   "source": [
    "#Exercise 3: Simple To-Do List"
   ]
  },
  {
   "cell_type": "code",
   "execution_count": 4,
   "id": "a7566b1a-6258-419f-a3b6-89bb6029c3f9",
   "metadata": {},
   "outputs": [
    {
     "name": "stdout",
     "output_type": "stream",
     "text": [
      "Buy Potatoes\n",
      "Buy Apple\n"
     ]
    }
   ],
   "source": [
    "todo_list = []\n",
    "\n",
    "def add_task(task):\n",
    "    todo_list.append(task)\n",
    "\n",
    "def show_tasks():\n",
    "    for task in todo_list:\n",
    "        print(task)\n",
    "\n",
    "add_task(\"Buy Potatoes\")\n",
    "add_task(\"Buy Apple\")\n",
    "show_tasks()\n"
   ]
  },
  {
   "cell_type": "code",
   "execution_count": null,
   "id": "71e1af6c-ddea-4e13-95bb-8eb9a2403eaa",
   "metadata": {},
   "outputs": [],
   "source": [
    "#Exercise 4: Temperature Converter"
   ]
  },
  {
   "cell_type": "code",
   "execution_count": 6,
   "id": "984279c3-c7ff-48fd-be57-c8fd1fabff41",
   "metadata": {},
   "outputs": [
    {
     "name": "stdout",
     "output_type": "stream",
     "text": [
      "22°F is -5.56°C\n",
      "46°F is 7.78°C\n",
      "51°F is 10.56°C\n",
      "76°F is 24.44°C\n"
     ]
    }
   ],
   "source": [
    "def celsius_to_fahrenheit(celsius):\n",
    "    return (celsius * 9/5) + 32\n",
    "\n",
    "temperatures_fahrenheit = [22, 46, 51, 76]\n",
    "for temp_f in temperatures_fahrenheit:\n",
    "    temp_c = round((temp_f - 32) * 5/9, 2)\n",
    "    print(f\"{temp_f}°F is {temp_c}°C\")"
   ]
  }
 ],
 "metadata": {
  "kernelspec": {
   "display_name": "Python 3 (ipykernel)",
   "language": "python",
   "name": "python3"
  },
  "language_info": {
   "codemirror_mode": {
    "name": "ipython",
    "version": 3
   },
   "file_extension": ".py",
   "mimetype": "text/x-python",
   "name": "python",
   "nbconvert_exporter": "python",
   "pygments_lexer": "ipython3",
   "version": "3.12.4"
  }
 },
 "nbformat": 4,
 "nbformat_minor": 5
}
