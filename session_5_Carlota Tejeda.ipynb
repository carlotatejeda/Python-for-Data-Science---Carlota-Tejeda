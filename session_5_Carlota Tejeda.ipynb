{
 "cells": [
  {
   "cell_type": "markdown",
   "id": "24b98369-c7ba-450b-a8b5-e34319000695",
   "metadata": {
    "slideshow": {
     "slide_type": "slide"
    },
    "tags": []
   },
   "source": [
    "# Python for Data Science\n",
    "## Session 5 \n",
    "### Basic Libraries II"
   ]
  },
  {
   "cell_type": "markdown",
   "id": "3ace1343-d73d-466d-aa07-56febbb7cbf1",
   "metadata": {
    "slideshow": {
     "slide_type": "skip"
    },
    "tags": []
   },
   "source": [
    "---"
   ]
  },
  {
   "cell_type": "markdown",
   "id": "c5ffee69-5d4d-4f1c-9ed7-083afbc931ec",
   "metadata": {
    "slideshow": {
     "slide_type": "slide"
    },
    "tags": []
   },
   "source": [
    "## Outline\n",
    "\n",
    "1. Json, pickle and parquet formats\n",
    "\n",
    "2. Re library\n",
    "\n",
    "3. Time and Datetime libraries"
   ]
  },
  {
   "cell_type": "markdown",
   "id": "aba315f4-e9bf-4a66-b3d3-593037c3ca70",
   "metadata": {
    "slideshow": {
     "slide_type": "skip"
    },
    "tags": []
   },
   "source": [
    "---"
   ]
  },
  {
   "cell_type": "markdown",
   "id": "8ed45dcb-2cf5-4bfa-ba6e-5da25c59757c",
   "metadata": {
    "slideshow": {
     "slide_type": "slide"
    },
    "tags": []
   },
   "source": [
    "## Basic Libraries II\n",
    "\n",
    "Before starting working with different formats, let's see how we can create and read text files using Python buil-in function called **open**. "
   ]
  },
  {
   "cell_type": "code",
   "execution_count": 53,
   "id": "5f7ccded",
   "metadata": {
    "slideshow": {
     "slide_type": "subslide"
    }
   },
   "outputs": [],
   "source": [
    "# Open and write down a file\n",
    "f = open('text_file.txt', 'w')  # built in function where you are proving a file (binary file) \n",
    "f.write('Hello')\n",
    "f.write('\\n') # this means to create a new line\n",
    "f.write('Bye')\n",
    "f.close()"
   ]
  },
  {
   "cell_type": "code",
   "execution_count": 54,
   "id": "116186a1",
   "metadata": {
    "slideshow": {
     "slide_type": "subslide"
    }
   },
   "outputs": [
    {
     "name": "stdout",
     "output_type": "stream",
     "text": [
      "Hello\n",
      "Bye\n"
     ]
    }
   ],
   "source": [
    "# Open and read content of a file\n",
    "f = open('text_file.txt', 'r') # esta r es el 'mode' del file, en este caso r es read, osea para leerlo\n",
    "content = f.read()  # here we just read it\n",
    "f.close()\n",
    "print(content)"
   ]
  },
  {
   "cell_type": "code",
   "execution_count": 55,
   "id": "5d60bcc2",
   "metadata": {
    "slideshow": {
     "slide_type": "subslide"
    }
   },
   "outputs": [
    {
     "name": "stdout",
     "output_type": "stream",
     "text": [
      "Line 0: Hello\n",
      "Line 1: Bye\n"
     ]
    }
   ],
   "source": [
    "# We can also simply split lines by using\n",
    "f = open('text_file.txt', 'r')\n",
    "lines = f.read().splitlines() # esto separa las cosas en lineas\n",
    "f.close()\n",
    "# loop over the lines\n",
    "for idx, line in enumerate(lines): # esto print cada indice con una enumeracion (enumerate) el contenido de cada linea\n",
    "    print(f'Line {idx}: {line}')"
   ]
  },
  {
   "cell_type": "code",
   "execution_count": 56,
   "id": "ef202e60",
   "metadata": {
    "slideshow": {
     "slide_type": "subslide"
    }
   },
   "outputs": [],
   "source": [
    "# Let's create a CSV (comma separated values) file\n",
    "header = \"Name,Age,Grade\\n\" # remember that '\\n' this is create it in a new line\n",
    "rows = [\n",
    "    \"Jaume,30,8.9\\n\",\n",
    "    \"Francisco,25,7.1\\n\",\n",
    "    \"Elena,35,9.2\\n\"\n",
    "]"
   ]
  },
  {
   "cell_type": "code",
   "execution_count": 57,
   "id": "f4d4930e",
   "metadata": {
    "slideshow": {
     "slide_type": "subslide"
    }
   },
   "outputs": [],
   "source": [
    "with open(\"grades.csv\", \"w\") as f: # we are using with to do whatever that does, we are writing it on the f\n",
    "    f.write(header) # Write the header\n",
    "    \n",
    "    # Write each row of data\n",
    "    for row in rows:\n",
    "        f.write(row)"
   ]
  },
  {
   "cell_type": "code",
   "execution_count": 58,
   "id": "35de8a4b",
   "metadata": {
    "slideshow": {
     "slide_type": "subslide"
    }
   },
   "outputs": [
    {
     "name": "stdout",
     "output_type": "stream",
     "text": [
      "['Name', 'Age', 'Grade']\n"
     ]
    },
    {
     "data": {
      "text/plain": [
       "{'students': [{'Name': 'Jaume', 'Age': '30', 'Grade': '8.9'},\n",
       "  {'Name': 'Francisco', 'Age': '25', 'Grade': '7.1'},\n",
       "  {'Name': 'Elena', 'Age': '35', 'Grade': '9.2'}]}"
      ]
     },
     "execution_count": 58,
     "metadata": {},
     "output_type": "execute_result"
    }
   ],
   "source": [
    "# Abre el archivo \"grades.csv\" en modo de lectura ('r')\n",
    "with open(\"grades.csv\", \"r\") as f:\n",
    "    # Lee todas las líneas del archivo y las convierte en una lista, quitando el salto de línea al final de cada línea\n",
    "    lines = f.read().splitlines()\n",
    "\n",
    "# Saca la primera línea del archivo que contiene los nombres de las columnas (el encabezado)\n",
    "header = lines.pop(0)\n",
    "# Divide el encabezado en columnas, separando por comas\n",
    "header = header.split(',')\n",
    "\n",
    "# Imprime el encabezado para ver las columnas\n",
    "print(header)\n",
    "\n",
    "# Crea un diccionario llamado 'grades' con una lista vacía bajo la clave 'students'\n",
    "grades = {'students': []}\n",
    "\n",
    "# Itera sobre cada línea que queda en 'lines' (cada una representa un estudiante)\n",
    "for line in lines:\n",
    "    # Crea un diccionario temporal para almacenar los datos del estudiante actual\n",
    "    student_dict = {}\n",
    "    # Divide la línea actual en valores, separados por comas\n",
    "    values = line.split(',')\n",
    "    \n",
    "    # Itera sobre cada valor junto con su índice para relacionarlo con su columna del encabezado\n",
    "    for idx, column in enumerate(header):\n",
    "        # Asocia cada valor con su respectiva columna en el diccionario del estudiante\n",
    "        student_dict[column] = values[idx]\n",
    "    \n",
    "    # Añade el diccionario del estudiante a la lista de 'students' en el diccionario 'grades'\n",
    "    grades['students'].append(student_dict)\n",
    "\n",
    "# Devuelve el diccionario final 'grades' que contiene los datos de todos los estudiantes\n",
    "grades\n"
   ]
  },
  {
   "cell_type": "markdown",
   "id": "35dc1a74",
   "metadata": {
    "slideshow": {
     "slide_type": "slide"
    },
    "tags": []
   },
   "source": [
    "## Basic Libraries II\n",
    "\n",
    "Another useful statement is **with**. It helps handling properly the resources within its reach, by closing them after its execution. It also makes the code more readable and maintainable."
   ]
  },
  {
   "cell_type": "code",
   "execution_count": 59,
   "id": "474a10ea",
   "metadata": {
    "slideshow": {
     "slide_type": "subslide"
    }
   },
   "outputs": [
    {
     "name": "stdout",
     "output_type": "stream",
     "text": [
      "['Hello', 'Bye']\n"
     ]
    }
   ],
   "source": [
    "# whatever we create within the with statement is going to be closed once we finish it\n",
    "# like small enviroment that what you put inside only happens there and when we finished everything is going to be closed\n",
    "with open('text_file.txt', 'r') as f: # we don't have to close the open file, f.close()\n",
    "    lines = f.read().splitlines()\n",
    "    \n",
    "print(lines)"
   ]
  },
  {
   "cell_type": "markdown",
   "id": "557f7645",
   "metadata": {
    "slideshow": {
     "slide_type": "slide"
    },
    "tags": []
   },
   "source": [
    "## Basic Libraries II\n",
    "\n",
    "JavaScript Object Notation (JSON) is a text-based format used for data storing and data interchange across different platforms and languages.\n",
    "\n",
    "Same as dictionaries, data is represented as key-value pairs. "
   ]
  },
  {
   "cell_type": "markdown",
   "id": "9e3e215c",
   "metadata": {
    "slideshow": {
     "slide_type": "slide"
    },
    "tags": []
   },
   "source": [
    "## Basic Libraries II\n",
    "\n",
    "JavaScript Object Notation (JSON) is a text-based format used for data storing and data interchange across different platforms and languages.\n",
    "\n",
    "Same as dictionaries, data is represented as key-value pairs. "
   ]
  },
  {
   "cell_type": "code",
   "execution_count": 60,
   "id": "a85baeee",
   "metadata": {
    "slideshow": {
     "slide_type": "fragment"
    }
   },
   "outputs": [
    {
     "data": {
      "text/plain": [
       "{'students': [{'name': 'Amelie', 'age': 35}, {'name': 'Edgar', 'age': 32}]}"
      ]
     },
     "execution_count": 60,
     "metadata": {},
     "output_type": "execute_result"
    }
   ],
   "source": [
    "{\n",
    "    \"students\": [\n",
    "        {\n",
    "            \"name\": \"Amelie\",\n",
    "            \"age\": 35\n",
    "        },\n",
    "        {\n",
    "            \"name\": \"Edgar\",\n",
    "            \"age\": 32\n",
    "        }\n",
    "    ]\n",
    "}"
   ]
  },
  {
   "cell_type": "code",
   "execution_count": 61,
   "id": "03372288",
   "metadata": {
    "slideshow": {
     "slide_type": "subslide"
    }
   },
   "outputs": [
    {
     "data": {
      "text/plain": [
       "[{'name': 'Amelie', 'age': 35}, {'name': 'Edgar', 'age': 32}]"
      ]
     },
     "execution_count": 61,
     "metadata": {},
     "output_type": "execute_result"
    }
   ],
   "source": [
    "# other valid formats\n",
    "[\n",
    "    {\n",
    "        \"name\": \"Amelie\",\n",
    "        \"age\": 35\n",
    "    },\n",
    "    {\n",
    "        \"name\": \"Edgar\",\n",
    "        \"age\": 32\n",
    "    }\n",
    "]"
   ]
  },
  {
   "cell_type": "code",
   "execution_count": 62,
   "id": "21363512",
   "metadata": {
    "slideshow": {
     "slide_type": "subslide"
    }
   },
   "outputs": [
    {
     "data": {
      "text/plain": [
       "['Amelie', 137, True, None, {'age': 35}, [10, 12, 13]]"
      ]
     },
     "execution_count": 62,
     "metadata": {},
     "output_type": "execute_result"
    }
   ],
   "source": [
    "# other valid formats\n",
    "[\n",
    "    \"Amelie\",\n",
    "    137,\n",
    "    True, # within the json file True is equivalent to true\n",
    "    None, # within the json file None is equivalent to null\n",
    "    {\"age\": 35},\n",
    "    [10, 12, 13]\n",
    "]"
   ]
  },
  {
   "cell_type": "markdown",
   "id": "2d4f9fc6",
   "metadata": {
    "slideshow": {
     "slide_type": "slide"
    }
   },
   "source": [
    "## Basic Libraries II\n",
    "\n",
    "To read and write down json files and manipulate them, we have the built-in json library within Python."
   ]
  },
  {
   "cell_type": "code",
   "execution_count": 63,
   "id": "550d6310",
   "metadata": {
    "slideshow": {
     "slide_type": "subslide"
    }
   },
   "outputs": [],
   "source": [
    "import json # built in library\n",
    "data = {\n",
    "    \"students\": [\n",
    "        {\n",
    "            \"name\": \"Amelie\",\n",
    "            \"age\": 35,\n",
    "            \"scolarship\": True\n",
    "        },\n",
    "        {\n",
    "            \"name\": \"Edgar\",\n",
    "            \"age\": 32,\n",
    "            \"scolarship\": None\n",
    "        }\n",
    "    ]\n",
    "}\n",
    "\n",
    "with open('json_example.json', 'w') as f: # write down json\n",
    "    json.dump(data, f) # this is dumping the data in json here."
   ]
  },
  {
   "cell_type": "code",
   "execution_count": 64,
   "id": "6094e3cf",
   "metadata": {
    "slideshow": {
     "slide_type": "subslide"
    }
   },
   "outputs": [
    {
     "name": "stdout",
     "output_type": "stream",
     "text": [
      "{'students': [{'name': 'Amelie', 'age': 35, 'scolarship': True}, {'name': 'Edgar', 'age': 32, 'scolarship': None}]}\n"
     ]
    }
   ],
   "source": [
    "# Abre el archivo 'json_example.json' en modo de lectura ('r')\n",
    "with open('json_example.json', 'r') as f:\n",
    "    # Carga los datos del archivo JSON y los convierte en un diccionario o una lista de Python\n",
    "    json_data = json.load(f) \n",
    "\n",
    "# Imprime el contenido cargado desde el archivo JSON\n",
    "print(json_data)\n"
   ]
  },
  {
   "cell_type": "markdown",
   "id": "c8ad57c3",
   "metadata": {
    "slideshow": {
     "slide_type": "slide"
    },
    "tags": []
   },
   "source": [
    "## Basic Libraries II\n",
    "\n",
    "Similar to JSON, Python includes a Pickle library. However, in contrast to the JSON format, Pickle is a Python-specific serialization format. The Pickle library provides tools to serialize Python objects, which involves transforming them into a stream of bytes. It also allows you to read these byte streams by deserializing them, transforming them back into their original Python objects.\n",
    "\n",
    "In contrast to the JSON format, the binary format is usually more compact and, therefore, more efficient."
   ]
  },
  {
   "cell_type": "code",
   "execution_count": 65,
   "id": "5ab37f4f",
   "metadata": {
    "slideshow": {
     "slide_type": "subslide"
    }
   },
   "outputs": [
    {
     "name": "stdout",
     "output_type": "stream",
     "text": [
      "[0.93487018 0.8619097  0.17525086 0.90562099 0.60160151 0.42311113\n",
      " 0.72666613 0.89620021 0.72594826 0.91393961]\n"
     ]
    }
   ],
   "source": [
    "# pickle serialises the information you provide to it.\n",
    "# if you have text its going to transform it to bytes, so its going to become unreadble.\n",
    "\n",
    "import numpy as np  # Importa la biblioteca numpy\n",
    "\n",
    "# Genera un array de 10 números aleatorios en punto flotante entre 0 y 1\n",
    "data = np.random.rand(10)\n",
    "\n",
    "import pickle  # Importa el módulo pickle para serialización y deserialización\n",
    "\n",
    "# Serializa (guarda) el objeto 'data' en un archivo llamado 'data.pkl'\n",
    "with open('data.pkl', 'wb') as f:\n",
    "    pickle.dump(data, f)  # Escribe los datos binarios en el archivo\n",
    "\n",
    "# Deserializa (carga) el objeto de vuelta desde 'data.pkl'\n",
    "with open('data.pkl', 'rb') as f:\n",
    "    loaded_data = pickle.load(f)  # Lee los datos binarios del archivo\n",
    "\n",
    "# Imprime los datos cargados para verificar que coincidan con los originales\n",
    "print(loaded_data)\n"
   ]
  },
  {
   "cell_type": "markdown",
   "id": "502f8a2f",
   "metadata": {
    "slideshow": {
     "slide_type": "subslide"
    }
   },
   "source": [
    "## Basic Libraries II\n",
    "\n",
    "**IMPORTANT**: Be extremely carefull when loading pickled data from untrusted sources. Pickles can execute arbitrary code."
   ]
  },
  {
   "cell_type": "markdown",
   "id": "f5826f2d",
   "metadata": {
    "slideshow": {
     "slide_type": "slide"
    },
    "tags": []
   },
   "source": [
    "## Basic Libraries II\n",
    "\n",
    "To work with **Parquet** files, you need either the **pyarrow** or **pandas** library. Parquet is a columnar storage format, meaning that each row represents a sample, and each column represents an attribute. This is a powerful format commonly used as a standard in platforms like **Hugging Face**."
   ]
  },
  {
   "cell_type": "code",
   "execution_count": 66,
   "id": "72fce0ca",
   "metadata": {
    "slideshow": {
     "slide_type": "subslide"
    }
   },
   "outputs": [
    {
     "name": "stdout",
     "output_type": "stream",
     "text": [
      "      name  age\n",
      "0    Alice   25\n",
      "1      Bob   30\n",
      "2  Charlie   35\n"
     ]
    }
   ],
   "source": [
    "import pandas as pd # if it is not working, simply uncomment the following line\n",
    "# !pip install pandas\n",
    "\n",
    "# Creating a DataFrame\n",
    "df = pd.DataFrame({\n",
    "    'name': ['Alice', 'Bob', 'Charlie'],\n",
    "    'age': [25, 30, 35]\n",
    "})\n",
    "\n",
    "# Writing DataFrame to Parquet file with Pandas\n",
    "df.to_parquet('data.parquet')\n",
    "\n",
    "# Reading DataFrame from Parquet file with Pandas\n",
    "df_loaded = pd.read_parquet('data.parquet')\n",
    "\n",
    "print(df_loaded)"
   ]
  },
  {
   "cell_type": "markdown",
   "id": "004bb3cc",
   "metadata": {
    "slideshow": {
     "slide_type": "slide"
    },
    "tags": []
   },
   "source": [
    "## Basic Libraries II\n",
    "\n",
    "When working with text, one of the most powerful tools is regular expressions, aka **regex**. With regex, you can perform complex pattern matching using wildcards and other special characters. Let's see how we could have handled session's four exercise:"
   ]
  },
  {
   "cell_type": "code",
   "execution_count": 67,
   "id": "0746e487",
   "metadata": {
    "slideshow": {
     "slide_type": "subslide"
    }
   },
   "outputs": [
    {
     "name": "stdout",
     "output_type": "stream",
     "text": [
      "['if', 'if']\n"
     ]
    }
   ],
   "source": [
    "import re\n",
    "\n",
    "# complex pattern matching\n",
    "\n",
    "data = \"What a wonderful life if we could play more time.\"\n",
    "\n",
    "# Regex pattern to find 'if'\n",
    "pattern = 'if'\n",
    "\n",
    "# Search for the pattern\n",
    "matches = re.findall(pattern, data)\n",
    "\n",
    "print(matches) "
   ]
  },
  {
   "cell_type": "markdown",
   "id": "cef1d4ba",
   "metadata": {
    "slideshow": {
     "slide_type": "slide"
    },
    "tags": []
   },
   "source": [
    "## Basic Libraries II\n",
    "\n",
    "Let's see how we could have handled session's four exercise:"
   ]
  },
  {
   "cell_type": "code",
   "execution_count": 68,
   "id": "37e73afc",
   "metadata": {
    "slideshow": {
     "slide_type": "subslide"
    }
   },
   "outputs": [
    {
     "name": "stdout",
     "output_type": "stream",
     "text": [
      "Date: 20240102; Time: 185527; SN: 27; ver: 1_1_10; region: SATL-2KM-11N_740_3850\n",
      "Date: 20240623; Time: 193704; SN: 27; ver: 1_7_0; region: SATL-2KM-11N_566_3734\n",
      "Date: 20240402; Time: 184757; SN: 24; ver: 1_2_0; region: SATL-2KM-11N_488_3638\n",
      "Date: 20240423; Time: 190101; SN: 26; ver: 1_5_0; region: SATL-2KM-11N_418_3872\n",
      "Date: 20240201; Time: 075140; SN: 26; ver: 1_1_10; region: SATL-2KM-39N_558_2794\n",
      "Date: 20240222; Time: 074151; SN: 26; ver: 1_1_10; region: SATL-2KM-39N_560_2794\n",
      "Date: 20240101; Time: 174301; SN: 33; ver: 1_1_10; region: SATL-2KM-11N_404_3770\n",
      "Date: 20240218; Time: 180121; SN: 33; ver: 1_1_10; region: SATL-2KM-10N_568_4176\n",
      "Date: 20240101; Time: 192856; SN: 24; ver: 1_1_10; region: SATL-2KM-10N_552_4164\n",
      "Date: 20240402; Time: 184757; SN: 24; ver: 1_2_0; region: SATL-2KM-11N_486_3630\n",
      "Date: 20240102; Time: 185954; SN: 24; ver: 1_1_10; region: SATL-2KM-11N_414_3786\n",
      "Date: 20240213; Time: 212524; SN: 29; ver: 1_1_10; region: SATL-2KM-11N_542_3750\n",
      "Date: 20240222; Time: 074155; SN: 26; ver: 1_1_10; region: SATL-2KM-39N_556_2794\n",
      "Date: 20240603; Time: 215226; SN: 28; ver: 1_6_0; region: SATL-2KM-11N_248_4068\n",
      "Date: 20240104; Time: 220339; SN: 31; ver: 1_1_10; region: SATL-2KM-10N_556_4178\n",
      "Date: 20240603; Time: 215348; SN: 28; ver: 1_6_0; region: SATL-2KM-11N_346_3786\n",
      "Date: 20240616; Time: 213053; SN: 30; ver: 1_7_0; region: SATL-2KM-11N_460_3792\n",
      "Date: 20240115; Time: 213834; SN: 28; ver: 1_1_10; region: SATL-2KM-11N_376_3722\n",
      "Date: 20240222; Time: 074155; SN: 26; ver: 1_1_10; region: SATL-2KM-39N_562_2794\n",
      "Date: 20240322; Time: 212516; SN: 28; ver: 1_2_0; region: SATL-2KM-11N_502_3600\n",
      "Date: 20240126; Time: 173752; SN: 33; ver: 1_1_10; region: SATL-2KM-11N_386_3722\n",
      "Date: 20240317; Time: 221229; SN: 31; ver: 1_2_0; region: SATL-2KM-10N_556_4176\n",
      "20240405_183824_409694_MS_NS24_QUICKVIEW_VISUAL_1_3_0_SATL-2KM-11N_736_3716.txt\n",
      "20240418_213446_163074_MS_NS28_QUICKVIEW_VISUAL_1_3_0_SATL-2KM-11N_388_3748.txt\n",
      "Date: 20240506; Time: 192008; SN: 26; ver: 1_5_0; region: SATL-2KM-10N_562_4178\n",
      "20240417_215406_715231_MS_NS43_QUICKVIEW_VISUAL_1_3_0_SATL-2KM-10N_740_4446.txt\n",
      "Date: 20240222; Time: 074151; SN: 26; ver: 1_1_10; region: SATL-2KM-39N_560_2796\n",
      "Date: 20240220; Time: 190455; SN: 27; ver: 1_1_10; region: SATL-2KM-11N_718_3608\n",
      "Date: 20240101; Time: 174301; SN: 33; ver: 1_1_10; region: SATL-2KM-11N_404_3772\n",
      "Date: 20240423; Time: 190101; SN: 26; ver: 1_5_0; region: SATL-2KM-11N_418_3864\n",
      "Date: 20240521; Time: 052621; SN: 43; ver: 1_6_0; region: SATL-2KM-51N_730_4342\n",
      "Date: 20240508; Time: 194502; SN: 27; ver: 1_5_0; region: SATL-2KM-11N_264_4022\n",
      "Date: 20240519; Time: 191838; SN: 27; ver: 1_5_0; region: SATL-2KM-11N_718_3608\n",
      "Date: 20240130; Time: 173903; SN: 33; ver: 1_1_10; region: SATL-2KM-11N_366_3756\n",
      "Date: 20240611; Time: 025943; SN: 26; ver: 1_7_0; region: SATL-2KM-51N_748_4366\n",
      "Date: 20240401; Time: 221819; SN: 31; ver: 1_2_0; region: SATL-2KM-10N_602_4148\n",
      "Date: 20240316; Time: 191451; SN: 26; ver: 1_2_0; region: SATL-2KM-11N_380_3764\n",
      "Date: 20240528; Time: 191448; SN: 24; ver: 1_6_0; region: SATL-2KM-11N_248_4068\n",
      "Date: 20240612; Time: 185400; SN: 24; ver: 1_7_0; region: SATL-2KM-11N_574_3714\n",
      "Date: 20240509; Time: 193206; SN: 26; ver: 1_5_0; region: SATL-2KM-10N_562_4196\n",
      "Date: 20240324; Time: 180232; SN: 33; ver: 1_2_0; region: SATL-2KM-10N_554_4172\n",
      "Date: 20240423; Time: 190101; SN: 26; ver: 1_5_0; region: SATL-2KM-11N_418_3860\n",
      "Date: 20240127; Time: 190620; SN: 27; ver: 1_1_10; region: SATL-2KM-11N_500_3600\n",
      "Date: 20240619; Time: 185757; SN: 24; ver: 1_7_0; region: SATL-2KM-11N_528_3700\n",
      "Date: 20240203; Time: 173953; SN: 33; ver: 1_1_10; region: SATL-2KM-11N_368_3756\n",
      "Date: 20240222; Time: 074256; SN: 26; ver: 1_1_10; region: SATL-2KM-39N_564_2790\n",
      "Date: 20240619; Time: 052401; SN: 30; ver: 1_7_0; region: SATL-2KM-52N_368_4336\n",
      "Date: 20240101; Time: 192856; SN: 24; ver: 1_1_10; region: SATL-2KM-10N_552_4162\n",
      "Date: 20240616; Time: 213047; SN: 30; ver: 1_7_0; region: SATL-2KM-11N_464_3830\n",
      "20240412_191539_631044_MS_NS24_QUICKVIEW_VISUAL_1_3_0_SATL-2KM-11N_258_4036.txt\n",
      "Date: 20240402; Time: 184757; SN: 24; ver: 1_2_0; region: SATL-2KM-11N_486_3636\n",
      "Date: 20240222; Time: 074155; SN: 26; ver: 1_1_10; region: SATL-2KM-39N_556_2792\n",
      "Date: 20240616; Time: 102144; SN: 28; ver: 1_7_0; region: SATL-2KM-39N_560_2792\n",
      "Date: 20240201; Time: 075143; SN: 26; ver: 1_1_10; region: SATL-2KM-39N_556_2792\n",
      "Date: 20240223; Time: 025420; SN: 24; ver: 1_1_10; region: SATL-2KM-51N_686_4422\n",
      "Date: 20240516; Time: 211630; SN: 28; ver: 1_5_0; region: SATL-2KM-11N_716_3848\n",
      "Date: 20240317; Time: 215115; SN: 28; ver: 1_2_0; region: SATL-2KM-10N_554_4162\n",
      "Date: 20240325; Time: 173936; SN: 33; ver: 1_2_0; region: SATL-2KM-11N_378_3722\n",
      "Date: 20240228; Time: 213951; SN: 29; ver: 1_1_10; region: SATL-2KM-11N_248_4068\n",
      "Date: 20240222; Time: 074155; SN: 26; ver: 1_1_10; region: SATL-2KM-39N_562_2792\n",
      "Date: 20240617; Time: 052859; SN: 29; ver: 1_7_0; region: SATL-2KM-51N_730_4348\n",
      "Date: 20240608; Time: 214614; SN: 29; ver: 1_7_0; region: SATL-2KM-11N_248_4068\n",
      "Date: 20240304; Time: 212824; SN: 30; ver: 1_2_0; region: SATL-2KM-11N_378_3722\n",
      "Date: 20240617; Time: 211350; SN: 29; ver: 1_7_0; region: SATL-2KM-11N_724_3614\n",
      "Date: 20240127; Time: 190620; SN: 27; ver: 1_1_10; region: SATL-2KM-11N_500_3602\n",
      "Date: 20240423; Time: 190101; SN: 26; ver: 1_5_0; region: SATL-2KM-11N_418_3862\n",
      "Date: 20240606; Time: 180251; SN: 33; ver: 1_7_0; region: SATL-2KM-10N_556_4180\n",
      "Date: 20240613; Time: 214203; SN: 43; ver: 1_7_0; region: SATL-2KM-11N_384_3750\n",
      "Date: 20240314; Time: 220020; SN: 30; ver: 1_2_0; region: SATL-2KM-10N_544_4186\n",
      "Date: 20240611; Time: 025943; SN: 26; ver: 1_7_0; region: SATL-2KM-51N_748_4364\n",
      "Date: 20240322; Time: 184801; SN: 24; ver: 1_2_0; region: SATL-2KM-11N_500_3632\n",
      "20240410_214321_024179_MS_NS30_QUICKVIEW_VISUAL_1_3_0_SATL-2KM-11N_296_3786.txt\n",
      "Date: 20240616; Time: 081345; SN: 27; ver: 1_7_0; region: SATL-2KM-39N_562_2794\n",
      "Date: 20240308; Time: 211248; SN: 29; ver: 1_2_0; region: SATL-2KM-11N_718_3640\n",
      "Date: 20240101; Time: 192856; SN: 24; ver: 1_1_10; region: SATL-2KM-10N_554_4162\n",
      "Date: 20240428; Time: 215426; SN: 43; ver: 1_5_0; region: SATL-2KM-10N_630_4264\n",
      "Date: 20240427; Time: 221308; SN: 31; ver: 1_5_0; region: SATL-2KM-10N_722_3848\n",
      "Date: 20240201; Time: 075140; SN: 26; ver: 1_1_10; region: SATL-2KM-39N_560_2792\n",
      "Date: 20240514; Time: 052716; SN: 43; ver: 1_5_0; region: SATL-2KM-51N_730_4342\n",
      "Date: 20240213; Time: 212524; SN: 29; ver: 1_1_10; region: SATL-2KM-11N_544_3742\n",
      "Date: 20240609; Time: 214259; SN: 30; ver: 1_7_0; region: SATL-2KM-11N_262_4052\n",
      "20240410_214305_399233_MS_NS43_QUICKVIEW_VISUAL_1_3_0_SATL-2KM-11N_380_3764.txt\n",
      "Date: 20240604; Time: 214955; SN: 29; ver: 1_7_0; region: SATL-2KM-10N_594_4136\n",
      "Date: 20240423; Time: 190101; SN: 26; ver: 1_5_0; region: SATL-2KM-11N_414_3862\n",
      "Date: 20240213; Time: 212524; SN: 29; ver: 1_1_10; region: SATL-2KM-11N_540_3748\n",
      "Date: 20240613; Time: 192217; SN: 26; ver: 1_7_0; region: SATL-2KM-10N_560_4178\n",
      "Date: 20240101; Time: 213601; SN: 31; ver: 1_1_10; region: SATL-2KM-11N_392_3740\n",
      "Date: 20240317; Time: 215115; SN: 28; ver: 1_2_0; region: SATL-2KM-10N_552_4162\n",
      "Date: 20240401; Time: 032415; SN: 27; ver: 1_2_0; region: SATL-2KM-51N_688_4420\n",
      "Date: 20240503; Time: 214759; SN: 28; ver: 1_5_0; region: SATL-2KM-11N_376_3724\n",
      "Date: 20240519; Time: 184534; SN: 24; ver: 1_5_0; region: SATL-2KM-11N_658_3700\n",
      "Date: 20240615; Time: 173631; SN: 33; ver: 1_7_0; region: SATL-2KM-11N_546_3742\n",
      "Date: 20240314; Time: 220020; SN: 30; ver: 1_2_0; region: SATL-2KM-10N_550_4202\n",
      "Date: 20240219; Time: 214312; SN: 28; ver: 1_1_10; region: SATL-2KM-11N_252_3954\n",
      "Date: 20240101; Time: 213601; SN: 31; ver: 1_1_10; region: SATL-2KM-11N_392_3742\n",
      "20240408_211552_958249_MS_NS29_QUICKVIEW_VISUAL_1_3_0_SATL-2KM-11N_734_3742.txt\n",
      "Date: 20240623; Time: 215120; SN: 29; ver: 1_7_0; region: SATL-2KM-10N_596_4134\n",
      "Date: 20240128; Time: 213258; SN: 29; ver: 1_1_10; region: SATL-2KM-11N_418_3864\n",
      "Date: 20240612; Time: 185400; SN: 24; ver: 1_7_0; region: SATL-2KM-11N_576_3720\n",
      "Date: 20240612; Time: 053829; SN: 28; ver: 1_7_0; region: SATL-2KM-51N_686_4422\n",
      "Date: 20240521; Time: 101252; SN: 43; ver: 1_6_0; region: SATL-2KM-39N_556_2792\n",
      "Date: 20240616; Time: 102144; SN: 28; ver: 1_7_0; region: SATL-2KM-39N_558_2794\n",
      "Date: 20240616; Time: 081345; SN: 27; ver: 1_7_0; region: SATL-2KM-39N_562_2792\n",
      "Date: 20240428; Time: 215426; SN: 43; ver: 1_5_0; region: SATL-2KM-10N_630_4262\n",
      "Date: 20240201; Time: 075140; SN: 26; ver: 1_1_10; region: SATL-2KM-39N_560_2794\n",
      "Date: 20240428; Time: 215426; SN: 43; ver: 1_5_0; region: SATL-2KM-10N_634_4282\n",
      "Date: 20240216; Time: 213630; SN: 31; ver: 1_1_10; region: SATL-2KM-11N_418_3724\n",
      "Date: 20240616; Time: 213047; SN: 30; ver: 1_7_0; region: SATL-2KM-11N_466_3828\n",
      "Date: 20240619; Time: 215556; SN: 29; ver: 1_7_0; region: SATL-2KM-10N_742_4460\n",
      "Date: 20240317; Time: 215115; SN: 28; ver: 1_2_0; region: SATL-2KM-10N_552_4164\n",
      "Date: 20240222; Time: 074151; SN: 26; ver: 1_1_10; region: SATL-2KM-39N_558_2796\n",
      "Date: 20240510; Time: 191914; SN: 27; ver: 1_5_0; region: SATL-2KM-11N_712_3566\n",
      "Date: 20240528; Time: 191604; SN: 24; ver: 1_6_0; region: SATL-2KM-11N_344_3836\n",
      "Date: 20240611; Time: 215323; SN: 30; ver: 1_7_0; region: SATL-2KM-10N_702_3948\n",
      "Date: 20240613; Time: 053340; SN: 29; ver: 1_7_0; region: SATL-2KM-51N_728_4342\n",
      "Date: 20240612; Time: 185419; SN: 24; ver: 1_7_0; region: SATL-2KM-11N_554_3610\n",
      "Date: 20240201; Time: 075140; SN: 26; ver: 1_1_10; region: SATL-2KM-39N_560_2796\n",
      "Date: 20240208; Time: 184650; SN: 24; ver: 1_1_10; region: SATL-2KM-11N_624_3632\n",
      "Date: 20240128; Time: 213258; SN: 29; ver: 1_1_10; region: SATL-2KM-11N_418_3862\n",
      "Date: 20240214; Time: 184340; SN: 24; ver: 1_1_10; region: SATL-2KM-11N_688_3630\n",
      "20240412_191539_377035_MS_NS24_QUICKVIEW_VISUAL_1_3_0_SATL-2KM-11N_258_4038.txt\n",
      "Date: 20240509; Time: 212336; SN: 29; ver: 1_5_0; region: SATL-2KM-11N_706_3778\n",
      "Date: 20240508; Time: 194502; SN: 27; ver: 1_5_0; region: SATL-2KM-11N_262_4022\n",
      "Date: 20240130; Time: 215036; SN: 31; ver: 1_1_10; region: SATL-2KM-11N_366_3756\n",
      "Date: 20240212; Time: 213506; SN: 31; ver: 1_1_10; region: SATL-2KM-11N_408_3712\n",
      "Date: 20240519; Time: 214917; SN: 31; ver: 1_5_0; region: SATL-2KM-11N_500_3600\n",
      "Date: 20240612; Time: 053829; SN: 28; ver: 1_7_0; region: SATL-2KM-51N_688_4420\n",
      "Date: 20240222; Time: 074155; SN: 26; ver: 1_1_10; region: SATL-2KM-39N_560_2792\n",
      "Date: 20240616; Time: 213047; SN: 30; ver: 1_7_0; region: SATL-2KM-11N_466_3826\n",
      "Date: 20240612; Time: 185400; SN: 24; ver: 1_7_0; region: SATL-2KM-11N_578_3722\n",
      "Date: 20240610; Time: 191018; SN: 26; ver: 1_7_0; region: SATL-2KM-11N_384_3750\n",
      "Date: 20240401; Time: 175918; SN: 33; ver: 1_2_0; region: SATL-2KM-10N_542_4168\n",
      "Date: 20240127; Time: 190620; SN: 27; ver: 1_1_10; region: SATL-2KM-11N_502_3602\n",
      "Date: 20240513; Time: 212022; SN: 29; ver: 1_5_0; region: SATL-2KM-11N_630_3742\n",
      "Date: 20240222; Time: 212250; SN: 30; ver: 1_1_10; region: SATL-2KM-11N_382_3722\n",
      "Date: 20240127; Time: 190620; SN: 27; ver: 1_1_10; region: SATL-2KM-11N_502_3600\n",
      "Date: 20240308; Time: 191212; SN: 27; ver: 1_2_0; region: SATL-2KM-11N_506_3614\n",
      "Date: 20240613; Time: 053340; SN: 29; ver: 1_7_0; region: SATL-2KM-51N_730_4342\n",
      "Date: 20240516; Time: 190328; SN: 24; ver: 1_5_0; region: SATL-2KM-11N_262_4052\n",
      "Date: 20240221; Time: 190608; SN: 26; ver: 1_1_10; region: SATL-2KM-11N_380_3764\n",
      "Date: 20240209; Time: 212744; SN: 29; ver: 1_1_10; region: SATL-2KM-11N_380_3722\n",
      "20240412_191549_672087_MS_NS24_QUICKVIEW_VISUAL_1_3_0_SATL-2KM-11N_240_3966.txt\n",
      "Date: 20240519; Time: 214917; SN: 31; ver: 1_5_0; region: SATL-2KM-11N_500_3602\n",
      "Date: 20240616; Time: 102144; SN: 28; ver: 1_7_0; region: SATL-2KM-39N_556_2794\n",
      "Date: 20240618; Time: 215539; SN: 31; ver: 1_7_0; region: SATL-2KM-11N_452_3740\n",
      "Date: 20240623; Time: 215102; SN: 43; ver: 1_7_0; region: SATL-2KM-11N_384_3750\n",
      "Date: 20240521; Time: 101252; SN: 43; ver: 1_6_0; region: SATL-2KM-39N_558_2796\n",
      "Date: 20240607; Time: 200250; SN: 27; ver: 1_7_0; region: SATL-2KM-10N_554_4172\n",
      "Date: 20240426; Time: 215224; SN: 29; ver: 1_5_0; region: SATL-2KM-11N_244_3818\n",
      "Date: 20240510; Time: 191908; SN: 27; ver: 1_5_0; region: SATL-2KM-11N_718_3608\n",
      "Date: 20240222; Time: 074151; SN: 26; ver: 1_1_10; region: SATL-2KM-39N_556_2794\n",
      "Date: 20240618; Time: 215539; SN: 31; ver: 1_7_0; region: SATL-2KM-11N_458_3756\n",
      "Date: 20240602; Time: 215203; SN: 30; ver: 1_6_0; region: SATL-2KM-10N_714_3948\n",
      "Date: 20240130; Time: 173903; SN: 33; ver: 1_1_10; region: SATL-2KM-11N_360_3748\n",
      "Date: 20240202; Time: 191114; SN: 27; ver: 1_1_10; region: SATL-2KM-11N_718_3608\n",
      "Date: 20240401; Time: 175918; SN: 33; ver: 1_2_0; region: SATL-2KM-10N_546_4206\n",
      "Date: 20240202; Time: 184725; SN: 24; ver: 1_1_10; region: SATL-2KM-11N_624_3630\n",
      "Date: 20240130; Time: 173903; SN: 33; ver: 1_1_10; region: SATL-2KM-11N_364_3754\n",
      "Date: 20240222; Time: 074151; SN: 26; ver: 1_1_10; region: SATL-2KM-39N_562_2794\n",
      "Date: 20240519; Time: 214917; SN: 31; ver: 1_5_0; region: SATL-2KM-11N_500_3598\n",
      "Date: 20240101; Time: 213601; SN: 31; ver: 1_1_10; region: SATL-2KM-11N_396_3752\n",
      "Date: 20240224; Time: 214855; SN: 30; ver: 1_1_10; region: SATL-2KM-10N_552_4162\n",
      "Date: 20240227; Time: 214218; SN: 30; ver: 1_1_10; region: SATL-2KM-10N_562_4170\n",
      "Date: 20240321; Time: 220846; SN: 31; ver: 1_2_0; region: SATL-2KM-10N_560_4178\n",
      "Date: 20240112; Time: 192510; SN: 27; ver: 1_1_10; region: SATL-2KM-11N_386_3750\n",
      "Date: 20240617; Time: 184443; SN: 24; ver: 1_7_0; region: SATL-2KM-11N_702_3566\n",
      "Date: 20240201; Time: 075140; SN: 26; ver: 1_1_10; region: SATL-2KM-39N_556_2794\n",
      "Date: 20240115; Time: 213834; SN: 28; ver: 1_1_10; region: SATL-2KM-11N_380_3724\n",
      "20240407_190149_742846_MS_NS24_QUICKVIEW_VISUAL_1_3_0_SATL-2KM-11N_258_4028.txt\n",
      "Date: 20240524; Time: 213504; SN: 29; ver: 1_6_0; region: SATL-2KM-11N_380_3724\n",
      "Date: 20240402; Time: 215427; SN: 31; ver: 1_2_0; region: SATL-2KM-11N_502_3600\n",
      "Date: 20240506; Time: 213507; SN: 43; ver: 1_5_0; region: SATL-2KM-11N_384_3750\n",
      "Date: 20240222; Time: 074155; SN: 26; ver: 1_1_10; region: SATL-2KM-39N_558_2794\n",
      "Date: 20240602; Time: 215203; SN: 30; ver: 1_6_0; region: SATL-2KM-10N_712_3948\n",
      "Date: 20240110; Time: 192002; SN: 27; ver: 1_1_10; region: SATL-2KM-11N_380_3728\n",
      "Date: 20240211; Time: 211057; SN: 30; ver: 1_1_10; region: SATL-2KM-11N_700_3690\n",
      "Date: 20240428; Time: 215557; SN: 43; ver: 1_5_0; region: SATL-2KM-10N_726_3862\n",
      "Date: 20240616; Time: 081345; SN: 27; ver: 1_7_0; region: SATL-2KM-39N_560_2792\n",
      "Date: 20240616; Time: 213047; SN: 30; ver: 1_7_0; region: SATL-2KM-11N_464_3828\n",
      "Date: 20240423; Time: 190101; SN: 26; ver: 1_5_0; region: SATL-2KM-11N_416_3864\n",
      "Date: 20240201; Time: 075140; SN: 26; ver: 1_1_10; region: SATL-2KM-39N_562_2794\n",
      "20240420_181053_341939_MS_NS33_QUICKVIEW_VISUAL_1_3_0_SATL-2KM-10N_556_4180.txt\n",
      "Date: 20240618; Time: 193146; SN: 27; ver: 1_7_0; region: SATL-2KM-11N_530_3682\n",
      "Date: 20240201; Time: 075143; SN: 26; ver: 1_1_10; region: SATL-2KM-39N_562_2788\n",
      "Date: 20240224; Time: 214855; SN: 30; ver: 1_1_10; region: SATL-2KM-10N_554_4162\n",
      "Date: 20240402; Time: 184757; SN: 24; ver: 1_2_0; region: SATL-2KM-11N_490_3638\n",
      "Date: 20240203; Time: 173953; SN: 33; ver: 1_1_10; region: SATL-2KM-11N_366_3756\n",
      "Date: 20240614; Time: 221436; SN: 31; ver: 1_7_0; region: SATL-2KM-10N_558_4184\n",
      "20240412_052750_556466_MS_NS29_QUICKVIEW_VISUAL_1_3_0_SATL-2KM-51N_688_4420.txt\n",
      "Date: 20240428; Time: 191026; SN: 24; ver: 1_5_0; region: SATL-2KM-11N_380_3722\n",
      "Date: 20240605; Time: 212717; SN: 29; ver: 1_7_0; region: SATL-2KM-11N_718_3608\n",
      "Date: 20240201; Time: 075140; SN: 26; ver: 1_1_10; region: SATL-2KM-39N_556_2792\n",
      "Date: 20240520; Time: 194539; SN: 27; ver: 1_5_0; region: SATL-2KM-10N_638_4280\n",
      "Date: 20240401; Time: 175925; SN: 33; ver: 1_2_0; region: SATL-2KM-10N_542_4168\n",
      "Date: 20240322; Time: 184801; SN: 24; ver: 1_2_0; region: SATL-2KM-11N_502_3632\n",
      "Date: 20240402; Time: 215421; SN: 31; ver: 1_2_0; region: SATL-2KM-11N_500_3632\n",
      "Date: 20240609; Time: 191744; SN: 24; ver: 1_7_0; region: SATL-2KM-10N_564_4194\n",
      "Date: 20240102; Time: 185605; SN: 27; ver: 1_1_10; region: SATL-2KM-11N_690_3572\n",
      "Date: 20240520; Time: 194539; SN: 27; ver: 1_5_0; region: SATL-2KM-10N_638_4282\n",
      "Date: 20240616; Time: 081345; SN: 27; ver: 1_7_0; region: SATL-2KM-39N_560_2794\n",
      "Date: 20240524; Time: 213504; SN: 29; ver: 1_6_0; region: SATL-2KM-11N_378_3724\n",
      "Date: 20240423; Time: 190101; SN: 26; ver: 1_5_0; region: SATL-2KM-11N_416_3862\n",
      "Date: 20240201; Time: 075140; SN: 26; ver: 1_1_10; region: SATL-2KM-39N_562_2792\n",
      "Date: 20240609; Time: 191959; SN: 27; ver: 1_7_0; region: SATL-2KM-11N_702_3540\n",
      "Date: 20240507; Time: 191326; SN: 27; ver: 1_5_0; region: SATL-2KM-11N_718_3608\n",
      "Date: 20240321; Time: 190819; SN: 27; ver: 1_2_0; region: SATL-2KM-11N_714_3632\n"
     ]
    }
   ],
   "source": [
    "import re  # Importa la biblioteca para expresiones regulares\n",
    "import glob  # Importa la biblioteca para trabajar con rutas de archivos\n",
    "import os  # Importa la biblioteca para operaciones del sistema operativo\n",
    "\n",
    "# Patrón de regex, la 'r' antes de la cadena indica que es una cadena cruda\n",
    "# Esto significa que Python no interpretará los caracteres de escape como '\\'\n",
    "pattern = r'(\\d{8})_(\\d{6})_SN(\\d+)_QUICKVIEW_VISUAL_([\\d_]+)_([A-Za-z0-9\\-_.]+)\\.txt'  \n",
    "# _QUICKVIEW_VISUAL_ this is the fix part that we never change\n",
    "\n",
    "# Usa glob para obtener una lista de todos los archivos .txt en el directorio 'session_4/annotations/'\n",
    "annotations = glob.glob('session_4/annotations/*.txt')\n",
    "\n",
    "# Itera sobre cada archivo de anotación\n",
    "for annotation in annotations:\n",
    "\n",
    "    # Extrae solo el nombre del archivo (sin la ruta completa)\n",
    "    filename = os.path.basename(annotation)\n",
    "    \n",
    "    # Busca y extrae los valores del nombre del archivo utilizando el patrón de regex\n",
    "    match = re.match(pattern, filename)\n",
    "    if match:\n",
    "        # Si coincide con el patrón, extrae los grupos correspondientes (fecha, hora, etc.)\n",
    "        date, time, satellite_number, version, unique_region = match.groups()\n",
    "        \n",
    "        # Imprime los valores extraídos con un formato claro\n",
    "        print(f\"Date: {date}; Time: {time}; SN: {satellite_number}; ver: {version}; region: {unique_region}\")\n",
    "\n",
    "    else:\n",
    "        print(filename)\n"
   ]
  },
  {
   "cell_type": "code",
   "execution_count": 69,
   "id": "6b9fc572",
   "metadata": {
    "slideshow": {
     "slide_type": "subslide"
    }
   },
   "outputs": [
    {
     "name": "stderr",
     "output_type": "stream",
     "text": [
      "<>:5: SyntaxWarning: invalid escape sequence '\\d'\n",
      "<>:5: SyntaxWarning: invalid escape sequence '\\d'\n",
      "/var/folders/y_/g8zsq_dj7bg5h2rybll0zlk00000gn/T/ipykernel_32075/4176357195.py:5: SyntaxWarning: invalid escape sequence '\\d'\n",
      "  '''\n"
     ]
    },
    {
     "data": {
      "text/plain": [
       "'\\n(\\\\d{8}): Captures 8 digits (YYYYMMDD).\\n_(\\\\d{6}): Captures 6 digits (HHMMSS).\\n_SN(\\\\d+): Captures one or more digits.\\n_QUICKVIEW_VISUAL_([\\\\d_]+): Captures digits and underscores.\\n_([A-Za-z0-9\\\\-_.]+): Captures letters, numbers, hyphens (-), underscores (_), and dots (.).\\n\\\\.txt: Makes sure that the filename ends with .txt.\\n'"
      ]
     },
     "execution_count": 69,
     "metadata": {},
     "output_type": "execute_result"
    }
   ],
   "source": [
    "# explanation of each line\n",
    "\n",
    "pattern = r'(\\d{8})_(\\d{6})_SN(\\d+)_QUICKVIEW_VISUAL_([\\d_]+)_([A-Za-z0-9\\-_.]+)\\.txt'\n",
    "\n",
    "'''\n",
    "(\\d{8}): Captures 8 digits (YYYYMMDD).\n",
    "_(\\d{6}): Captures 6 digits (HHMMSS).\n",
    "_SN(\\d+): Captures one or more digits.\n",
    "_QUICKVIEW_VISUAL_([\\d_]+): Captures digits and underscores.\n",
    "_([A-Za-z0-9\\-_.]+): Captures letters, numbers, hyphens (-), underscores (_), and dots (.).\n",
    "\\.txt: Makes sure that the filename ends with .txt.\n",
    "'''"
   ]
  },
  {
   "cell_type": "markdown",
   "id": "24c2d658",
   "metadata": {
    "slideshow": {
     "slide_type": "slide"
    },
    "tags": []
   },
   "source": [
    "## Basic Libraries II\n",
    "\n",
    "**Time** and **Datetime** are other two Python built-in libraries used in plenty of pipelines involving time measurements, timestamp creation and dates manipulation."
   ]
  },
  {
   "cell_type": "code",
   "execution_count": 70,
   "id": "1a90b193",
   "metadata": {
    "slideshow": {
     "slide_type": "subslide"
    }
   },
   "outputs": [],
   "source": [
    "import time"
   ]
  },
  {
   "cell_type": "code",
   "execution_count": 71,
   "id": "9d51166e",
   "metadata": {
    "slideshow": {
     "slide_type": "fragment"
    }
   },
   "outputs": [
    {
     "name": "stdout",
     "output_type": "stream",
     "text": [
      "1730722777.775599\n"
     ]
    }
   ],
   "source": [
    "# Get current timestamp - you generate a timestamp when you generate something\n",
    "# result: seconds that have passed since one specific moment\n",
    "t = time.time() \n",
    "print(t)"
   ]
  },
  {
   "cell_type": "code",
   "execution_count": 72,
   "id": "dd05bf5d",
   "metadata": {
    "slideshow": {
     "slide_type": "fragment"
    }
   },
   "outputs": [],
   "source": [
    "time.sleep(1) # wait 1 second(s)\n",
    "# telling the system to stop this specific run in the time putted."
   ]
  },
  {
   "cell_type": "code",
   "execution_count": 73,
   "id": "32d7f7e7",
   "metadata": {
    "slideshow": {
     "slide_type": "fragment"
    }
   },
   "outputs": [
    {
     "name": "stdout",
     "output_type": "stream",
     "text": [
      "2024-11-04 13:19:38\n"
     ]
    }
   ],
   "source": [
    "# Formatting time, localtime where the code is run\n",
    "formatted_time = time.strftime(\"%Y-%m-%d %H:%M:%S\", time.localtime()) # specific time in your local machine\n",
    "print(formatted_time)"
   ]
  },
  {
   "cell_type": "code",
   "execution_count": 74,
   "id": "4ec76a98",
   "metadata": {
    "slideshow": {
     "slide_type": "subslide"
    }
   },
   "outputs": [
    {
     "name": "stdout",
     "output_type": "stream",
     "text": [
      "2024-11-04 13:19:38.825142\n",
      "2024-11-04 13:19:38\n",
      "2024-10-17 21:00:00\n",
      "2024-11-11 13:19:38.825142\n"
     ]
    }
   ],
   "source": [
    "from datetime import datetime, timedelta  # Importa las clases 'datetime' y 'timedelta' del módulo 'datetime'\n",
    "\n",
    "# El método now() nos da la fecha y hora actual\n",
    "now = datetime.now()\n",
    "print(now)  # Imprime la fecha y hora actual\n",
    "\n",
    "# Similar a la función strftime de la biblioteca time, podemos usarla con datetime para formatear la fecha\n",
    "formatted_now = now.strftime(\"%Y-%m-%d %H:%M:%S\")  \n",
    "# Formatea la fecha actual como una cadena en el formato \"Año-Mes-Día Hora:Minuto:Segundo\"\n",
    "print(formatted_now)  # Imprime la fecha formateada\n",
    "\n",
    "# Convertir (parsear) una cadena de texto a un objeto datetime usando strptime\n",
    "parsed_date = datetime.strptime(\"2024-10-17 21:00:00\", \"%Y-%m-%d %H:%M:%S\")\n",
    "# Convierte la cadena \"2024-10-17 21:00:00\" en un objeto de tipo datetime con el mismo formato especificado\n",
    "print(parsed_date)  # Imprime la fecha convertida a objeto datetime\n",
    "\n",
    "# Sumar una semana a la fecha actual usando 'timedelta' con 7 días\n",
    "future_date = now + timedelta(days=7)  \n",
    "# Añade 7 días a la fecha y hora actual y genera una nueva fecha\n",
    "print(future_date)  # Imprime la fecha de una semana en el futuro\n"
   ]
  },
  {
   "cell_type": "code",
   "execution_count": 75,
   "id": "adc567b3",
   "metadata": {
    "slideshow": {
     "slide_type": "subslide"
    }
   },
   "outputs": [
    {
     "data": {
      "text/plain": [
       "(2024, 10, 17, 21)"
      ]
     },
     "execution_count": 75,
     "metadata": {},
     "output_type": "execute_result"
    }
   ],
   "source": [
    "parsed_date.year, parsed_date.month, parsed_date.day, parsed_date.hour"
   ]
  },
  {
   "cell_type": "markdown",
   "id": "0fc70e0c",
   "metadata": {
    "slideshow": {
     "slide_type": "slide"
    }
   },
   "source": [
    "## Basic Libraries II\n",
    "\n",
    "Let's now try to use them to order the annotations by date"
   ]
  },
  {
   "cell_type": "code",
   "execution_count": 76,
   "id": "bc5ffd12",
   "metadata": {
    "slideshow": {
     "slide_type": "subslide"
    }
   },
   "outputs": [
    {
     "name": "stdout",
     "output_type": "stream",
     "text": [
      "Datetime Object: 2024-01-02 18:55:27\n",
      "Datetime Object: 2024-06-23 19:37:04\n",
      "Datetime Object: 2024-04-02 18:47:57\n",
      "Datetime Object: 2024-04-23 19:01:01\n",
      "Datetime Object: 2024-02-01 07:51:40\n",
      "Datetime Object: 2024-02-22 07:41:51\n",
      "Datetime Object: 2024-01-01 17:43:01\n",
      "Datetime Object: 2024-02-18 18:01:21\n",
      "Datetime Object: 2024-01-01 19:28:56\n",
      "Datetime Object: 2024-04-02 18:47:57\n",
      "Datetime Object: 2024-01-02 18:59:54\n",
      "Datetime Object: 2024-02-13 21:25:24\n",
      "Datetime Object: 2024-02-22 07:41:55\n",
      "Datetime Object: 2024-06-03 21:52:26\n",
      "Datetime Object: 2024-01-04 22:03:39\n",
      "Datetime Object: 2024-06-03 21:53:48\n",
      "Datetime Object: 2024-06-16 21:30:53\n",
      "Datetime Object: 2024-01-15 21:38:34\n",
      "Datetime Object: 2024-02-22 07:41:55\n",
      "Datetime Object: 2024-03-22 21:25:16\n",
      "Datetime Object: 2024-01-26 17:37:52\n",
      "Datetime Object: 2024-03-17 22:12:29\n",
      "Datetime Object: 2024-05-06 19:20:08\n",
      "Datetime Object: 2024-02-22 07:41:51\n",
      "Datetime Object: 2024-02-20 19:04:55\n",
      "Datetime Object: 2024-01-01 17:43:01\n",
      "Datetime Object: 2024-04-23 19:01:01\n",
      "Datetime Object: 2024-05-21 05:26:21\n",
      "Datetime Object: 2024-05-08 19:45:02\n",
      "Datetime Object: 2024-05-19 19:18:38\n",
      "Datetime Object: 2024-01-30 17:39:03\n",
      "Datetime Object: 2024-06-11 02:59:43\n",
      "Datetime Object: 2024-04-01 22:18:19\n",
      "Datetime Object: 2024-03-16 19:14:51\n",
      "Datetime Object: 2024-05-28 19:14:48\n",
      "Datetime Object: 2024-06-12 18:54:00\n",
      "Datetime Object: 2024-05-09 19:32:06\n",
      "Datetime Object: 2024-03-24 18:02:32\n",
      "Datetime Object: 2024-04-23 19:01:01\n",
      "Datetime Object: 2024-01-27 19:06:20\n",
      "Datetime Object: 2024-06-19 18:57:57\n",
      "Datetime Object: 2024-02-03 17:39:53\n",
      "Datetime Object: 2024-02-22 07:42:56\n",
      "Datetime Object: 2024-06-19 05:24:01\n",
      "Datetime Object: 2024-01-01 19:28:56\n",
      "Datetime Object: 2024-06-16 21:30:47\n",
      "Datetime Object: 2024-04-02 18:47:57\n",
      "Datetime Object: 2024-02-22 07:41:55\n",
      "Datetime Object: 2024-06-16 10:21:44\n",
      "Datetime Object: 2024-02-01 07:51:43\n",
      "Datetime Object: 2024-02-23 02:54:20\n",
      "Datetime Object: 2024-05-16 21:16:30\n",
      "Datetime Object: 2024-03-17 21:51:15\n",
      "Datetime Object: 2024-03-25 17:39:36\n",
      "Datetime Object: 2024-02-28 21:39:51\n",
      "Datetime Object: 2024-02-22 07:41:55\n",
      "Datetime Object: 2024-06-17 05:28:59\n",
      "Datetime Object: 2024-06-08 21:46:14\n",
      "Datetime Object: 2024-03-04 21:28:24\n",
      "Datetime Object: 2024-06-17 21:13:50\n",
      "Datetime Object: 2024-01-27 19:06:20\n",
      "Datetime Object: 2024-04-23 19:01:01\n",
      "Datetime Object: 2024-06-06 18:02:51\n",
      "Datetime Object: 2024-06-13 21:42:03\n",
      "Datetime Object: 2024-03-14 22:00:20\n",
      "Datetime Object: 2024-06-11 02:59:43\n",
      "Datetime Object: 2024-03-22 18:48:01\n",
      "Datetime Object: 2024-06-16 08:13:45\n",
      "Datetime Object: 2024-03-08 21:12:48\n",
      "Datetime Object: 2024-01-01 19:28:56\n",
      "Datetime Object: 2024-04-28 21:54:26\n",
      "Datetime Object: 2024-04-27 22:13:08\n",
      "Datetime Object: 2024-02-01 07:51:40\n",
      "Datetime Object: 2024-05-14 05:27:16\n",
      "Datetime Object: 2024-02-13 21:25:24\n",
      "Datetime Object: 2024-06-09 21:42:59\n",
      "Datetime Object: 2024-06-04 21:49:55\n",
      "Datetime Object: 2024-04-23 19:01:01\n",
      "Datetime Object: 2024-02-13 21:25:24\n",
      "Datetime Object: 2024-06-13 19:22:17\n",
      "Datetime Object: 2024-01-01 21:36:01\n",
      "Datetime Object: 2024-03-17 21:51:15\n",
      "Datetime Object: 2024-04-01 03:24:15\n",
      "Datetime Object: 2024-05-03 21:47:59\n",
      "Datetime Object: 2024-05-19 18:45:34\n",
      "Datetime Object: 2024-06-15 17:36:31\n",
      "Datetime Object: 2024-03-14 22:00:20\n",
      "Datetime Object: 2024-02-19 21:43:12\n",
      "Datetime Object: 2024-01-01 21:36:01\n",
      "Datetime Object: 2024-06-23 21:51:20\n",
      "Datetime Object: 2024-01-28 21:32:58\n",
      "Datetime Object: 2024-06-12 18:54:00\n",
      "Datetime Object: 2024-06-12 05:38:29\n",
      "Datetime Object: 2024-05-21 10:12:52\n",
      "Datetime Object: 2024-06-16 10:21:44\n",
      "Datetime Object: 2024-06-16 08:13:45\n",
      "Datetime Object: 2024-04-28 21:54:26\n",
      "Datetime Object: 2024-02-01 07:51:40\n",
      "Datetime Object: 2024-04-28 21:54:26\n",
      "Datetime Object: 2024-02-16 21:36:30\n",
      "Datetime Object: 2024-06-16 21:30:47\n",
      "Datetime Object: 2024-06-19 21:55:56\n",
      "Datetime Object: 2024-03-17 21:51:15\n",
      "Datetime Object: 2024-02-22 07:41:51\n",
      "Datetime Object: 2024-05-10 19:19:14\n",
      "Datetime Object: 2024-05-28 19:16:04\n",
      "Datetime Object: 2024-06-11 21:53:23\n",
      "Datetime Object: 2024-06-13 05:33:40\n",
      "Datetime Object: 2024-06-12 18:54:19\n",
      "Datetime Object: 2024-02-01 07:51:40\n",
      "Datetime Object: 2024-02-08 18:46:50\n",
      "Datetime Object: 2024-01-28 21:32:58\n",
      "Datetime Object: 2024-02-14 18:43:40\n",
      "Datetime Object: 2024-05-09 21:23:36\n",
      "Datetime Object: 2024-05-08 19:45:02\n",
      "Datetime Object: 2024-01-30 21:50:36\n",
      "Datetime Object: 2024-02-12 21:35:06\n",
      "Datetime Object: 2024-05-19 21:49:17\n",
      "Datetime Object: 2024-06-12 05:38:29\n",
      "Datetime Object: 2024-02-22 07:41:55\n",
      "Datetime Object: 2024-06-16 21:30:47\n",
      "Datetime Object: 2024-06-12 18:54:00\n",
      "Datetime Object: 2024-06-10 19:10:18\n",
      "Datetime Object: 2024-04-01 17:59:18\n",
      "Datetime Object: 2024-01-27 19:06:20\n",
      "Datetime Object: 2024-05-13 21:20:22\n",
      "Datetime Object: 2024-02-22 21:22:50\n",
      "Datetime Object: 2024-01-27 19:06:20\n",
      "Datetime Object: 2024-03-08 19:12:12\n",
      "Datetime Object: 2024-06-13 05:33:40\n",
      "Datetime Object: 2024-05-16 19:03:28\n",
      "Datetime Object: 2024-02-21 19:06:08\n",
      "Datetime Object: 2024-02-09 21:27:44\n",
      "Datetime Object: 2024-05-19 21:49:17\n",
      "Datetime Object: 2024-06-16 10:21:44\n",
      "Datetime Object: 2024-06-18 21:55:39\n",
      "Datetime Object: 2024-06-23 21:51:02\n",
      "Datetime Object: 2024-05-21 10:12:52\n",
      "Datetime Object: 2024-06-07 20:02:50\n",
      "Datetime Object: 2024-04-26 21:52:24\n",
      "Datetime Object: 2024-05-10 19:19:08\n",
      "Datetime Object: 2024-02-22 07:41:51\n",
      "Datetime Object: 2024-06-18 21:55:39\n",
      "Datetime Object: 2024-06-02 21:52:03\n",
      "Datetime Object: 2024-01-30 17:39:03\n",
      "Datetime Object: 2024-02-02 19:11:14\n",
      "Datetime Object: 2024-04-01 17:59:18\n",
      "Datetime Object: 2024-02-02 18:47:25\n",
      "Datetime Object: 2024-01-30 17:39:03\n",
      "Datetime Object: 2024-02-22 07:41:51\n",
      "Datetime Object: 2024-05-19 21:49:17\n",
      "Datetime Object: 2024-01-01 21:36:01\n",
      "Datetime Object: 2024-02-24 21:48:55\n",
      "Datetime Object: 2024-02-27 21:42:18\n",
      "Datetime Object: 2024-03-21 22:08:46\n",
      "Datetime Object: 2024-01-12 19:25:10\n",
      "Datetime Object: 2024-06-17 18:44:43\n",
      "Datetime Object: 2024-02-01 07:51:40\n",
      "Datetime Object: 2024-01-15 21:38:34\n",
      "Datetime Object: 2024-05-24 21:35:04\n",
      "Datetime Object: 2024-04-02 21:54:27\n",
      "Datetime Object: 2024-05-06 21:35:07\n",
      "Datetime Object: 2024-02-22 07:41:55\n",
      "Datetime Object: 2024-06-02 21:52:03\n",
      "Datetime Object: 2024-01-10 19:20:02\n",
      "Datetime Object: 2024-02-11 21:10:57\n",
      "Datetime Object: 2024-04-28 21:55:57\n",
      "Datetime Object: 2024-06-16 08:13:45\n",
      "Datetime Object: 2024-06-16 21:30:47\n",
      "Datetime Object: 2024-04-23 19:01:01\n",
      "Datetime Object: 2024-02-01 07:51:40\n",
      "Datetime Object: 2024-06-18 19:31:46\n",
      "Datetime Object: 2024-02-01 07:51:43\n",
      "Datetime Object: 2024-02-24 21:48:55\n",
      "Datetime Object: 2024-04-02 18:47:57\n",
      "Datetime Object: 2024-02-03 17:39:53\n",
      "Datetime Object: 2024-06-14 22:14:36\n",
      "Datetime Object: 2024-04-28 19:10:26\n",
      "Datetime Object: 2024-06-05 21:27:17\n",
      "Datetime Object: 2024-02-01 07:51:40\n",
      "Datetime Object: 2024-05-20 19:45:39\n",
      "Datetime Object: 2024-04-01 17:59:25\n",
      "Datetime Object: 2024-03-22 18:48:01\n",
      "Datetime Object: 2024-04-02 21:54:21\n",
      "Datetime Object: 2024-06-09 19:17:44\n",
      "Datetime Object: 2024-01-02 18:56:05\n",
      "Datetime Object: 2024-05-20 19:45:39\n",
      "Datetime Object: 2024-06-16 08:13:45\n",
      "Datetime Object: 2024-05-24 21:35:04\n",
      "Datetime Object: 2024-04-23 19:01:01\n",
      "Datetime Object: 2024-02-01 07:51:40\n",
      "Datetime Object: 2024-06-09 19:19:59\n",
      "Datetime Object: 2024-05-07 19:13:26\n",
      "Datetime Object: 2024-03-21 19:08:19\n",
      "[('20240102_185527_SN27_QUICKVIEW_VISUAL_1_1_10_SATL-2KM-11N_740_3850.txt', datetime.datetime(2024, 1, 2, 18, 55, 27)), ('20240623_193704_SN27_QUICKVIEW_VISUAL_1_7_0_SATL-2KM-11N_566_3734.txt', datetime.datetime(2024, 6, 23, 19, 37, 4)), ('20240402_184757_SN24_QUICKVIEW_VISUAL_1_2_0_SATL-2KM-11N_488_3638.txt', datetime.datetime(2024, 4, 2, 18, 47, 57)), ('20240423_190101_SN26_QUICKVIEW_VISUAL_1_5_0_SATL-2KM-11N_418_3872.txt', datetime.datetime(2024, 4, 23, 19, 1, 1)), ('20240201_075140_SN26_QUICKVIEW_VISUAL_1_1_10_SATL-2KM-39N_558_2794.txt', datetime.datetime(2024, 2, 1, 7, 51, 40)), ('20240222_074151_SN26_QUICKVIEW_VISUAL_1_1_10_SATL-2KM-39N_560_2794.txt', datetime.datetime(2024, 2, 22, 7, 41, 51)), ('20240101_174301_SN33_QUICKVIEW_VISUAL_1_1_10_SATL-2KM-11N_404_3770.txt', datetime.datetime(2024, 1, 1, 17, 43, 1)), ('20240218_180121_SN33_QUICKVIEW_VISUAL_1_1_10_SATL-2KM-10N_568_4176.txt', datetime.datetime(2024, 2, 18, 18, 1, 21)), ('20240101_192856_SN24_QUICKVIEW_VISUAL_1_1_10_SATL-2KM-10N_552_4164.txt', datetime.datetime(2024, 1, 1, 19, 28, 56)), ('20240402_184757_SN24_QUICKVIEW_VISUAL_1_2_0_SATL-2KM-11N_486_3630.txt', datetime.datetime(2024, 4, 2, 18, 47, 57)), ('20240102_185954_SN24_QUICKVIEW_VISUAL_1_1_10_SATL-2KM-11N_414_3786.txt', datetime.datetime(2024, 1, 2, 18, 59, 54)), ('20240213_212524_SN29_QUICKVIEW_VISUAL_1_1_10_SATL-2KM-11N_542_3750.txt', datetime.datetime(2024, 2, 13, 21, 25, 24)), ('20240222_074155_SN26_QUICKVIEW_VISUAL_1_1_10_SATL-2KM-39N_556_2794.txt', datetime.datetime(2024, 2, 22, 7, 41, 55)), ('20240603_215226_SN28_QUICKVIEW_VISUAL_1_6_0_SATL-2KM-11N_248_4068.txt', datetime.datetime(2024, 6, 3, 21, 52, 26)), ('20240104_220339_SN31_QUICKVIEW_VISUAL_1_1_10_SATL-2KM-10N_556_4178.txt', datetime.datetime(2024, 1, 4, 22, 3, 39)), ('20240603_215348_SN28_QUICKVIEW_VISUAL_1_6_0_SATL-2KM-11N_346_3786.txt', datetime.datetime(2024, 6, 3, 21, 53, 48)), ('20240616_213053_SN30_QUICKVIEW_VISUAL_1_7_0_SATL-2KM-11N_460_3792.txt', datetime.datetime(2024, 6, 16, 21, 30, 53)), ('20240115_213834_SN28_QUICKVIEW_VISUAL_1_1_10_SATL-2KM-11N_376_3722.txt', datetime.datetime(2024, 1, 15, 21, 38, 34)), ('20240222_074155_SN26_QUICKVIEW_VISUAL_1_1_10_SATL-2KM-39N_562_2794.txt', datetime.datetime(2024, 2, 22, 7, 41, 55)), ('20240322_212516_SN28_QUICKVIEW_VISUAL_1_2_0_SATL-2KM-11N_502_3600.txt', datetime.datetime(2024, 3, 22, 21, 25, 16)), ('20240126_173752_SN33_QUICKVIEW_VISUAL_1_1_10_SATL-2KM-11N_386_3722.txt', datetime.datetime(2024, 1, 26, 17, 37, 52)), ('20240317_221229_SN31_QUICKVIEW_VISUAL_1_2_0_SATL-2KM-10N_556_4176.txt', datetime.datetime(2024, 3, 17, 22, 12, 29)), ('20240506_192008_SN26_QUICKVIEW_VISUAL_1_5_0_SATL-2KM-10N_562_4178.txt', datetime.datetime(2024, 5, 6, 19, 20, 8)), ('20240222_074151_SN26_QUICKVIEW_VISUAL_1_1_10_SATL-2KM-39N_560_2796.txt', datetime.datetime(2024, 2, 22, 7, 41, 51)), ('20240220_190455_SN27_QUICKVIEW_VISUAL_1_1_10_SATL-2KM-11N_718_3608.txt', datetime.datetime(2024, 2, 20, 19, 4, 55)), ('20240101_174301_SN33_QUICKVIEW_VISUAL_1_1_10_SATL-2KM-11N_404_3772.txt', datetime.datetime(2024, 1, 1, 17, 43, 1)), ('20240423_190101_SN26_QUICKVIEW_VISUAL_1_5_0_SATL-2KM-11N_418_3864.txt', datetime.datetime(2024, 4, 23, 19, 1, 1)), ('20240521_052621_SN43_QUICKVIEW_VISUAL_1_6_0_SATL-2KM-51N_730_4342.txt', datetime.datetime(2024, 5, 21, 5, 26, 21)), ('20240508_194502_SN27_QUICKVIEW_VISUAL_1_5_0_SATL-2KM-11N_264_4022.txt', datetime.datetime(2024, 5, 8, 19, 45, 2)), ('20240519_191838_SN27_QUICKVIEW_VISUAL_1_5_0_SATL-2KM-11N_718_3608.txt', datetime.datetime(2024, 5, 19, 19, 18, 38)), ('20240130_173903_SN33_QUICKVIEW_VISUAL_1_1_10_SATL-2KM-11N_366_3756.txt', datetime.datetime(2024, 1, 30, 17, 39, 3)), ('20240611_025943_SN26_QUICKVIEW_VISUAL_1_7_0_SATL-2KM-51N_748_4366.txt', datetime.datetime(2024, 6, 11, 2, 59, 43)), ('20240401_221819_SN31_QUICKVIEW_VISUAL_1_2_0_SATL-2KM-10N_602_4148.txt', datetime.datetime(2024, 4, 1, 22, 18, 19)), ('20240316_191451_SN26_QUICKVIEW_VISUAL_1_2_0_SATL-2KM-11N_380_3764.txt', datetime.datetime(2024, 3, 16, 19, 14, 51)), ('20240528_191448_SN24_QUICKVIEW_VISUAL_1_6_0_SATL-2KM-11N_248_4068.txt', datetime.datetime(2024, 5, 28, 19, 14, 48)), ('20240612_185400_SN24_QUICKVIEW_VISUAL_1_7_0_SATL-2KM-11N_574_3714.txt', datetime.datetime(2024, 6, 12, 18, 54)), ('20240509_193206_SN26_QUICKVIEW_VISUAL_1_5_0_SATL-2KM-10N_562_4196.txt', datetime.datetime(2024, 5, 9, 19, 32, 6)), ('20240324_180232_SN33_QUICKVIEW_VISUAL_1_2_0_SATL-2KM-10N_554_4172.txt', datetime.datetime(2024, 3, 24, 18, 2, 32)), ('20240423_190101_SN26_QUICKVIEW_VISUAL_1_5_0_SATL-2KM-11N_418_3860.txt', datetime.datetime(2024, 4, 23, 19, 1, 1)), ('20240127_190620_SN27_QUICKVIEW_VISUAL_1_1_10_SATL-2KM-11N_500_3600.txt', datetime.datetime(2024, 1, 27, 19, 6, 20)), ('20240619_185757_SN24_QUICKVIEW_VISUAL_1_7_0_SATL-2KM-11N_528_3700.txt', datetime.datetime(2024, 6, 19, 18, 57, 57)), ('20240203_173953_SN33_QUICKVIEW_VISUAL_1_1_10_SATL-2KM-11N_368_3756.txt', datetime.datetime(2024, 2, 3, 17, 39, 53)), ('20240222_074256_SN26_QUICKVIEW_VISUAL_1_1_10_SATL-2KM-39N_564_2790.txt', datetime.datetime(2024, 2, 22, 7, 42, 56)), ('20240619_052401_SN30_QUICKVIEW_VISUAL_1_7_0_SATL-2KM-52N_368_4336.txt', datetime.datetime(2024, 6, 19, 5, 24, 1)), ('20240101_192856_SN24_QUICKVIEW_VISUAL_1_1_10_SATL-2KM-10N_552_4162.txt', datetime.datetime(2024, 1, 1, 19, 28, 56)), ('20240616_213047_SN30_QUICKVIEW_VISUAL_1_7_0_SATL-2KM-11N_464_3830.txt', datetime.datetime(2024, 6, 16, 21, 30, 47)), ('20240402_184757_SN24_QUICKVIEW_VISUAL_1_2_0_SATL-2KM-11N_486_3636.txt', datetime.datetime(2024, 4, 2, 18, 47, 57)), ('20240222_074155_SN26_QUICKVIEW_VISUAL_1_1_10_SATL-2KM-39N_556_2792.txt', datetime.datetime(2024, 2, 22, 7, 41, 55)), ('20240616_102144_SN28_QUICKVIEW_VISUAL_1_7_0_SATL-2KM-39N_560_2792.txt', datetime.datetime(2024, 6, 16, 10, 21, 44)), ('20240201_075143_SN26_QUICKVIEW_VISUAL_1_1_10_SATL-2KM-39N_556_2792.txt', datetime.datetime(2024, 2, 1, 7, 51, 43)), ('20240223_025420_SN24_QUICKVIEW_VISUAL_1_1_10_SATL-2KM-51N_686_4422.txt', datetime.datetime(2024, 2, 23, 2, 54, 20)), ('20240516_211630_SN28_QUICKVIEW_VISUAL_1_5_0_SATL-2KM-11N_716_3848.txt', datetime.datetime(2024, 5, 16, 21, 16, 30)), ('20240317_215115_SN28_QUICKVIEW_VISUAL_1_2_0_SATL-2KM-10N_554_4162.txt', datetime.datetime(2024, 3, 17, 21, 51, 15)), ('20240325_173936_SN33_QUICKVIEW_VISUAL_1_2_0_SATL-2KM-11N_378_3722.txt', datetime.datetime(2024, 3, 25, 17, 39, 36)), ('20240228_213951_SN29_QUICKVIEW_VISUAL_1_1_10_SATL-2KM-11N_248_4068.txt', datetime.datetime(2024, 2, 28, 21, 39, 51)), ('20240222_074155_SN26_QUICKVIEW_VISUAL_1_1_10_SATL-2KM-39N_562_2792.txt', datetime.datetime(2024, 2, 22, 7, 41, 55)), ('20240617_052859_SN29_QUICKVIEW_VISUAL_1_7_0_SATL-2KM-51N_730_4348.txt', datetime.datetime(2024, 6, 17, 5, 28, 59)), ('20240608_214614_SN29_QUICKVIEW_VISUAL_1_7_0_SATL-2KM-11N_248_4068.txt', datetime.datetime(2024, 6, 8, 21, 46, 14)), ('20240304_212824_SN30_QUICKVIEW_VISUAL_1_2_0_SATL-2KM-11N_378_3722.txt', datetime.datetime(2024, 3, 4, 21, 28, 24)), ('20240617_211350_SN29_QUICKVIEW_VISUAL_1_7_0_SATL-2KM-11N_724_3614.txt', datetime.datetime(2024, 6, 17, 21, 13, 50)), ('20240127_190620_SN27_QUICKVIEW_VISUAL_1_1_10_SATL-2KM-11N_500_3602.txt', datetime.datetime(2024, 1, 27, 19, 6, 20)), ('20240423_190101_SN26_QUICKVIEW_VISUAL_1_5_0_SATL-2KM-11N_418_3862.txt', datetime.datetime(2024, 4, 23, 19, 1, 1)), ('20240606_180251_SN33_QUICKVIEW_VISUAL_1_7_0_SATL-2KM-10N_556_4180.txt', datetime.datetime(2024, 6, 6, 18, 2, 51)), ('20240613_214203_SN43_QUICKVIEW_VISUAL_1_7_0_SATL-2KM-11N_384_3750.txt', datetime.datetime(2024, 6, 13, 21, 42, 3)), ('20240314_220020_SN30_QUICKVIEW_VISUAL_1_2_0_SATL-2KM-10N_544_4186.txt', datetime.datetime(2024, 3, 14, 22, 0, 20)), ('20240611_025943_SN26_QUICKVIEW_VISUAL_1_7_0_SATL-2KM-51N_748_4364.txt', datetime.datetime(2024, 6, 11, 2, 59, 43)), ('20240322_184801_SN24_QUICKVIEW_VISUAL_1_2_0_SATL-2KM-11N_500_3632.txt', datetime.datetime(2024, 3, 22, 18, 48, 1)), ('20240616_081345_SN27_QUICKVIEW_VISUAL_1_7_0_SATL-2KM-39N_562_2794.txt', datetime.datetime(2024, 6, 16, 8, 13, 45)), ('20240308_211248_SN29_QUICKVIEW_VISUAL_1_2_0_SATL-2KM-11N_718_3640.txt', datetime.datetime(2024, 3, 8, 21, 12, 48)), ('20240101_192856_SN24_QUICKVIEW_VISUAL_1_1_10_SATL-2KM-10N_554_4162.txt', datetime.datetime(2024, 1, 1, 19, 28, 56)), ('20240428_215426_SN43_QUICKVIEW_VISUAL_1_5_0_SATL-2KM-10N_630_4264.txt', datetime.datetime(2024, 4, 28, 21, 54, 26)), ('20240427_221308_SN31_QUICKVIEW_VISUAL_1_5_0_SATL-2KM-10N_722_3848.txt', datetime.datetime(2024, 4, 27, 22, 13, 8)), ('20240201_075140_SN26_QUICKVIEW_VISUAL_1_1_10_SATL-2KM-39N_560_2792.txt', datetime.datetime(2024, 2, 1, 7, 51, 40)), ('20240514_052716_SN43_QUICKVIEW_VISUAL_1_5_0_SATL-2KM-51N_730_4342.txt', datetime.datetime(2024, 5, 14, 5, 27, 16)), ('20240213_212524_SN29_QUICKVIEW_VISUAL_1_1_10_SATL-2KM-11N_544_3742.txt', datetime.datetime(2024, 2, 13, 21, 25, 24)), ('20240609_214259_SN30_QUICKVIEW_VISUAL_1_7_0_SATL-2KM-11N_262_4052.txt', datetime.datetime(2024, 6, 9, 21, 42, 59)), ('20240604_214955_SN29_QUICKVIEW_VISUAL_1_7_0_SATL-2KM-10N_594_4136.txt', datetime.datetime(2024, 6, 4, 21, 49, 55)), ('20240423_190101_SN26_QUICKVIEW_VISUAL_1_5_0_SATL-2KM-11N_414_3862.txt', datetime.datetime(2024, 4, 23, 19, 1, 1)), ('20240213_212524_SN29_QUICKVIEW_VISUAL_1_1_10_SATL-2KM-11N_540_3748.txt', datetime.datetime(2024, 2, 13, 21, 25, 24)), ('20240613_192217_SN26_QUICKVIEW_VISUAL_1_7_0_SATL-2KM-10N_560_4178.txt', datetime.datetime(2024, 6, 13, 19, 22, 17)), ('20240101_213601_SN31_QUICKVIEW_VISUAL_1_1_10_SATL-2KM-11N_392_3740.txt', datetime.datetime(2024, 1, 1, 21, 36, 1)), ('20240317_215115_SN28_QUICKVIEW_VISUAL_1_2_0_SATL-2KM-10N_552_4162.txt', datetime.datetime(2024, 3, 17, 21, 51, 15)), ('20240401_032415_SN27_QUICKVIEW_VISUAL_1_2_0_SATL-2KM-51N_688_4420.txt', datetime.datetime(2024, 4, 1, 3, 24, 15)), ('20240503_214759_SN28_QUICKVIEW_VISUAL_1_5_0_SATL-2KM-11N_376_3724.txt', datetime.datetime(2024, 5, 3, 21, 47, 59)), ('20240519_184534_SN24_QUICKVIEW_VISUAL_1_5_0_SATL-2KM-11N_658_3700.txt', datetime.datetime(2024, 5, 19, 18, 45, 34)), ('20240615_173631_SN33_QUICKVIEW_VISUAL_1_7_0_SATL-2KM-11N_546_3742.txt', datetime.datetime(2024, 6, 15, 17, 36, 31)), ('20240314_220020_SN30_QUICKVIEW_VISUAL_1_2_0_SATL-2KM-10N_550_4202.txt', datetime.datetime(2024, 3, 14, 22, 0, 20)), ('20240219_214312_SN28_QUICKVIEW_VISUAL_1_1_10_SATL-2KM-11N_252_3954.txt', datetime.datetime(2024, 2, 19, 21, 43, 12)), ('20240101_213601_SN31_QUICKVIEW_VISUAL_1_1_10_SATL-2KM-11N_392_3742.txt', datetime.datetime(2024, 1, 1, 21, 36, 1)), ('20240623_215120_SN29_QUICKVIEW_VISUAL_1_7_0_SATL-2KM-10N_596_4134.txt', datetime.datetime(2024, 6, 23, 21, 51, 20)), ('20240128_213258_SN29_QUICKVIEW_VISUAL_1_1_10_SATL-2KM-11N_418_3864.txt', datetime.datetime(2024, 1, 28, 21, 32, 58)), ('20240612_185400_SN24_QUICKVIEW_VISUAL_1_7_0_SATL-2KM-11N_576_3720.txt', datetime.datetime(2024, 6, 12, 18, 54)), ('20240612_053829_SN28_QUICKVIEW_VISUAL_1_7_0_SATL-2KM-51N_686_4422.txt', datetime.datetime(2024, 6, 12, 5, 38, 29)), ('20240521_101252_SN43_QUICKVIEW_VISUAL_1_6_0_SATL-2KM-39N_556_2792.txt', datetime.datetime(2024, 5, 21, 10, 12, 52)), ('20240616_102144_SN28_QUICKVIEW_VISUAL_1_7_0_SATL-2KM-39N_558_2794.txt', datetime.datetime(2024, 6, 16, 10, 21, 44)), ('20240616_081345_SN27_QUICKVIEW_VISUAL_1_7_0_SATL-2KM-39N_562_2792.txt', datetime.datetime(2024, 6, 16, 8, 13, 45)), ('20240428_215426_SN43_QUICKVIEW_VISUAL_1_5_0_SATL-2KM-10N_630_4262.txt', datetime.datetime(2024, 4, 28, 21, 54, 26)), ('20240201_075140_SN26_QUICKVIEW_VISUAL_1_1_10_SATL-2KM-39N_560_2794.txt', datetime.datetime(2024, 2, 1, 7, 51, 40)), ('20240428_215426_SN43_QUICKVIEW_VISUAL_1_5_0_SATL-2KM-10N_634_4282.txt', datetime.datetime(2024, 4, 28, 21, 54, 26)), ('20240216_213630_SN31_QUICKVIEW_VISUAL_1_1_10_SATL-2KM-11N_418_3724.txt', datetime.datetime(2024, 2, 16, 21, 36, 30)), ('20240616_213047_SN30_QUICKVIEW_VISUAL_1_7_0_SATL-2KM-11N_466_3828.txt', datetime.datetime(2024, 6, 16, 21, 30, 47)), ('20240619_215556_SN29_QUICKVIEW_VISUAL_1_7_0_SATL-2KM-10N_742_4460.txt', datetime.datetime(2024, 6, 19, 21, 55, 56)), ('20240317_215115_SN28_QUICKVIEW_VISUAL_1_2_0_SATL-2KM-10N_552_4164.txt', datetime.datetime(2024, 3, 17, 21, 51, 15)), ('20240222_074151_SN26_QUICKVIEW_VISUAL_1_1_10_SATL-2KM-39N_558_2796.txt', datetime.datetime(2024, 2, 22, 7, 41, 51)), ('20240510_191914_SN27_QUICKVIEW_VISUAL_1_5_0_SATL-2KM-11N_712_3566.txt', datetime.datetime(2024, 5, 10, 19, 19, 14)), ('20240528_191604_SN24_QUICKVIEW_VISUAL_1_6_0_SATL-2KM-11N_344_3836.txt', datetime.datetime(2024, 5, 28, 19, 16, 4)), ('20240611_215323_SN30_QUICKVIEW_VISUAL_1_7_0_SATL-2KM-10N_702_3948.txt', datetime.datetime(2024, 6, 11, 21, 53, 23)), ('20240613_053340_SN29_QUICKVIEW_VISUAL_1_7_0_SATL-2KM-51N_728_4342.txt', datetime.datetime(2024, 6, 13, 5, 33, 40)), ('20240612_185419_SN24_QUICKVIEW_VISUAL_1_7_0_SATL-2KM-11N_554_3610.txt', datetime.datetime(2024, 6, 12, 18, 54, 19)), ('20240201_075140_SN26_QUICKVIEW_VISUAL_1_1_10_SATL-2KM-39N_560_2796.txt', datetime.datetime(2024, 2, 1, 7, 51, 40)), ('20240208_184650_SN24_QUICKVIEW_VISUAL_1_1_10_SATL-2KM-11N_624_3632.txt', datetime.datetime(2024, 2, 8, 18, 46, 50)), ('20240128_213258_SN29_QUICKVIEW_VISUAL_1_1_10_SATL-2KM-11N_418_3862.txt', datetime.datetime(2024, 1, 28, 21, 32, 58)), ('20240214_184340_SN24_QUICKVIEW_VISUAL_1_1_10_SATL-2KM-11N_688_3630.txt', datetime.datetime(2024, 2, 14, 18, 43, 40)), ('20240509_212336_SN29_QUICKVIEW_VISUAL_1_5_0_SATL-2KM-11N_706_3778.txt', datetime.datetime(2024, 5, 9, 21, 23, 36)), ('20240508_194502_SN27_QUICKVIEW_VISUAL_1_5_0_SATL-2KM-11N_262_4022.txt', datetime.datetime(2024, 5, 8, 19, 45, 2)), ('20240130_215036_SN31_QUICKVIEW_VISUAL_1_1_10_SATL-2KM-11N_366_3756.txt', datetime.datetime(2024, 1, 30, 21, 50, 36)), ('20240212_213506_SN31_QUICKVIEW_VISUAL_1_1_10_SATL-2KM-11N_408_3712.txt', datetime.datetime(2024, 2, 12, 21, 35, 6)), ('20240519_214917_SN31_QUICKVIEW_VISUAL_1_5_0_SATL-2KM-11N_500_3600.txt', datetime.datetime(2024, 5, 19, 21, 49, 17)), ('20240612_053829_SN28_QUICKVIEW_VISUAL_1_7_0_SATL-2KM-51N_688_4420.txt', datetime.datetime(2024, 6, 12, 5, 38, 29)), ('20240222_074155_SN26_QUICKVIEW_VISUAL_1_1_10_SATL-2KM-39N_560_2792.txt', datetime.datetime(2024, 2, 22, 7, 41, 55)), ('20240616_213047_SN30_QUICKVIEW_VISUAL_1_7_0_SATL-2KM-11N_466_3826.txt', datetime.datetime(2024, 6, 16, 21, 30, 47)), ('20240612_185400_SN24_QUICKVIEW_VISUAL_1_7_0_SATL-2KM-11N_578_3722.txt', datetime.datetime(2024, 6, 12, 18, 54)), ('20240610_191018_SN26_QUICKVIEW_VISUAL_1_7_0_SATL-2KM-11N_384_3750.txt', datetime.datetime(2024, 6, 10, 19, 10, 18)), ('20240401_175918_SN33_QUICKVIEW_VISUAL_1_2_0_SATL-2KM-10N_542_4168.txt', datetime.datetime(2024, 4, 1, 17, 59, 18)), ('20240127_190620_SN27_QUICKVIEW_VISUAL_1_1_10_SATL-2KM-11N_502_3602.txt', datetime.datetime(2024, 1, 27, 19, 6, 20)), ('20240513_212022_SN29_QUICKVIEW_VISUAL_1_5_0_SATL-2KM-11N_630_3742.txt', datetime.datetime(2024, 5, 13, 21, 20, 22)), ('20240222_212250_SN30_QUICKVIEW_VISUAL_1_1_10_SATL-2KM-11N_382_3722.txt', datetime.datetime(2024, 2, 22, 21, 22, 50)), ('20240127_190620_SN27_QUICKVIEW_VISUAL_1_1_10_SATL-2KM-11N_502_3600.txt', datetime.datetime(2024, 1, 27, 19, 6, 20)), ('20240308_191212_SN27_QUICKVIEW_VISUAL_1_2_0_SATL-2KM-11N_506_3614.txt', datetime.datetime(2024, 3, 8, 19, 12, 12)), ('20240613_053340_SN29_QUICKVIEW_VISUAL_1_7_0_SATL-2KM-51N_730_4342.txt', datetime.datetime(2024, 6, 13, 5, 33, 40)), ('20240516_190328_SN24_QUICKVIEW_VISUAL_1_5_0_SATL-2KM-11N_262_4052.txt', datetime.datetime(2024, 5, 16, 19, 3, 28)), ('20240221_190608_SN26_QUICKVIEW_VISUAL_1_1_10_SATL-2KM-11N_380_3764.txt', datetime.datetime(2024, 2, 21, 19, 6, 8)), ('20240209_212744_SN29_QUICKVIEW_VISUAL_1_1_10_SATL-2KM-11N_380_3722.txt', datetime.datetime(2024, 2, 9, 21, 27, 44)), ('20240519_214917_SN31_QUICKVIEW_VISUAL_1_5_0_SATL-2KM-11N_500_3602.txt', datetime.datetime(2024, 5, 19, 21, 49, 17)), ('20240616_102144_SN28_QUICKVIEW_VISUAL_1_7_0_SATL-2KM-39N_556_2794.txt', datetime.datetime(2024, 6, 16, 10, 21, 44)), ('20240618_215539_SN31_QUICKVIEW_VISUAL_1_7_0_SATL-2KM-11N_452_3740.txt', datetime.datetime(2024, 6, 18, 21, 55, 39)), ('20240623_215102_SN43_QUICKVIEW_VISUAL_1_7_0_SATL-2KM-11N_384_3750.txt', datetime.datetime(2024, 6, 23, 21, 51, 2)), ('20240521_101252_SN43_QUICKVIEW_VISUAL_1_6_0_SATL-2KM-39N_558_2796.txt', datetime.datetime(2024, 5, 21, 10, 12, 52)), ('20240607_200250_SN27_QUICKVIEW_VISUAL_1_7_0_SATL-2KM-10N_554_4172.txt', datetime.datetime(2024, 6, 7, 20, 2, 50)), ('20240426_215224_SN29_QUICKVIEW_VISUAL_1_5_0_SATL-2KM-11N_244_3818.txt', datetime.datetime(2024, 4, 26, 21, 52, 24)), ('20240510_191908_SN27_QUICKVIEW_VISUAL_1_5_0_SATL-2KM-11N_718_3608.txt', datetime.datetime(2024, 5, 10, 19, 19, 8)), ('20240222_074151_SN26_QUICKVIEW_VISUAL_1_1_10_SATL-2KM-39N_556_2794.txt', datetime.datetime(2024, 2, 22, 7, 41, 51)), ('20240618_215539_SN31_QUICKVIEW_VISUAL_1_7_0_SATL-2KM-11N_458_3756.txt', datetime.datetime(2024, 6, 18, 21, 55, 39)), ('20240602_215203_SN30_QUICKVIEW_VISUAL_1_6_0_SATL-2KM-10N_714_3948.txt', datetime.datetime(2024, 6, 2, 21, 52, 3)), ('20240130_173903_SN33_QUICKVIEW_VISUAL_1_1_10_SATL-2KM-11N_360_3748.txt', datetime.datetime(2024, 1, 30, 17, 39, 3)), ('20240202_191114_SN27_QUICKVIEW_VISUAL_1_1_10_SATL-2KM-11N_718_3608.txt', datetime.datetime(2024, 2, 2, 19, 11, 14)), ('20240401_175918_SN33_QUICKVIEW_VISUAL_1_2_0_SATL-2KM-10N_546_4206.txt', datetime.datetime(2024, 4, 1, 17, 59, 18)), ('20240202_184725_SN24_QUICKVIEW_VISUAL_1_1_10_SATL-2KM-11N_624_3630.txt', datetime.datetime(2024, 2, 2, 18, 47, 25)), ('20240130_173903_SN33_QUICKVIEW_VISUAL_1_1_10_SATL-2KM-11N_364_3754.txt', datetime.datetime(2024, 1, 30, 17, 39, 3)), ('20240222_074151_SN26_QUICKVIEW_VISUAL_1_1_10_SATL-2KM-39N_562_2794.txt', datetime.datetime(2024, 2, 22, 7, 41, 51)), ('20240519_214917_SN31_QUICKVIEW_VISUAL_1_5_0_SATL-2KM-11N_500_3598.txt', datetime.datetime(2024, 5, 19, 21, 49, 17)), ('20240101_213601_SN31_QUICKVIEW_VISUAL_1_1_10_SATL-2KM-11N_396_3752.txt', datetime.datetime(2024, 1, 1, 21, 36, 1)), ('20240224_214855_SN30_QUICKVIEW_VISUAL_1_1_10_SATL-2KM-10N_552_4162.txt', datetime.datetime(2024, 2, 24, 21, 48, 55)), ('20240227_214218_SN30_QUICKVIEW_VISUAL_1_1_10_SATL-2KM-10N_562_4170.txt', datetime.datetime(2024, 2, 27, 21, 42, 18)), ('20240321_220846_SN31_QUICKVIEW_VISUAL_1_2_0_SATL-2KM-10N_560_4178.txt', datetime.datetime(2024, 3, 21, 22, 8, 46)), ('20240112_192510_SN27_QUICKVIEW_VISUAL_1_1_10_SATL-2KM-11N_386_3750.txt', datetime.datetime(2024, 1, 12, 19, 25, 10)), ('20240617_184443_SN24_QUICKVIEW_VISUAL_1_7_0_SATL-2KM-11N_702_3566.txt', datetime.datetime(2024, 6, 17, 18, 44, 43)), ('20240201_075140_SN26_QUICKVIEW_VISUAL_1_1_10_SATL-2KM-39N_556_2794.txt', datetime.datetime(2024, 2, 1, 7, 51, 40)), ('20240115_213834_SN28_QUICKVIEW_VISUAL_1_1_10_SATL-2KM-11N_380_3724.txt', datetime.datetime(2024, 1, 15, 21, 38, 34)), ('20240524_213504_SN29_QUICKVIEW_VISUAL_1_6_0_SATL-2KM-11N_380_3724.txt', datetime.datetime(2024, 5, 24, 21, 35, 4)), ('20240402_215427_SN31_QUICKVIEW_VISUAL_1_2_0_SATL-2KM-11N_502_3600.txt', datetime.datetime(2024, 4, 2, 21, 54, 27)), ('20240506_213507_SN43_QUICKVIEW_VISUAL_1_5_0_SATL-2KM-11N_384_3750.txt', datetime.datetime(2024, 5, 6, 21, 35, 7)), ('20240222_074155_SN26_QUICKVIEW_VISUAL_1_1_10_SATL-2KM-39N_558_2794.txt', datetime.datetime(2024, 2, 22, 7, 41, 55)), ('20240602_215203_SN30_QUICKVIEW_VISUAL_1_6_0_SATL-2KM-10N_712_3948.txt', datetime.datetime(2024, 6, 2, 21, 52, 3)), ('20240110_192002_SN27_QUICKVIEW_VISUAL_1_1_10_SATL-2KM-11N_380_3728.txt', datetime.datetime(2024, 1, 10, 19, 20, 2)), ('20240211_211057_SN30_QUICKVIEW_VISUAL_1_1_10_SATL-2KM-11N_700_3690.txt', datetime.datetime(2024, 2, 11, 21, 10, 57)), ('20240428_215557_SN43_QUICKVIEW_VISUAL_1_5_0_SATL-2KM-10N_726_3862.txt', datetime.datetime(2024, 4, 28, 21, 55, 57)), ('20240616_081345_SN27_QUICKVIEW_VISUAL_1_7_0_SATL-2KM-39N_560_2792.txt', datetime.datetime(2024, 6, 16, 8, 13, 45)), ('20240616_213047_SN30_QUICKVIEW_VISUAL_1_7_0_SATL-2KM-11N_464_3828.txt', datetime.datetime(2024, 6, 16, 21, 30, 47)), ('20240423_190101_SN26_QUICKVIEW_VISUAL_1_5_0_SATL-2KM-11N_416_3864.txt', datetime.datetime(2024, 4, 23, 19, 1, 1)), ('20240201_075140_SN26_QUICKVIEW_VISUAL_1_1_10_SATL-2KM-39N_562_2794.txt', datetime.datetime(2024, 2, 1, 7, 51, 40)), ('20240618_193146_SN27_QUICKVIEW_VISUAL_1_7_0_SATL-2KM-11N_530_3682.txt', datetime.datetime(2024, 6, 18, 19, 31, 46)), ('20240201_075143_SN26_QUICKVIEW_VISUAL_1_1_10_SATL-2KM-39N_562_2788.txt', datetime.datetime(2024, 2, 1, 7, 51, 43)), ('20240224_214855_SN30_QUICKVIEW_VISUAL_1_1_10_SATL-2KM-10N_554_4162.txt', datetime.datetime(2024, 2, 24, 21, 48, 55)), ('20240402_184757_SN24_QUICKVIEW_VISUAL_1_2_0_SATL-2KM-11N_490_3638.txt', datetime.datetime(2024, 4, 2, 18, 47, 57)), ('20240203_173953_SN33_QUICKVIEW_VISUAL_1_1_10_SATL-2KM-11N_366_3756.txt', datetime.datetime(2024, 2, 3, 17, 39, 53)), ('20240614_221436_SN31_QUICKVIEW_VISUAL_1_7_0_SATL-2KM-10N_558_4184.txt', datetime.datetime(2024, 6, 14, 22, 14, 36)), ('20240428_191026_SN24_QUICKVIEW_VISUAL_1_5_0_SATL-2KM-11N_380_3722.txt', datetime.datetime(2024, 4, 28, 19, 10, 26)), ('20240605_212717_SN29_QUICKVIEW_VISUAL_1_7_0_SATL-2KM-11N_718_3608.txt', datetime.datetime(2024, 6, 5, 21, 27, 17)), ('20240201_075140_SN26_QUICKVIEW_VISUAL_1_1_10_SATL-2KM-39N_556_2792.txt', datetime.datetime(2024, 2, 1, 7, 51, 40)), ('20240520_194539_SN27_QUICKVIEW_VISUAL_1_5_0_SATL-2KM-10N_638_4280.txt', datetime.datetime(2024, 5, 20, 19, 45, 39)), ('20240401_175925_SN33_QUICKVIEW_VISUAL_1_2_0_SATL-2KM-10N_542_4168.txt', datetime.datetime(2024, 4, 1, 17, 59, 25)), ('20240322_184801_SN24_QUICKVIEW_VISUAL_1_2_0_SATL-2KM-11N_502_3632.txt', datetime.datetime(2024, 3, 22, 18, 48, 1)), ('20240402_215421_SN31_QUICKVIEW_VISUAL_1_2_0_SATL-2KM-11N_500_3632.txt', datetime.datetime(2024, 4, 2, 21, 54, 21)), ('20240609_191744_SN24_QUICKVIEW_VISUAL_1_7_0_SATL-2KM-10N_564_4194.txt', datetime.datetime(2024, 6, 9, 19, 17, 44)), ('20240102_185605_SN27_QUICKVIEW_VISUAL_1_1_10_SATL-2KM-11N_690_3572.txt', datetime.datetime(2024, 1, 2, 18, 56, 5)), ('20240520_194539_SN27_QUICKVIEW_VISUAL_1_5_0_SATL-2KM-10N_638_4282.txt', datetime.datetime(2024, 5, 20, 19, 45, 39)), ('20240616_081345_SN27_QUICKVIEW_VISUAL_1_7_0_SATL-2KM-39N_560_2794.txt', datetime.datetime(2024, 6, 16, 8, 13, 45)), ('20240524_213504_SN29_QUICKVIEW_VISUAL_1_6_0_SATL-2KM-11N_378_3724.txt', datetime.datetime(2024, 5, 24, 21, 35, 4)), ('20240423_190101_SN26_QUICKVIEW_VISUAL_1_5_0_SATL-2KM-11N_416_3862.txt', datetime.datetime(2024, 4, 23, 19, 1, 1)), ('20240201_075140_SN26_QUICKVIEW_VISUAL_1_1_10_SATL-2KM-39N_562_2792.txt', datetime.datetime(2024, 2, 1, 7, 51, 40)), ('20240609_191959_SN27_QUICKVIEW_VISUAL_1_7_0_SATL-2KM-11N_702_3540.txt', datetime.datetime(2024, 6, 9, 19, 19, 59)), ('20240507_191326_SN27_QUICKVIEW_VISUAL_1_5_0_SATL-2KM-11N_718_3608.txt', datetime.datetime(2024, 5, 7, 19, 13, 26)), ('20240321_190819_SN27_QUICKVIEW_VISUAL_1_2_0_SATL-2KM-11N_714_3632.txt', datetime.datetime(2024, 3, 21, 19, 8, 19))]\n"
     ]
    }
   ],
   "source": [
    "import re  # Importa el módulo de expresiones regulares\n",
    "import glob  # Importa el módulo para buscar archivos con patrones específicos\n",
    "import os  # Importa el módulo para operaciones del sistema de archivos\n",
    "from datetime import datetime  # Importa la clase 'datetime' para trabajar con fechas y horas\n",
    "\n",
    "# Patrón de regex: la 'r' indica que es una cadena cruda para evitar que se interpreten los caracteres de escape\n",
    "pattern = r'(\\d{8})_(\\d{6})_SN(\\d+)_QUICKVIEW_VISUAL_([\\d_]+)_([A-Za-z0-9\\-_.]+)\\.txt' \n",
    "\n",
    "# Busca todos los archivos .txt en el directorio 'session_4/annotations/'\n",
    "annotations = glob.glob('session_4/annotations/*.txt')\n",
    "\n",
    "# Vamos a crear una lista donde guardaremos, para cada anotación, su respectivo objeto datetime\n",
    "ann_datetime = []\n",
    "\n",
    "# Iteramos sobre cada archivo de anotación\n",
    "for annotation in annotations:\n",
    "\n",
    "    # Extraemos solo el nombre del archivo (sin la ruta completa)\n",
    "    filename = os.path.basename(annotation)\n",
    "    \n",
    "    # Buscamos y extraemos valores del nombre del archivo utilizando el patrón de regex\n",
    "    match = re.match(pattern, filename)\n",
    "    if match:\n",
    "        # Extraemos la fecha y hora (los primeros dos grupos del patrón) y omitimos los otros grupos (poniendo _ ponemos que no nos interesa)\n",
    "        date, time, _, _, _ = match.groups()\n",
    "\n",
    "        # Juntamos la fecha y la hora, por ejemplo: \"20240101192856\" (AñoMesDíaHoraMinutoSegundo)\n",
    "        datetime_str = date + time \n",
    "\n",
    "        # Convertimos esa cadena en un objeto datetime --> que es una library\n",
    "        datetime_obj = datetime.strptime(datetime_str, \"%Y%m%d%H%M%S\")\n",
    "\n",
    "        # Mostramos el objeto datetime resultante\n",
    "        print(f\"Datetime Object: {datetime_obj}\")\n",
    "        \n",
    "        # Añadimos una tupla con el nombre del archivo y su objeto datetime a la lista\n",
    "        ann_datetime.append((filename, datetime_obj))\n",
    "\n",
    "print(ann_datetime)\n"
   ]
  },
  {
   "cell_type": "code",
   "execution_count": 77,
   "id": "878a7793",
   "metadata": {
    "slideshow": {
     "slide_type": "subslide"
    }
   },
   "outputs": [
    {
     "data": {
      "text/plain": [
       "array([ 25,   6,   8,  69,  44, 151,  88,  80,   0, 185,  10,  14, 164,\n",
       "       155, 158,  17,  20, 124,  39,  60, 127,  90, 111, 148,  30, 144,\n",
       "       115, 157,   4,  72, 190, 179,  97, 170, 109,  49, 172, 147, 145,\n",
       "       175,  41, 110, 132, 165, 116,  74,  11,  78, 112,  99,   7,  87,\n",
       "        24, 131,   5,  23, 103, 141, 149,  55,  18,  47,  12, 119, 162,\n",
       "        42, 126,  50, 173, 152, 153,  54,  58, 128,  68,  86,  64,  33,\n",
       "       102,  52,  81,  21, 193, 154,  66, 182,  19,  37,  53,  82, 123,\n",
       "       146, 181,  32,   2,   9, 174,  46, 183, 160,  38,  77,  26, 169,\n",
       "         3, 189,  61, 139,  71, 177,  96,  70,  98, 166,  83,  22, 161,\n",
       "       192, 114,  28,  36, 113, 140, 104, 125,  73, 130,  51,  84,  29,\n",
       "       150, 133, 117, 180, 186,  27,  93, 137, 188, 159,  34, 105, 163,\n",
       "       143,  13,  15,  76, 178,  62, 138,  57, 184, 191,  75, 122,  31,\n",
       "        65, 106,  92, 118,  35, 121,  91, 108, 129, 107,  79,  63, 176,\n",
       "        85, 167,  95, 187,  67, 134,  48,  94, 100, 168, 120,  45,  16,\n",
       "        56, 156,  59, 171, 135, 142,  43,  40, 101,   1, 136,  89])"
      ]
     },
     "execution_count": 77,
     "metadata": {},
     "output_type": "execute_result"
    }
   ],
   "source": [
    "# Crea una lista de fechas a partir de la lista de tuplas 'ann_datetime', que contiene (nombre_archivo, fecha)\n",
    "# Solo extrae la parte 'date' de cada tupla\n",
    "indices = np.argsort([date for name, date in ann_datetime])\n",
    "\n",
    "# Imprime o devuelve los índices que ordenan las fechas\n",
    "indices"
   ]
  },
  {
   "cell_type": "code",
   "execution_count": 78,
   "id": "22f9ba90",
   "metadata": {
    "slideshow": {
     "slide_type": "subslide"
    }
   },
   "outputs": [
    {
     "name": "stdout",
     "output_type": "stream",
     "text": [
      "20240101_174301_SN33_QUICKVIEW_VISUAL_1_1_10_SATL-2KM-11N_404_3772.txt\n",
      "20240101_174301_SN33_QUICKVIEW_VISUAL_1_1_10_SATL-2KM-11N_404_3770.txt\n",
      "20240101_192856_SN24_QUICKVIEW_VISUAL_1_1_10_SATL-2KM-10N_552_4164.txt\n",
      "20240101_192856_SN24_QUICKVIEW_VISUAL_1_1_10_SATL-2KM-10N_554_4162.txt\n",
      "20240101_192856_SN24_QUICKVIEW_VISUAL_1_1_10_SATL-2KM-10N_552_4162.txt\n",
      "20240101_213601_SN31_QUICKVIEW_VISUAL_1_1_10_SATL-2KM-11N_396_3752.txt\n",
      "20240101_213601_SN31_QUICKVIEW_VISUAL_1_1_10_SATL-2KM-11N_392_3742.txt\n",
      "20240101_213601_SN31_QUICKVIEW_VISUAL_1_1_10_SATL-2KM-11N_392_3740.txt\n",
      "20240102_185527_SN27_QUICKVIEW_VISUAL_1_1_10_SATL-2KM-11N_740_3850.txt\n",
      "20240102_185605_SN27_QUICKVIEW_VISUAL_1_1_10_SATL-2KM-11N_690_3572.txt\n",
      "20240102_185954_SN24_QUICKVIEW_VISUAL_1_1_10_SATL-2KM-11N_414_3786.txt\n",
      "20240104_220339_SN31_QUICKVIEW_VISUAL_1_1_10_SATL-2KM-10N_556_4178.txt\n",
      "20240110_192002_SN27_QUICKVIEW_VISUAL_1_1_10_SATL-2KM-11N_380_3728.txt\n",
      "20240112_192510_SN27_QUICKVIEW_VISUAL_1_1_10_SATL-2KM-11N_386_3750.txt\n",
      "20240115_213834_SN28_QUICKVIEW_VISUAL_1_1_10_SATL-2KM-11N_380_3724.txt\n",
      "20240115_213834_SN28_QUICKVIEW_VISUAL_1_1_10_SATL-2KM-11N_376_3722.txt\n",
      "20240126_173752_SN33_QUICKVIEW_VISUAL_1_1_10_SATL-2KM-11N_386_3722.txt\n",
      "20240127_190620_SN27_QUICKVIEW_VISUAL_1_1_10_SATL-2KM-11N_502_3602.txt\n",
      "20240127_190620_SN27_QUICKVIEW_VISUAL_1_1_10_SATL-2KM-11N_500_3600.txt\n",
      "20240127_190620_SN27_QUICKVIEW_VISUAL_1_1_10_SATL-2KM-11N_500_3602.txt\n",
      "20240127_190620_SN27_QUICKVIEW_VISUAL_1_1_10_SATL-2KM-11N_502_3600.txt\n",
      "20240128_213258_SN29_QUICKVIEW_VISUAL_1_1_10_SATL-2KM-11N_418_3864.txt\n",
      "20240128_213258_SN29_QUICKVIEW_VISUAL_1_1_10_SATL-2KM-11N_418_3862.txt\n",
      "20240130_173903_SN33_QUICKVIEW_VISUAL_1_1_10_SATL-2KM-11N_364_3754.txt\n",
      "20240130_173903_SN33_QUICKVIEW_VISUAL_1_1_10_SATL-2KM-11N_366_3756.txt\n",
      "20240130_173903_SN33_QUICKVIEW_VISUAL_1_1_10_SATL-2KM-11N_360_3748.txt\n",
      "20240130_215036_SN31_QUICKVIEW_VISUAL_1_1_10_SATL-2KM-11N_366_3756.txt\n",
      "20240201_075140_SN26_QUICKVIEW_VISUAL_1_1_10_SATL-2KM-39N_556_2794.txt\n",
      "20240201_075140_SN26_QUICKVIEW_VISUAL_1_1_10_SATL-2KM-39N_558_2794.txt\n",
      "20240201_075140_SN26_QUICKVIEW_VISUAL_1_1_10_SATL-2KM-39N_560_2792.txt\n",
      "20240201_075140_SN26_QUICKVIEW_VISUAL_1_1_10_SATL-2KM-39N_562_2792.txt\n",
      "20240201_075140_SN26_QUICKVIEW_VISUAL_1_1_10_SATL-2KM-39N_556_2792.txt\n",
      "20240201_075140_SN26_QUICKVIEW_VISUAL_1_1_10_SATL-2KM-39N_560_2794.txt\n",
      "20240201_075140_SN26_QUICKVIEW_VISUAL_1_1_10_SATL-2KM-39N_562_2794.txt\n",
      "20240201_075140_SN26_QUICKVIEW_VISUAL_1_1_10_SATL-2KM-39N_560_2796.txt\n",
      "20240201_075143_SN26_QUICKVIEW_VISUAL_1_1_10_SATL-2KM-39N_556_2792.txt\n",
      "20240201_075143_SN26_QUICKVIEW_VISUAL_1_1_10_SATL-2KM-39N_562_2788.txt\n",
      "20240202_184725_SN24_QUICKVIEW_VISUAL_1_1_10_SATL-2KM-11N_624_3630.txt\n",
      "20240202_191114_SN27_QUICKVIEW_VISUAL_1_1_10_SATL-2KM-11N_718_3608.txt\n",
      "20240203_173953_SN33_QUICKVIEW_VISUAL_1_1_10_SATL-2KM-11N_366_3756.txt\n",
      "20240203_173953_SN33_QUICKVIEW_VISUAL_1_1_10_SATL-2KM-11N_368_3756.txt\n",
      "20240208_184650_SN24_QUICKVIEW_VISUAL_1_1_10_SATL-2KM-11N_624_3632.txt\n",
      "20240209_212744_SN29_QUICKVIEW_VISUAL_1_1_10_SATL-2KM-11N_380_3722.txt\n",
      "20240211_211057_SN30_QUICKVIEW_VISUAL_1_1_10_SATL-2KM-11N_700_3690.txt\n",
      "20240212_213506_SN31_QUICKVIEW_VISUAL_1_1_10_SATL-2KM-11N_408_3712.txt\n",
      "20240213_212524_SN29_QUICKVIEW_VISUAL_1_1_10_SATL-2KM-11N_544_3742.txt\n",
      "20240213_212524_SN29_QUICKVIEW_VISUAL_1_1_10_SATL-2KM-11N_542_3750.txt\n",
      "20240213_212524_SN29_QUICKVIEW_VISUAL_1_1_10_SATL-2KM-11N_540_3748.txt\n",
      "20240214_184340_SN24_QUICKVIEW_VISUAL_1_1_10_SATL-2KM-11N_688_3630.txt\n",
      "20240216_213630_SN31_QUICKVIEW_VISUAL_1_1_10_SATL-2KM-11N_418_3724.txt\n",
      "20240218_180121_SN33_QUICKVIEW_VISUAL_1_1_10_SATL-2KM-10N_568_4176.txt\n",
      "20240219_214312_SN28_QUICKVIEW_VISUAL_1_1_10_SATL-2KM-11N_252_3954.txt\n",
      "20240220_190455_SN27_QUICKVIEW_VISUAL_1_1_10_SATL-2KM-11N_718_3608.txt\n",
      "20240221_190608_SN26_QUICKVIEW_VISUAL_1_1_10_SATL-2KM-11N_380_3764.txt\n",
      "20240222_074151_SN26_QUICKVIEW_VISUAL_1_1_10_SATL-2KM-39N_560_2794.txt\n",
      "20240222_074151_SN26_QUICKVIEW_VISUAL_1_1_10_SATL-2KM-39N_560_2796.txt\n",
      "20240222_074151_SN26_QUICKVIEW_VISUAL_1_1_10_SATL-2KM-39N_558_2796.txt\n",
      "20240222_074151_SN26_QUICKVIEW_VISUAL_1_1_10_SATL-2KM-39N_556_2794.txt\n",
      "20240222_074151_SN26_QUICKVIEW_VISUAL_1_1_10_SATL-2KM-39N_562_2794.txt\n",
      "20240222_074155_SN26_QUICKVIEW_VISUAL_1_1_10_SATL-2KM-39N_562_2792.txt\n",
      "20240222_074155_SN26_QUICKVIEW_VISUAL_1_1_10_SATL-2KM-39N_562_2794.txt\n",
      "20240222_074155_SN26_QUICKVIEW_VISUAL_1_1_10_SATL-2KM-39N_556_2792.txt\n",
      "20240222_074155_SN26_QUICKVIEW_VISUAL_1_1_10_SATL-2KM-39N_556_2794.txt\n",
      "20240222_074155_SN26_QUICKVIEW_VISUAL_1_1_10_SATL-2KM-39N_560_2792.txt\n",
      "20240222_074155_SN26_QUICKVIEW_VISUAL_1_1_10_SATL-2KM-39N_558_2794.txt\n",
      "20240222_074256_SN26_QUICKVIEW_VISUAL_1_1_10_SATL-2KM-39N_564_2790.txt\n",
      "20240222_212250_SN30_QUICKVIEW_VISUAL_1_1_10_SATL-2KM-11N_382_3722.txt\n",
      "20240223_025420_SN24_QUICKVIEW_VISUAL_1_1_10_SATL-2KM-51N_686_4422.txt\n",
      "20240224_214855_SN30_QUICKVIEW_VISUAL_1_1_10_SATL-2KM-10N_554_4162.txt\n",
      "20240224_214855_SN30_QUICKVIEW_VISUAL_1_1_10_SATL-2KM-10N_552_4162.txt\n",
      "20240227_214218_SN30_QUICKVIEW_VISUAL_1_1_10_SATL-2KM-10N_562_4170.txt\n",
      "20240228_213951_SN29_QUICKVIEW_VISUAL_1_1_10_SATL-2KM-11N_248_4068.txt\n",
      "20240304_212824_SN30_QUICKVIEW_VISUAL_1_2_0_SATL-2KM-11N_378_3722.txt\n",
      "20240308_191212_SN27_QUICKVIEW_VISUAL_1_2_0_SATL-2KM-11N_506_3614.txt\n",
      "20240308_211248_SN29_QUICKVIEW_VISUAL_1_2_0_SATL-2KM-11N_718_3640.txt\n",
      "20240314_220020_SN30_QUICKVIEW_VISUAL_1_2_0_SATL-2KM-10N_550_4202.txt\n",
      "20240314_220020_SN30_QUICKVIEW_VISUAL_1_2_0_SATL-2KM-10N_544_4186.txt\n",
      "20240316_191451_SN26_QUICKVIEW_VISUAL_1_2_0_SATL-2KM-11N_380_3764.txt\n",
      "20240317_215115_SN28_QUICKVIEW_VISUAL_1_2_0_SATL-2KM-10N_552_4164.txt\n",
      "20240317_215115_SN28_QUICKVIEW_VISUAL_1_2_0_SATL-2KM-10N_554_4162.txt\n",
      "20240317_215115_SN28_QUICKVIEW_VISUAL_1_2_0_SATL-2KM-10N_552_4162.txt\n",
      "20240317_221229_SN31_QUICKVIEW_VISUAL_1_2_0_SATL-2KM-10N_556_4176.txt\n",
      "20240321_190819_SN27_QUICKVIEW_VISUAL_1_2_0_SATL-2KM-11N_714_3632.txt\n",
      "20240321_220846_SN31_QUICKVIEW_VISUAL_1_2_0_SATL-2KM-10N_560_4178.txt\n",
      "20240322_184801_SN24_QUICKVIEW_VISUAL_1_2_0_SATL-2KM-11N_500_3632.txt\n",
      "20240322_184801_SN24_QUICKVIEW_VISUAL_1_2_0_SATL-2KM-11N_502_3632.txt\n",
      "20240322_212516_SN28_QUICKVIEW_VISUAL_1_2_0_SATL-2KM-11N_502_3600.txt\n",
      "20240324_180232_SN33_QUICKVIEW_VISUAL_1_2_0_SATL-2KM-10N_554_4172.txt\n",
      "20240325_173936_SN33_QUICKVIEW_VISUAL_1_2_0_SATL-2KM-11N_378_3722.txt\n",
      "20240401_032415_SN27_QUICKVIEW_VISUAL_1_2_0_SATL-2KM-51N_688_4420.txt\n",
      "20240401_175918_SN33_QUICKVIEW_VISUAL_1_2_0_SATL-2KM-10N_542_4168.txt\n",
      "20240401_175918_SN33_QUICKVIEW_VISUAL_1_2_0_SATL-2KM-10N_546_4206.txt\n",
      "20240401_175925_SN33_QUICKVIEW_VISUAL_1_2_0_SATL-2KM-10N_542_4168.txt\n",
      "20240401_221819_SN31_QUICKVIEW_VISUAL_1_2_0_SATL-2KM-10N_602_4148.txt\n",
      "20240402_184757_SN24_QUICKVIEW_VISUAL_1_2_0_SATL-2KM-11N_488_3638.txt\n",
      "20240402_184757_SN24_QUICKVIEW_VISUAL_1_2_0_SATL-2KM-11N_486_3630.txt\n",
      "20240402_184757_SN24_QUICKVIEW_VISUAL_1_2_0_SATL-2KM-11N_490_3638.txt\n",
      "20240402_184757_SN24_QUICKVIEW_VISUAL_1_2_0_SATL-2KM-11N_486_3636.txt\n",
      "20240402_215421_SN31_QUICKVIEW_VISUAL_1_2_0_SATL-2KM-11N_500_3632.txt\n",
      "20240402_215427_SN31_QUICKVIEW_VISUAL_1_2_0_SATL-2KM-11N_502_3600.txt\n",
      "20240423_190101_SN26_QUICKVIEW_VISUAL_1_5_0_SATL-2KM-11N_418_3860.txt\n",
      "20240423_190101_SN26_QUICKVIEW_VISUAL_1_5_0_SATL-2KM-11N_414_3862.txt\n",
      "20240423_190101_SN26_QUICKVIEW_VISUAL_1_5_0_SATL-2KM-11N_418_3864.txt\n",
      "20240423_190101_SN26_QUICKVIEW_VISUAL_1_5_0_SATL-2KM-11N_416_3864.txt\n",
      "20240423_190101_SN26_QUICKVIEW_VISUAL_1_5_0_SATL-2KM-11N_418_3872.txt\n",
      "20240423_190101_SN26_QUICKVIEW_VISUAL_1_5_0_SATL-2KM-11N_416_3862.txt\n",
      "20240423_190101_SN26_QUICKVIEW_VISUAL_1_5_0_SATL-2KM-11N_418_3862.txt\n",
      "20240426_215224_SN29_QUICKVIEW_VISUAL_1_5_0_SATL-2KM-11N_244_3818.txt\n",
      "20240427_221308_SN31_QUICKVIEW_VISUAL_1_5_0_SATL-2KM-10N_722_3848.txt\n",
      "20240428_191026_SN24_QUICKVIEW_VISUAL_1_5_0_SATL-2KM-11N_380_3722.txt\n",
      "20240428_215426_SN43_QUICKVIEW_VISUAL_1_5_0_SATL-2KM-10N_630_4262.txt\n",
      "20240428_215426_SN43_QUICKVIEW_VISUAL_1_5_0_SATL-2KM-10N_630_4264.txt\n",
      "20240428_215426_SN43_QUICKVIEW_VISUAL_1_5_0_SATL-2KM-10N_634_4282.txt\n",
      "20240428_215557_SN43_QUICKVIEW_VISUAL_1_5_0_SATL-2KM-10N_726_3862.txt\n",
      "20240503_214759_SN28_QUICKVIEW_VISUAL_1_5_0_SATL-2KM-11N_376_3724.txt\n",
      "20240506_192008_SN26_QUICKVIEW_VISUAL_1_5_0_SATL-2KM-10N_562_4178.txt\n",
      "20240506_213507_SN43_QUICKVIEW_VISUAL_1_5_0_SATL-2KM-11N_384_3750.txt\n",
      "20240507_191326_SN27_QUICKVIEW_VISUAL_1_5_0_SATL-2KM-11N_718_3608.txt\n",
      "20240508_194502_SN27_QUICKVIEW_VISUAL_1_5_0_SATL-2KM-11N_262_4022.txt\n",
      "20240508_194502_SN27_QUICKVIEW_VISUAL_1_5_0_SATL-2KM-11N_264_4022.txt\n",
      "20240509_193206_SN26_QUICKVIEW_VISUAL_1_5_0_SATL-2KM-10N_562_4196.txt\n",
      "20240509_212336_SN29_QUICKVIEW_VISUAL_1_5_0_SATL-2KM-11N_706_3778.txt\n",
      "20240510_191908_SN27_QUICKVIEW_VISUAL_1_5_0_SATL-2KM-11N_718_3608.txt\n",
      "20240510_191914_SN27_QUICKVIEW_VISUAL_1_5_0_SATL-2KM-11N_712_3566.txt\n",
      "20240513_212022_SN29_QUICKVIEW_VISUAL_1_5_0_SATL-2KM-11N_630_3742.txt\n",
      "20240514_052716_SN43_QUICKVIEW_VISUAL_1_5_0_SATL-2KM-51N_730_4342.txt\n",
      "20240516_190328_SN24_QUICKVIEW_VISUAL_1_5_0_SATL-2KM-11N_262_4052.txt\n",
      "20240516_211630_SN28_QUICKVIEW_VISUAL_1_5_0_SATL-2KM-11N_716_3848.txt\n",
      "20240519_184534_SN24_QUICKVIEW_VISUAL_1_5_0_SATL-2KM-11N_658_3700.txt\n",
      "20240519_191838_SN27_QUICKVIEW_VISUAL_1_5_0_SATL-2KM-11N_718_3608.txt\n",
      "20240519_214917_SN31_QUICKVIEW_VISUAL_1_5_0_SATL-2KM-11N_500_3598.txt\n",
      "20240519_214917_SN31_QUICKVIEW_VISUAL_1_5_0_SATL-2KM-11N_500_3602.txt\n",
      "20240519_214917_SN31_QUICKVIEW_VISUAL_1_5_0_SATL-2KM-11N_500_3600.txt\n",
      "20240520_194539_SN27_QUICKVIEW_VISUAL_1_5_0_SATL-2KM-10N_638_4280.txt\n",
      "20240520_194539_SN27_QUICKVIEW_VISUAL_1_5_0_SATL-2KM-10N_638_4282.txt\n",
      "20240521_052621_SN43_QUICKVIEW_VISUAL_1_6_0_SATL-2KM-51N_730_4342.txt\n",
      "20240521_101252_SN43_QUICKVIEW_VISUAL_1_6_0_SATL-2KM-39N_556_2792.txt\n",
      "20240521_101252_SN43_QUICKVIEW_VISUAL_1_6_0_SATL-2KM-39N_558_2796.txt\n",
      "20240524_213504_SN29_QUICKVIEW_VISUAL_1_6_0_SATL-2KM-11N_378_3724.txt\n",
      "20240524_213504_SN29_QUICKVIEW_VISUAL_1_6_0_SATL-2KM-11N_380_3724.txt\n",
      "20240528_191448_SN24_QUICKVIEW_VISUAL_1_6_0_SATL-2KM-11N_248_4068.txt\n",
      "20240528_191604_SN24_QUICKVIEW_VISUAL_1_6_0_SATL-2KM-11N_344_3836.txt\n",
      "20240602_215203_SN30_QUICKVIEW_VISUAL_1_6_0_SATL-2KM-10N_712_3948.txt\n",
      "20240602_215203_SN30_QUICKVIEW_VISUAL_1_6_0_SATL-2KM-10N_714_3948.txt\n",
      "20240603_215226_SN28_QUICKVIEW_VISUAL_1_6_0_SATL-2KM-11N_248_4068.txt\n",
      "20240603_215348_SN28_QUICKVIEW_VISUAL_1_6_0_SATL-2KM-11N_346_3786.txt\n",
      "20240604_214955_SN29_QUICKVIEW_VISUAL_1_7_0_SATL-2KM-10N_594_4136.txt\n",
      "20240605_212717_SN29_QUICKVIEW_VISUAL_1_7_0_SATL-2KM-11N_718_3608.txt\n",
      "20240606_180251_SN33_QUICKVIEW_VISUAL_1_7_0_SATL-2KM-10N_556_4180.txt\n",
      "20240607_200250_SN27_QUICKVIEW_VISUAL_1_7_0_SATL-2KM-10N_554_4172.txt\n",
      "20240608_214614_SN29_QUICKVIEW_VISUAL_1_7_0_SATL-2KM-11N_248_4068.txt\n",
      "20240609_191744_SN24_QUICKVIEW_VISUAL_1_7_0_SATL-2KM-10N_564_4194.txt\n",
      "20240609_191959_SN27_QUICKVIEW_VISUAL_1_7_0_SATL-2KM-11N_702_3540.txt\n",
      "20240609_214259_SN30_QUICKVIEW_VISUAL_1_7_0_SATL-2KM-11N_262_4052.txt\n",
      "20240610_191018_SN26_QUICKVIEW_VISUAL_1_7_0_SATL-2KM-11N_384_3750.txt\n",
      "20240611_025943_SN26_QUICKVIEW_VISUAL_1_7_0_SATL-2KM-51N_748_4366.txt\n",
      "20240611_025943_SN26_QUICKVIEW_VISUAL_1_7_0_SATL-2KM-51N_748_4364.txt\n",
      "20240611_215323_SN30_QUICKVIEW_VISUAL_1_7_0_SATL-2KM-10N_702_3948.txt\n",
      "20240612_053829_SN28_QUICKVIEW_VISUAL_1_7_0_SATL-2KM-51N_686_4422.txt\n",
      "20240612_053829_SN28_QUICKVIEW_VISUAL_1_7_0_SATL-2KM-51N_688_4420.txt\n",
      "20240612_185400_SN24_QUICKVIEW_VISUAL_1_7_0_SATL-2KM-11N_574_3714.txt\n",
      "20240612_185400_SN24_QUICKVIEW_VISUAL_1_7_0_SATL-2KM-11N_578_3722.txt\n",
      "20240612_185400_SN24_QUICKVIEW_VISUAL_1_7_0_SATL-2KM-11N_576_3720.txt\n",
      "20240612_185419_SN24_QUICKVIEW_VISUAL_1_7_0_SATL-2KM-11N_554_3610.txt\n",
      "20240613_053340_SN29_QUICKVIEW_VISUAL_1_7_0_SATL-2KM-51N_730_4342.txt\n",
      "20240613_053340_SN29_QUICKVIEW_VISUAL_1_7_0_SATL-2KM-51N_728_4342.txt\n",
      "20240613_192217_SN26_QUICKVIEW_VISUAL_1_7_0_SATL-2KM-10N_560_4178.txt\n",
      "20240613_214203_SN43_QUICKVIEW_VISUAL_1_7_0_SATL-2KM-11N_384_3750.txt\n",
      "20240614_221436_SN31_QUICKVIEW_VISUAL_1_7_0_SATL-2KM-10N_558_4184.txt\n",
      "20240615_173631_SN33_QUICKVIEW_VISUAL_1_7_0_SATL-2KM-11N_546_3742.txt\n",
      "20240616_081345_SN27_QUICKVIEW_VISUAL_1_7_0_SATL-2KM-39N_560_2792.txt\n",
      "20240616_081345_SN27_QUICKVIEW_VISUAL_1_7_0_SATL-2KM-39N_562_2792.txt\n",
      "20240616_081345_SN27_QUICKVIEW_VISUAL_1_7_0_SATL-2KM-39N_560_2794.txt\n",
      "20240616_081345_SN27_QUICKVIEW_VISUAL_1_7_0_SATL-2KM-39N_562_2794.txt\n",
      "20240616_102144_SN28_QUICKVIEW_VISUAL_1_7_0_SATL-2KM-39N_556_2794.txt\n",
      "20240616_102144_SN28_QUICKVIEW_VISUAL_1_7_0_SATL-2KM-39N_560_2792.txt\n",
      "20240616_102144_SN28_QUICKVIEW_VISUAL_1_7_0_SATL-2KM-39N_558_2794.txt\n",
      "20240616_213047_SN30_QUICKVIEW_VISUAL_1_7_0_SATL-2KM-11N_466_3828.txt\n",
      "20240616_213047_SN30_QUICKVIEW_VISUAL_1_7_0_SATL-2KM-11N_464_3828.txt\n",
      "20240616_213047_SN30_QUICKVIEW_VISUAL_1_7_0_SATL-2KM-11N_466_3826.txt\n",
      "20240616_213047_SN30_QUICKVIEW_VISUAL_1_7_0_SATL-2KM-11N_464_3830.txt\n",
      "20240616_213053_SN30_QUICKVIEW_VISUAL_1_7_0_SATL-2KM-11N_460_3792.txt\n",
      "20240617_052859_SN29_QUICKVIEW_VISUAL_1_7_0_SATL-2KM-51N_730_4348.txt\n",
      "20240617_184443_SN24_QUICKVIEW_VISUAL_1_7_0_SATL-2KM-11N_702_3566.txt\n",
      "20240617_211350_SN29_QUICKVIEW_VISUAL_1_7_0_SATL-2KM-11N_724_3614.txt\n",
      "20240618_193146_SN27_QUICKVIEW_VISUAL_1_7_0_SATL-2KM-11N_530_3682.txt\n",
      "20240618_215539_SN31_QUICKVIEW_VISUAL_1_7_0_SATL-2KM-11N_452_3740.txt\n",
      "20240618_215539_SN31_QUICKVIEW_VISUAL_1_7_0_SATL-2KM-11N_458_3756.txt\n",
      "20240619_052401_SN30_QUICKVIEW_VISUAL_1_7_0_SATL-2KM-52N_368_4336.txt\n",
      "20240619_185757_SN24_QUICKVIEW_VISUAL_1_7_0_SATL-2KM-11N_528_3700.txt\n",
      "20240619_215556_SN29_QUICKVIEW_VISUAL_1_7_0_SATL-2KM-10N_742_4460.txt\n",
      "20240623_193704_SN27_QUICKVIEW_VISUAL_1_7_0_SATL-2KM-11N_566_3734.txt\n",
      "20240623_215102_SN43_QUICKVIEW_VISUAL_1_7_0_SATL-2KM-11N_384_3750.txt\n",
      "20240623_215120_SN29_QUICKVIEW_VISUAL_1_7_0_SATL-2KM-10N_596_4134.txt\n"
     ]
    }
   ],
   "source": [
    "for i in indices:\n",
    "    print(ann_datetime[i][0])"
   ]
  },
  {
   "cell_type": "markdown",
   "id": "012aeb1b",
   "metadata": {
    "slideshow": {
     "slide_type": "slide"
    }
   },
   "source": [
    "### Exercise\n",
    "\n",
    "\n",
    "Reusing the same annotations we work with in the previous session, answer the following items using the libraries we saw today: \n",
    "\n",
    "1. How many annotations you have per month and year. Which month has more annotation files.\n",
    "2. Create a dictionary where each **key** is a month, and the corresponding **value** is a list containing all the annotation names with where their date corresponds to the month. \n",
    "    a. Save it following the json format, and load it again to check that everything is ok.\n",
    "    b. Save it this time using Pickle.\n",
    "    c. Instead of storing a list of all the annotation names happening that month, let's create for each annotation a dictionary with keys: name and date (using a datetime object).\n",
    "3. Print all the annotations from the oldest ones to the newest one during the seconf half of the 2024. "
   ]
  },
  {
   "cell_type": "markdown",
   "id": "8a61b832",
   "metadata": {},
   "source": [
    "1. How many annotations you have per month and year. Which month has more annotation files."
   ]
  },
  {
   "cell_type": "code",
   "execution_count": 97,
   "id": "363cf1dd",
   "metadata": {},
   "outputs": [
    {
     "name": "stdout",
     "output_type": "stream",
     "text": [
      "Annotations per month and year:\n",
      " In 1 of 2024 there are 27 files\n",
      " In 6 of 2024 there are 52 files\n",
      " In 4 of 2024 there are 25 files\n",
      " In 2 of 2024 there are 45 files\n",
      " In 3 of 2024 there are 17 files\n",
      " In 5 of 2024 there are 28 files\n",
      "The month with the most annotations is 6 of 2024 with 52 appearances.\n"
     ]
    }
   ],
   "source": [
    "import re \n",
    "import glob  \n",
    "import os  \n",
    "from datetime import datetime  \n",
    "\n",
    "pattern = r'(\\d{8})_(\\d{6})_SN(\\d+)_QUICKVIEW_VISUAL_([\\d_]+)_([A-Za-z0-9\\-_.]+)\\.txt' \n",
    "\n",
    "annotations = glob.glob('session_4/annotations/*.txt')\n",
    "\n",
    "annotations_per_month = {}\n",
    "\n",
    "for annotation in annotations:\n",
    "    filename = os.path.basename(annotation)\n",
    "    match = re.match(pattern, filename)\n",
    "    if match:\n",
    "        date, _, _, _, _ = match.groups()\n",
    "        date_format = datetime.strptime(date, \"%Y%m%d\")\n",
    "        year = date_format.year\n",
    "        month = date_format.month\n",
    "# until here we have what we have seen new in session 5\n",
    "# from here in advance, we will apply the same methodology used in session 4\n",
    "        key = (year, month)\n",
    "\n",
    "        if key in annotations_per_month:\n",
    "            annotations_per_month[key] += 1\n",
    "        else:\n",
    "            annotations_per_month[key] = 1\n",
    "\n",
    "print(\"Annotations per month and year:\")\n",
    "for (year, month), count in annotations_per_month.items():   \n",
    "    print(f\" In {month} of {year} there are {count} files\")\n",
    "\n",
    "most_repeated = 0\n",
    "most_repeated_month = None\n",
    "\n",
    "for key, count in annotations_per_month.items():\n",
    "    if count > most_repeated:\n",
    "        most_repeated = count\n",
    "        most_repeated_month = key\n",
    "\n",
    "if most_repeated_month:\n",
    "    year, month = most_repeated_month\n",
    "    print(f\"The month with the most annotations is {month} of {year} with {most_repeated} appearances.\")\n"
   ]
  },
  {
   "cell_type": "markdown",
   "id": "e6286193",
   "metadata": {},
   "source": [
    "2. Create a dictionary where each **key** is a month, and the corresponding **value** is a list containing all the annotation names with where their date corresponds to the month. \n",
    "    \n",
    "    a. Save it following the json format, and load it again to check that everything is ok.\n",
    "    \n",
    "    b. Save it this time using Pickle.\n",
    "   \n",
    "    c. Instead of storing a list of all the annotation names happening that month, let's create for each annotation a dictionary with keys: name and date (using a datetime object).\n"
   ]
  },
  {
   "cell_type": "code",
   "execution_count": 99,
   "id": "d20fcaa5",
   "metadata": {},
   "outputs": [
    {
     "name": "stdout",
     "output_type": "stream",
     "text": [
      "Annotations by month:\n",
      "In 1-2024, existing files: ['20240102_185527_SN27_QUICKVIEW_VISUAL_1_1_10_SATL-2KM-11N_740_3850.txt', '20240101_174301_SN33_QUICKVIEW_VISUAL_1_1_10_SATL-2KM-11N_404_3770.txt', '20240101_192856_SN24_QUICKVIEW_VISUAL_1_1_10_SATL-2KM-10N_552_4164.txt', '20240102_185954_SN24_QUICKVIEW_VISUAL_1_1_10_SATL-2KM-11N_414_3786.txt', '20240104_220339_SN31_QUICKVIEW_VISUAL_1_1_10_SATL-2KM-10N_556_4178.txt', '20240115_213834_SN28_QUICKVIEW_VISUAL_1_1_10_SATL-2KM-11N_376_3722.txt', '20240126_173752_SN33_QUICKVIEW_VISUAL_1_1_10_SATL-2KM-11N_386_3722.txt', '20240101_174301_SN33_QUICKVIEW_VISUAL_1_1_10_SATL-2KM-11N_404_3772.txt', '20240130_173903_SN33_QUICKVIEW_VISUAL_1_1_10_SATL-2KM-11N_366_3756.txt', '20240127_190620_SN27_QUICKVIEW_VISUAL_1_1_10_SATL-2KM-11N_500_3600.txt', '20240101_192856_SN24_QUICKVIEW_VISUAL_1_1_10_SATL-2KM-10N_552_4162.txt', '20240127_190620_SN27_QUICKVIEW_VISUAL_1_1_10_SATL-2KM-11N_500_3602.txt', '20240101_192856_SN24_QUICKVIEW_VISUAL_1_1_10_SATL-2KM-10N_554_4162.txt', '20240101_213601_SN31_QUICKVIEW_VISUAL_1_1_10_SATL-2KM-11N_392_3740.txt', '20240101_213601_SN31_QUICKVIEW_VISUAL_1_1_10_SATL-2KM-11N_392_3742.txt', '20240128_213258_SN29_QUICKVIEW_VISUAL_1_1_10_SATL-2KM-11N_418_3864.txt', '20240128_213258_SN29_QUICKVIEW_VISUAL_1_1_10_SATL-2KM-11N_418_3862.txt', '20240130_215036_SN31_QUICKVIEW_VISUAL_1_1_10_SATL-2KM-11N_366_3756.txt', '20240127_190620_SN27_QUICKVIEW_VISUAL_1_1_10_SATL-2KM-11N_502_3602.txt', '20240127_190620_SN27_QUICKVIEW_VISUAL_1_1_10_SATL-2KM-11N_502_3600.txt', '20240130_173903_SN33_QUICKVIEW_VISUAL_1_1_10_SATL-2KM-11N_360_3748.txt', '20240130_173903_SN33_QUICKVIEW_VISUAL_1_1_10_SATL-2KM-11N_364_3754.txt', '20240101_213601_SN31_QUICKVIEW_VISUAL_1_1_10_SATL-2KM-11N_396_3752.txt', '20240112_192510_SN27_QUICKVIEW_VISUAL_1_1_10_SATL-2KM-11N_386_3750.txt', '20240115_213834_SN28_QUICKVIEW_VISUAL_1_1_10_SATL-2KM-11N_380_3724.txt', '20240110_192002_SN27_QUICKVIEW_VISUAL_1_1_10_SATL-2KM-11N_380_3728.txt', '20240102_185605_SN27_QUICKVIEW_VISUAL_1_1_10_SATL-2KM-11N_690_3572.txt']\n",
      "In 6-2024, existing files: ['20240623_193704_SN27_QUICKVIEW_VISUAL_1_7_0_SATL-2KM-11N_566_3734.txt', '20240603_215226_SN28_QUICKVIEW_VISUAL_1_6_0_SATL-2KM-11N_248_4068.txt', '20240603_215348_SN28_QUICKVIEW_VISUAL_1_6_0_SATL-2KM-11N_346_3786.txt', '20240616_213053_SN30_QUICKVIEW_VISUAL_1_7_0_SATL-2KM-11N_460_3792.txt', '20240611_025943_SN26_QUICKVIEW_VISUAL_1_7_0_SATL-2KM-51N_748_4366.txt', '20240612_185400_SN24_QUICKVIEW_VISUAL_1_7_0_SATL-2KM-11N_574_3714.txt', '20240619_185757_SN24_QUICKVIEW_VISUAL_1_7_0_SATL-2KM-11N_528_3700.txt', '20240619_052401_SN30_QUICKVIEW_VISUAL_1_7_0_SATL-2KM-52N_368_4336.txt', '20240616_213047_SN30_QUICKVIEW_VISUAL_1_7_0_SATL-2KM-11N_464_3830.txt', '20240616_102144_SN28_QUICKVIEW_VISUAL_1_7_0_SATL-2KM-39N_560_2792.txt', '20240617_052859_SN29_QUICKVIEW_VISUAL_1_7_0_SATL-2KM-51N_730_4348.txt', '20240608_214614_SN29_QUICKVIEW_VISUAL_1_7_0_SATL-2KM-11N_248_4068.txt', '20240617_211350_SN29_QUICKVIEW_VISUAL_1_7_0_SATL-2KM-11N_724_3614.txt', '20240606_180251_SN33_QUICKVIEW_VISUAL_1_7_0_SATL-2KM-10N_556_4180.txt', '20240613_214203_SN43_QUICKVIEW_VISUAL_1_7_0_SATL-2KM-11N_384_3750.txt', '20240611_025943_SN26_QUICKVIEW_VISUAL_1_7_0_SATL-2KM-51N_748_4364.txt', '20240616_081345_SN27_QUICKVIEW_VISUAL_1_7_0_SATL-2KM-39N_562_2794.txt', '20240609_214259_SN30_QUICKVIEW_VISUAL_1_7_0_SATL-2KM-11N_262_4052.txt', '20240604_214955_SN29_QUICKVIEW_VISUAL_1_7_0_SATL-2KM-10N_594_4136.txt', '20240613_192217_SN26_QUICKVIEW_VISUAL_1_7_0_SATL-2KM-10N_560_4178.txt', '20240615_173631_SN33_QUICKVIEW_VISUAL_1_7_0_SATL-2KM-11N_546_3742.txt', '20240623_215120_SN29_QUICKVIEW_VISUAL_1_7_0_SATL-2KM-10N_596_4134.txt', '20240612_185400_SN24_QUICKVIEW_VISUAL_1_7_0_SATL-2KM-11N_576_3720.txt', '20240612_053829_SN28_QUICKVIEW_VISUAL_1_7_0_SATL-2KM-51N_686_4422.txt', '20240616_102144_SN28_QUICKVIEW_VISUAL_1_7_0_SATL-2KM-39N_558_2794.txt', '20240616_081345_SN27_QUICKVIEW_VISUAL_1_7_0_SATL-2KM-39N_562_2792.txt', '20240616_213047_SN30_QUICKVIEW_VISUAL_1_7_0_SATL-2KM-11N_466_3828.txt', '20240619_215556_SN29_QUICKVIEW_VISUAL_1_7_0_SATL-2KM-10N_742_4460.txt', '20240611_215323_SN30_QUICKVIEW_VISUAL_1_7_0_SATL-2KM-10N_702_3948.txt', '20240613_053340_SN29_QUICKVIEW_VISUAL_1_7_0_SATL-2KM-51N_728_4342.txt', '20240612_185419_SN24_QUICKVIEW_VISUAL_1_7_0_SATL-2KM-11N_554_3610.txt', '20240612_053829_SN28_QUICKVIEW_VISUAL_1_7_0_SATL-2KM-51N_688_4420.txt', '20240616_213047_SN30_QUICKVIEW_VISUAL_1_7_0_SATL-2KM-11N_466_3826.txt', '20240612_185400_SN24_QUICKVIEW_VISUAL_1_7_0_SATL-2KM-11N_578_3722.txt', '20240610_191018_SN26_QUICKVIEW_VISUAL_1_7_0_SATL-2KM-11N_384_3750.txt', '20240613_053340_SN29_QUICKVIEW_VISUAL_1_7_0_SATL-2KM-51N_730_4342.txt', '20240616_102144_SN28_QUICKVIEW_VISUAL_1_7_0_SATL-2KM-39N_556_2794.txt', '20240618_215539_SN31_QUICKVIEW_VISUAL_1_7_0_SATL-2KM-11N_452_3740.txt', '20240623_215102_SN43_QUICKVIEW_VISUAL_1_7_0_SATL-2KM-11N_384_3750.txt', '20240607_200250_SN27_QUICKVIEW_VISUAL_1_7_0_SATL-2KM-10N_554_4172.txt', '20240618_215539_SN31_QUICKVIEW_VISUAL_1_7_0_SATL-2KM-11N_458_3756.txt', '20240602_215203_SN30_QUICKVIEW_VISUAL_1_6_0_SATL-2KM-10N_714_3948.txt', '20240617_184443_SN24_QUICKVIEW_VISUAL_1_7_0_SATL-2KM-11N_702_3566.txt', '20240602_215203_SN30_QUICKVIEW_VISUAL_1_6_0_SATL-2KM-10N_712_3948.txt', '20240616_081345_SN27_QUICKVIEW_VISUAL_1_7_0_SATL-2KM-39N_560_2792.txt', '20240616_213047_SN30_QUICKVIEW_VISUAL_1_7_0_SATL-2KM-11N_464_3828.txt', '20240618_193146_SN27_QUICKVIEW_VISUAL_1_7_0_SATL-2KM-11N_530_3682.txt', '20240614_221436_SN31_QUICKVIEW_VISUAL_1_7_0_SATL-2KM-10N_558_4184.txt', '20240605_212717_SN29_QUICKVIEW_VISUAL_1_7_0_SATL-2KM-11N_718_3608.txt', '20240609_191744_SN24_QUICKVIEW_VISUAL_1_7_0_SATL-2KM-10N_564_4194.txt', '20240616_081345_SN27_QUICKVIEW_VISUAL_1_7_0_SATL-2KM-39N_560_2794.txt', '20240609_191959_SN27_QUICKVIEW_VISUAL_1_7_0_SATL-2KM-11N_702_3540.txt']\n",
      "In 4-2024, existing files: ['20240402_184757_SN24_QUICKVIEW_VISUAL_1_2_0_SATL-2KM-11N_488_3638.txt', '20240423_190101_SN26_QUICKVIEW_VISUAL_1_5_0_SATL-2KM-11N_418_3872.txt', '20240402_184757_SN24_QUICKVIEW_VISUAL_1_2_0_SATL-2KM-11N_486_3630.txt', '20240423_190101_SN26_QUICKVIEW_VISUAL_1_5_0_SATL-2KM-11N_418_3864.txt', '20240401_221819_SN31_QUICKVIEW_VISUAL_1_2_0_SATL-2KM-10N_602_4148.txt', '20240423_190101_SN26_QUICKVIEW_VISUAL_1_5_0_SATL-2KM-11N_418_3860.txt', '20240402_184757_SN24_QUICKVIEW_VISUAL_1_2_0_SATL-2KM-11N_486_3636.txt', '20240423_190101_SN26_QUICKVIEW_VISUAL_1_5_0_SATL-2KM-11N_418_3862.txt', '20240428_215426_SN43_QUICKVIEW_VISUAL_1_5_0_SATL-2KM-10N_630_4264.txt', '20240427_221308_SN31_QUICKVIEW_VISUAL_1_5_0_SATL-2KM-10N_722_3848.txt', '20240423_190101_SN26_QUICKVIEW_VISUAL_1_5_0_SATL-2KM-11N_414_3862.txt', '20240401_032415_SN27_QUICKVIEW_VISUAL_1_2_0_SATL-2KM-51N_688_4420.txt', '20240428_215426_SN43_QUICKVIEW_VISUAL_1_5_0_SATL-2KM-10N_630_4262.txt', '20240428_215426_SN43_QUICKVIEW_VISUAL_1_5_0_SATL-2KM-10N_634_4282.txt', '20240401_175918_SN33_QUICKVIEW_VISUAL_1_2_0_SATL-2KM-10N_542_4168.txt', '20240426_215224_SN29_QUICKVIEW_VISUAL_1_5_0_SATL-2KM-11N_244_3818.txt', '20240401_175918_SN33_QUICKVIEW_VISUAL_1_2_0_SATL-2KM-10N_546_4206.txt', '20240402_215427_SN31_QUICKVIEW_VISUAL_1_2_0_SATL-2KM-11N_502_3600.txt', '20240428_215557_SN43_QUICKVIEW_VISUAL_1_5_0_SATL-2KM-10N_726_3862.txt', '20240423_190101_SN26_QUICKVIEW_VISUAL_1_5_0_SATL-2KM-11N_416_3864.txt', '20240402_184757_SN24_QUICKVIEW_VISUAL_1_2_0_SATL-2KM-11N_490_3638.txt', '20240428_191026_SN24_QUICKVIEW_VISUAL_1_5_0_SATL-2KM-11N_380_3722.txt', '20240401_175925_SN33_QUICKVIEW_VISUAL_1_2_0_SATL-2KM-10N_542_4168.txt', '20240402_215421_SN31_QUICKVIEW_VISUAL_1_2_0_SATL-2KM-11N_500_3632.txt', '20240423_190101_SN26_QUICKVIEW_VISUAL_1_5_0_SATL-2KM-11N_416_3862.txt']\n",
      "In 2-2024, existing files: ['20240201_075140_SN26_QUICKVIEW_VISUAL_1_1_10_SATL-2KM-39N_558_2794.txt', '20240222_074151_SN26_QUICKVIEW_VISUAL_1_1_10_SATL-2KM-39N_560_2794.txt', '20240218_180121_SN33_QUICKVIEW_VISUAL_1_1_10_SATL-2KM-10N_568_4176.txt', '20240213_212524_SN29_QUICKVIEW_VISUAL_1_1_10_SATL-2KM-11N_542_3750.txt', '20240222_074155_SN26_QUICKVIEW_VISUAL_1_1_10_SATL-2KM-39N_556_2794.txt', '20240222_074155_SN26_QUICKVIEW_VISUAL_1_1_10_SATL-2KM-39N_562_2794.txt', '20240222_074151_SN26_QUICKVIEW_VISUAL_1_1_10_SATL-2KM-39N_560_2796.txt', '20240220_190455_SN27_QUICKVIEW_VISUAL_1_1_10_SATL-2KM-11N_718_3608.txt', '20240203_173953_SN33_QUICKVIEW_VISUAL_1_1_10_SATL-2KM-11N_368_3756.txt', '20240222_074256_SN26_QUICKVIEW_VISUAL_1_1_10_SATL-2KM-39N_564_2790.txt', '20240222_074155_SN26_QUICKVIEW_VISUAL_1_1_10_SATL-2KM-39N_556_2792.txt', '20240201_075143_SN26_QUICKVIEW_VISUAL_1_1_10_SATL-2KM-39N_556_2792.txt', '20240223_025420_SN24_QUICKVIEW_VISUAL_1_1_10_SATL-2KM-51N_686_4422.txt', '20240228_213951_SN29_QUICKVIEW_VISUAL_1_1_10_SATL-2KM-11N_248_4068.txt', '20240222_074155_SN26_QUICKVIEW_VISUAL_1_1_10_SATL-2KM-39N_562_2792.txt', '20240201_075140_SN26_QUICKVIEW_VISUAL_1_1_10_SATL-2KM-39N_560_2792.txt', '20240213_212524_SN29_QUICKVIEW_VISUAL_1_1_10_SATL-2KM-11N_544_3742.txt', '20240213_212524_SN29_QUICKVIEW_VISUAL_1_1_10_SATL-2KM-11N_540_3748.txt', '20240219_214312_SN28_QUICKVIEW_VISUAL_1_1_10_SATL-2KM-11N_252_3954.txt', '20240201_075140_SN26_QUICKVIEW_VISUAL_1_1_10_SATL-2KM-39N_560_2794.txt', '20240216_213630_SN31_QUICKVIEW_VISUAL_1_1_10_SATL-2KM-11N_418_3724.txt', '20240222_074151_SN26_QUICKVIEW_VISUAL_1_1_10_SATL-2KM-39N_558_2796.txt', '20240201_075140_SN26_QUICKVIEW_VISUAL_1_1_10_SATL-2KM-39N_560_2796.txt', '20240208_184650_SN24_QUICKVIEW_VISUAL_1_1_10_SATL-2KM-11N_624_3632.txt', '20240214_184340_SN24_QUICKVIEW_VISUAL_1_1_10_SATL-2KM-11N_688_3630.txt', '20240212_213506_SN31_QUICKVIEW_VISUAL_1_1_10_SATL-2KM-11N_408_3712.txt', '20240222_074155_SN26_QUICKVIEW_VISUAL_1_1_10_SATL-2KM-39N_560_2792.txt', '20240222_212250_SN30_QUICKVIEW_VISUAL_1_1_10_SATL-2KM-11N_382_3722.txt', '20240221_190608_SN26_QUICKVIEW_VISUAL_1_1_10_SATL-2KM-11N_380_3764.txt', '20240209_212744_SN29_QUICKVIEW_VISUAL_1_1_10_SATL-2KM-11N_380_3722.txt', '20240222_074151_SN26_QUICKVIEW_VISUAL_1_1_10_SATL-2KM-39N_556_2794.txt', '20240202_191114_SN27_QUICKVIEW_VISUAL_1_1_10_SATL-2KM-11N_718_3608.txt', '20240202_184725_SN24_QUICKVIEW_VISUAL_1_1_10_SATL-2KM-11N_624_3630.txt', '20240222_074151_SN26_QUICKVIEW_VISUAL_1_1_10_SATL-2KM-39N_562_2794.txt', '20240224_214855_SN30_QUICKVIEW_VISUAL_1_1_10_SATL-2KM-10N_552_4162.txt', '20240227_214218_SN30_QUICKVIEW_VISUAL_1_1_10_SATL-2KM-10N_562_4170.txt', '20240201_075140_SN26_QUICKVIEW_VISUAL_1_1_10_SATL-2KM-39N_556_2794.txt', '20240222_074155_SN26_QUICKVIEW_VISUAL_1_1_10_SATL-2KM-39N_558_2794.txt', '20240211_211057_SN30_QUICKVIEW_VISUAL_1_1_10_SATL-2KM-11N_700_3690.txt', '20240201_075140_SN26_QUICKVIEW_VISUAL_1_1_10_SATL-2KM-39N_562_2794.txt', '20240201_075143_SN26_QUICKVIEW_VISUAL_1_1_10_SATL-2KM-39N_562_2788.txt', '20240224_214855_SN30_QUICKVIEW_VISUAL_1_1_10_SATL-2KM-10N_554_4162.txt', '20240203_173953_SN33_QUICKVIEW_VISUAL_1_1_10_SATL-2KM-11N_366_3756.txt', '20240201_075140_SN26_QUICKVIEW_VISUAL_1_1_10_SATL-2KM-39N_556_2792.txt', '20240201_075140_SN26_QUICKVIEW_VISUAL_1_1_10_SATL-2KM-39N_562_2792.txt']\n",
      "In 3-2024, existing files: ['20240322_212516_SN28_QUICKVIEW_VISUAL_1_2_0_SATL-2KM-11N_502_3600.txt', '20240317_221229_SN31_QUICKVIEW_VISUAL_1_2_0_SATL-2KM-10N_556_4176.txt', '20240316_191451_SN26_QUICKVIEW_VISUAL_1_2_0_SATL-2KM-11N_380_3764.txt', '20240324_180232_SN33_QUICKVIEW_VISUAL_1_2_0_SATL-2KM-10N_554_4172.txt', '20240317_215115_SN28_QUICKVIEW_VISUAL_1_2_0_SATL-2KM-10N_554_4162.txt', '20240325_173936_SN33_QUICKVIEW_VISUAL_1_2_0_SATL-2KM-11N_378_3722.txt', '20240304_212824_SN30_QUICKVIEW_VISUAL_1_2_0_SATL-2KM-11N_378_3722.txt', '20240314_220020_SN30_QUICKVIEW_VISUAL_1_2_0_SATL-2KM-10N_544_4186.txt', '20240322_184801_SN24_QUICKVIEW_VISUAL_1_2_0_SATL-2KM-11N_500_3632.txt', '20240308_211248_SN29_QUICKVIEW_VISUAL_1_2_0_SATL-2KM-11N_718_3640.txt', '20240317_215115_SN28_QUICKVIEW_VISUAL_1_2_0_SATL-2KM-10N_552_4162.txt', '20240314_220020_SN30_QUICKVIEW_VISUAL_1_2_0_SATL-2KM-10N_550_4202.txt', '20240317_215115_SN28_QUICKVIEW_VISUAL_1_2_0_SATL-2KM-10N_552_4164.txt', '20240308_191212_SN27_QUICKVIEW_VISUAL_1_2_0_SATL-2KM-11N_506_3614.txt', '20240321_220846_SN31_QUICKVIEW_VISUAL_1_2_0_SATL-2KM-10N_560_4178.txt', '20240322_184801_SN24_QUICKVIEW_VISUAL_1_2_0_SATL-2KM-11N_502_3632.txt', '20240321_190819_SN27_QUICKVIEW_VISUAL_1_2_0_SATL-2KM-11N_714_3632.txt']\n",
      "In 5-2024, existing files: ['20240506_192008_SN26_QUICKVIEW_VISUAL_1_5_0_SATL-2KM-10N_562_4178.txt', '20240521_052621_SN43_QUICKVIEW_VISUAL_1_6_0_SATL-2KM-51N_730_4342.txt', '20240508_194502_SN27_QUICKVIEW_VISUAL_1_5_0_SATL-2KM-11N_264_4022.txt', '20240519_191838_SN27_QUICKVIEW_VISUAL_1_5_0_SATL-2KM-11N_718_3608.txt', '20240528_191448_SN24_QUICKVIEW_VISUAL_1_6_0_SATL-2KM-11N_248_4068.txt', '20240509_193206_SN26_QUICKVIEW_VISUAL_1_5_0_SATL-2KM-10N_562_4196.txt', '20240516_211630_SN28_QUICKVIEW_VISUAL_1_5_0_SATL-2KM-11N_716_3848.txt', '20240514_052716_SN43_QUICKVIEW_VISUAL_1_5_0_SATL-2KM-51N_730_4342.txt', '20240503_214759_SN28_QUICKVIEW_VISUAL_1_5_0_SATL-2KM-11N_376_3724.txt', '20240519_184534_SN24_QUICKVIEW_VISUAL_1_5_0_SATL-2KM-11N_658_3700.txt', '20240521_101252_SN43_QUICKVIEW_VISUAL_1_6_0_SATL-2KM-39N_556_2792.txt', '20240510_191914_SN27_QUICKVIEW_VISUAL_1_5_0_SATL-2KM-11N_712_3566.txt', '20240528_191604_SN24_QUICKVIEW_VISUAL_1_6_0_SATL-2KM-11N_344_3836.txt', '20240509_212336_SN29_QUICKVIEW_VISUAL_1_5_0_SATL-2KM-11N_706_3778.txt', '20240508_194502_SN27_QUICKVIEW_VISUAL_1_5_0_SATL-2KM-11N_262_4022.txt', '20240519_214917_SN31_QUICKVIEW_VISUAL_1_5_0_SATL-2KM-11N_500_3600.txt', '20240513_212022_SN29_QUICKVIEW_VISUAL_1_5_0_SATL-2KM-11N_630_3742.txt', '20240516_190328_SN24_QUICKVIEW_VISUAL_1_5_0_SATL-2KM-11N_262_4052.txt', '20240519_214917_SN31_QUICKVIEW_VISUAL_1_5_0_SATL-2KM-11N_500_3602.txt', '20240521_101252_SN43_QUICKVIEW_VISUAL_1_6_0_SATL-2KM-39N_558_2796.txt', '20240510_191908_SN27_QUICKVIEW_VISUAL_1_5_0_SATL-2KM-11N_718_3608.txt', '20240519_214917_SN31_QUICKVIEW_VISUAL_1_5_0_SATL-2KM-11N_500_3598.txt', '20240524_213504_SN29_QUICKVIEW_VISUAL_1_6_0_SATL-2KM-11N_380_3724.txt', '20240506_213507_SN43_QUICKVIEW_VISUAL_1_5_0_SATL-2KM-11N_384_3750.txt', '20240520_194539_SN27_QUICKVIEW_VISUAL_1_5_0_SATL-2KM-10N_638_4280.txt', '20240520_194539_SN27_QUICKVIEW_VISUAL_1_5_0_SATL-2KM-10N_638_4282.txt', '20240524_213504_SN29_QUICKVIEW_VISUAL_1_6_0_SATL-2KM-11N_378_3724.txt', '20240507_191326_SN27_QUICKVIEW_VISUAL_1_5_0_SATL-2KM-11N_718_3608.txt']\n"
     ]
    }
   ],
   "source": [
    "# First, let's create the dictionary with lists\n",
    "import re \n",
    "import glob  \n",
    "import os  \n",
    "from datetime import datetime  \n",
    "\n",
    "pattern = r'(\\d{8})_(\\d{6})_SN(\\d+)_QUICKVIEW_VISUAL_([\\d_]+)_([A-Za-z0-9\\-_.]+)\\.txt' \n",
    "\n",
    "annotations = glob.glob('session_4/annotations/*.txt')\n",
    "\n",
    "annotations_by_month = {}\n",
    "\n",
    "for annotation in annotations:\n",
    "    filename = os.path.basename(annotation)\n",
    "    match = re.match(pattern, filename)\n",
    "    if match:\n",
    "        date, _, _, _, _ = match.groups()\n",
    "        date_format = datetime.strptime(date, \"%Y%m%d\")\n",
    "        year = date_format.year\n",
    "        month = date_format.month\n",
    "\n",
    "        key = (year, month)\n",
    "# exactly the same as before but now we append the filename too\n",
    "        if key in annotations_by_month:\n",
    "            annotations_by_month[key].append(filename)\n",
    "        else:\n",
    "            annotations_by_month[key] = [filename]\n",
    "print('Annotations by month:')\n",
    "for (year, month), files in annotations_by_month.items():\n",
    "    print(f\"In {month}-{year}, existing files: {files}\")\n"
   ]
  },
  {
   "cell_type": "code",
   "execution_count": 100,
   "id": "fdde1004",
   "metadata": {},
   "outputs": [
    {
     "name": "stdout",
     "output_type": "stream",
     "text": [
      "Annotations by month in JSON format: {'2024-1': ['20240102_185527_SN27_QUICKVIEW_VISUAL_1_1_10_SATL-2KM-11N_740_3850.txt', '20240101_174301_SN33_QUICKVIEW_VISUAL_1_1_10_SATL-2KM-11N_404_3770.txt', '20240101_192856_SN24_QUICKVIEW_VISUAL_1_1_10_SATL-2KM-10N_552_4164.txt', '20240102_185954_SN24_QUICKVIEW_VISUAL_1_1_10_SATL-2KM-11N_414_3786.txt', '20240104_220339_SN31_QUICKVIEW_VISUAL_1_1_10_SATL-2KM-10N_556_4178.txt', '20240115_213834_SN28_QUICKVIEW_VISUAL_1_1_10_SATL-2KM-11N_376_3722.txt', '20240126_173752_SN33_QUICKVIEW_VISUAL_1_1_10_SATL-2KM-11N_386_3722.txt', '20240101_174301_SN33_QUICKVIEW_VISUAL_1_1_10_SATL-2KM-11N_404_3772.txt', '20240130_173903_SN33_QUICKVIEW_VISUAL_1_1_10_SATL-2KM-11N_366_3756.txt', '20240127_190620_SN27_QUICKVIEW_VISUAL_1_1_10_SATL-2KM-11N_500_3600.txt', '20240101_192856_SN24_QUICKVIEW_VISUAL_1_1_10_SATL-2KM-10N_552_4162.txt', '20240127_190620_SN27_QUICKVIEW_VISUAL_1_1_10_SATL-2KM-11N_500_3602.txt', '20240101_192856_SN24_QUICKVIEW_VISUAL_1_1_10_SATL-2KM-10N_554_4162.txt', '20240101_213601_SN31_QUICKVIEW_VISUAL_1_1_10_SATL-2KM-11N_392_3740.txt', '20240101_213601_SN31_QUICKVIEW_VISUAL_1_1_10_SATL-2KM-11N_392_3742.txt', '20240128_213258_SN29_QUICKVIEW_VISUAL_1_1_10_SATL-2KM-11N_418_3864.txt', '20240128_213258_SN29_QUICKVIEW_VISUAL_1_1_10_SATL-2KM-11N_418_3862.txt', '20240130_215036_SN31_QUICKVIEW_VISUAL_1_1_10_SATL-2KM-11N_366_3756.txt', '20240127_190620_SN27_QUICKVIEW_VISUAL_1_1_10_SATL-2KM-11N_502_3602.txt', '20240127_190620_SN27_QUICKVIEW_VISUAL_1_1_10_SATL-2KM-11N_502_3600.txt', '20240130_173903_SN33_QUICKVIEW_VISUAL_1_1_10_SATL-2KM-11N_360_3748.txt', '20240130_173903_SN33_QUICKVIEW_VISUAL_1_1_10_SATL-2KM-11N_364_3754.txt', '20240101_213601_SN31_QUICKVIEW_VISUAL_1_1_10_SATL-2KM-11N_396_3752.txt', '20240112_192510_SN27_QUICKVIEW_VISUAL_1_1_10_SATL-2KM-11N_386_3750.txt', '20240115_213834_SN28_QUICKVIEW_VISUAL_1_1_10_SATL-2KM-11N_380_3724.txt', '20240110_192002_SN27_QUICKVIEW_VISUAL_1_1_10_SATL-2KM-11N_380_3728.txt', '20240102_185605_SN27_QUICKVIEW_VISUAL_1_1_10_SATL-2KM-11N_690_3572.txt'], '2024-6': ['20240623_193704_SN27_QUICKVIEW_VISUAL_1_7_0_SATL-2KM-11N_566_3734.txt', '20240603_215226_SN28_QUICKVIEW_VISUAL_1_6_0_SATL-2KM-11N_248_4068.txt', '20240603_215348_SN28_QUICKVIEW_VISUAL_1_6_0_SATL-2KM-11N_346_3786.txt', '20240616_213053_SN30_QUICKVIEW_VISUAL_1_7_0_SATL-2KM-11N_460_3792.txt', '20240611_025943_SN26_QUICKVIEW_VISUAL_1_7_0_SATL-2KM-51N_748_4366.txt', '20240612_185400_SN24_QUICKVIEW_VISUAL_1_7_0_SATL-2KM-11N_574_3714.txt', '20240619_185757_SN24_QUICKVIEW_VISUAL_1_7_0_SATL-2KM-11N_528_3700.txt', '20240619_052401_SN30_QUICKVIEW_VISUAL_1_7_0_SATL-2KM-52N_368_4336.txt', '20240616_213047_SN30_QUICKVIEW_VISUAL_1_7_0_SATL-2KM-11N_464_3830.txt', '20240616_102144_SN28_QUICKVIEW_VISUAL_1_7_0_SATL-2KM-39N_560_2792.txt', '20240617_052859_SN29_QUICKVIEW_VISUAL_1_7_0_SATL-2KM-51N_730_4348.txt', '20240608_214614_SN29_QUICKVIEW_VISUAL_1_7_0_SATL-2KM-11N_248_4068.txt', '20240617_211350_SN29_QUICKVIEW_VISUAL_1_7_0_SATL-2KM-11N_724_3614.txt', '20240606_180251_SN33_QUICKVIEW_VISUAL_1_7_0_SATL-2KM-10N_556_4180.txt', '20240613_214203_SN43_QUICKVIEW_VISUAL_1_7_0_SATL-2KM-11N_384_3750.txt', '20240611_025943_SN26_QUICKVIEW_VISUAL_1_7_0_SATL-2KM-51N_748_4364.txt', '20240616_081345_SN27_QUICKVIEW_VISUAL_1_7_0_SATL-2KM-39N_562_2794.txt', '20240609_214259_SN30_QUICKVIEW_VISUAL_1_7_0_SATL-2KM-11N_262_4052.txt', '20240604_214955_SN29_QUICKVIEW_VISUAL_1_7_0_SATL-2KM-10N_594_4136.txt', '20240613_192217_SN26_QUICKVIEW_VISUAL_1_7_0_SATL-2KM-10N_560_4178.txt', '20240615_173631_SN33_QUICKVIEW_VISUAL_1_7_0_SATL-2KM-11N_546_3742.txt', '20240623_215120_SN29_QUICKVIEW_VISUAL_1_7_0_SATL-2KM-10N_596_4134.txt', '20240612_185400_SN24_QUICKVIEW_VISUAL_1_7_0_SATL-2KM-11N_576_3720.txt', '20240612_053829_SN28_QUICKVIEW_VISUAL_1_7_0_SATL-2KM-51N_686_4422.txt', '20240616_102144_SN28_QUICKVIEW_VISUAL_1_7_0_SATL-2KM-39N_558_2794.txt', '20240616_081345_SN27_QUICKVIEW_VISUAL_1_7_0_SATL-2KM-39N_562_2792.txt', '20240616_213047_SN30_QUICKVIEW_VISUAL_1_7_0_SATL-2KM-11N_466_3828.txt', '20240619_215556_SN29_QUICKVIEW_VISUAL_1_7_0_SATL-2KM-10N_742_4460.txt', '20240611_215323_SN30_QUICKVIEW_VISUAL_1_7_0_SATL-2KM-10N_702_3948.txt', '20240613_053340_SN29_QUICKVIEW_VISUAL_1_7_0_SATL-2KM-51N_728_4342.txt', '20240612_185419_SN24_QUICKVIEW_VISUAL_1_7_0_SATL-2KM-11N_554_3610.txt', '20240612_053829_SN28_QUICKVIEW_VISUAL_1_7_0_SATL-2KM-51N_688_4420.txt', '20240616_213047_SN30_QUICKVIEW_VISUAL_1_7_0_SATL-2KM-11N_466_3826.txt', '20240612_185400_SN24_QUICKVIEW_VISUAL_1_7_0_SATL-2KM-11N_578_3722.txt', '20240610_191018_SN26_QUICKVIEW_VISUAL_1_7_0_SATL-2KM-11N_384_3750.txt', '20240613_053340_SN29_QUICKVIEW_VISUAL_1_7_0_SATL-2KM-51N_730_4342.txt', '20240616_102144_SN28_QUICKVIEW_VISUAL_1_7_0_SATL-2KM-39N_556_2794.txt', '20240618_215539_SN31_QUICKVIEW_VISUAL_1_7_0_SATL-2KM-11N_452_3740.txt', '20240623_215102_SN43_QUICKVIEW_VISUAL_1_7_0_SATL-2KM-11N_384_3750.txt', '20240607_200250_SN27_QUICKVIEW_VISUAL_1_7_0_SATL-2KM-10N_554_4172.txt', '20240618_215539_SN31_QUICKVIEW_VISUAL_1_7_0_SATL-2KM-11N_458_3756.txt', '20240602_215203_SN30_QUICKVIEW_VISUAL_1_6_0_SATL-2KM-10N_714_3948.txt', '20240617_184443_SN24_QUICKVIEW_VISUAL_1_7_0_SATL-2KM-11N_702_3566.txt', '20240602_215203_SN30_QUICKVIEW_VISUAL_1_6_0_SATL-2KM-10N_712_3948.txt', '20240616_081345_SN27_QUICKVIEW_VISUAL_1_7_0_SATL-2KM-39N_560_2792.txt', '20240616_213047_SN30_QUICKVIEW_VISUAL_1_7_0_SATL-2KM-11N_464_3828.txt', '20240618_193146_SN27_QUICKVIEW_VISUAL_1_7_0_SATL-2KM-11N_530_3682.txt', '20240614_221436_SN31_QUICKVIEW_VISUAL_1_7_0_SATL-2KM-10N_558_4184.txt', '20240605_212717_SN29_QUICKVIEW_VISUAL_1_7_0_SATL-2KM-11N_718_3608.txt', '20240609_191744_SN24_QUICKVIEW_VISUAL_1_7_0_SATL-2KM-10N_564_4194.txt', '20240616_081345_SN27_QUICKVIEW_VISUAL_1_7_0_SATL-2KM-39N_560_2794.txt', '20240609_191959_SN27_QUICKVIEW_VISUAL_1_7_0_SATL-2KM-11N_702_3540.txt'], '2024-4': ['20240402_184757_SN24_QUICKVIEW_VISUAL_1_2_0_SATL-2KM-11N_488_3638.txt', '20240423_190101_SN26_QUICKVIEW_VISUAL_1_5_0_SATL-2KM-11N_418_3872.txt', '20240402_184757_SN24_QUICKVIEW_VISUAL_1_2_0_SATL-2KM-11N_486_3630.txt', '20240423_190101_SN26_QUICKVIEW_VISUAL_1_5_0_SATL-2KM-11N_418_3864.txt', '20240401_221819_SN31_QUICKVIEW_VISUAL_1_2_0_SATL-2KM-10N_602_4148.txt', '20240423_190101_SN26_QUICKVIEW_VISUAL_1_5_0_SATL-2KM-11N_418_3860.txt', '20240402_184757_SN24_QUICKVIEW_VISUAL_1_2_0_SATL-2KM-11N_486_3636.txt', '20240423_190101_SN26_QUICKVIEW_VISUAL_1_5_0_SATL-2KM-11N_418_3862.txt', '20240428_215426_SN43_QUICKVIEW_VISUAL_1_5_0_SATL-2KM-10N_630_4264.txt', '20240427_221308_SN31_QUICKVIEW_VISUAL_1_5_0_SATL-2KM-10N_722_3848.txt', '20240423_190101_SN26_QUICKVIEW_VISUAL_1_5_0_SATL-2KM-11N_414_3862.txt', '20240401_032415_SN27_QUICKVIEW_VISUAL_1_2_0_SATL-2KM-51N_688_4420.txt', '20240428_215426_SN43_QUICKVIEW_VISUAL_1_5_0_SATL-2KM-10N_630_4262.txt', '20240428_215426_SN43_QUICKVIEW_VISUAL_1_5_0_SATL-2KM-10N_634_4282.txt', '20240401_175918_SN33_QUICKVIEW_VISUAL_1_2_0_SATL-2KM-10N_542_4168.txt', '20240426_215224_SN29_QUICKVIEW_VISUAL_1_5_0_SATL-2KM-11N_244_3818.txt', '20240401_175918_SN33_QUICKVIEW_VISUAL_1_2_0_SATL-2KM-10N_546_4206.txt', '20240402_215427_SN31_QUICKVIEW_VISUAL_1_2_0_SATL-2KM-11N_502_3600.txt', '20240428_215557_SN43_QUICKVIEW_VISUAL_1_5_0_SATL-2KM-10N_726_3862.txt', '20240423_190101_SN26_QUICKVIEW_VISUAL_1_5_0_SATL-2KM-11N_416_3864.txt', '20240402_184757_SN24_QUICKVIEW_VISUAL_1_2_0_SATL-2KM-11N_490_3638.txt', '20240428_191026_SN24_QUICKVIEW_VISUAL_1_5_0_SATL-2KM-11N_380_3722.txt', '20240401_175925_SN33_QUICKVIEW_VISUAL_1_2_0_SATL-2KM-10N_542_4168.txt', '20240402_215421_SN31_QUICKVIEW_VISUAL_1_2_0_SATL-2KM-11N_500_3632.txt', '20240423_190101_SN26_QUICKVIEW_VISUAL_1_5_0_SATL-2KM-11N_416_3862.txt'], '2024-2': ['20240201_075140_SN26_QUICKVIEW_VISUAL_1_1_10_SATL-2KM-39N_558_2794.txt', '20240222_074151_SN26_QUICKVIEW_VISUAL_1_1_10_SATL-2KM-39N_560_2794.txt', '20240218_180121_SN33_QUICKVIEW_VISUAL_1_1_10_SATL-2KM-10N_568_4176.txt', '20240213_212524_SN29_QUICKVIEW_VISUAL_1_1_10_SATL-2KM-11N_542_3750.txt', '20240222_074155_SN26_QUICKVIEW_VISUAL_1_1_10_SATL-2KM-39N_556_2794.txt', '20240222_074155_SN26_QUICKVIEW_VISUAL_1_1_10_SATL-2KM-39N_562_2794.txt', '20240222_074151_SN26_QUICKVIEW_VISUAL_1_1_10_SATL-2KM-39N_560_2796.txt', '20240220_190455_SN27_QUICKVIEW_VISUAL_1_1_10_SATL-2KM-11N_718_3608.txt', '20240203_173953_SN33_QUICKVIEW_VISUAL_1_1_10_SATL-2KM-11N_368_3756.txt', '20240222_074256_SN26_QUICKVIEW_VISUAL_1_1_10_SATL-2KM-39N_564_2790.txt', '20240222_074155_SN26_QUICKVIEW_VISUAL_1_1_10_SATL-2KM-39N_556_2792.txt', '20240201_075143_SN26_QUICKVIEW_VISUAL_1_1_10_SATL-2KM-39N_556_2792.txt', '20240223_025420_SN24_QUICKVIEW_VISUAL_1_1_10_SATL-2KM-51N_686_4422.txt', '20240228_213951_SN29_QUICKVIEW_VISUAL_1_1_10_SATL-2KM-11N_248_4068.txt', '20240222_074155_SN26_QUICKVIEW_VISUAL_1_1_10_SATL-2KM-39N_562_2792.txt', '20240201_075140_SN26_QUICKVIEW_VISUAL_1_1_10_SATL-2KM-39N_560_2792.txt', '20240213_212524_SN29_QUICKVIEW_VISUAL_1_1_10_SATL-2KM-11N_544_3742.txt', '20240213_212524_SN29_QUICKVIEW_VISUAL_1_1_10_SATL-2KM-11N_540_3748.txt', '20240219_214312_SN28_QUICKVIEW_VISUAL_1_1_10_SATL-2KM-11N_252_3954.txt', '20240201_075140_SN26_QUICKVIEW_VISUAL_1_1_10_SATL-2KM-39N_560_2794.txt', '20240216_213630_SN31_QUICKVIEW_VISUAL_1_1_10_SATL-2KM-11N_418_3724.txt', '20240222_074151_SN26_QUICKVIEW_VISUAL_1_1_10_SATL-2KM-39N_558_2796.txt', '20240201_075140_SN26_QUICKVIEW_VISUAL_1_1_10_SATL-2KM-39N_560_2796.txt', '20240208_184650_SN24_QUICKVIEW_VISUAL_1_1_10_SATL-2KM-11N_624_3632.txt', '20240214_184340_SN24_QUICKVIEW_VISUAL_1_1_10_SATL-2KM-11N_688_3630.txt', '20240212_213506_SN31_QUICKVIEW_VISUAL_1_1_10_SATL-2KM-11N_408_3712.txt', '20240222_074155_SN26_QUICKVIEW_VISUAL_1_1_10_SATL-2KM-39N_560_2792.txt', '20240222_212250_SN30_QUICKVIEW_VISUAL_1_1_10_SATL-2KM-11N_382_3722.txt', '20240221_190608_SN26_QUICKVIEW_VISUAL_1_1_10_SATL-2KM-11N_380_3764.txt', '20240209_212744_SN29_QUICKVIEW_VISUAL_1_1_10_SATL-2KM-11N_380_3722.txt', '20240222_074151_SN26_QUICKVIEW_VISUAL_1_1_10_SATL-2KM-39N_556_2794.txt', '20240202_191114_SN27_QUICKVIEW_VISUAL_1_1_10_SATL-2KM-11N_718_3608.txt', '20240202_184725_SN24_QUICKVIEW_VISUAL_1_1_10_SATL-2KM-11N_624_3630.txt', '20240222_074151_SN26_QUICKVIEW_VISUAL_1_1_10_SATL-2KM-39N_562_2794.txt', '20240224_214855_SN30_QUICKVIEW_VISUAL_1_1_10_SATL-2KM-10N_552_4162.txt', '20240227_214218_SN30_QUICKVIEW_VISUAL_1_1_10_SATL-2KM-10N_562_4170.txt', '20240201_075140_SN26_QUICKVIEW_VISUAL_1_1_10_SATL-2KM-39N_556_2794.txt', '20240222_074155_SN26_QUICKVIEW_VISUAL_1_1_10_SATL-2KM-39N_558_2794.txt', '20240211_211057_SN30_QUICKVIEW_VISUAL_1_1_10_SATL-2KM-11N_700_3690.txt', '20240201_075140_SN26_QUICKVIEW_VISUAL_1_1_10_SATL-2KM-39N_562_2794.txt', '20240201_075143_SN26_QUICKVIEW_VISUAL_1_1_10_SATL-2KM-39N_562_2788.txt', '20240224_214855_SN30_QUICKVIEW_VISUAL_1_1_10_SATL-2KM-10N_554_4162.txt', '20240203_173953_SN33_QUICKVIEW_VISUAL_1_1_10_SATL-2KM-11N_366_3756.txt', '20240201_075140_SN26_QUICKVIEW_VISUAL_1_1_10_SATL-2KM-39N_556_2792.txt', '20240201_075140_SN26_QUICKVIEW_VISUAL_1_1_10_SATL-2KM-39N_562_2792.txt'], '2024-3': ['20240322_212516_SN28_QUICKVIEW_VISUAL_1_2_0_SATL-2KM-11N_502_3600.txt', '20240317_221229_SN31_QUICKVIEW_VISUAL_1_2_0_SATL-2KM-10N_556_4176.txt', '20240316_191451_SN26_QUICKVIEW_VISUAL_1_2_0_SATL-2KM-11N_380_3764.txt', '20240324_180232_SN33_QUICKVIEW_VISUAL_1_2_0_SATL-2KM-10N_554_4172.txt', '20240317_215115_SN28_QUICKVIEW_VISUAL_1_2_0_SATL-2KM-10N_554_4162.txt', '20240325_173936_SN33_QUICKVIEW_VISUAL_1_2_0_SATL-2KM-11N_378_3722.txt', '20240304_212824_SN30_QUICKVIEW_VISUAL_1_2_0_SATL-2KM-11N_378_3722.txt', '20240314_220020_SN30_QUICKVIEW_VISUAL_1_2_0_SATL-2KM-10N_544_4186.txt', '20240322_184801_SN24_QUICKVIEW_VISUAL_1_2_0_SATL-2KM-11N_500_3632.txt', '20240308_211248_SN29_QUICKVIEW_VISUAL_1_2_0_SATL-2KM-11N_718_3640.txt', '20240317_215115_SN28_QUICKVIEW_VISUAL_1_2_0_SATL-2KM-10N_552_4162.txt', '20240314_220020_SN30_QUICKVIEW_VISUAL_1_2_0_SATL-2KM-10N_550_4202.txt', '20240317_215115_SN28_QUICKVIEW_VISUAL_1_2_0_SATL-2KM-10N_552_4164.txt', '20240308_191212_SN27_QUICKVIEW_VISUAL_1_2_0_SATL-2KM-11N_506_3614.txt', '20240321_220846_SN31_QUICKVIEW_VISUAL_1_2_0_SATL-2KM-10N_560_4178.txt', '20240322_184801_SN24_QUICKVIEW_VISUAL_1_2_0_SATL-2KM-11N_502_3632.txt', '20240321_190819_SN27_QUICKVIEW_VISUAL_1_2_0_SATL-2KM-11N_714_3632.txt'], '2024-5': ['20240506_192008_SN26_QUICKVIEW_VISUAL_1_5_0_SATL-2KM-10N_562_4178.txt', '20240521_052621_SN43_QUICKVIEW_VISUAL_1_6_0_SATL-2KM-51N_730_4342.txt', '20240508_194502_SN27_QUICKVIEW_VISUAL_1_5_0_SATL-2KM-11N_264_4022.txt', '20240519_191838_SN27_QUICKVIEW_VISUAL_1_5_0_SATL-2KM-11N_718_3608.txt', '20240528_191448_SN24_QUICKVIEW_VISUAL_1_6_0_SATL-2KM-11N_248_4068.txt', '20240509_193206_SN26_QUICKVIEW_VISUAL_1_5_0_SATL-2KM-10N_562_4196.txt', '20240516_211630_SN28_QUICKVIEW_VISUAL_1_5_0_SATL-2KM-11N_716_3848.txt', '20240514_052716_SN43_QUICKVIEW_VISUAL_1_5_0_SATL-2KM-51N_730_4342.txt', '20240503_214759_SN28_QUICKVIEW_VISUAL_1_5_0_SATL-2KM-11N_376_3724.txt', '20240519_184534_SN24_QUICKVIEW_VISUAL_1_5_0_SATL-2KM-11N_658_3700.txt', '20240521_101252_SN43_QUICKVIEW_VISUAL_1_6_0_SATL-2KM-39N_556_2792.txt', '20240510_191914_SN27_QUICKVIEW_VISUAL_1_5_0_SATL-2KM-11N_712_3566.txt', '20240528_191604_SN24_QUICKVIEW_VISUAL_1_6_0_SATL-2KM-11N_344_3836.txt', '20240509_212336_SN29_QUICKVIEW_VISUAL_1_5_0_SATL-2KM-11N_706_3778.txt', '20240508_194502_SN27_QUICKVIEW_VISUAL_1_5_0_SATL-2KM-11N_262_4022.txt', '20240519_214917_SN31_QUICKVIEW_VISUAL_1_5_0_SATL-2KM-11N_500_3600.txt', '20240513_212022_SN29_QUICKVIEW_VISUAL_1_5_0_SATL-2KM-11N_630_3742.txt', '20240516_190328_SN24_QUICKVIEW_VISUAL_1_5_0_SATL-2KM-11N_262_4052.txt', '20240519_214917_SN31_QUICKVIEW_VISUAL_1_5_0_SATL-2KM-11N_500_3602.txt', '20240521_101252_SN43_QUICKVIEW_VISUAL_1_6_0_SATL-2KM-39N_558_2796.txt', '20240510_191908_SN27_QUICKVIEW_VISUAL_1_5_0_SATL-2KM-11N_718_3608.txt', '20240519_214917_SN31_QUICKVIEW_VISUAL_1_5_0_SATL-2KM-11N_500_3598.txt', '20240524_213504_SN29_QUICKVIEW_VISUAL_1_6_0_SATL-2KM-11N_380_3724.txt', '20240506_213507_SN43_QUICKVIEW_VISUAL_1_5_0_SATL-2KM-11N_384_3750.txt', '20240520_194539_SN27_QUICKVIEW_VISUAL_1_5_0_SATL-2KM-10N_638_4280.txt', '20240520_194539_SN27_QUICKVIEW_VISUAL_1_5_0_SATL-2KM-10N_638_4282.txt', '20240524_213504_SN29_QUICKVIEW_VISUAL_1_6_0_SATL-2KM-11N_378_3724.txt', '20240507_191326_SN27_QUICKVIEW_VISUAL_1_5_0_SATL-2KM-11N_718_3608.txt']}\n"
     ]
    }
   ],
   "source": [
    "# JSON\n",
    "import json\n",
    "\n",
    "# it generated an error because we needed strings not tuples, so first, we needed to change those to strings by creating a year-month \n",
    "string_annotations = {f\"{year}-{month}\": files for (year, month), files in annotations_by_month.items()}\n",
    "\n",
    "with open('annotations_by_month.json', 'w') as json_file:\n",
    "    json.dump(string_annotations, json_file)\n",
    "\n",
    "with open('annotations_by_month.json', 'r') as json_file:\n",
    "    data_json = json.load(json_file)\n",
    "\n",
    "print(f\"Annotations by month in JSON format: {data_json}\")\n"
   ]
  },
  {
   "cell_type": "code",
   "execution_count": 82,
   "id": "bc9fc7bf",
   "metadata": {},
   "outputs": [
    {
     "name": "stdout",
     "output_type": "stream",
     "text": [
      "Annotations by month in Pickle format: {(2024, 1): ['20240102_185527_SN27_QUICKVIEW_VISUAL_1_1_10_SATL-2KM-11N_740_3850.txt', '20240101_174301_SN33_QUICKVIEW_VISUAL_1_1_10_SATL-2KM-11N_404_3770.txt', '20240101_192856_SN24_QUICKVIEW_VISUAL_1_1_10_SATL-2KM-10N_552_4164.txt', '20240102_185954_SN24_QUICKVIEW_VISUAL_1_1_10_SATL-2KM-11N_414_3786.txt', '20240104_220339_SN31_QUICKVIEW_VISUAL_1_1_10_SATL-2KM-10N_556_4178.txt', '20240115_213834_SN28_QUICKVIEW_VISUAL_1_1_10_SATL-2KM-11N_376_3722.txt', '20240126_173752_SN33_QUICKVIEW_VISUAL_1_1_10_SATL-2KM-11N_386_3722.txt', '20240101_174301_SN33_QUICKVIEW_VISUAL_1_1_10_SATL-2KM-11N_404_3772.txt', '20240130_173903_SN33_QUICKVIEW_VISUAL_1_1_10_SATL-2KM-11N_366_3756.txt', '20240127_190620_SN27_QUICKVIEW_VISUAL_1_1_10_SATL-2KM-11N_500_3600.txt', '20240101_192856_SN24_QUICKVIEW_VISUAL_1_1_10_SATL-2KM-10N_552_4162.txt', '20240127_190620_SN27_QUICKVIEW_VISUAL_1_1_10_SATL-2KM-11N_500_3602.txt', '20240101_192856_SN24_QUICKVIEW_VISUAL_1_1_10_SATL-2KM-10N_554_4162.txt', '20240101_213601_SN31_QUICKVIEW_VISUAL_1_1_10_SATL-2KM-11N_392_3740.txt', '20240101_213601_SN31_QUICKVIEW_VISUAL_1_1_10_SATL-2KM-11N_392_3742.txt', '20240128_213258_SN29_QUICKVIEW_VISUAL_1_1_10_SATL-2KM-11N_418_3864.txt', '20240128_213258_SN29_QUICKVIEW_VISUAL_1_1_10_SATL-2KM-11N_418_3862.txt', '20240130_215036_SN31_QUICKVIEW_VISUAL_1_1_10_SATL-2KM-11N_366_3756.txt', '20240127_190620_SN27_QUICKVIEW_VISUAL_1_1_10_SATL-2KM-11N_502_3602.txt', '20240127_190620_SN27_QUICKVIEW_VISUAL_1_1_10_SATL-2KM-11N_502_3600.txt', '20240130_173903_SN33_QUICKVIEW_VISUAL_1_1_10_SATL-2KM-11N_360_3748.txt', '20240130_173903_SN33_QUICKVIEW_VISUAL_1_1_10_SATL-2KM-11N_364_3754.txt', '20240101_213601_SN31_QUICKVIEW_VISUAL_1_1_10_SATL-2KM-11N_396_3752.txt', '20240112_192510_SN27_QUICKVIEW_VISUAL_1_1_10_SATL-2KM-11N_386_3750.txt', '20240115_213834_SN28_QUICKVIEW_VISUAL_1_1_10_SATL-2KM-11N_380_3724.txt', '20240110_192002_SN27_QUICKVIEW_VISUAL_1_1_10_SATL-2KM-11N_380_3728.txt', '20240102_185605_SN27_QUICKVIEW_VISUAL_1_1_10_SATL-2KM-11N_690_3572.txt'], (2024, 6): ['20240623_193704_SN27_QUICKVIEW_VISUAL_1_7_0_SATL-2KM-11N_566_3734.txt', '20240603_215226_SN28_QUICKVIEW_VISUAL_1_6_0_SATL-2KM-11N_248_4068.txt', '20240603_215348_SN28_QUICKVIEW_VISUAL_1_6_0_SATL-2KM-11N_346_3786.txt', '20240616_213053_SN30_QUICKVIEW_VISUAL_1_7_0_SATL-2KM-11N_460_3792.txt', '20240611_025943_SN26_QUICKVIEW_VISUAL_1_7_0_SATL-2KM-51N_748_4366.txt', '20240612_185400_SN24_QUICKVIEW_VISUAL_1_7_0_SATL-2KM-11N_574_3714.txt', '20240619_185757_SN24_QUICKVIEW_VISUAL_1_7_0_SATL-2KM-11N_528_3700.txt', '20240619_052401_SN30_QUICKVIEW_VISUAL_1_7_0_SATL-2KM-52N_368_4336.txt', '20240616_213047_SN30_QUICKVIEW_VISUAL_1_7_0_SATL-2KM-11N_464_3830.txt', '20240616_102144_SN28_QUICKVIEW_VISUAL_1_7_0_SATL-2KM-39N_560_2792.txt', '20240617_052859_SN29_QUICKVIEW_VISUAL_1_7_0_SATL-2KM-51N_730_4348.txt', '20240608_214614_SN29_QUICKVIEW_VISUAL_1_7_0_SATL-2KM-11N_248_4068.txt', '20240617_211350_SN29_QUICKVIEW_VISUAL_1_7_0_SATL-2KM-11N_724_3614.txt', '20240606_180251_SN33_QUICKVIEW_VISUAL_1_7_0_SATL-2KM-10N_556_4180.txt', '20240613_214203_SN43_QUICKVIEW_VISUAL_1_7_0_SATL-2KM-11N_384_3750.txt', '20240611_025943_SN26_QUICKVIEW_VISUAL_1_7_0_SATL-2KM-51N_748_4364.txt', '20240616_081345_SN27_QUICKVIEW_VISUAL_1_7_0_SATL-2KM-39N_562_2794.txt', '20240609_214259_SN30_QUICKVIEW_VISUAL_1_7_0_SATL-2KM-11N_262_4052.txt', '20240604_214955_SN29_QUICKVIEW_VISUAL_1_7_0_SATL-2KM-10N_594_4136.txt', '20240613_192217_SN26_QUICKVIEW_VISUAL_1_7_0_SATL-2KM-10N_560_4178.txt', '20240615_173631_SN33_QUICKVIEW_VISUAL_1_7_0_SATL-2KM-11N_546_3742.txt', '20240623_215120_SN29_QUICKVIEW_VISUAL_1_7_0_SATL-2KM-10N_596_4134.txt', '20240612_185400_SN24_QUICKVIEW_VISUAL_1_7_0_SATL-2KM-11N_576_3720.txt', '20240612_053829_SN28_QUICKVIEW_VISUAL_1_7_0_SATL-2KM-51N_686_4422.txt', '20240616_102144_SN28_QUICKVIEW_VISUAL_1_7_0_SATL-2KM-39N_558_2794.txt', '20240616_081345_SN27_QUICKVIEW_VISUAL_1_7_0_SATL-2KM-39N_562_2792.txt', '20240616_213047_SN30_QUICKVIEW_VISUAL_1_7_0_SATL-2KM-11N_466_3828.txt', '20240619_215556_SN29_QUICKVIEW_VISUAL_1_7_0_SATL-2KM-10N_742_4460.txt', '20240611_215323_SN30_QUICKVIEW_VISUAL_1_7_0_SATL-2KM-10N_702_3948.txt', '20240613_053340_SN29_QUICKVIEW_VISUAL_1_7_0_SATL-2KM-51N_728_4342.txt', '20240612_185419_SN24_QUICKVIEW_VISUAL_1_7_0_SATL-2KM-11N_554_3610.txt', '20240612_053829_SN28_QUICKVIEW_VISUAL_1_7_0_SATL-2KM-51N_688_4420.txt', '20240616_213047_SN30_QUICKVIEW_VISUAL_1_7_0_SATL-2KM-11N_466_3826.txt', '20240612_185400_SN24_QUICKVIEW_VISUAL_1_7_0_SATL-2KM-11N_578_3722.txt', '20240610_191018_SN26_QUICKVIEW_VISUAL_1_7_0_SATL-2KM-11N_384_3750.txt', '20240613_053340_SN29_QUICKVIEW_VISUAL_1_7_0_SATL-2KM-51N_730_4342.txt', '20240616_102144_SN28_QUICKVIEW_VISUAL_1_7_0_SATL-2KM-39N_556_2794.txt', '20240618_215539_SN31_QUICKVIEW_VISUAL_1_7_0_SATL-2KM-11N_452_3740.txt', '20240623_215102_SN43_QUICKVIEW_VISUAL_1_7_0_SATL-2KM-11N_384_3750.txt', '20240607_200250_SN27_QUICKVIEW_VISUAL_1_7_0_SATL-2KM-10N_554_4172.txt', '20240618_215539_SN31_QUICKVIEW_VISUAL_1_7_0_SATL-2KM-11N_458_3756.txt', '20240602_215203_SN30_QUICKVIEW_VISUAL_1_6_0_SATL-2KM-10N_714_3948.txt', '20240617_184443_SN24_QUICKVIEW_VISUAL_1_7_0_SATL-2KM-11N_702_3566.txt', '20240602_215203_SN30_QUICKVIEW_VISUAL_1_6_0_SATL-2KM-10N_712_3948.txt', '20240616_081345_SN27_QUICKVIEW_VISUAL_1_7_0_SATL-2KM-39N_560_2792.txt', '20240616_213047_SN30_QUICKVIEW_VISUAL_1_7_0_SATL-2KM-11N_464_3828.txt', '20240618_193146_SN27_QUICKVIEW_VISUAL_1_7_0_SATL-2KM-11N_530_3682.txt', '20240614_221436_SN31_QUICKVIEW_VISUAL_1_7_0_SATL-2KM-10N_558_4184.txt', '20240605_212717_SN29_QUICKVIEW_VISUAL_1_7_0_SATL-2KM-11N_718_3608.txt', '20240609_191744_SN24_QUICKVIEW_VISUAL_1_7_0_SATL-2KM-10N_564_4194.txt', '20240616_081345_SN27_QUICKVIEW_VISUAL_1_7_0_SATL-2KM-39N_560_2794.txt', '20240609_191959_SN27_QUICKVIEW_VISUAL_1_7_0_SATL-2KM-11N_702_3540.txt'], (2024, 4): ['20240402_184757_SN24_QUICKVIEW_VISUAL_1_2_0_SATL-2KM-11N_488_3638.txt', '20240423_190101_SN26_QUICKVIEW_VISUAL_1_5_0_SATL-2KM-11N_418_3872.txt', '20240402_184757_SN24_QUICKVIEW_VISUAL_1_2_0_SATL-2KM-11N_486_3630.txt', '20240423_190101_SN26_QUICKVIEW_VISUAL_1_5_0_SATL-2KM-11N_418_3864.txt', '20240401_221819_SN31_QUICKVIEW_VISUAL_1_2_0_SATL-2KM-10N_602_4148.txt', '20240423_190101_SN26_QUICKVIEW_VISUAL_1_5_0_SATL-2KM-11N_418_3860.txt', '20240402_184757_SN24_QUICKVIEW_VISUAL_1_2_0_SATL-2KM-11N_486_3636.txt', '20240423_190101_SN26_QUICKVIEW_VISUAL_1_5_0_SATL-2KM-11N_418_3862.txt', '20240428_215426_SN43_QUICKVIEW_VISUAL_1_5_0_SATL-2KM-10N_630_4264.txt', '20240427_221308_SN31_QUICKVIEW_VISUAL_1_5_0_SATL-2KM-10N_722_3848.txt', '20240423_190101_SN26_QUICKVIEW_VISUAL_1_5_0_SATL-2KM-11N_414_3862.txt', '20240401_032415_SN27_QUICKVIEW_VISUAL_1_2_0_SATL-2KM-51N_688_4420.txt', '20240428_215426_SN43_QUICKVIEW_VISUAL_1_5_0_SATL-2KM-10N_630_4262.txt', '20240428_215426_SN43_QUICKVIEW_VISUAL_1_5_0_SATL-2KM-10N_634_4282.txt', '20240401_175918_SN33_QUICKVIEW_VISUAL_1_2_0_SATL-2KM-10N_542_4168.txt', '20240426_215224_SN29_QUICKVIEW_VISUAL_1_5_0_SATL-2KM-11N_244_3818.txt', '20240401_175918_SN33_QUICKVIEW_VISUAL_1_2_0_SATL-2KM-10N_546_4206.txt', '20240402_215427_SN31_QUICKVIEW_VISUAL_1_2_0_SATL-2KM-11N_502_3600.txt', '20240428_215557_SN43_QUICKVIEW_VISUAL_1_5_0_SATL-2KM-10N_726_3862.txt', '20240423_190101_SN26_QUICKVIEW_VISUAL_1_5_0_SATL-2KM-11N_416_3864.txt', '20240402_184757_SN24_QUICKVIEW_VISUAL_1_2_0_SATL-2KM-11N_490_3638.txt', '20240428_191026_SN24_QUICKVIEW_VISUAL_1_5_0_SATL-2KM-11N_380_3722.txt', '20240401_175925_SN33_QUICKVIEW_VISUAL_1_2_0_SATL-2KM-10N_542_4168.txt', '20240402_215421_SN31_QUICKVIEW_VISUAL_1_2_0_SATL-2KM-11N_500_3632.txt', '20240423_190101_SN26_QUICKVIEW_VISUAL_1_5_0_SATL-2KM-11N_416_3862.txt'], (2024, 2): ['20240201_075140_SN26_QUICKVIEW_VISUAL_1_1_10_SATL-2KM-39N_558_2794.txt', '20240222_074151_SN26_QUICKVIEW_VISUAL_1_1_10_SATL-2KM-39N_560_2794.txt', '20240218_180121_SN33_QUICKVIEW_VISUAL_1_1_10_SATL-2KM-10N_568_4176.txt', '20240213_212524_SN29_QUICKVIEW_VISUAL_1_1_10_SATL-2KM-11N_542_3750.txt', '20240222_074155_SN26_QUICKVIEW_VISUAL_1_1_10_SATL-2KM-39N_556_2794.txt', '20240222_074155_SN26_QUICKVIEW_VISUAL_1_1_10_SATL-2KM-39N_562_2794.txt', '20240222_074151_SN26_QUICKVIEW_VISUAL_1_1_10_SATL-2KM-39N_560_2796.txt', '20240220_190455_SN27_QUICKVIEW_VISUAL_1_1_10_SATL-2KM-11N_718_3608.txt', '20240203_173953_SN33_QUICKVIEW_VISUAL_1_1_10_SATL-2KM-11N_368_3756.txt', '20240222_074256_SN26_QUICKVIEW_VISUAL_1_1_10_SATL-2KM-39N_564_2790.txt', '20240222_074155_SN26_QUICKVIEW_VISUAL_1_1_10_SATL-2KM-39N_556_2792.txt', '20240201_075143_SN26_QUICKVIEW_VISUAL_1_1_10_SATL-2KM-39N_556_2792.txt', '20240223_025420_SN24_QUICKVIEW_VISUAL_1_1_10_SATL-2KM-51N_686_4422.txt', '20240228_213951_SN29_QUICKVIEW_VISUAL_1_1_10_SATL-2KM-11N_248_4068.txt', '20240222_074155_SN26_QUICKVIEW_VISUAL_1_1_10_SATL-2KM-39N_562_2792.txt', '20240201_075140_SN26_QUICKVIEW_VISUAL_1_1_10_SATL-2KM-39N_560_2792.txt', '20240213_212524_SN29_QUICKVIEW_VISUAL_1_1_10_SATL-2KM-11N_544_3742.txt', '20240213_212524_SN29_QUICKVIEW_VISUAL_1_1_10_SATL-2KM-11N_540_3748.txt', '20240219_214312_SN28_QUICKVIEW_VISUAL_1_1_10_SATL-2KM-11N_252_3954.txt', '20240201_075140_SN26_QUICKVIEW_VISUAL_1_1_10_SATL-2KM-39N_560_2794.txt', '20240216_213630_SN31_QUICKVIEW_VISUAL_1_1_10_SATL-2KM-11N_418_3724.txt', '20240222_074151_SN26_QUICKVIEW_VISUAL_1_1_10_SATL-2KM-39N_558_2796.txt', '20240201_075140_SN26_QUICKVIEW_VISUAL_1_1_10_SATL-2KM-39N_560_2796.txt', '20240208_184650_SN24_QUICKVIEW_VISUAL_1_1_10_SATL-2KM-11N_624_3632.txt', '20240214_184340_SN24_QUICKVIEW_VISUAL_1_1_10_SATL-2KM-11N_688_3630.txt', '20240212_213506_SN31_QUICKVIEW_VISUAL_1_1_10_SATL-2KM-11N_408_3712.txt', '20240222_074155_SN26_QUICKVIEW_VISUAL_1_1_10_SATL-2KM-39N_560_2792.txt', '20240222_212250_SN30_QUICKVIEW_VISUAL_1_1_10_SATL-2KM-11N_382_3722.txt', '20240221_190608_SN26_QUICKVIEW_VISUAL_1_1_10_SATL-2KM-11N_380_3764.txt', '20240209_212744_SN29_QUICKVIEW_VISUAL_1_1_10_SATL-2KM-11N_380_3722.txt', '20240222_074151_SN26_QUICKVIEW_VISUAL_1_1_10_SATL-2KM-39N_556_2794.txt', '20240202_191114_SN27_QUICKVIEW_VISUAL_1_1_10_SATL-2KM-11N_718_3608.txt', '20240202_184725_SN24_QUICKVIEW_VISUAL_1_1_10_SATL-2KM-11N_624_3630.txt', '20240222_074151_SN26_QUICKVIEW_VISUAL_1_1_10_SATL-2KM-39N_562_2794.txt', '20240224_214855_SN30_QUICKVIEW_VISUAL_1_1_10_SATL-2KM-10N_552_4162.txt', '20240227_214218_SN30_QUICKVIEW_VISUAL_1_1_10_SATL-2KM-10N_562_4170.txt', '20240201_075140_SN26_QUICKVIEW_VISUAL_1_1_10_SATL-2KM-39N_556_2794.txt', '20240222_074155_SN26_QUICKVIEW_VISUAL_1_1_10_SATL-2KM-39N_558_2794.txt', '20240211_211057_SN30_QUICKVIEW_VISUAL_1_1_10_SATL-2KM-11N_700_3690.txt', '20240201_075140_SN26_QUICKVIEW_VISUAL_1_1_10_SATL-2KM-39N_562_2794.txt', '20240201_075143_SN26_QUICKVIEW_VISUAL_1_1_10_SATL-2KM-39N_562_2788.txt', '20240224_214855_SN30_QUICKVIEW_VISUAL_1_1_10_SATL-2KM-10N_554_4162.txt', '20240203_173953_SN33_QUICKVIEW_VISUAL_1_1_10_SATL-2KM-11N_366_3756.txt', '20240201_075140_SN26_QUICKVIEW_VISUAL_1_1_10_SATL-2KM-39N_556_2792.txt', '20240201_075140_SN26_QUICKVIEW_VISUAL_1_1_10_SATL-2KM-39N_562_2792.txt'], (2024, 3): ['20240322_212516_SN28_QUICKVIEW_VISUAL_1_2_0_SATL-2KM-11N_502_3600.txt', '20240317_221229_SN31_QUICKVIEW_VISUAL_1_2_0_SATL-2KM-10N_556_4176.txt', '20240316_191451_SN26_QUICKVIEW_VISUAL_1_2_0_SATL-2KM-11N_380_3764.txt', '20240324_180232_SN33_QUICKVIEW_VISUAL_1_2_0_SATL-2KM-10N_554_4172.txt', '20240317_215115_SN28_QUICKVIEW_VISUAL_1_2_0_SATL-2KM-10N_554_4162.txt', '20240325_173936_SN33_QUICKVIEW_VISUAL_1_2_0_SATL-2KM-11N_378_3722.txt', '20240304_212824_SN30_QUICKVIEW_VISUAL_1_2_0_SATL-2KM-11N_378_3722.txt', '20240314_220020_SN30_QUICKVIEW_VISUAL_1_2_0_SATL-2KM-10N_544_4186.txt', '20240322_184801_SN24_QUICKVIEW_VISUAL_1_2_0_SATL-2KM-11N_500_3632.txt', '20240308_211248_SN29_QUICKVIEW_VISUAL_1_2_0_SATL-2KM-11N_718_3640.txt', '20240317_215115_SN28_QUICKVIEW_VISUAL_1_2_0_SATL-2KM-10N_552_4162.txt', '20240314_220020_SN30_QUICKVIEW_VISUAL_1_2_0_SATL-2KM-10N_550_4202.txt', '20240317_215115_SN28_QUICKVIEW_VISUAL_1_2_0_SATL-2KM-10N_552_4164.txt', '20240308_191212_SN27_QUICKVIEW_VISUAL_1_2_0_SATL-2KM-11N_506_3614.txt', '20240321_220846_SN31_QUICKVIEW_VISUAL_1_2_0_SATL-2KM-10N_560_4178.txt', '20240322_184801_SN24_QUICKVIEW_VISUAL_1_2_0_SATL-2KM-11N_502_3632.txt', '20240321_190819_SN27_QUICKVIEW_VISUAL_1_2_0_SATL-2KM-11N_714_3632.txt'], (2024, 5): ['20240506_192008_SN26_QUICKVIEW_VISUAL_1_5_0_SATL-2KM-10N_562_4178.txt', '20240521_052621_SN43_QUICKVIEW_VISUAL_1_6_0_SATL-2KM-51N_730_4342.txt', '20240508_194502_SN27_QUICKVIEW_VISUAL_1_5_0_SATL-2KM-11N_264_4022.txt', '20240519_191838_SN27_QUICKVIEW_VISUAL_1_5_0_SATL-2KM-11N_718_3608.txt', '20240528_191448_SN24_QUICKVIEW_VISUAL_1_6_0_SATL-2KM-11N_248_4068.txt', '20240509_193206_SN26_QUICKVIEW_VISUAL_1_5_0_SATL-2KM-10N_562_4196.txt', '20240516_211630_SN28_QUICKVIEW_VISUAL_1_5_0_SATL-2KM-11N_716_3848.txt', '20240514_052716_SN43_QUICKVIEW_VISUAL_1_5_0_SATL-2KM-51N_730_4342.txt', '20240503_214759_SN28_QUICKVIEW_VISUAL_1_5_0_SATL-2KM-11N_376_3724.txt', '20240519_184534_SN24_QUICKVIEW_VISUAL_1_5_0_SATL-2KM-11N_658_3700.txt', '20240521_101252_SN43_QUICKVIEW_VISUAL_1_6_0_SATL-2KM-39N_556_2792.txt', '20240510_191914_SN27_QUICKVIEW_VISUAL_1_5_0_SATL-2KM-11N_712_3566.txt', '20240528_191604_SN24_QUICKVIEW_VISUAL_1_6_0_SATL-2KM-11N_344_3836.txt', '20240509_212336_SN29_QUICKVIEW_VISUAL_1_5_0_SATL-2KM-11N_706_3778.txt', '20240508_194502_SN27_QUICKVIEW_VISUAL_1_5_0_SATL-2KM-11N_262_4022.txt', '20240519_214917_SN31_QUICKVIEW_VISUAL_1_5_0_SATL-2KM-11N_500_3600.txt', '20240513_212022_SN29_QUICKVIEW_VISUAL_1_5_0_SATL-2KM-11N_630_3742.txt', '20240516_190328_SN24_QUICKVIEW_VISUAL_1_5_0_SATL-2KM-11N_262_4052.txt', '20240519_214917_SN31_QUICKVIEW_VISUAL_1_5_0_SATL-2KM-11N_500_3602.txt', '20240521_101252_SN43_QUICKVIEW_VISUAL_1_6_0_SATL-2KM-39N_558_2796.txt', '20240510_191908_SN27_QUICKVIEW_VISUAL_1_5_0_SATL-2KM-11N_718_3608.txt', '20240519_214917_SN31_QUICKVIEW_VISUAL_1_5_0_SATL-2KM-11N_500_3598.txt', '20240524_213504_SN29_QUICKVIEW_VISUAL_1_6_0_SATL-2KM-11N_380_3724.txt', '20240506_213507_SN43_QUICKVIEW_VISUAL_1_5_0_SATL-2KM-11N_384_3750.txt', '20240520_194539_SN27_QUICKVIEW_VISUAL_1_5_0_SATL-2KM-10N_638_4280.txt', '20240520_194539_SN27_QUICKVIEW_VISUAL_1_5_0_SATL-2KM-10N_638_4282.txt', '20240524_213504_SN29_QUICKVIEW_VISUAL_1_6_0_SATL-2KM-11N_378_3724.txt', '20240507_191326_SN27_QUICKVIEW_VISUAL_1_5_0_SATL-2KM-11N_718_3608.txt']}\n"
     ]
    }
   ],
   "source": [
    "# PICKLE\n",
    "import pickle\n",
    "\n",
    "with open('annotations_by_month.pkl', 'wb') as pickle_file:\n",
    "    pickle.dump(annotations_by_month, pickle_file)\n",
    "\n",
    "with open('annotations_by_month.pkl', 'rb') as pickle_file:\n",
    "    pickle_data = pickle.load(pickle_file)\n",
    "\n",
    "print(f\"Annotations by month in Pickle format: {pickle_data}\")\n"
   ]
  },
  {
   "cell_type": "code",
   "execution_count": 102,
   "id": "acff4dec",
   "metadata": {},
   "outputs": [
    {
     "name": "stdout",
     "output_type": "stream",
     "text": [
      "Annotations by month and year in dictionary:\n",
      "In 1-2024:\n",
      " For the 20240102_185527_SN27_QUICKVIEW_VISUAL_1_1_10_SATL-2KM-11N_740_3850.txt, the date is 2024-03-21 00:00:00\n",
      " For the 20240101_174301_SN33_QUICKVIEW_VISUAL_1_1_10_SATL-2KM-11N_404_3770.txt, the date is 2024-03-21 00:00:00\n",
      " For the 20240101_192856_SN24_QUICKVIEW_VISUAL_1_1_10_SATL-2KM-10N_552_4164.txt, the date is 2024-03-21 00:00:00\n",
      " For the 20240102_185954_SN24_QUICKVIEW_VISUAL_1_1_10_SATL-2KM-11N_414_3786.txt, the date is 2024-03-21 00:00:00\n",
      " For the 20240104_220339_SN31_QUICKVIEW_VISUAL_1_1_10_SATL-2KM-10N_556_4178.txt, the date is 2024-03-21 00:00:00\n",
      " For the 20240115_213834_SN28_QUICKVIEW_VISUAL_1_1_10_SATL-2KM-11N_376_3722.txt, the date is 2024-03-21 00:00:00\n",
      " For the 20240126_173752_SN33_QUICKVIEW_VISUAL_1_1_10_SATL-2KM-11N_386_3722.txt, the date is 2024-03-21 00:00:00\n",
      " For the 20240101_174301_SN33_QUICKVIEW_VISUAL_1_1_10_SATL-2KM-11N_404_3772.txt, the date is 2024-03-21 00:00:00\n",
      " For the 20240130_173903_SN33_QUICKVIEW_VISUAL_1_1_10_SATL-2KM-11N_366_3756.txt, the date is 2024-03-21 00:00:00\n",
      " For the 20240127_190620_SN27_QUICKVIEW_VISUAL_1_1_10_SATL-2KM-11N_500_3600.txt, the date is 2024-03-21 00:00:00\n",
      " For the 20240101_192856_SN24_QUICKVIEW_VISUAL_1_1_10_SATL-2KM-10N_552_4162.txt, the date is 2024-03-21 00:00:00\n",
      " For the 20240127_190620_SN27_QUICKVIEW_VISUAL_1_1_10_SATL-2KM-11N_500_3602.txt, the date is 2024-03-21 00:00:00\n",
      " For the 20240101_192856_SN24_QUICKVIEW_VISUAL_1_1_10_SATL-2KM-10N_554_4162.txt, the date is 2024-03-21 00:00:00\n",
      " For the 20240101_213601_SN31_QUICKVIEW_VISUAL_1_1_10_SATL-2KM-11N_392_3740.txt, the date is 2024-03-21 00:00:00\n",
      " For the 20240101_213601_SN31_QUICKVIEW_VISUAL_1_1_10_SATL-2KM-11N_392_3742.txt, the date is 2024-03-21 00:00:00\n",
      " For the 20240128_213258_SN29_QUICKVIEW_VISUAL_1_1_10_SATL-2KM-11N_418_3864.txt, the date is 2024-03-21 00:00:00\n",
      " For the 20240128_213258_SN29_QUICKVIEW_VISUAL_1_1_10_SATL-2KM-11N_418_3862.txt, the date is 2024-03-21 00:00:00\n",
      " For the 20240130_215036_SN31_QUICKVIEW_VISUAL_1_1_10_SATL-2KM-11N_366_3756.txt, the date is 2024-03-21 00:00:00\n",
      " For the 20240127_190620_SN27_QUICKVIEW_VISUAL_1_1_10_SATL-2KM-11N_502_3602.txt, the date is 2024-03-21 00:00:00\n",
      " For the 20240127_190620_SN27_QUICKVIEW_VISUAL_1_1_10_SATL-2KM-11N_502_3600.txt, the date is 2024-03-21 00:00:00\n",
      " For the 20240130_173903_SN33_QUICKVIEW_VISUAL_1_1_10_SATL-2KM-11N_360_3748.txt, the date is 2024-03-21 00:00:00\n",
      " For the 20240130_173903_SN33_QUICKVIEW_VISUAL_1_1_10_SATL-2KM-11N_364_3754.txt, the date is 2024-03-21 00:00:00\n",
      " For the 20240101_213601_SN31_QUICKVIEW_VISUAL_1_1_10_SATL-2KM-11N_396_3752.txt, the date is 2024-03-21 00:00:00\n",
      " For the 20240112_192510_SN27_QUICKVIEW_VISUAL_1_1_10_SATL-2KM-11N_386_3750.txt, the date is 2024-03-21 00:00:00\n",
      " For the 20240115_213834_SN28_QUICKVIEW_VISUAL_1_1_10_SATL-2KM-11N_380_3724.txt, the date is 2024-03-21 00:00:00\n",
      " For the 20240110_192002_SN27_QUICKVIEW_VISUAL_1_1_10_SATL-2KM-11N_380_3728.txt, the date is 2024-03-21 00:00:00\n",
      " For the 20240102_185605_SN27_QUICKVIEW_VISUAL_1_1_10_SATL-2KM-11N_690_3572.txt, the date is 2024-03-21 00:00:00\n",
      "In 6-2024:\n",
      " For the 20240623_193704_SN27_QUICKVIEW_VISUAL_1_7_0_SATL-2KM-11N_566_3734.txt, the date is 2024-03-21 00:00:00\n",
      " For the 20240603_215226_SN28_QUICKVIEW_VISUAL_1_6_0_SATL-2KM-11N_248_4068.txt, the date is 2024-03-21 00:00:00\n",
      " For the 20240603_215348_SN28_QUICKVIEW_VISUAL_1_6_0_SATL-2KM-11N_346_3786.txt, the date is 2024-03-21 00:00:00\n",
      " For the 20240616_213053_SN30_QUICKVIEW_VISUAL_1_7_0_SATL-2KM-11N_460_3792.txt, the date is 2024-03-21 00:00:00\n",
      " For the 20240611_025943_SN26_QUICKVIEW_VISUAL_1_7_0_SATL-2KM-51N_748_4366.txt, the date is 2024-03-21 00:00:00\n",
      " For the 20240612_185400_SN24_QUICKVIEW_VISUAL_1_7_0_SATL-2KM-11N_574_3714.txt, the date is 2024-03-21 00:00:00\n",
      " For the 20240619_185757_SN24_QUICKVIEW_VISUAL_1_7_0_SATL-2KM-11N_528_3700.txt, the date is 2024-03-21 00:00:00\n",
      " For the 20240619_052401_SN30_QUICKVIEW_VISUAL_1_7_0_SATL-2KM-52N_368_4336.txt, the date is 2024-03-21 00:00:00\n",
      " For the 20240616_213047_SN30_QUICKVIEW_VISUAL_1_7_0_SATL-2KM-11N_464_3830.txt, the date is 2024-03-21 00:00:00\n",
      " For the 20240616_102144_SN28_QUICKVIEW_VISUAL_1_7_0_SATL-2KM-39N_560_2792.txt, the date is 2024-03-21 00:00:00\n",
      " For the 20240617_052859_SN29_QUICKVIEW_VISUAL_1_7_0_SATL-2KM-51N_730_4348.txt, the date is 2024-03-21 00:00:00\n",
      " For the 20240608_214614_SN29_QUICKVIEW_VISUAL_1_7_0_SATL-2KM-11N_248_4068.txt, the date is 2024-03-21 00:00:00\n",
      " For the 20240617_211350_SN29_QUICKVIEW_VISUAL_1_7_0_SATL-2KM-11N_724_3614.txt, the date is 2024-03-21 00:00:00\n",
      " For the 20240606_180251_SN33_QUICKVIEW_VISUAL_1_7_0_SATL-2KM-10N_556_4180.txt, the date is 2024-03-21 00:00:00\n",
      " For the 20240613_214203_SN43_QUICKVIEW_VISUAL_1_7_0_SATL-2KM-11N_384_3750.txt, the date is 2024-03-21 00:00:00\n",
      " For the 20240611_025943_SN26_QUICKVIEW_VISUAL_1_7_0_SATL-2KM-51N_748_4364.txt, the date is 2024-03-21 00:00:00\n",
      " For the 20240616_081345_SN27_QUICKVIEW_VISUAL_1_7_0_SATL-2KM-39N_562_2794.txt, the date is 2024-03-21 00:00:00\n",
      " For the 20240609_214259_SN30_QUICKVIEW_VISUAL_1_7_0_SATL-2KM-11N_262_4052.txt, the date is 2024-03-21 00:00:00\n",
      " For the 20240604_214955_SN29_QUICKVIEW_VISUAL_1_7_0_SATL-2KM-10N_594_4136.txt, the date is 2024-03-21 00:00:00\n",
      " For the 20240613_192217_SN26_QUICKVIEW_VISUAL_1_7_0_SATL-2KM-10N_560_4178.txt, the date is 2024-03-21 00:00:00\n",
      " For the 20240615_173631_SN33_QUICKVIEW_VISUAL_1_7_0_SATL-2KM-11N_546_3742.txt, the date is 2024-03-21 00:00:00\n",
      " For the 20240623_215120_SN29_QUICKVIEW_VISUAL_1_7_0_SATL-2KM-10N_596_4134.txt, the date is 2024-03-21 00:00:00\n",
      " For the 20240612_185400_SN24_QUICKVIEW_VISUAL_1_7_0_SATL-2KM-11N_576_3720.txt, the date is 2024-03-21 00:00:00\n",
      " For the 20240612_053829_SN28_QUICKVIEW_VISUAL_1_7_0_SATL-2KM-51N_686_4422.txt, the date is 2024-03-21 00:00:00\n",
      " For the 20240616_102144_SN28_QUICKVIEW_VISUAL_1_7_0_SATL-2KM-39N_558_2794.txt, the date is 2024-03-21 00:00:00\n",
      " For the 20240616_081345_SN27_QUICKVIEW_VISUAL_1_7_0_SATL-2KM-39N_562_2792.txt, the date is 2024-03-21 00:00:00\n",
      " For the 20240616_213047_SN30_QUICKVIEW_VISUAL_1_7_0_SATL-2KM-11N_466_3828.txt, the date is 2024-03-21 00:00:00\n",
      " For the 20240619_215556_SN29_QUICKVIEW_VISUAL_1_7_0_SATL-2KM-10N_742_4460.txt, the date is 2024-03-21 00:00:00\n",
      " For the 20240611_215323_SN30_QUICKVIEW_VISUAL_1_7_0_SATL-2KM-10N_702_3948.txt, the date is 2024-03-21 00:00:00\n",
      " For the 20240613_053340_SN29_QUICKVIEW_VISUAL_1_7_0_SATL-2KM-51N_728_4342.txt, the date is 2024-03-21 00:00:00\n",
      " For the 20240612_185419_SN24_QUICKVIEW_VISUAL_1_7_0_SATL-2KM-11N_554_3610.txt, the date is 2024-03-21 00:00:00\n",
      " For the 20240612_053829_SN28_QUICKVIEW_VISUAL_1_7_0_SATL-2KM-51N_688_4420.txt, the date is 2024-03-21 00:00:00\n",
      " For the 20240616_213047_SN30_QUICKVIEW_VISUAL_1_7_0_SATL-2KM-11N_466_3826.txt, the date is 2024-03-21 00:00:00\n",
      " For the 20240612_185400_SN24_QUICKVIEW_VISUAL_1_7_0_SATL-2KM-11N_578_3722.txt, the date is 2024-03-21 00:00:00\n",
      " For the 20240610_191018_SN26_QUICKVIEW_VISUAL_1_7_0_SATL-2KM-11N_384_3750.txt, the date is 2024-03-21 00:00:00\n",
      " For the 20240613_053340_SN29_QUICKVIEW_VISUAL_1_7_0_SATL-2KM-51N_730_4342.txt, the date is 2024-03-21 00:00:00\n",
      " For the 20240616_102144_SN28_QUICKVIEW_VISUAL_1_7_0_SATL-2KM-39N_556_2794.txt, the date is 2024-03-21 00:00:00\n",
      " For the 20240618_215539_SN31_QUICKVIEW_VISUAL_1_7_0_SATL-2KM-11N_452_3740.txt, the date is 2024-03-21 00:00:00\n",
      " For the 20240623_215102_SN43_QUICKVIEW_VISUAL_1_7_0_SATL-2KM-11N_384_3750.txt, the date is 2024-03-21 00:00:00\n",
      " For the 20240607_200250_SN27_QUICKVIEW_VISUAL_1_7_0_SATL-2KM-10N_554_4172.txt, the date is 2024-03-21 00:00:00\n",
      " For the 20240618_215539_SN31_QUICKVIEW_VISUAL_1_7_0_SATL-2KM-11N_458_3756.txt, the date is 2024-03-21 00:00:00\n",
      " For the 20240602_215203_SN30_QUICKVIEW_VISUAL_1_6_0_SATL-2KM-10N_714_3948.txt, the date is 2024-03-21 00:00:00\n",
      " For the 20240617_184443_SN24_QUICKVIEW_VISUAL_1_7_0_SATL-2KM-11N_702_3566.txt, the date is 2024-03-21 00:00:00\n",
      " For the 20240602_215203_SN30_QUICKVIEW_VISUAL_1_6_0_SATL-2KM-10N_712_3948.txt, the date is 2024-03-21 00:00:00\n",
      " For the 20240616_081345_SN27_QUICKVIEW_VISUAL_1_7_0_SATL-2KM-39N_560_2792.txt, the date is 2024-03-21 00:00:00\n",
      " For the 20240616_213047_SN30_QUICKVIEW_VISUAL_1_7_0_SATL-2KM-11N_464_3828.txt, the date is 2024-03-21 00:00:00\n",
      " For the 20240618_193146_SN27_QUICKVIEW_VISUAL_1_7_0_SATL-2KM-11N_530_3682.txt, the date is 2024-03-21 00:00:00\n",
      " For the 20240614_221436_SN31_QUICKVIEW_VISUAL_1_7_0_SATL-2KM-10N_558_4184.txt, the date is 2024-03-21 00:00:00\n",
      " For the 20240605_212717_SN29_QUICKVIEW_VISUAL_1_7_0_SATL-2KM-11N_718_3608.txt, the date is 2024-03-21 00:00:00\n",
      " For the 20240609_191744_SN24_QUICKVIEW_VISUAL_1_7_0_SATL-2KM-10N_564_4194.txt, the date is 2024-03-21 00:00:00\n",
      " For the 20240616_081345_SN27_QUICKVIEW_VISUAL_1_7_0_SATL-2KM-39N_560_2794.txt, the date is 2024-03-21 00:00:00\n",
      " For the 20240609_191959_SN27_QUICKVIEW_VISUAL_1_7_0_SATL-2KM-11N_702_3540.txt, the date is 2024-03-21 00:00:00\n",
      "In 4-2024:\n",
      " For the 20240402_184757_SN24_QUICKVIEW_VISUAL_1_2_0_SATL-2KM-11N_488_3638.txt, the date is 2024-03-21 00:00:00\n",
      " For the 20240423_190101_SN26_QUICKVIEW_VISUAL_1_5_0_SATL-2KM-11N_418_3872.txt, the date is 2024-03-21 00:00:00\n",
      " For the 20240402_184757_SN24_QUICKVIEW_VISUAL_1_2_0_SATL-2KM-11N_486_3630.txt, the date is 2024-03-21 00:00:00\n",
      " For the 20240423_190101_SN26_QUICKVIEW_VISUAL_1_5_0_SATL-2KM-11N_418_3864.txt, the date is 2024-03-21 00:00:00\n",
      " For the 20240401_221819_SN31_QUICKVIEW_VISUAL_1_2_0_SATL-2KM-10N_602_4148.txt, the date is 2024-03-21 00:00:00\n",
      " For the 20240423_190101_SN26_QUICKVIEW_VISUAL_1_5_0_SATL-2KM-11N_418_3860.txt, the date is 2024-03-21 00:00:00\n",
      " For the 20240402_184757_SN24_QUICKVIEW_VISUAL_1_2_0_SATL-2KM-11N_486_3636.txt, the date is 2024-03-21 00:00:00\n",
      " For the 20240423_190101_SN26_QUICKVIEW_VISUAL_1_5_0_SATL-2KM-11N_418_3862.txt, the date is 2024-03-21 00:00:00\n",
      " For the 20240428_215426_SN43_QUICKVIEW_VISUAL_1_5_0_SATL-2KM-10N_630_4264.txt, the date is 2024-03-21 00:00:00\n",
      " For the 20240427_221308_SN31_QUICKVIEW_VISUAL_1_5_0_SATL-2KM-10N_722_3848.txt, the date is 2024-03-21 00:00:00\n",
      " For the 20240423_190101_SN26_QUICKVIEW_VISUAL_1_5_0_SATL-2KM-11N_414_3862.txt, the date is 2024-03-21 00:00:00\n",
      " For the 20240401_032415_SN27_QUICKVIEW_VISUAL_1_2_0_SATL-2KM-51N_688_4420.txt, the date is 2024-03-21 00:00:00\n",
      " For the 20240428_215426_SN43_QUICKVIEW_VISUAL_1_5_0_SATL-2KM-10N_630_4262.txt, the date is 2024-03-21 00:00:00\n",
      " For the 20240428_215426_SN43_QUICKVIEW_VISUAL_1_5_0_SATL-2KM-10N_634_4282.txt, the date is 2024-03-21 00:00:00\n",
      " For the 20240401_175918_SN33_QUICKVIEW_VISUAL_1_2_0_SATL-2KM-10N_542_4168.txt, the date is 2024-03-21 00:00:00\n",
      " For the 20240426_215224_SN29_QUICKVIEW_VISUAL_1_5_0_SATL-2KM-11N_244_3818.txt, the date is 2024-03-21 00:00:00\n",
      " For the 20240401_175918_SN33_QUICKVIEW_VISUAL_1_2_0_SATL-2KM-10N_546_4206.txt, the date is 2024-03-21 00:00:00\n",
      " For the 20240402_215427_SN31_QUICKVIEW_VISUAL_1_2_0_SATL-2KM-11N_502_3600.txt, the date is 2024-03-21 00:00:00\n",
      " For the 20240428_215557_SN43_QUICKVIEW_VISUAL_1_5_0_SATL-2KM-10N_726_3862.txt, the date is 2024-03-21 00:00:00\n",
      " For the 20240423_190101_SN26_QUICKVIEW_VISUAL_1_5_0_SATL-2KM-11N_416_3864.txt, the date is 2024-03-21 00:00:00\n",
      " For the 20240402_184757_SN24_QUICKVIEW_VISUAL_1_2_0_SATL-2KM-11N_490_3638.txt, the date is 2024-03-21 00:00:00\n",
      " For the 20240428_191026_SN24_QUICKVIEW_VISUAL_1_5_0_SATL-2KM-11N_380_3722.txt, the date is 2024-03-21 00:00:00\n",
      " For the 20240401_175925_SN33_QUICKVIEW_VISUAL_1_2_0_SATL-2KM-10N_542_4168.txt, the date is 2024-03-21 00:00:00\n",
      " For the 20240402_215421_SN31_QUICKVIEW_VISUAL_1_2_0_SATL-2KM-11N_500_3632.txt, the date is 2024-03-21 00:00:00\n",
      " For the 20240423_190101_SN26_QUICKVIEW_VISUAL_1_5_0_SATL-2KM-11N_416_3862.txt, the date is 2024-03-21 00:00:00\n",
      "In 2-2024:\n",
      " For the 20240201_075140_SN26_QUICKVIEW_VISUAL_1_1_10_SATL-2KM-39N_558_2794.txt, the date is 2024-03-21 00:00:00\n",
      " For the 20240222_074151_SN26_QUICKVIEW_VISUAL_1_1_10_SATL-2KM-39N_560_2794.txt, the date is 2024-03-21 00:00:00\n",
      " For the 20240218_180121_SN33_QUICKVIEW_VISUAL_1_1_10_SATL-2KM-10N_568_4176.txt, the date is 2024-03-21 00:00:00\n",
      " For the 20240213_212524_SN29_QUICKVIEW_VISUAL_1_1_10_SATL-2KM-11N_542_3750.txt, the date is 2024-03-21 00:00:00\n",
      " For the 20240222_074155_SN26_QUICKVIEW_VISUAL_1_1_10_SATL-2KM-39N_556_2794.txt, the date is 2024-03-21 00:00:00\n",
      " For the 20240222_074155_SN26_QUICKVIEW_VISUAL_1_1_10_SATL-2KM-39N_562_2794.txt, the date is 2024-03-21 00:00:00\n",
      " For the 20240222_074151_SN26_QUICKVIEW_VISUAL_1_1_10_SATL-2KM-39N_560_2796.txt, the date is 2024-03-21 00:00:00\n",
      " For the 20240220_190455_SN27_QUICKVIEW_VISUAL_1_1_10_SATL-2KM-11N_718_3608.txt, the date is 2024-03-21 00:00:00\n",
      " For the 20240203_173953_SN33_QUICKVIEW_VISUAL_1_1_10_SATL-2KM-11N_368_3756.txt, the date is 2024-03-21 00:00:00\n",
      " For the 20240222_074256_SN26_QUICKVIEW_VISUAL_1_1_10_SATL-2KM-39N_564_2790.txt, the date is 2024-03-21 00:00:00\n",
      " For the 20240222_074155_SN26_QUICKVIEW_VISUAL_1_1_10_SATL-2KM-39N_556_2792.txt, the date is 2024-03-21 00:00:00\n",
      " For the 20240201_075143_SN26_QUICKVIEW_VISUAL_1_1_10_SATL-2KM-39N_556_2792.txt, the date is 2024-03-21 00:00:00\n",
      " For the 20240223_025420_SN24_QUICKVIEW_VISUAL_1_1_10_SATL-2KM-51N_686_4422.txt, the date is 2024-03-21 00:00:00\n",
      " For the 20240228_213951_SN29_QUICKVIEW_VISUAL_1_1_10_SATL-2KM-11N_248_4068.txt, the date is 2024-03-21 00:00:00\n",
      " For the 20240222_074155_SN26_QUICKVIEW_VISUAL_1_1_10_SATL-2KM-39N_562_2792.txt, the date is 2024-03-21 00:00:00\n",
      " For the 20240201_075140_SN26_QUICKVIEW_VISUAL_1_1_10_SATL-2KM-39N_560_2792.txt, the date is 2024-03-21 00:00:00\n",
      " For the 20240213_212524_SN29_QUICKVIEW_VISUAL_1_1_10_SATL-2KM-11N_544_3742.txt, the date is 2024-03-21 00:00:00\n",
      " For the 20240213_212524_SN29_QUICKVIEW_VISUAL_1_1_10_SATL-2KM-11N_540_3748.txt, the date is 2024-03-21 00:00:00\n",
      " For the 20240219_214312_SN28_QUICKVIEW_VISUAL_1_1_10_SATL-2KM-11N_252_3954.txt, the date is 2024-03-21 00:00:00\n",
      " For the 20240201_075140_SN26_QUICKVIEW_VISUAL_1_1_10_SATL-2KM-39N_560_2794.txt, the date is 2024-03-21 00:00:00\n",
      " For the 20240216_213630_SN31_QUICKVIEW_VISUAL_1_1_10_SATL-2KM-11N_418_3724.txt, the date is 2024-03-21 00:00:00\n",
      " For the 20240222_074151_SN26_QUICKVIEW_VISUAL_1_1_10_SATL-2KM-39N_558_2796.txt, the date is 2024-03-21 00:00:00\n",
      " For the 20240201_075140_SN26_QUICKVIEW_VISUAL_1_1_10_SATL-2KM-39N_560_2796.txt, the date is 2024-03-21 00:00:00\n",
      " For the 20240208_184650_SN24_QUICKVIEW_VISUAL_1_1_10_SATL-2KM-11N_624_3632.txt, the date is 2024-03-21 00:00:00\n",
      " For the 20240214_184340_SN24_QUICKVIEW_VISUAL_1_1_10_SATL-2KM-11N_688_3630.txt, the date is 2024-03-21 00:00:00\n",
      " For the 20240212_213506_SN31_QUICKVIEW_VISUAL_1_1_10_SATL-2KM-11N_408_3712.txt, the date is 2024-03-21 00:00:00\n",
      " For the 20240222_074155_SN26_QUICKVIEW_VISUAL_1_1_10_SATL-2KM-39N_560_2792.txt, the date is 2024-03-21 00:00:00\n",
      " For the 20240222_212250_SN30_QUICKVIEW_VISUAL_1_1_10_SATL-2KM-11N_382_3722.txt, the date is 2024-03-21 00:00:00\n",
      " For the 20240221_190608_SN26_QUICKVIEW_VISUAL_1_1_10_SATL-2KM-11N_380_3764.txt, the date is 2024-03-21 00:00:00\n",
      " For the 20240209_212744_SN29_QUICKVIEW_VISUAL_1_1_10_SATL-2KM-11N_380_3722.txt, the date is 2024-03-21 00:00:00\n",
      " For the 20240222_074151_SN26_QUICKVIEW_VISUAL_1_1_10_SATL-2KM-39N_556_2794.txt, the date is 2024-03-21 00:00:00\n",
      " For the 20240202_191114_SN27_QUICKVIEW_VISUAL_1_1_10_SATL-2KM-11N_718_3608.txt, the date is 2024-03-21 00:00:00\n",
      " For the 20240202_184725_SN24_QUICKVIEW_VISUAL_1_1_10_SATL-2KM-11N_624_3630.txt, the date is 2024-03-21 00:00:00\n",
      " For the 20240222_074151_SN26_QUICKVIEW_VISUAL_1_1_10_SATL-2KM-39N_562_2794.txt, the date is 2024-03-21 00:00:00\n",
      " For the 20240224_214855_SN30_QUICKVIEW_VISUAL_1_1_10_SATL-2KM-10N_552_4162.txt, the date is 2024-03-21 00:00:00\n",
      " For the 20240227_214218_SN30_QUICKVIEW_VISUAL_1_1_10_SATL-2KM-10N_562_4170.txt, the date is 2024-03-21 00:00:00\n",
      " For the 20240201_075140_SN26_QUICKVIEW_VISUAL_1_1_10_SATL-2KM-39N_556_2794.txt, the date is 2024-03-21 00:00:00\n",
      " For the 20240222_074155_SN26_QUICKVIEW_VISUAL_1_1_10_SATL-2KM-39N_558_2794.txt, the date is 2024-03-21 00:00:00\n",
      " For the 20240211_211057_SN30_QUICKVIEW_VISUAL_1_1_10_SATL-2KM-11N_700_3690.txt, the date is 2024-03-21 00:00:00\n",
      " For the 20240201_075140_SN26_QUICKVIEW_VISUAL_1_1_10_SATL-2KM-39N_562_2794.txt, the date is 2024-03-21 00:00:00\n",
      " For the 20240201_075143_SN26_QUICKVIEW_VISUAL_1_1_10_SATL-2KM-39N_562_2788.txt, the date is 2024-03-21 00:00:00\n",
      " For the 20240224_214855_SN30_QUICKVIEW_VISUAL_1_1_10_SATL-2KM-10N_554_4162.txt, the date is 2024-03-21 00:00:00\n",
      " For the 20240203_173953_SN33_QUICKVIEW_VISUAL_1_1_10_SATL-2KM-11N_366_3756.txt, the date is 2024-03-21 00:00:00\n",
      " For the 20240201_075140_SN26_QUICKVIEW_VISUAL_1_1_10_SATL-2KM-39N_556_2792.txt, the date is 2024-03-21 00:00:00\n",
      " For the 20240201_075140_SN26_QUICKVIEW_VISUAL_1_1_10_SATL-2KM-39N_562_2792.txt, the date is 2024-03-21 00:00:00\n",
      "In 3-2024:\n",
      " For the 20240322_212516_SN28_QUICKVIEW_VISUAL_1_2_0_SATL-2KM-11N_502_3600.txt, the date is 2024-03-21 00:00:00\n",
      " For the 20240317_221229_SN31_QUICKVIEW_VISUAL_1_2_0_SATL-2KM-10N_556_4176.txt, the date is 2024-03-21 00:00:00\n",
      " For the 20240316_191451_SN26_QUICKVIEW_VISUAL_1_2_0_SATL-2KM-11N_380_3764.txt, the date is 2024-03-21 00:00:00\n",
      " For the 20240324_180232_SN33_QUICKVIEW_VISUAL_1_2_0_SATL-2KM-10N_554_4172.txt, the date is 2024-03-21 00:00:00\n",
      " For the 20240317_215115_SN28_QUICKVIEW_VISUAL_1_2_0_SATL-2KM-10N_554_4162.txt, the date is 2024-03-21 00:00:00\n",
      " For the 20240325_173936_SN33_QUICKVIEW_VISUAL_1_2_0_SATL-2KM-11N_378_3722.txt, the date is 2024-03-21 00:00:00\n",
      " For the 20240304_212824_SN30_QUICKVIEW_VISUAL_1_2_0_SATL-2KM-11N_378_3722.txt, the date is 2024-03-21 00:00:00\n",
      " For the 20240314_220020_SN30_QUICKVIEW_VISUAL_1_2_0_SATL-2KM-10N_544_4186.txt, the date is 2024-03-21 00:00:00\n",
      " For the 20240322_184801_SN24_QUICKVIEW_VISUAL_1_2_0_SATL-2KM-11N_500_3632.txt, the date is 2024-03-21 00:00:00\n",
      " For the 20240308_211248_SN29_QUICKVIEW_VISUAL_1_2_0_SATL-2KM-11N_718_3640.txt, the date is 2024-03-21 00:00:00\n",
      " For the 20240317_215115_SN28_QUICKVIEW_VISUAL_1_2_0_SATL-2KM-10N_552_4162.txt, the date is 2024-03-21 00:00:00\n",
      " For the 20240314_220020_SN30_QUICKVIEW_VISUAL_1_2_0_SATL-2KM-10N_550_4202.txt, the date is 2024-03-21 00:00:00\n",
      " For the 20240317_215115_SN28_QUICKVIEW_VISUAL_1_2_0_SATL-2KM-10N_552_4164.txt, the date is 2024-03-21 00:00:00\n",
      " For the 20240308_191212_SN27_QUICKVIEW_VISUAL_1_2_0_SATL-2KM-11N_506_3614.txt, the date is 2024-03-21 00:00:00\n",
      " For the 20240321_220846_SN31_QUICKVIEW_VISUAL_1_2_0_SATL-2KM-10N_560_4178.txt, the date is 2024-03-21 00:00:00\n",
      " For the 20240322_184801_SN24_QUICKVIEW_VISUAL_1_2_0_SATL-2KM-11N_502_3632.txt, the date is 2024-03-21 00:00:00\n",
      " For the 20240321_190819_SN27_QUICKVIEW_VISUAL_1_2_0_SATL-2KM-11N_714_3632.txt, the date is 2024-03-21 00:00:00\n",
      "In 5-2024:\n",
      " For the 20240506_192008_SN26_QUICKVIEW_VISUAL_1_5_0_SATL-2KM-10N_562_4178.txt, the date is 2024-03-21 00:00:00\n",
      " For the 20240521_052621_SN43_QUICKVIEW_VISUAL_1_6_0_SATL-2KM-51N_730_4342.txt, the date is 2024-03-21 00:00:00\n",
      " For the 20240508_194502_SN27_QUICKVIEW_VISUAL_1_5_0_SATL-2KM-11N_264_4022.txt, the date is 2024-03-21 00:00:00\n",
      " For the 20240519_191838_SN27_QUICKVIEW_VISUAL_1_5_0_SATL-2KM-11N_718_3608.txt, the date is 2024-03-21 00:00:00\n",
      " For the 20240528_191448_SN24_QUICKVIEW_VISUAL_1_6_0_SATL-2KM-11N_248_4068.txt, the date is 2024-03-21 00:00:00\n",
      " For the 20240509_193206_SN26_QUICKVIEW_VISUAL_1_5_0_SATL-2KM-10N_562_4196.txt, the date is 2024-03-21 00:00:00\n",
      " For the 20240516_211630_SN28_QUICKVIEW_VISUAL_1_5_0_SATL-2KM-11N_716_3848.txt, the date is 2024-03-21 00:00:00\n",
      " For the 20240514_052716_SN43_QUICKVIEW_VISUAL_1_5_0_SATL-2KM-51N_730_4342.txt, the date is 2024-03-21 00:00:00\n",
      " For the 20240503_214759_SN28_QUICKVIEW_VISUAL_1_5_0_SATL-2KM-11N_376_3724.txt, the date is 2024-03-21 00:00:00\n",
      " For the 20240519_184534_SN24_QUICKVIEW_VISUAL_1_5_0_SATL-2KM-11N_658_3700.txt, the date is 2024-03-21 00:00:00\n",
      " For the 20240521_101252_SN43_QUICKVIEW_VISUAL_1_6_0_SATL-2KM-39N_556_2792.txt, the date is 2024-03-21 00:00:00\n",
      " For the 20240510_191914_SN27_QUICKVIEW_VISUAL_1_5_0_SATL-2KM-11N_712_3566.txt, the date is 2024-03-21 00:00:00\n",
      " For the 20240528_191604_SN24_QUICKVIEW_VISUAL_1_6_0_SATL-2KM-11N_344_3836.txt, the date is 2024-03-21 00:00:00\n",
      " For the 20240509_212336_SN29_QUICKVIEW_VISUAL_1_5_0_SATL-2KM-11N_706_3778.txt, the date is 2024-03-21 00:00:00\n",
      " For the 20240508_194502_SN27_QUICKVIEW_VISUAL_1_5_0_SATL-2KM-11N_262_4022.txt, the date is 2024-03-21 00:00:00\n",
      " For the 20240519_214917_SN31_QUICKVIEW_VISUAL_1_5_0_SATL-2KM-11N_500_3600.txt, the date is 2024-03-21 00:00:00\n",
      " For the 20240513_212022_SN29_QUICKVIEW_VISUAL_1_5_0_SATL-2KM-11N_630_3742.txt, the date is 2024-03-21 00:00:00\n",
      " For the 20240516_190328_SN24_QUICKVIEW_VISUAL_1_5_0_SATL-2KM-11N_262_4052.txt, the date is 2024-03-21 00:00:00\n",
      " For the 20240519_214917_SN31_QUICKVIEW_VISUAL_1_5_0_SATL-2KM-11N_500_3602.txt, the date is 2024-03-21 00:00:00\n",
      " For the 20240521_101252_SN43_QUICKVIEW_VISUAL_1_6_0_SATL-2KM-39N_558_2796.txt, the date is 2024-03-21 00:00:00\n",
      " For the 20240510_191908_SN27_QUICKVIEW_VISUAL_1_5_0_SATL-2KM-11N_718_3608.txt, the date is 2024-03-21 00:00:00\n",
      " For the 20240519_214917_SN31_QUICKVIEW_VISUAL_1_5_0_SATL-2KM-11N_500_3598.txt, the date is 2024-03-21 00:00:00\n",
      " For the 20240524_213504_SN29_QUICKVIEW_VISUAL_1_6_0_SATL-2KM-11N_380_3724.txt, the date is 2024-03-21 00:00:00\n",
      " For the 20240506_213507_SN43_QUICKVIEW_VISUAL_1_5_0_SATL-2KM-11N_384_3750.txt, the date is 2024-03-21 00:00:00\n",
      " For the 20240520_194539_SN27_QUICKVIEW_VISUAL_1_5_0_SATL-2KM-10N_638_4280.txt, the date is 2024-03-21 00:00:00\n",
      " For the 20240520_194539_SN27_QUICKVIEW_VISUAL_1_5_0_SATL-2KM-10N_638_4282.txt, the date is 2024-03-21 00:00:00\n",
      " For the 20240524_213504_SN29_QUICKVIEW_VISUAL_1_6_0_SATL-2KM-11N_378_3724.txt, the date is 2024-03-21 00:00:00\n",
      " For the 20240507_191326_SN27_QUICKVIEW_VISUAL_1_5_0_SATL-2KM-11N_718_3608.txt, the date is 2024-03-21 00:00:00\n"
     ]
    }
   ],
   "source": [
    "# DICTIONARY\n",
    "annotations_by_month_dict = {}\n",
    "\n",
    "for annotation in annotations:\n",
    "    filename = os.path.basename(annotation)\n",
    "    match = re.match(pattern, filename)\n",
    "    if match:\n",
    "        date, _, _, _, _ = match.groups()\n",
    "        date_format = datetime.strptime(date, \"%Y%m%d\")\n",
    "        year = date_format.year\n",
    "        month = date_format.month\n",
    "\n",
    "        key = (year, month)\n",
    " \n",
    " # until here we do the same, but now we need to create a dictionary to store the data\n",
    "        annotation_info = {\n",
    "            \"name\": filename,\n",
    "            \"date\": datetime_obj\n",
    "        }\n",
    "\n",
    "        if key in annotations_by_month_dict:\n",
    "            annotations_by_month_dict[key].append(annotation_info)\n",
    "        else:\n",
    "            annotations_by_month_dict[key] = [annotation_info]\n",
    "\n",
    "print(\"Annotations by month and year in dictionary:\")\n",
    "for (year, month), details in annotations_by_month_dict.items():\n",
    "    print(f\"In {month}-{year}:\")\n",
    "    for annotation in details:\n",
    "        print(f\" For the {annotation['name']}, the date is {annotation['date']}\")\n"
   ]
  },
  {
   "cell_type": "markdown",
   "id": "88f30658",
   "metadata": {},
   "source": [
    "3. Print all the annotations from the oldest ones to the newest one during the seconf half of the 2024. "
   ]
  },
  {
   "cell_type": "code",
   "execution_count": 103,
   "id": "c6933f33",
   "metadata": {},
   "outputs": [
    {
     "name": "stdout",
     "output_type": "stream",
     "text": [
      "Annotations from the second half of 2024:\n"
     ]
    }
   ],
   "source": [
    "import re\n",
    "import glob\n",
    "import os\n",
    "from datetime import datetime\n",
    "\n",
    "pattern = r'(\\d{8})_(\\d{6})_SN(\\d+)_QUICKVIEW_VISUAL_([\\d_]+)_([A-Za-z0-9\\-_.]+)\\.txt'\n",
    "\n",
    "annotations = glob.glob('session_4/annotations/*.txt')\n",
    "\n",
    "annotations_list = []\n",
    "\n",
    "for annotation in annotations:\n",
    "    filename = os.path.basename(annotation)\n",
    "    match = re.match(pattern, filename)\n",
    "    if match:\n",
    "        date, _, _, _, _ = match.groups()\n",
    "        date_format = datetime.strptime(date, \"%Y%m%d\")\n",
    "        # same as before we only need to add the filter of the month\n",
    "        if date_format.year == 2024 and (7 <= date_format.month <= 12):\n",
    "            annotations_list.append((filename, date_format))\n",
    "\n",
    "# Sort the list by datetime (oldest to newest)\n",
    "annotations_list.sort(key=lambda x: x[1])\n",
    "\n",
    "# Print the sorted annotations\n",
    "print(\"Annotations from the second half of 2024:\")\n",
    "for filename, date in annotations_list:\n",
    "    print(f\"{date.strftime('%Y-%m-%d')} - {filename}\")\n",
    "\n",
    "# the result should appear empty, as we have seen, our data only have results for the first half"
   ]
  }
 ],
 "metadata": {
  "celltoolbar": "Slideshow",
  "kernelspec": {
   "display_name": "base",
   "language": "python",
   "name": "python3"
  },
  "language_info": {
   "codemirror_mode": {
    "name": "ipython",
    "version": 3
   },
   "file_extension": ".py",
   "mimetype": "text/x-python",
   "name": "python",
   "nbconvert_exporter": "python",
   "pygments_lexer": "ipython3",
   "version": "3.12.4"
  }
 },
 "nbformat": 4,
 "nbformat_minor": 5
}
